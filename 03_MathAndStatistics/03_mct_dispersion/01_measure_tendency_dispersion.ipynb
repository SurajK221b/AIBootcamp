{
 "cells": [
  {
   "cell_type": "markdown",
   "id": "4adc8fae",
   "metadata": {},
   "source": [
    "### Measures of Central Tendency & Dispersion\n"
   ]
  },
  {
   "cell_type": "markdown",
   "id": "0e079e88",
   "metadata": {},
   "source": [
    "#### 1️⃣ Measures of Central Tendency (describe the center of a dataset)\n",
    "\n",
    "| **Measure** | **Definition**                        | **Use Case**                          | **Python Function**           |\n",
    "| ----------- | ------------------------------------- | ------------------------------------- | ----------------------------- |\n",
    "| **Mean**    | Arithmetic average of the data values | Normally distributed data             | `np.mean()` / `df.mean()`     |\n",
    "| **Median**  | Middle value when data is sorted      | Skewed data or when outliers exist    | `np.median()` / `df.median()` |\n",
    "| **Mode**    | Most frequently occurring value       | Categorical or repeated discrete data | `stats.mode()` / `df.mode()`  |\n"
   ]
  },
  {
   "cell_type": "markdown",
   "id": "2b593a4c",
   "metadata": {},
   "source": [
    "#### 2️⃣ Measures of Dispersion (describe the spread or variability)\n",
    "| **Measure**                   | **Definition**                                               | **Use Case**                                     | **Python Function**                |\n",
    "| ----------------------------- | ------------------------------------------------------------ | ------------------------------------------------ | ---------------------------------- |\n",
    "| **Range**                     | Difference between maximum and minimum values                | Quick measure of spread                          | `np.ptp()` / `df.max() - df.min()` |\n",
    "| **Variance**                  | Average of squared deviations from the mean                  | Foundation for standard deviation, in ML metrics | `np.var()` / `df.var()`            |\n",
    "| **Standard Deviation**        | Square root of variance, measures how spread out numbers are | Widely used in ML, z-scores, normal distribution | `np.std()` / `df.std()`            |\n",
    "| **Interquartile Range (IQR)** | Difference between Q3 and Q1 (middle 50% of data)            | Robust to outliers, used in box plots            | `stats.iqr()`                      |\n",
    "\n"
   ]
  },
  {
   "cell_type": "code",
   "execution_count": null,
   "id": "d4bea6b2",
   "metadata": {},
   "outputs": [
    {
     "name": "stdout",
     "output_type": "stream",
     "text": [
      "Mean: 186.66666666666666, Median: 25.0, Mode: 20\n",
      "Range: 990, Std Dev: 363.8528396053669, Variance: 132388.88888888888, IQR: 17.5\n"
     ]
    }
   ],
   "source": [
    "import numpy as np\n",
    "import pandas as pd\n",
    "from scipy import stats\n",
    "\n",
    "data = [10, 20, 20, 30, 40, 1000]\n",
    "\n",
    "# Central Tendency\n",
    "mean = np.mean(data)           # 36.67 ## Mean means the average of the data\n",
    "median = np.median(data)       # 25.0 ## Median is the middle value when data is sorted\n",
    "mode = stats.mode(data).mode     # 20 ## Mode is the most frequently occurring value\n",
    "\n",
    "# Dispersion\n",
    "range_val = np.ptp(data)       # 90\n",
    "std_dev = np.std(data)         # ~28.14\n",
    "variance = np.var(data)        # ~792.22\n",
    "iqr = stats.iqr(data)          # 20.0\n",
    "\n",
    "print(f\"Mean: {mean}, Median: {median}, Mode: {mode}\")\n",
    "print(f\"Range: {range_val}, Std Dev: {std_dev}, Variance: {variance}, IQR: {iqr}\")\n"
   ]
  },
  {
   "cell_type": "markdown",
   "id": "0da2fb3a",
   "metadata": {},
   "source": [
    "#### 🎯 Interview Questions and Answers\n",
    "| **Question**                                                     | **Answer**                                                                           |\n",
    "| ---------------------------------------------------------------- | ------------------------------------------------------------------------------------ |\n",
    "| What is the difference between mean and median?                  | Mean is sensitive to outliers, while median is a robust measure of central tendency. |\n",
    "| Why is standard deviation preferred over variance in some cases? | Because it's in the same units as the original data, making it easier to interpret.  |\n",
    "| When would you use the median instead of the mean?               | When data is skewed or contains outliers.                                            |\n",
    "| What is IQR and why is it useful?                                | IQR = Q3 - Q1, helps understand spread while being resistant to outliers.            |\n",
    "| Can standard deviation be negative?                              | No. It is always non-negative because it's a square root of a squared quantity.      |\n",
    "| What is the limitation of range as a dispersion measure?         | It only considers two values (max, min) and ignores data distribution.               |\n"
   ]
  },
  {
   "cell_type": "markdown",
   "id": "3384e64f",
   "metadata": {},
   "source": [
    "#### 📌 Summary Table\n",
    "| **Metric**         | **Use For**                          | **Sensitive to Outliers?** |\n",
    "| ------------------ | ------------------------------------ | -------------------------- |\n",
    "| Mean               | Normally distributed data            | ✅ Yes                      |\n",
    "| Median             | Skewed data or outliers              | ❌ No                       |\n",
    "| Mode               | Categorical/discrete repetitive data | ❌ No                       |\n",
    "| Standard Deviation | Spread of normally distributed data  | ✅ Yes                      |\n",
    "| IQR                | Robust spread measure                | ❌ No                       |\n"
   ]
  },
  {
   "cell_type": "markdown",
   "id": "433b41e4",
   "metadata": {},
   "source": [
    "####  Theory: Descriptive vs. Inferential Statistics\n",
    "| **Aspect**         | **Descriptive Statistics**                                                       | **Inferential Statistics**                                                |\n",
    "| ------------------ | -------------------------------------------------------------------------------- | ------------------------------------------------------------------------- |\n",
    "| **Definition**     | Summarizes and presents data in a meaningful way                                 | Draws conclusions and makes predictions from a sample to a population     |\n",
    "| **Objective**      | Organize, summarize, and describe the features of a dataset                      | Make generalizations, test hypotheses, and estimate population parameters |\n",
    "| **Data Scope**     | Works with the **entire dataset (population or sample)**                         | Works with **samples** to infer about a **larger population**             |\n",
    "| **Key Techniques** | Measures of central tendency (mean, median, mode), dispersion (std, IQR), charts | Hypothesis testing, confidence intervals, regression, correlation         |\n",
    "| **Output**         | Tables, charts, summary metrics                                                  | Probabilities, confidence levels, p-values, statistical significance      |\n",
    "| **Use Case**       | Reporting sales summaries, average user session time, survey results             | Predicting election outcomes, estimating population means, A/B testing    |\n"
   ]
  },
  {
   "cell_type": "markdown",
   "id": "1845eb48",
   "metadata": {},
   "source": [
    "#### 🧪 Python Examples\n",
    "| **Statistic Type** | **Code Snippet**                                                                             | **Explanation**                          |\n",
    "| ------------------ | -------------------------------------------------------------------------------------------- | ---------------------------------------- |\n",
    "| **Descriptive**    | `python<br>import numpy as np<br>data = [10, 20, 30, 40, 50]<br>np.mean(data), np.std(data)` | Computes mean and standard deviation     |\n",
    "| **Inferential**    | `python<br>from scipy import stats<br>stats.ttest_1samp(data, popmean=35)`                   | Performs one-sample t-test (inferential) |\n"
   ]
  },
  {
   "cell_type": "markdown",
   "id": "ae27887b",
   "metadata": {},
   "source": [
    "#### 🎯 Interview Questions and Answers\n",
    "| **Question**                                               | **Answer**                                                                                                   |\n",
    "| ---------------------------------------------------------- | ------------------------------------------------------------------------------------------------------------ |\n",
    "| What is the primary goal of descriptive statistics?        | To summarize and describe the features of a dataset.                                                         |\n",
    "| What is inferential statistics used for?                   | To make generalizations or predictions about a population based on sample data.                              |\n",
    "| Give an example of descriptive vs. inferential statistics. | Descriptive: Average score in a class. Inferential: Predicting national exam results from that class sample. |\n",
    "| Why is sampling important in inferential statistics?       | Because it allows us to estimate characteristics of a large population without studying every member.        |\n",
    "| What is a confidence interval?                             | A range of values, derived from sample data, likely to contain the true population parameter.                |\n",
    "| Name a few methods used in inferential statistics.         | T-tests, chi-square tests, ANOVA, regression analysis, confidence intervals                                  |\n"
   ]
  },
  {
   "cell_type": "markdown",
   "id": "9d80c58d",
   "metadata": {},
   "source": [
    "#### 📌 Summary Table\n",
    "| **Criteria**     | **Descriptive**           | **Inferential**                              |\n",
    "| ---------------- | ------------------------- | -------------------------------------------- |\n",
    "| Data Scope       | Whole dataset             | Sample to population                         |\n",
    "| Focus            | Summarization             | Generalization and prediction                |\n",
    "| Tools/Techniques | Mean, median, std, charts | Hypothesis testing, p-values, CI, regression |\n",
    "| Output Type      | Concrete values           | Probabilistic inferences                     |\n",
    "| Use in ML / AI   | Data preprocessing, EDA   | Model evaluation, A/B testing                |\n"
   ]
  }
 ],
 "metadata": {
  "kernelspec": {
   "display_name": "Python 3",
   "language": "python",
   "name": "python3"
  },
  "language_info": {
   "codemirror_mode": {
    "name": "ipython",
    "version": 3
   },
   "file_extension": ".py",
   "mimetype": "text/x-python",
   "name": "python",
   "nbconvert_exporter": "python",
   "pygments_lexer": "ipython3",
   "version": "3.13.5"
  }
 },
 "nbformat": 4,
 "nbformat_minor": 5
}
