{
 "cells": [
  {
   "cell_type": "markdown",
   "id": "d277ec88",
   "metadata": {},
   "source": [
    "## One-Hot Encoding in NLP\n",
    "\n",
    "One-Hot Encoding is a vectorization technique that transforms categorical or textual data into a binary vector representation. Each unique word or token is assigned a vector with a value of 1 at the position representing that word and 0 elsewhere."
   ]
  },
  {
   "cell_type": "markdown",
   "id": "ac567b68",
   "metadata": {},
   "source": [
    "### ✅ Characteristics\n",
    "\n",
    "| Feature           | Description                                  |\n",
    "| ----------------- | -------------------------------------------- |\n",
    "| Type              | Binary / Sparse Representation               |\n",
    "| Use Case          | Text classification, preprocessing           |\n",
    "| Context Awareness | ❌ No                                         |\n",
    "| Dimensionality    | Equal to vocabulary size (can be very large) |\n",
    "| Interpretability  | ✅ High (easy to understand)                  |\n"
   ]
  },
  {
   "cell_type": "markdown",
   "id": "f2b6bc66",
   "metadata": {},
   "source": [
    "### 🧠 Theory\n",
    "Assume a corpus with 3 tokens:\n",
    "[\"apple\", \"banana\", \"orange\"]\n",
    "The vocabulary is:\n",
    "{\"apple\": 0, \"banana\": 1, \"orange\": 2}\n",
    "\n",
    "### One-hot vectors:\n",
    "Token\tVector\n",
    "apple\t[1, 0, 0]\n",
    "banana\t[0, 1, 0]\n",
    "orange\t[0, 0, 1]\n",
    "\n",
    "Each vector is of length equal to the vocabulary size, with only a single 1 indicating the presence of the word.\n",
    "\n"
   ]
  },
  {
   "cell_type": "markdown",
   "id": "03598762",
   "metadata": {},
   "source": []
  },
  {
   "cell_type": "code",
   "execution_count": 2,
   "id": "ff7e738e",
   "metadata": {},
   "outputs": [
    {
     "name": "stdout",
     "output_type": "stream",
     "text": [
      "Vocabulary: [array(['apple', 'banana', 'orange'], dtype='<U6')]\n",
      "Encoded Vectors:\n",
      " [[1. 0. 0.]\n",
      " [0. 1. 0.]\n",
      " [1. 0. 0.]\n",
      " [0. 0. 1.]]\n"
     ]
    }
   ],
   "source": [
    "## 🔧 Example using Python (sklearn)\n",
    "from sklearn.preprocessing import OneHotEncoder\n",
    "import numpy as np\n",
    "\n",
    "# Reshape needed for sklearn\n",
    "tokens = np.array([\"apple\", \"banana\", \"apple\", \"orange\"]).reshape(-1, 1)\n",
    "\n",
    "encoder = OneHotEncoder(sparse_output=False)\n",
    "encoded = encoder.fit_transform(tokens)\n",
    "\n",
    "print(\"Vocabulary:\", encoder.categories_)\n",
    "print(\"Encoded Vectors:\\n\", encoded)\n"
   ]
  },
  {
   "cell_type": "markdown",
   "id": "87329dd6",
   "metadata": {},
   "source": [
    "### 📊 Advantages\n",
    "\n",
    "| Advantage                           | Description                                       |\n",
    "| ----------------------------------- | ------------------------------------------------- |\n",
    "| ✅ Simple & interpretable            | Easy to implement and understand                  |\n",
    "| ✅ Suitable for categorical features | Effective for ML models expecting numerical input |\n",
    "| ✅ No ordering assumption            | Does not impose ordinal relationships             |\n",
    "\n",
    "\n",
    "### ⚠️ Disadvantages\n",
    "| Limitation                   | Description                                                  |\n",
    "| ---------------------------- | ------------------------------------------------------------ |\n",
    "| ❌ High Dimensionality        | Vocabulary size grows rapidly with corpus                    |\n",
    "| ❌ Sparse Representation      | Memory-inefficient; many zeros                               |\n",
    "| ❌ No Semantic Similarity     | Cannot capture contextual or semantic meaning                |\n",
    "| ❌ No Morphological Awareness | ‘run’, ‘runs’, and ‘running’ are treated as different tokens |\n"
   ]
  },
  {
   "cell_type": "markdown",
   "id": "0f9e2102",
   "metadata": {},
   "source": []
  }
 ],
 "metadata": {
  "kernelspec": {
   "display_name": "Python 3",
   "language": "python",
   "name": "python3"
  },
  "language_info": {
   "codemirror_mode": {
    "name": "ipython",
    "version": 3
   },
   "file_extension": ".py",
   "mimetype": "text/x-python",
   "name": "python",
   "nbconvert_exporter": "python",
   "pygments_lexer": "ipython3",
   "version": "3.13.5"
  }
 },
 "nbformat": 4,
 "nbformat_minor": 5
}
