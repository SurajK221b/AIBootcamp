{
 "cells": [
  {
   "cell_type": "markdown",
   "id": "1e369675",
   "metadata": {},
   "source": [
    "###  Simple Linear Regression vs. Multiple Linear Regression\n",
    "\n",
    "| Feature                    | Simple Linear Regression                                                                                                                                                                                                    | Multiple Linear Regression                                                                                                                                                                                                             |\n",
    "| -------------------------- | --------------------------------------------------------------------------------------------------------------------------------------------------------------------------------------------------------------------------- | -------------------------------------------------------------------------------------------------------------------------------------------------------------------------------------------------------------------------------------- |\n",
    "| **Definition**             | A regression technique that models the relationship between a single independent variable (X) and a dependent variable (Y).                                                                                                 | A regression technique that models the relationship between two or more independent variables (X₁, X₂, ..., Xₙ) and a dependent variable (Y).                                                                                          |\n",
    "| **Formula**                | 𝑌 = 𝛽₀ + 𝛽₁𝑋 + 𝜀                                                                                                                                                                                                       | 𝑌 = 𝛽₀ + 𝛽₁𝑋₁ + 𝛽₂𝑋₂ + ... + 𝛽ₙ𝑋ₙ + 𝜀                                                                                                                                                                                         |\n",
    "| **Use Case**               | Predicting salary based on years of experience.                                                                                                                                                                             | Predicting house price based on area, location, number of bedrooms, etc.                                                                                                                                                               |\n",
    "| **Example**                | Predict `Sales` based on `Advertising Spend`.                                                                                                                                                                               | Predict `Sales` based on `Advertising`, `Store Size`, `Location Type`.                                                                                                                                                                 |\n",
    "| **Sample Python Code**     | `python\\nfrom sklearn.linear_model import LinearRegression\\nimport numpy as np\\nX = np.array([[5], [10], [15]])\\nY = np.array([50, 100, 150])\\nmodel = LinearRegression()\\nmodel.fit(X, Y)\\nprint(model.predict([[12]]))\\n` | `python\\nfrom sklearn.linear_model import LinearRegression\\nimport numpy as np\\nX = np.array([[5, 1], [10, 2], [15, 3]])\\nY = np.array([52, 98, 152])\\nmodel = LinearRegression()\\nmodel.fit(X, Y)\\nprint(model.predict([[12, 2]]))\\n` |\n",
    "| **Number of Predictors**   | One                                                                                                                                                                                                                         | Two or more                                                                                                                                                                                                                            |\n",
    "| **Model Interpretability** | Highly interpretable                                                                                                                                                                                                        | Interpretation becomes complex with increasing number of predictors                                                                                                                                                                    |\n",
    "| **Visualization**          | 2D (straight line)                                                                                                                                                                                                          | 3D or multi-dimensional                                                                                                                                                                                                                |\n",
    "| **Performance Evaluation** | R², MAE, MSE, RMSE                                                                                                                                                                                                          | Same as simple linear regression                                                                                                                                                                                                       |\n",
    "| **Assumptions**            | Linearity, homoscedasticity, independence, normality of residuals                                                                                                                                                           | Same as simple linear regression, with the addition of **no multicollinearity**                                                                                                                                                        |\n",
    "| **Strengths**              | Easy to implement, good for understanding relationships                                                                                                                                                                     | Captures complex relationships with multiple features                                                                                                                                                                                  |\n",
    "| **Weaknesses**             | Oversimplifies complex data                                                                                                                                                                                                 | Prone to overfitting and multicollinearity                                                                                                                                                                                             |\n"
   ]
  },
  {
   "cell_type": "code",
   "execution_count": 3,
   "id": "b4f1d048",
   "metadata": {},
   "outputs": [
    {
     "name": "stdout",
     "output_type": "stream",
     "text": [
      "[120.]\n"
     ]
    }
   ],
   "source": [
    "from sklearn.linear_model import LinearRegression\n",
    "import numpy as np\n",
    "\n",
    "X = np.array([[5], [10], [15]])\n",
    "Y = np.array([50, 100, 150])\n",
    "\n",
    "model = LinearRegression()\n",
    "model.fit(X, Y)\n",
    "print(model.predict([[12]]))"
   ]
  },
  {
   "cell_type": "code",
   "execution_count": 4,
   "id": "bb8040bf",
   "metadata": {},
   "outputs": [
    {
     "name": "stdout",
     "output_type": "stream",
     "text": [
      "[119.8974359]\n"
     ]
    }
   ],
   "source": [
    "X_multi = np.array([[5, 1], [10, 2], [15, 3]])\n",
    "Y_multi = np.array([52, 98, 152])\n",
    "model_multi = LinearRegression()\n",
    "model_multi.fit(X_multi, Y_multi)\n",
    "print(model_multi.predict([[12, 2]]))"
   ]
  },
  {
   "cell_type": "code",
   "execution_count": null,
   "id": "09ae0485",
   "metadata": {},
   "outputs": [],
   "source": []
  }
 ],
 "metadata": {
  "kernelspec": {
   "display_name": "Python 3",
   "language": "python",
   "name": "python3"
  },
  "language_info": {
   "codemirror_mode": {
    "name": "ipython",
    "version": 3
   },
   "file_extension": ".py",
   "mimetype": "text/x-python",
   "name": "python",
   "nbconvert_exporter": "python",
   "pygments_lexer": "ipython3",
   "version": "3.13.5"
  }
 },
 "nbformat": 4,
 "nbformat_minor": 5
}
