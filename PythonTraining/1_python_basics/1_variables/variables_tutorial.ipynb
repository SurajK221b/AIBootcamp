{
    "cells": [
        {
            "cell_type": "markdown",
            "id": "5c9c57d1",
            "metadata": {},
            "source": [
                "<h2 align=\"center\" style=\"color:blue\">Codebasics Python Course: Variables</h2>"
            ]
        },
        {
            "cell_type": "markdown",
            "id": "0e98b431",
            "metadata": {},
            "source": [
                "### Variables Introduction: String, Numbers, Boolean"
            ]
        },
        {
            "cell_type": "markdown",
            "id": "a49b1f32",
            "metadata": {},
            "source": [
                "Variables are containers that store some type of data. For example soda can is a container that contains soda"
            ]
        },
        {
            "cell_type": "code",
            "execution_count": 1,
            "id": "92469a37",
            "metadata": {
                "ExecuteTime": {
                    "end_time": "2025-07-03T03:47:39.901796Z",
                    "start_time": "2025-07-03T03:47:39.895690Z"
                }
            },
            "outputs": [
                {
                    "data": {
                        "text/plain": [
                            "'soda'"
                        ]
                    },
                    "execution_count": 1,
                    "metadata": {},
                    "output_type": "execute_result"
                }
            ],
            "source": [
                "can = \"soda\"\n",
                "can"
            ]
        },
        {
            "cell_type": "code",
            "execution_count": 2,
            "id": "d46eafc5",
            "metadata": {
                "ExecuteTime": {
                    "end_time": "2025-07-03T03:47:40.086415Z",
                    "start_time": "2025-07-03T03:47:40.081702Z"
                }
            },
            "outputs": [
                {
                    "name": "stdout",
                    "output_type": "stream",
                    "text": [
                        "soda\n"
                    ]
                }
            ],
            "source": [
                "print(can)"
            ]
        },
        {
            "cell_type": "code",
            "execution_count": 3,
            "id": "77415e03",
            "metadata": {
                "ExecuteTime": {
                    "end_time": "2025-07-03T03:47:40.158772Z",
                    "start_time": "2025-07-03T03:47:40.152010Z"
                }
            },
            "outputs": [
                {
                    "data": {
                        "text/plain": [
                            "'beans'"
                        ]
                    },
                    "execution_count": 3,
                    "metadata": {},
                    "output_type": "execute_result"
                }
            ],
            "source": [
                "can = \"beans\"\n",
                "can"
            ]
        },
        {
            "cell_type": "code",
            "execution_count": 4,
            "id": "317ab541",
            "metadata": {
                "ExecuteTime": {
                    "end_time": "2025-07-03T03:47:40.477095Z",
                    "start_time": "2025-07-03T03:47:40.469716Z"
                }
            },
            "outputs": [
                {
                    "data": {
                        "text/plain": [
                            "str"
                        ]
                    },
                    "execution_count": 4,
                    "metadata": {},
                    "output_type": "execute_result"
                }
            ],
            "source": [
                "type(can)"
            ]
        },
        {
            "cell_type": "code",
            "execution_count": 5,
            "id": "918585d2",
            "metadata": {
                "ExecuteTime": {
                    "end_time": "2025-07-03T03:47:40.538871Z",
                    "start_time": "2025-07-03T03:47:40.531516Z"
                }
            },
            "outputs": [
                {
                    "data": {
                        "text/plain": [
                            "100"
                        ]
                    },
                    "execution_count": 5,
                    "metadata": {},
                    "output_type": "execute_result"
                }
            ],
            "source": [
                "pizza = 100\n",
                "pizza"
            ]
        },
        {
            "cell_type": "code",
            "execution_count": 6,
            "id": "65bdb004",
            "metadata": {
                "ExecuteTime": {
                    "end_time": "2025-07-03T03:47:40.604404Z",
                    "start_time": "2025-07-03T03:47:40.596450Z"
                }
            },
            "outputs": [
                {
                    "data": {
                        "text/plain": [
                            "int"
                        ]
                    },
                    "execution_count": 6,
                    "metadata": {},
                    "output_type": "execute_result"
                }
            ],
            "source": [
                "type(pizza)"
            ]
        },
        {
            "cell_type": "code",
            "execution_count": 7,
            "id": "e8fc8932",
            "metadata": {
                "ExecuteTime": {
                    "end_time": "2025-07-03T03:47:40.704357Z",
                    "start_time": "2025-07-03T03:47:40.699266Z"
                }
            },
            "outputs": [],
            "source": [
                "samosa=20.5\n",
                "ice_cream=100"
            ]
        },
        {
            "cell_type": "code",
            "execution_count": 8,
            "id": "a38c8e68",
            "metadata": {
                "ExecuteTime": {
                    "end_time": "2025-07-03T03:47:40.762060Z",
                    "start_time": "2025-07-03T03:47:40.754246Z"
                }
            },
            "outputs": [
                {
                    "data": {
                        "text/plain": [
                            "220.5"
                        ]
                    },
                    "execution_count": 8,
                    "metadata": {},
                    "output_type": "execute_result"
                }
            ],
            "source": [
                "total = pizza + samosa + ice_cream\n",
                "total"
            ]
        },
        {
            "cell_type": "code",
            "execution_count": 9,
            "id": "a4450514",
            "metadata": {
                "ExecuteTime": {
                    "end_time": "2025-07-03T03:47:40.830943Z",
                    "start_time": "2025-07-03T03:47:40.823582Z"
                },
                "scrolled": true
            },
            "outputs": [
                {
                    "data": {
                        "text/plain": [
                            "float"
                        ]
                    },
                    "execution_count": 9,
                    "metadata": {},
                    "output_type": "execute_result"
                }
            ],
            "source": [
                "type(total)"
            ]
        },
        {
            "cell_type": "code",
            "execution_count": 10,
            "id": "28d0bde6",
            "metadata": {
                "ExecuteTime": {
                    "end_time": "2025-07-03T03:47:40.902120Z",
                    "start_time": "2025-07-03T03:47:40.894804Z"
                }
            },
            "outputs": [
                {
                    "data": {
                        "text/plain": [
                            "True"
                        ]
                    },
                    "execution_count": 10,
                    "metadata": {},
                    "output_type": "execute_result"
                }
            ],
            "source": [
                "above_thresold = total > 200\n",
                "above_thresold"
            ]
        },
        {
            "cell_type": "code",
            "execution_count": 11,
            "id": "3db85c27",
            "metadata": {
                "ExecuteTime": {
                    "end_time": "2025-07-03T03:47:40.991212Z",
                    "start_time": "2025-07-03T03:47:40.984982Z"
                }
            },
            "outputs": [
                {
                    "data": {
                        "text/plain": [
                            "bool"
                        ]
                    },
                    "execution_count": 11,
                    "metadata": {},
                    "output_type": "execute_result"
                }
            ],
            "source": [
                "type(above_thresold)"
            ]
        },
        {
            "cell_type": "markdown",
            "id": "5da0a78f",
            "metadata": {},
            "source": [
                "**Integer** is a whole number with no decimal point. e.g. 34, 12, 500\n",
                "\n",
                "**Float** is a number with decimal point. e.g. 1.34, 0.45, 100.5\n",
                "\n",
                "**String** data types store text information\n",
                "\n",
                "**Boolean** type is used to store true or false value"
            ]
        },
        {
            "cell_type": "markdown",
            "id": "7a345ffd",
            "metadata": {},
            "source": [
                "### Everything is an Object in Python"
            ]
        },
        {
            "cell_type": "code",
            "execution_count": 12,
            "id": "3e983282",
            "metadata": {
                "ExecuteTime": {
                    "end_time": "2025-07-03T03:47:41.095808Z",
                    "start_time": "2025-07-03T03:47:41.089853Z"
                }
            },
            "outputs": [
                {
                    "data": {
                        "text/plain": [
                            "'jalebi'"
                        ]
                    },
                    "execution_count": 12,
                    "metadata": {},
                    "output_type": "execute_result"
                }
            ],
            "source": [
                "foo = 'jalebi'\n",
                "foo"
            ]
        },
        {
            "cell_type": "code",
            "execution_count": 13,
            "id": "78256dcf",
            "metadata": {
                "ExecuteTime": {
                    "end_time": "2025-07-03T03:47:41.261942Z",
                    "start_time": "2025-07-03T03:47:41.254094Z"
                }
            },
            "outputs": [
                {
                    "data": {
                        "text/plain": [
                            "'jalebi'"
                        ]
                    },
                    "execution_count": 13,
                    "metadata": {},
                    "output_type": "execute_result"
                }
            ],
            "source": [
                "bar = foo\n",
                "bar"
            ]
        },
        {
            "cell_type": "code",
            "execution_count": 14,
            "id": "a1a8b6fa",
            "metadata": {
                "ExecuteTime": {
                    "end_time": "2025-07-03T03:47:41.603408Z",
                    "start_time": "2025-07-03T03:47:41.595366Z"
                }
            },
            "outputs": [
                {
                    "data": {
                        "text/plain": [
                            "2148497709488"
                        ]
                    },
                    "execution_count": 14,
                    "metadata": {},
                    "output_type": "execute_result"
                }
            ],
            "source": [
                "id(foo)"
            ]
        },
        {
            "cell_type": "code",
            "execution_count": 15,
            "id": "14f50dcc",
            "metadata": {
                "ExecuteTime": {
                    "end_time": "2025-07-03T03:47:41.792778Z",
                    "start_time": "2025-07-03T03:47:41.786902Z"
                }
            },
            "outputs": [
                {
                    "data": {
                        "text/plain": [
                            "2148497709488"
                        ]
                    },
                    "execution_count": 15,
                    "metadata": {},
                    "output_type": "execute_result"
                }
            ],
            "source": [
                "id(bar)"
            ]
        },
        {
            "cell_type": "code",
            "execution_count": 16,
            "id": "3b1739f1",
            "metadata": {
                "ExecuteTime": {
                    "end_time": "2025-07-03T03:47:41.878540Z",
                    "start_time": "2025-07-03T03:47:41.871952Z"
                }
            },
            "outputs": [
                {
                    "data": {
                        "text/plain": [
                            "'samosa'"
                        ]
                    },
                    "execution_count": 16,
                    "metadata": {},
                    "output_type": "execute_result"
                }
            ],
            "source": [
                "bar = 'samosa'\n",
                "bar"
            ]
        },
        {
            "cell_type": "code",
            "execution_count": 17,
            "id": "d215bff4",
            "metadata": {
                "ExecuteTime": {
                    "end_time": "2025-07-03T03:47:42.014960Z",
                    "start_time": "2025-07-03T03:47:42.008373Z"
                }
            },
            "outputs": [
                {
                    "data": {
                        "text/plain": [
                            "2148497707616"
                        ]
                    },
                    "execution_count": 17,
                    "metadata": {},
                    "output_type": "execute_result"
                }
            ],
            "source": [
                "id(bar)"
            ]
        },
        {
            "cell_type": "code",
            "execution_count": 18,
            "id": "241071d7",
            "metadata": {
                "ExecuteTime": {
                    "end_time": "2025-07-03T03:47:42.500227Z",
                    "start_time": "2025-07-03T03:47:42.492094Z"
                }
            },
            "outputs": [
                {
                    "data": {
                        "text/plain": [
                            "2148497707616"
                        ]
                    },
                    "execution_count": 18,
                    "metadata": {},
                    "output_type": "execute_result"
                }
            ],
            "source": [
                "bar = 'samosa'\n",
                "id(bar)"
            ]
        },
        {
            "cell_type": "code",
            "execution_count": 19,
            "id": "3e551682",
            "metadata": {
                "ExecuteTime": {
                    "end_time": "2025-07-03T03:47:42.616822Z",
                    "start_time": "2025-07-03T03:47:42.608789Z"
                }
            },
            "outputs": [
                {
                    "data": {
                        "text/plain": [
                            "'jalebi'"
                        ]
                    },
                    "execution_count": 19,
                    "metadata": {},
                    "output_type": "execute_result"
                }
            ],
            "source": [
                "foo"
            ]
        },
        {
            "cell_type": "markdown",
            "id": "17de46d9",
            "metadata": {},
            "source": [
                "### Variable Naming Rules"
            ]
        },
        {
            "cell_type": "markdown",
            "id": "605e29eb",
            "metadata": {},
            "source": [
                "#### 1. Can't use reserved keywords to store variable names"
            ]
        },
        {
            "cell_type": "code",
            "execution_count": 20,
            "id": "5c4aa636",
            "metadata": {
                "ExecuteTime": {
                    "end_time": "2025-07-03T03:47:42.722201Z",
                    "start_time": "2025-07-03T03:47:42.714059Z"
                }
            },
            "outputs": [
                {
                    "ename": "SyntaxError",
                    "evalue": "cannot assign to True (3091963775.py, line 1)",
                    "output_type": "error",
                    "traceback": [
                        "  \u001b[36mCell\u001b[39m\u001b[36m \u001b[39m\u001b[32mIn[20]\u001b[39m\u001b[32m, line 1\u001b[39m\n\u001b[31m    \u001b[39m\u001b[31mTrue=5\u001b[39m\n    ^\n\u001b[31mSyntaxError\u001b[39m\u001b[31m:\u001b[39m cannot assign to True\n"
                    ]
                }
            ],
            "source": [
                "True=5"
            ]
        },
        {
            "cell_type": "code",
            "execution_count": null,
            "id": "f7774d07",
            "metadata": {
                "scrolled": true
            },
            "outputs": [],
            "source": [
                "def = \"Hello\""
            ]
        },
        {
            "cell_type": "markdown",
            "id": "c98c9ac6",
            "metadata": {},
            "source": [
                "#### 2. Special characters are not allowed"
            ]
        },
        {
            "cell_type": "code",
            "execution_count": null,
            "id": "0ee3d2a1",
            "metadata": {},
            "outputs": [],
            "source": [
                "$name=\"Tony\""
            ]
        },
        {
            "cell_type": "code",
            "execution_count": null,
            "id": "e54ab05b",
            "metadata": {
                "scrolled": true
            },
            "outputs": [],
            "source": [
                "pizza^ = 100"
            ]
        },
        {
            "cell_type": "markdown",
            "id": "aca506fc",
            "metadata": {},
            "source": [
                "#### 3. Variable names must begin with letter or _"
            ]
        },
        {
            "cell_type": "code",
            "execution_count": null,
            "id": "fe169797",
            "metadata": {},
            "outputs": [],
            "source": [
                "4you=\"me\""
            ]
        },
        {
            "cell_type": "code",
            "execution_count": null,
            "id": "29c817e8",
            "metadata": {},
            "outputs": [],
            "source": [
                "$address=\"blah\""
            ]
        },
        {
            "cell_type": "markdown",
            "id": "4544810f",
            "metadata": {},
            "source": [
                "#### 4. Remaining characters should be a to z OR A to Z OR 0 to 9 OR _"
            ]
        },
        {
            "cell_type": "code",
            "execution_count": null,
            "id": "130ddf3f",
            "metadata": {},
            "outputs": [],
            "source": [
                "abc$xyz=6"
            ]
        }
    ],
    "metadata": {
        "kernelspec": {
            "display_name": "Python 3",
            "language": "python",
            "name": "python3"
        },
        "language_info": {
            "codemirror_mode": {
                "name": "ipython",
                "version": 3
            },
            "file_extension": ".py",
            "mimetype": "text/x-python",
            "name": "python",
            "nbconvert_exporter": "python",
            "pygments_lexer": "ipython3",
            "version": "3.13.5"
        }
    },
    "nbformat": 4,
    "nbformat_minor": 5
}