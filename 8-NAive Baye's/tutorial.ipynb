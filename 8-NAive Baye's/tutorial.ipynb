{
 "cells": [
  {
   "cell_type": "markdown",
   "id": "5f160654",
   "metadata": {},
   "source": [
    "## Theoretical Foundation: Bayes' Theorem\n"
   ]
  },
  {
   "cell_type": "markdown",
   "id": "b1d146d1",
   "metadata": {},
   "source": [
    "At the core of Naive Bayes lies Bayes’ Theorem, a fundamental concept in probability theory:\n",
    "\n",
    "𝑃\n",
    "(\n",
    "𝐴\n",
    "∣\n",
    "𝐵\n",
    ")\n",
    "=\n",
    "𝑃\n",
    "(\n",
    "𝐵\n",
    "∣\n",
    "𝐴\n",
    ")\n",
    "⋅\n",
    "𝑃\n",
    "(\n",
    "𝐴\n",
    ")\n",
    "𝑃\n",
    "(\n",
    "𝐵\n",
    ")\n",
    "P(A∣B)= \n",
    "P(B)\n",
    "P(B∣A)⋅P(A)\n",
    "​\n",
    " \n",
    "Where:\n",
    "\n",
    "𝑃\n",
    "(\n",
    "𝐴\n",
    "∣\n",
    "𝐵\n",
    ")\n",
    "P(A∣B): Posterior Probability — Probability of class A given B occurred\n",
    "\n",
    "𝑃\n",
    "(\n",
    "𝐵\n",
    "∣\n",
    "𝐴\n",
    ")\n",
    "P(B∣A): Likelihood — Probability of B given class A\n",
    "\n",
    "𝑃\n",
    "(\n",
    "𝐴\n",
    ")\n",
    "P(A): Prior Probability — Probability of class A occurring\n",
    "\n",
    "𝑃\n",
    "(\n",
    "𝐵\n",
    ")\n",
    "P(B): Evidence — Probability of B occurring"
   ]
  },
  {
   "cell_type": "markdown",
   "id": "9f9d3e2b",
   "metadata": {},
   "source": [
    "###  Naive Bayes Classifier: Definition\n",
    "A Naive Bayes classifier is a probabilistic supervised learning algorithm based on the assumption that features are conditionally independent given the class label.\n",
    "\n",
    "“Naive” refers to the assumption that all features are mutually independent.\n",
    "\n",
    "### 🔹 When to Use Naive Bayes\n",
    "| Scenario                                                  | Relevance                                                       |\n",
    "| --------------------------------------------------------- | --------------------------------------------------------------- |\n",
    "| High dimensional data                                     | Performs well even with a large number of features              |\n",
    "| Real-time predictions                                     | Fast inference speed                                            |\n",
    "| Text classification / spam filtering / sentiment analysis | Strong performance due to independence assumption between words |\n",
    "| Small training datasets                                   | Efficient and accurate with limited data                        |\n",
    "\n",
    "### 🔹 Types of Naive Bayes\n",
    "| Variant                     | Description                                                 |\n",
    "| --------------------------- | ----------------------------------------------------------- |\n",
    "| **Gaussian Naive Bayes**    | Assumes features follow a normal (Gaussian) distribution    |\n",
    "| **Multinomial Naive Bayes** | Ideal for document classification with discrete word counts |\n",
    "| **Bernoulli Naive Bayes**   | Binary/boolean features (word present or not)               |\n"
   ]
  },
  {
   "cell_type": "code",
   "execution_count": 1,
   "id": "3d41c6a0",
   "metadata": {},
   "outputs": [
    {
     "name": "stdout",
     "output_type": "stream",
     "text": [
      "Accuracy: 0.9333333333333333\n"
     ]
    }
   ],
   "source": [
    "from sklearn.datasets import load_iris\n",
    "from sklearn.model_selection import train_test_split\n",
    "from sklearn.naive_bayes import GaussianNB\n",
    "from sklearn.metrics import accuracy_score\n",
    "\n",
    "# Load dataset\n",
    "X, y = load_iris(return_X_y=True)\n",
    "\n",
    "# Split data\n",
    "X_train, X_test, y_train, y_test = train_test_split(X, y, test_size=0.3)\n",
    "\n",
    "# Instantiate model\n",
    "model = GaussianNB()\n",
    "\n",
    "# Train model\n",
    "model.fit(X_train, y_train)\n",
    "\n",
    "# Predict\n",
    "y_pred = model.predict(X_test)\n",
    "\n",
    "# Evaluate\n",
    "print(\"Accuracy:\", accuracy_score(y_test, y_pred))\n"
   ]
  },
  {
   "cell_type": "markdown",
   "id": "bc321788",
   "metadata": {},
   "source": [
    "### 🔹 Real-Time Use Cases\n",
    "| Domain          | Application                         |\n",
    "| --------------- | ----------------------------------- |\n",
    "| Email Filtering | Spam vs Non-spam                    |\n",
    "| Banking         | Fraud detection                     |\n",
    "| Healthcare      | Disease diagnosis based on symptoms |\n",
    "| Marketing       | Customer churn prediction           |\n",
    "| Social Media    | Sentiment analysis of reviews/posts |\n",
    "\n",
    "\n",
    "### 🔹 Key Advantages\n",
    "Scalable: Handles large datasets efficiently\n",
    "\n",
    "Fast: Requires fewer computations\n",
    "\n",
    "Performs well: Especially in text-based applications\n",
    "\n",
    "### 🔹 Limitations\n",
    "Strong independence assumption rarely holds in real-world data\n",
    "\n",
    "Zero Probability problem if a category was never seen in training\n",
    "\n",
    "Resolved by Laplace Smoothing"
   ]
  },
  {
   "cell_type": "markdown",
   "id": "7828784e",
   "metadata": {},
   "source": []
  }
 ],
 "metadata": {
  "kernelspec": {
   "display_name": "Python 3",
   "language": "python",
   "name": "python3"
  },
  "language_info": {
   "codemirror_mode": {
    "name": "ipython",
    "version": 3
   },
   "file_extension": ".py",
   "mimetype": "text/x-python",
   "name": "python",
   "nbconvert_exporter": "python",
   "pygments_lexer": "ipython3",
   "version": "3.13.5"
  }
 },
 "nbformat": 4,
 "nbformat_minor": 5
}
