{
 "cells": [
  {
   "cell_type": "markdown",
   "id": "3340c952",
   "metadata": {},
   "source": [
    "### Performance Metrics in Machine Learning – Executive Summary\n",
    "Performance metrics serve as the quantitative foundation for evaluating and comparing ML models. They measure how well a model predicts outcomes and generalizes to unseen data, directly influencing business decisions, model selection, and production deployment strategies."
   ]
  },
  {
   "cell_type": "markdown",
   "id": "6694fb1d",
   "metadata": {},
   "source": [
    "### Performance Metrics for Regression Models\n",
    "| **Metric**                         | **Formula**                              | **Interpretation**                    | **Use Case**                  |                             |                                   |\n",
    "| ---------------------------------- | ---------------------------------------- | ------------------------------------- | ----------------------------- | --------------------------- | --------------------------------- |\n",
    "| **Mean Absolute Error (MAE)**      | ( \\frac{1}{n} \\sum                       | y\\_i - \\hat{y}\\_i                     | )                             | Average magnitude of errors | Robust to outliers                |\n",
    "| **Mean Squared Error (MSE)**       | $\\frac{1}{n} \\sum (y_i - \\hat{y}_i)^2$   | Penalizes large errors                | Sensitive to large deviations |                             |                                   |\n",
    "| **Root Mean Squared Error (RMSE)** | $\\sqrt{MSE}$                             | Error in same unit as target          | Interpretability              |                             |                                   |\n",
    "| **R-squared ($R^2$)**              | $1 - \\frac{SS_{res}}{SS_{tot}}$          | Proportion of variance explained      | Model fit measure             |                             |                                   |\n",
    "| **Adjusted R-squared**             | $1 - \\frac{(1 - R^2)(n - 1)}{n - p - 1}$ | Penalizes overfitting                 | For multiple regressors       |                             |                                   |\n",
    "| **MAPE**                           | ( \\frac{100%}{n} \\sum \\left              | \\frac{y\\_i - \\hat{y}\\_i}{y\\_i} \\right | )                             | Percent-based error         | Business KPIs (e.g., forecasting) |\n"
   ]
  },
  {
   "cell_type": "markdown",
   "id": "18f81b83",
   "metadata": {},
   "source": []
  }
 ],
 "metadata": {
  "language_info": {
   "name": "python"
  }
 },
 "nbformat": 4,
 "nbformat_minor": 5
}
