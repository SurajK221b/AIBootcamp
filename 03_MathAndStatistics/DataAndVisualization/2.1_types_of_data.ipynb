{
 "cells": [
  {
   "cell_type": "markdown",
   "id": "19193010",
   "metadata": {},
   "source": [
    "### Types of Data\n",
    "\n",
    "| **Category**                  | **Type**       | **Description**                                                | **Examples**                              | **Usage in ML/Stats**                  |\n",
    "| ----------------------------- | -------------- | -------------------------------------------------------------- | ----------------------------------------- | -------------------------------------- |\n",
    "| **Qualitative (Categorical)** | **Nominal**    | Data with labels or names; no inherent order                   | Gender (Male/Female), Colors (Red, Blue)  | Classification tasks, one-hot encoding |\n",
    "|                               | **Ordinal**    | Categorical data with a meaningful order but not evenly spaced | Education Level (High School < BSc < MSc) | Ordinal encoding, ranking models       |\n",
    "| **Quantitative (Numerical)**  | **Discrete**   | Countable data with finite possible values                     | Number of children, Cars owned            | Count models, bar charts               |\n",
    "|                               | **Continuous** | Measurable data with infinite possible values within a range   | Height, Weight, Temperature               | Regression models, normalization       |\n"
   ]
  },
  {
   "cell_type": "markdown",
   "id": "3828c5a3",
   "metadata": {},
   "source": [
    "### Examples in Python (via pandas)\n",
    "| **Type**   | **Code Example**                                                        | **Explanation**                  |\n",
    "| ---------- | ----------------------------------------------------------------------- | -------------------------------- |\n",
    "| Nominal    | `df['Gender'] = ['Male', 'Female', 'Male']`                             | Categorical, unordered labels    |\n",
    "| Ordinal    | `df['Grade'] = pd.Categorical(['Low', 'Medium', 'High'], ordered=True)` | Categorical, ordered             |\n",
    "| Discrete   | `df['Children'] = [0, 2, 3]`                                            | Integer-based, countable         |\n",
    "| Continuous | `df['Temperature'] = [98.6, 101.4, 99.1]`                               | Decimal-based, measurable values |\n"
   ]
  },
  {
   "cell_type": "markdown",
   "id": "e43236af",
   "metadata": {},
   "source": [
    "###  Interview Questions and Answers\n",
    "| **Question**                                                   | **Answer**                                                                                   |\n",
    "| -------------------------------------------------------------- | -------------------------------------------------------------------------------------------- |\n",
    "| What are the main types of data in statistics?                 | Qualitative (Nominal, Ordinal) and Quantitative (Discrete, Continuous)                       |\n",
    "| How do ordinal and nominal data differ?                        | Ordinal data has a logical order; nominal data does not                                      |\n",
    "| What is the difference between discrete and continuous data?   | Discrete data is countable with finite values; continuous data can take any value in a range |\n",
    "| Which encoding techniques are used for categorical data?       | One-Hot Encoding (Nominal), Label/Ordinal Encoding (Ordinal)                                 |\n",
    "| Why is it important to distinguish data types before modeling? | It influences preprocessing methods, choice of algorithms, and evaluation metrics            |\n"
   ]
  }
 ],
 "metadata": {
  "language_info": {
   "name": "python"
  }
 },
 "nbformat": 4,
 "nbformat_minor": 5
}
