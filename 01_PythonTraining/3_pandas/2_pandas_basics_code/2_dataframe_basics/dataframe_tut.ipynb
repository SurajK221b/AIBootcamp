{
 "cells": [
  {
   "cell_type": "markdown",
   "id": "775b7dbb",
   "metadata": {},
   "source": [
    "### 1. What is a DataFrame?\n",
    "A DataFrame is the core data structure in Pandas — a 2-dimensional, size-mutable, heterogeneous tabular data structure with labeled axes (rows and columns).\n",
    "\n",
    "Think of it as an in-memory Excel spreadsheet with built-in high-performance operations."
   ]
  },
  {
   "cell_type": "markdown",
   "id": "46aa2009",
   "metadata": {},
   "source": []
  },
  {
   "cell_type": "code",
   "execution_count": 33,
   "id": "ab8e60aa",
   "metadata": {},
   "outputs": [
    {
     "name": "stdout",
     "output_type": "stream",
     "text": [
      "  Employee Department  Salary\n",
      "0    Alice         HR   50000\n",
      "1      Bob    Finance   60000\n",
      "2  Charlie         IT   70000\n"
     ]
    }
   ],
   "source": [
    "## Creating a DataFrame\n",
    "##  From a dictionary\n",
    "\n",
    "import pandas as pd\n",
    "\n",
    "data = {\n",
    "    'Employee': ['Alice', 'Bob', 'Charlie'],\n",
    "    'Department': ['HR', 'Finance', 'IT'],\n",
    "    'Salary': [50000, 60000, 70000]\n",
    "}\n",
    "\n",
    "df = pd.DataFrame(data)\n",
    "print(df)\n"
   ]
  },
  {
   "cell_type": "markdown",
   "id": "bd5ecba5",
   "metadata": {},
   "source": [
    "### Basic Attributes & Metadata\n",
    "\n",
    "| Attribute    | Description               | Example           |\n",
    "| ------------ | ------------------------- | ----------------- |\n",
    "| `df.shape`   | Returns (rows, columns)   | `(3, 3)`          |\n",
    "| `df.columns` | List of column labels     | `Index([...])`    |\n",
    "| `df.index`   | Index object (row labels) | `RangeIndex(...)` |\n",
    "| `df.dtypes`  | Data type of each column  | `object, int64`   |\n",
    "| `df.info()`  | Metadata summary          | -                 |\n"
   ]
  },
  {
   "cell_type": "markdown",
   "id": "aeb4479b",
   "metadata": {},
   "source": [
    "### Viewing Data\n",
    "| Method          | Description                    | Example         |\n",
    "| --------------- | ------------------------------ | --------------- |\n",
    "| `df.head(n)`    | First n rows                   | `df.head(5)`    |\n",
    "| `df.tail(n)`    | Last n rows                    | `df.tail(5)`    |\n",
    "| `df.sample(n)`  | Random n rows                  | `df.sample(2)`  |\n",
    "| `df.describe()` | Summary statistics (numerical) | `df.describe()` |\n"
   ]
  },
  {
   "cell_type": "markdown",
   "id": "d9d8a8fb",
   "metadata": {},
   "source": [
    "### Selection and Filtering"
   ]
  },
  {
   "cell_type": "code",
   "execution_count": 10,
   "id": "b25325d6",
   "metadata": {},
   "outputs": [
    {
     "name": "stdout",
     "output_type": "stream",
     "text": [
      "0      Alice\n",
      "1        Bob\n",
      "2    Charlie\n",
      "Name: Employee, dtype: object\n",
      "  Employee  Salary\n",
      "0    Alice   50000\n",
      "1      Bob   60000\n",
      "2  Charlie   70000\n"
     ]
    }
   ],
   "source": [
    "\n",
    "## Column Access\n",
    "print(df['Employee'])\n",
    "print(df[['Employee', 'Salary']])\n",
    "\n"
   ]
  },
  {
   "cell_type": "code",
   "execution_count": 11,
   "id": "dd6f018d",
   "metadata": {},
   "outputs": [
    {
     "name": "stdout",
     "output_type": "stream",
     "text": [
      "Employee      Alice\n",
      "Department       HR\n",
      "Salary        50000\n",
      "Name: 0, dtype: object\n",
      "Employee      Alice\n",
      "Department       HR\n",
      "Salary        50000\n",
      "Name: 0, dtype: object\n"
     ]
    }
   ],
   "source": [
    "### Row Access\n",
    "print(df.iloc[0])       # By position\n",
    "print(df.loc[0]) "
   ]
  },
  {
   "cell_type": "code",
   "execution_count": 12,
   "id": "f0446e6d",
   "metadata": {},
   "outputs": [
    {
     "data": {
      "text/html": [
       "<div>\n",
       "<style scoped>\n",
       "    .dataframe tbody tr th:only-of-type {\n",
       "        vertical-align: middle;\n",
       "    }\n",
       "\n",
       "    .dataframe tbody tr th {\n",
       "        vertical-align: top;\n",
       "    }\n",
       "\n",
       "    .dataframe thead th {\n",
       "        text-align: right;\n",
       "    }\n",
       "</style>\n",
       "<table border=\"1\" class=\"dataframe\">\n",
       "  <thead>\n",
       "    <tr style=\"text-align: right;\">\n",
       "      <th></th>\n",
       "      <th>Employee</th>\n",
       "      <th>Department</th>\n",
       "      <th>Salary</th>\n",
       "    </tr>\n",
       "  </thead>\n",
       "  <tbody>\n",
       "    <tr>\n",
       "      <th>1</th>\n",
       "      <td>Bob</td>\n",
       "      <td>Finance</td>\n",
       "      <td>60000</td>\n",
       "    </tr>\n",
       "    <tr>\n",
       "      <th>2</th>\n",
       "      <td>Charlie</td>\n",
       "      <td>IT</td>\n",
       "      <td>70000</td>\n",
       "    </tr>\n",
       "  </tbody>\n",
       "</table>\n",
       "</div>"
      ],
      "text/plain": [
       "  Employee Department  Salary\n",
       "1      Bob    Finance   60000\n",
       "2  Charlie         IT   70000"
      ]
     },
     "execution_count": 12,
     "metadata": {},
     "output_type": "execute_result"
    }
   ],
   "source": [
    "### Boolean Filtering\n",
    "\n",
    "df[df['Salary'] > 55000]\n"
   ]
  },
  {
   "cell_type": "markdown",
   "id": "b668fb55",
   "metadata": {},
   "source": [
    "### Adding / Modifying Columns"
   ]
  },
  {
   "cell_type": "code",
   "execution_count": 13,
   "id": "8c7d590a",
   "metadata": {},
   "outputs": [
    {
     "data": {
      "text/html": [
       "<div>\n",
       "<style scoped>\n",
       "    .dataframe tbody tr th:only-of-type {\n",
       "        vertical-align: middle;\n",
       "    }\n",
       "\n",
       "    .dataframe tbody tr th {\n",
       "        vertical-align: top;\n",
       "    }\n",
       "\n",
       "    .dataframe thead th {\n",
       "        text-align: right;\n",
       "    }\n",
       "</style>\n",
       "<table border=\"1\" class=\"dataframe\">\n",
       "  <thead>\n",
       "    <tr style=\"text-align: right;\">\n",
       "      <th></th>\n",
       "      <th>Employee</th>\n",
       "      <th>Department</th>\n",
       "      <th>Salary</th>\n",
       "      <th>Bonus</th>\n",
       "    </tr>\n",
       "  </thead>\n",
       "  <tbody>\n",
       "    <tr>\n",
       "      <th>0</th>\n",
       "      <td>Alice</td>\n",
       "      <td>HR</td>\n",
       "      <td>55000</td>\n",
       "      <td>5000.0</td>\n",
       "    </tr>\n",
       "    <tr>\n",
       "      <th>1</th>\n",
       "      <td>Bob</td>\n",
       "      <td>Finance</td>\n",
       "      <td>65000</td>\n",
       "      <td>6000.0</td>\n",
       "    </tr>\n",
       "    <tr>\n",
       "      <th>2</th>\n",
       "      <td>Charlie</td>\n",
       "      <td>IT</td>\n",
       "      <td>75000</td>\n",
       "      <td>7000.0</td>\n",
       "    </tr>\n",
       "  </tbody>\n",
       "</table>\n",
       "</div>"
      ],
      "text/plain": [
       "  Employee Department  Salary   Bonus\n",
       "0    Alice         HR   55000  5000.0\n",
       "1      Bob    Finance   65000  6000.0\n",
       "2  Charlie         IT   75000  7000.0"
      ]
     },
     "execution_count": 13,
     "metadata": {},
     "output_type": "execute_result"
    }
   ],
   "source": [
    "# Adding a new column\n",
    "df['Bonus'] = df['Salary'] * 0.10\n",
    "\n",
    "# Modifying an existing column\n",
    "df['Salary'] = df['Salary'] + 5000\n",
    "\n",
    "df"
   ]
  },
  {
   "cell_type": "markdown",
   "id": "2316478c",
   "metadata": {},
   "source": [
    "###  Dropping Rows or Columns"
   ]
  },
  {
   "cell_type": "code",
   "execution_count": 14,
   "id": "3bdfeeb8",
   "metadata": {},
   "outputs": [
    {
     "data": {
      "text/html": [
       "<div>\n",
       "<style scoped>\n",
       "    .dataframe tbody tr th:only-of-type {\n",
       "        vertical-align: middle;\n",
       "    }\n",
       "\n",
       "    .dataframe tbody tr th {\n",
       "        vertical-align: top;\n",
       "    }\n",
       "\n",
       "    .dataframe thead th {\n",
       "        text-align: right;\n",
       "    }\n",
       "</style>\n",
       "<table border=\"1\" class=\"dataframe\">\n",
       "  <thead>\n",
       "    <tr style=\"text-align: right;\">\n",
       "      <th></th>\n",
       "      <th>Employee</th>\n",
       "      <th>Department</th>\n",
       "      <th>Salary</th>\n",
       "    </tr>\n",
       "  </thead>\n",
       "  <tbody>\n",
       "    <tr>\n",
       "      <th>0</th>\n",
       "      <td>Alice</td>\n",
       "      <td>HR</td>\n",
       "      <td>55000</td>\n",
       "    </tr>\n",
       "    <tr>\n",
       "      <th>2</th>\n",
       "      <td>Charlie</td>\n",
       "      <td>IT</td>\n",
       "      <td>75000</td>\n",
       "    </tr>\n",
       "  </tbody>\n",
       "</table>\n",
       "</div>"
      ],
      "text/plain": [
       "  Employee Department  Salary\n",
       "0    Alice         HR   55000\n",
       "2  Charlie         IT   75000"
      ]
     },
     "execution_count": 14,
     "metadata": {},
     "output_type": "execute_result"
    }
   ],
   "source": [
    "df.drop(columns='Bonus', inplace=True)     # Drop column\n",
    "df.drop(index=1, inplace=True)             # Drop row by index\n",
    "df\n"
   ]
  },
  {
   "cell_type": "markdown",
   "id": "4777b07c",
   "metadata": {},
   "source": [
    "### Sorting"
   ]
  },
  {
   "cell_type": "code",
   "execution_count": 30,
   "id": "48d6a36b",
   "metadata": {},
   "outputs": [
    {
     "name": "stdout",
     "output_type": "stream",
     "text": [
      "  Employee Department  Salary\n",
      "2  Charlie         IT   75000\n",
      "0    Alice         HR   55000\n",
      "  Employee Department  Salary\n",
      "0    Alice         HR   55000\n",
      "2  Charlie         IT   75000\n"
     ]
    }
   ],
   "source": [
    "print(df.sort_values(by='Salary', ascending=False))\n",
    "print(df.sort_values(by='Salary', ascending=True))"
   ]
  },
  {
   "cell_type": "markdown",
   "id": "d228bd39",
   "metadata": {},
   "source": [
    "### Aggregations and Grouping"
   ]
  },
  {
   "cell_type": "code",
   "execution_count": 36,
   "id": "b8d6c951",
   "metadata": {},
   "outputs": [
    {
     "data": {
      "text/plain": [
       "Department\n",
       "Finance    60000.0\n",
       "HR         50000.0\n",
       "IT         70000.0\n",
       "Name: Salary, dtype: float64"
      ]
     },
     "execution_count": 36,
     "metadata": {},
     "output_type": "execute_result"
    }
   ],
   "source": [
    "df.groupby('Department')['Salary'].mean()     # Average salary per department\n"
   ]
  },
  {
   "cell_type": "markdown",
   "id": "6b3aa5f8",
   "metadata": {},
   "source": [
    "### Missing Data Handling"
   ]
  },
  {
   "cell_type": "code",
   "execution_count": 68,
   "id": "c121ff7a",
   "metadata": {},
   "outputs": [
    {
     "data": {
      "text/html": [
       "<div>\n",
       "<style scoped>\n",
       "    .dataframe tbody tr th:only-of-type {\n",
       "        vertical-align: middle;\n",
       "    }\n",
       "\n",
       "    .dataframe tbody tr th {\n",
       "        vertical-align: top;\n",
       "    }\n",
       "\n",
       "    .dataframe thead th {\n",
       "        text-align: right;\n",
       "    }\n",
       "</style>\n",
       "<table border=\"1\" class=\"dataframe\">\n",
       "  <thead>\n",
       "    <tr style=\"text-align: right;\">\n",
       "      <th></th>\n",
       "      <th>Employee</th>\n",
       "      <th>Department</th>\n",
       "      <th>Salary</th>\n",
       "      <th>Bonus</th>\n",
       "    </tr>\n",
       "  </thead>\n",
       "  <tbody>\n",
       "    <tr>\n",
       "      <th>0</th>\n",
       "      <td>Alice</td>\n",
       "      <td>HR</td>\n",
       "      <td>50000</td>\n",
       "      <td>0</td>\n",
       "    </tr>\n",
       "    <tr>\n",
       "      <th>1</th>\n",
       "      <td>Bob</td>\n",
       "      <td>Finance</td>\n",
       "      <td>60000</td>\n",
       "      <td>0</td>\n",
       "    </tr>\n",
       "    <tr>\n",
       "      <th>2</th>\n",
       "      <td>Charlie</td>\n",
       "      <td>IT</td>\n",
       "      <td>70000</td>\n",
       "      <td>0</td>\n",
       "    </tr>\n",
       "  </tbody>\n",
       "</table>\n",
       "</div>"
      ],
      "text/plain": [
       "  Employee Department  Salary  Bonus\n",
       "0    Alice         HR   50000      0\n",
       "1      Bob    Finance   60000      0\n",
       "2  Charlie         IT   70000      0"
      ]
     },
     "execution_count": 68,
     "metadata": {},
     "output_type": "execute_result"
    }
   ],
   "source": [
    "df['Bonus'] = 0\n",
    "df"
   ]
  },
  {
   "cell_type": "code",
   "execution_count": 69,
   "id": "66723a77",
   "metadata": {},
   "outputs": [
    {
     "name": "stdout",
     "output_type": "stream",
     "text": [
      "   Employee  Department  Salary  Bonus\n",
      "0     False       False   False  False\n",
      "1     False       False   False  False\n",
      "2     False       False   False  False\n",
      "  Employee Department  Salary  Bonus\n",
      "0    Alice         HR   50000      0\n",
      "1      Bob    Finance   60000      0\n",
      "2  Charlie         IT   70000      0\n",
      "  Employee Department  Salary  Bonus\n",
      "0    Alice         HR   50000      0\n",
      "1      Bob    Finance   60000      0\n",
      "2  Charlie         IT   70000      0\n"
     ]
    }
   ],
   "source": [
    "\n",
    "print(df.isnull())                # Detect nulls\n",
    "print(df.dropna())                # Drop rows with nulls\n",
    "print(df.fillna(0))               # Replace nulls with 0\n"
   ]
  },
  {
   "cell_type": "code",
   "execution_count": null,
   "id": "804e9720",
   "metadata": {},
   "outputs": [],
   "source": [
    "print(df.isnull())                # Detect nulls\n",
    "print(df.dropna())                # Drop rows with nulls\n",
    "print(df.fillna(0))  "
   ]
  },
  {
   "cell_type": "markdown",
   "id": "e1012ea0",
   "metadata": {},
   "source": [
    "### Merge, Join, and Concatenate"
   ]
  },
  {
   "cell_type": "code",
   "execution_count": 74,
   "id": "0082f24c",
   "metadata": {},
   "outputs": [],
   "source": [
    "df1 = pd.DataFrame({   \n",
    "    'ID': [1, 2, 3],\n",
    "    'Name': ['Alice', 'Bob', 'Charlie']\n",
    "})\n",
    "df2 = pd.DataFrame({\n",
    "    'ID': [2, 3, 4],\n",
    "    'Salary': [60000, 70000, 80000]\n",
    "})"
   ]
  },
  {
   "cell_type": "code",
   "execution_count": 75,
   "id": "8c35b231",
   "metadata": {},
   "outputs": [
    {
     "name": "stdout",
     "output_type": "stream",
     "text": [
      "   ID     Name   Salary\n",
      "0   1    Alice      NaN\n",
      "1   2      Bob      NaN\n",
      "2   3  Charlie      NaN\n",
      "0   2      NaN  60000.0\n",
      "1   3      NaN  70000.0\n",
      "2   4      NaN  80000.0\n",
      "   ID     Name  Salary\n",
      "0   2      Bob   60000\n",
      "1   3  Charlie   70000\n"
     ]
    }
   ],
   "source": [
    "print(pd.concat([df1, df2]))                       # Stack vertically\n",
    "print(pd.merge(df1, df2, on='ID'))                   # SQL-style join\n"
   ]
  },
  {
   "cell_type": "markdown",
   "id": "2b92b1f4",
   "metadata": {},
   "source": [
    "### Exporting & Importing"
   ]
  },
  {
   "cell_type": "code",
   "execution_count": null,
   "id": "57d6a80d",
   "metadata": {},
   "outputs": [],
   "source": [
    "df.to_csv('output.csv', index=False)          # Export to CSV\n",
    "              # Import from CSV\n"
   ]
  },
  {
   "cell_type": "code",
   "execution_count": 78,
   "id": "034cc85f",
   "metadata": {},
   "outputs": [
    {
     "data": {
      "text/html": [
       "<div>\n",
       "<style scoped>\n",
       "    .dataframe tbody tr th:only-of-type {\n",
       "        vertical-align: middle;\n",
       "    }\n",
       "\n",
       "    .dataframe tbody tr th {\n",
       "        vertical-align: top;\n",
       "    }\n",
       "\n",
       "    .dataframe thead th {\n",
       "        text-align: right;\n",
       "    }\n",
       "</style>\n",
       "<table border=\"1\" class=\"dataframe\">\n",
       "  <thead>\n",
       "    <tr style=\"text-align: right;\">\n",
       "      <th></th>\n",
       "      <th>Employee</th>\n",
       "      <th>Department</th>\n",
       "      <th>Salary</th>\n",
       "      <th>Bonus</th>\n",
       "    </tr>\n",
       "  </thead>\n",
       "  <tbody>\n",
       "    <tr>\n",
       "      <th>0</th>\n",
       "      <td>Alice</td>\n",
       "      <td>HR</td>\n",
       "      <td>50000</td>\n",
       "      <td>1000.0</td>\n",
       "    </tr>\n",
       "    <tr>\n",
       "      <th>1</th>\n",
       "      <td>Bob</td>\n",
       "      <td>Finance</td>\n",
       "      <td>60000</td>\n",
       "      <td>NaN</td>\n",
       "    </tr>\n",
       "    <tr>\n",
       "      <th>2</th>\n",
       "      <td>Charlie</td>\n",
       "      <td>IT</td>\n",
       "      <td>70000</td>\n",
       "      <td>0.0</td>\n",
       "    </tr>\n",
       "  </tbody>\n",
       "</table>\n",
       "</div>"
      ],
      "text/plain": [
       "  Employee Department  Salary   Bonus\n",
       "0    Alice         HR   50000  1000.0\n",
       "1      Bob    Finance   60000     NaN\n",
       "2  Charlie         IT   70000     0.0"
      ]
     },
     "execution_count": 78,
     "metadata": {},
     "output_type": "execute_result"
    }
   ],
   "source": [
    "df = pd.read_csv('output.csv')  \n",
    "df"
   ]
  },
  {
   "cell_type": "code",
   "execution_count": 79,
   "id": "ac40ceca",
   "metadata": {},
   "outputs": [
    {
     "name": "stdout",
     "output_type": "stream",
     "text": [
      "   Employee  Department  Salary  Bonus\n",
      "0     False       False   False  False\n",
      "1     False       False   False   True\n",
      "2     False       False   False  False\n",
      "  Employee Department  Salary   Bonus\n",
      "0    Alice         HR   50000  1000.0\n",
      "2  Charlie         IT   70000     0.0\n",
      "  Employee Department  Salary   Bonus\n",
      "0    Alice         HR   50000  1000.0\n",
      "1      Bob    Finance   60000     0.0\n",
      "2  Charlie         IT   70000     0.0\n"
     ]
    }
   ],
   "source": [
    "print(df.isnull())                # Detect nulls\n",
    "print(df.dropna())                # Drop rows with nulls\n",
    "print(df.fillna(0))  "
   ]
  },
  {
   "cell_type": "markdown",
   "id": "e4ffed4b",
   "metadata": {},
   "source": [
    "###  Advanced Operations (Used in ML & Gen AI)\n",
    "| Operation                    | Use Case                                       |\n",
    "| ---------------------------- | ---------------------------------------------- |\n",
    "| `df.apply(func)`             | Row/column-wise transformations                |\n",
    "| `df.map(func)`               | Element-wise mapping (Series only)             |\n",
    "| `df.pivot_table()`           | Summary aggregation                            |\n",
    "| `df.corr()`                  | Correlation matrix (used in feature selection) |\n",
    "| `df.query(\"Salary > 60000\")` | SQL-like querying                              |\n"
   ]
  },
  {
   "cell_type": "markdown",
   "id": "6093bd95",
   "metadata": {},
   "source": [
    "### Summary\n",
    "| Capability                   | Business Value                                       |\n",
    "| ---------------------------- | ---------------------------------------------------- |\n",
    "| Fast columnar operations     | Efficient data wrangling and transformation          |\n",
    "| Native missing data handling | Robust pipelines for real-world, incomplete datasets |\n",
    "| Integration-ready            | Seamless use with NumPy, scikit-learn, TensorFlow    |\n"
   ]
  },
  {
   "cell_type": "markdown",
   "id": "fa2ec118",
   "metadata": {},
   "source": []
  }
 ],
 "metadata": {
  "kernelspec": {
   "display_name": "Python 3",
   "language": "python",
   "name": "python3"
  },
  "language_info": {
   "codemirror_mode": {
    "name": "ipython",
    "version": 3
   },
   "file_extension": ".py",
   "mimetype": "text/x-python",
   "name": "python",
   "nbconvert_exporter": "python",
   "pygments_lexer": "ipython3",
   "version": "3.13.5"
  }
 },
 "nbformat": 4,
 "nbformat_minor": 5
}
