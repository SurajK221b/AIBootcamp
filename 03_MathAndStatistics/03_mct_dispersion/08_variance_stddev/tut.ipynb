{
 "cells": [
  {
   "cell_type": "markdown",
   "id": "696480ed",
   "metadata": {},
   "source": [
    "### 📘 1. Theory: Variance & Standard Deviation\n",
    "| **Measure**            | **Definition**                                   | **Symbol**            | **Purpose**                             | **Sensitive to Outliers** |\n",
    "| ---------------------- | ------------------------------------------------ | --------------------- | --------------------------------------- | ------------------------- |\n",
    "| **Variance**           | Average of the squared differences from the mean | σ² (pop), s² (sample) | Measures spread of data around the mean | ✅ Yes                     |\n",
    "| **Standard Deviation** | Square root of the variance                      | σ (pop), s (sample)   | Same as variance but in original units  | ✅ Yes                     |\n"
   ]
  },
  {
   "cell_type": "code",
   "execution_count": 1,
   "id": "e31a28e6",
   "metadata": {},
   "outputs": [
    {
     "name": "stdout",
     "output_type": "stream",
     "text": [
      "Variance: 1250.0\n",
      "Standard Deviation: 35.35533905932738\n"
     ]
    }
   ],
   "source": [
    "### 🧪 3. Python Implementation\n",
    "import numpy as np\n",
    "\n",
    "data = [10, 20, 30, 40, 100]\n",
    "\n",
    "variance = np.var(data, ddof=1)        # Sample variance\n",
    "std_dev = np.std(data, ddof=1)         # Sample standard deviation\n",
    "\n",
    "print(\"Variance:\", variance)\n",
    "print(\"Standard Deviation:\", std_dev)"
   ]
  },
  {
   "cell_type": "markdown",
   "id": "cffc52e3",
   "metadata": {},
   "source": [
    "### Interview Questions & Model Answers\n",
    "| **Question**                                                    | **Answer**                                                                                 |\n",
    "| --------------------------------------------------------------- | ------------------------------------------------------------------------------------------ |\n",
    "| What does variance measure?                                     | It quantifies the average squared deviation from the mean.                                 |\n",
    "| Why square the deviations when calculating variance?            | To avoid cancellation of positive and negative deviations and emphasize larger deviations. |\n",
    "| What is the difference between variance and standard deviation? | Std dev is the square root of variance and is in the same units as the original data.      |\n",
    "| When would you prefer standard deviation over variance?         | When interpretability is important (e.g., talking in units like dollars, kg, etc.).        |\n",
    "| What happens to variance when all values are the same?          | Variance is zero — no dispersion.                                                          |\n",
    "| Is standard deviation affected by outliers?                     | Yes, both variance and standard deviation are sensitive to extreme values.                 |\n"
   ]
  },
  {
   "cell_type": "markdown",
   "id": "adab420a",
   "metadata": {},
   "source": [
    "### Summary Table\n",
    "| **Aspect**         | **Variance**                     | **Standard Deviation**     |\n",
    "| ------------------ | -------------------------------- | -------------------------- |\n",
    "| Units              | Squared units (e.g., m², kg²)    | Same as data (e.g., m, kg) |\n",
    "| Use                | Statistical models, calculations | Interpretation, reporting  |\n",
    "| Robust to Outliers | ❌ No                             | ❌ No                       |\n",
    "| Python Function    | `np.var(data, ddof=1)`           | `np.std(data, ddof=1)`     |\n"
   ]
  },
  {
   "cell_type": "markdown",
   "id": "675f095f",
   "metadata": {},
   "source": []
  }
 ],
 "metadata": {
  "kernelspec": {
   "display_name": "Python 3",
   "language": "python",
   "name": "python3"
  },
  "language_info": {
   "codemirror_mode": {
    "name": "ipython",
    "version": 3
   },
   "file_extension": ".py",
   "mimetype": "text/x-python",
   "name": "python",
   "nbconvert_exporter": "python",
   "pygments_lexer": "ipython3",
   "version": "3.13.5"
  }
 },
 "nbformat": 4,
 "nbformat_minor": 5
}
