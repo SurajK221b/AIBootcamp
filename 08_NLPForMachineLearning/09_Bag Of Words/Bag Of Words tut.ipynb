{
 "cells": [
  {
   "cell_type": "markdown",
   "id": "4aeff518",
   "metadata": {},
   "source": [
    "## Bag of words\n",
    "The Bag of Words (BoW) model is a foundational technique in Natural Language Processing (NLP) used to represent textual data numerically for machine learning algorithms.\n",
    "\n",
    "### 🔍 Core Concept:\n",
    "A Bag of Words treats a text (sentence, paragraph, or document) as a collection of individual words, ignoring grammar and word order.\n",
    "\n",
    "It builds a vocabulary of known words from the corpus and represents each document by the frequency (or presence) of these words."
   ]
  },
  {
   "cell_type": "markdown",
   "id": "bd880dbe",
   "metadata": {},
   "source": [
    "### 🛠️ Key Characteristics:\n",
    "| **Feature**          | **Description**                                              |\n",
    "| -------------------- | ------------------------------------------------------------ |\n",
    "| **No word order**    | Syntax and semantics are discarded                           |\n",
    "| **Frequency-based**  | Each word is counted in the document                         |\n",
    "| **Fixed vocabulary** | Based on all unique words in the corpus                      |\n",
    "| **Sparse vector**    | Each document is represented as a long vector of word counts |\n",
    "\n",
    "\n",
    "### ⚠️ Limitations:\n",
    "\n",
    "| **Limitation**                   | **Impact**                                                  |\n",
    "| -------------------------------- | ----------------------------------------------------------- |\n",
    "| Ignores word context/order       | Cannot capture semantics or phrases                         |\n",
    "| Large and sparse feature vectors | Inefficient for large corpora                               |\n",
    "| No handling of synonyms/meanings | \"good\" ≠ \"great\"                                            |\n",
    "| Same weight to all words         | Cannot distinguish important words without TF-IDF weighting |\n"
   ]
  },
  {
   "cell_type": "markdown",
   "id": "6ab0a1b0",
   "metadata": {},
   "source": []
  },
  {
   "cell_type": "code",
   "execution_count": 20,
   "id": "4710967f",
   "metadata": {},
   "outputs": [
    {
     "data": {
      "text/plain": [
       "'e:\\\\Git Repo\\\\AIBootcamp\\\\08_NLPForMachineLearning\\\\09_Bag Of Words'"
      ]
     },
     "execution_count": 20,
     "metadata": {},
     "output_type": "execute_result"
    }
   ],
   "source": [
    "import os\n",
    "current_dire =  os.getcwd() \n",
    "current_dire"
   ]
  },
  {
   "cell_type": "code",
   "execution_count": 21,
   "id": "e2c7f211",
   "metadata": {},
   "outputs": [
    {
     "name": "stdout",
     "output_type": "stream",
     "text": [
      "✅ Dataset loaded successfully!\n",
      "📊 Dataset shape: (5572, 2)\n",
      "📁 File location: e:\\Git Repo\\AIBootcamp\\08_NLPForMachineLearning\\SpamClassifier-master\\smsspamcollection\\SMSSpamCollection\n"
     ]
    }
   ],
   "source": [
    "import pandas as pd\n",
    "import os\n",
    "\n",
    "# Correct file path - going up one directory to access SpamClassifier-master\n",
    "file_path = os.path.join('..', 'SpamClassifier-master', 'smsspamcollection', 'SMSSpamCollection')\n",
    "\n",
    "# Check if file exists before reading\n",
    "if os.path.exists(file_path):\n",
    "    messages = pd.read_csv(file_path, sep='\\t', names=[\"label\", \"message\"])\n",
    "    print(f\"✅ Dataset loaded successfully!\")\n",
    "    print(f\"📊 Dataset shape: {messages.shape}\")\n",
    "    print(f\"📁 File location: {os.path.abspath(file_path)}\")\n",
    "else:\n",
    "    print(f\"❌ File not found at: {os.path.abspath(file_path)}\")\n",
    "    print(\"Please check the file path and directory structure.\")"
   ]
  },
  {
   "cell_type": "code",
   "execution_count": 22,
   "id": "91a123ef",
   "metadata": {},
   "outputs": [
    {
     "name": "stdout",
     "output_type": "stream",
     "text": [
      "📋 Dataset Information:\n",
      "Columns: ['label', 'message']\n",
      "Data types:\n",
      "label      object\n",
      "message    object\n",
      "dtype: object\n",
      "\n",
      "📱 First 5 messages:\n"
     ]
    },
    {
     "data": {
      "text/html": [
       "<div>\n",
       "<style scoped>\n",
       "    .dataframe tbody tr th:only-of-type {\n",
       "        vertical-align: middle;\n",
       "    }\n",
       "\n",
       "    .dataframe tbody tr th {\n",
       "        vertical-align: top;\n",
       "    }\n",
       "\n",
       "    .dataframe thead th {\n",
       "        text-align: right;\n",
       "    }\n",
       "</style>\n",
       "<table border=\"1\" class=\"dataframe\">\n",
       "  <thead>\n",
       "    <tr style=\"text-align: right;\">\n",
       "      <th></th>\n",
       "      <th>label</th>\n",
       "      <th>message</th>\n",
       "    </tr>\n",
       "  </thead>\n",
       "  <tbody>\n",
       "    <tr>\n",
       "      <th>0</th>\n",
       "      <td>ham</td>\n",
       "      <td>Go until jurong point, crazy.. Available only ...</td>\n",
       "    </tr>\n",
       "    <tr>\n",
       "      <th>1</th>\n",
       "      <td>ham</td>\n",
       "      <td>Ok lar... Joking wif u oni...</td>\n",
       "    </tr>\n",
       "    <tr>\n",
       "      <th>2</th>\n",
       "      <td>spam</td>\n",
       "      <td>Free entry in 2 a wkly comp to win FA Cup fina...</td>\n",
       "    </tr>\n",
       "    <tr>\n",
       "      <th>3</th>\n",
       "      <td>ham</td>\n",
       "      <td>U dun say so early hor... U c already then say...</td>\n",
       "    </tr>\n",
       "    <tr>\n",
       "      <th>4</th>\n",
       "      <td>ham</td>\n",
       "      <td>Nah I don't think he goes to usf, he lives aro...</td>\n",
       "    </tr>\n",
       "  </tbody>\n",
       "</table>\n",
       "</div>"
      ],
      "text/plain": [
       "  label                                            message\n",
       "0   ham  Go until jurong point, crazy.. Available only ...\n",
       "1   ham                      Ok lar... Joking wif u oni...\n",
       "2  spam  Free entry in 2 a wkly comp to win FA Cup fina...\n",
       "3   ham  U dun say so early hor... U c already then say...\n",
       "4   ham  Nah I don't think he goes to usf, he lives aro..."
      ]
     },
     "execution_count": 22,
     "metadata": {},
     "output_type": "execute_result"
    }
   ],
   "source": [
    "# Display basic information about the dataset\n",
    "print(\"📋 Dataset Information:\")\n",
    "print(f\"Columns: {list(messages.columns)}\")\n",
    "print(f\"Data types:\\n{messages.dtypes}\")\n",
    "print(\"\\n📱 First 5 messages:\")\n",
    "messages.head()"
   ]
  },
  {
   "cell_type": "code",
   "execution_count": 23,
   "id": "548ceabf",
   "metadata": {},
   "outputs": [
    {
     "name": "stdout",
     "output_type": "stream",
     "text": [
      "🏷️ Label Distribution:\n",
      "label\n",
      "ham     4825\n",
      "spam     747\n",
      "Name: count, dtype: int64\n",
      "\n",
      "Percentages:\n",
      "label\n",
      "ham     86.593683\n",
      "spam    13.406317\n",
      "Name: proportion, dtype: float64\n",
      "\n",
      "🔍 Missing values:\n",
      "label      0\n",
      "message    0\n",
      "dtype: int64\n"
     ]
    }
   ],
   "source": [
    "# Check the distribution of labels (spam vs ham)\n",
    "print(\"🏷️ Label Distribution:\")\n",
    "label_counts = messages['label'].value_counts()\n",
    "print(label_counts)\n",
    "print(f\"\\nPercentages:\")\n",
    "print(messages['label'].value_counts(normalize=True) * 100)\n",
    "\n",
    "# Check for any missing values\n",
    "print(f\"\\n🔍 Missing values:\")\n",
    "print(messages.isnull().sum())"
   ]
  },
  {
   "cell_type": "markdown",
   "id": "67a43a8a",
   "metadata": {},
   "source": [
    "## 📊 Dataset Overview\n",
    "\n",
    "We have successfully loaded the **SMS Spam Collection Dataset** which contains:\n",
    "- **5,572 SMS messages** \n",
    "- **2 columns**: 'label' (ham/spam) and 'message' (text content)\n",
    "- **Class distribution**: 86.6% Ham (legitimate) vs 13.4% Spam\n",
    "- **No missing values** ✅\n",
    "\n",
    "This is a **binary classification problem** where we need to classify SMS messages as either:\n",
    "- **ham**: Legitimate messages\n",
    "- **spam**: Unwanted/promotional messages\n",
    "\n",
    "---\n",
    "\n",
    "## 🎯 Bag of Words Implementation\n",
    "\n",
    "Now we'll implement the **Bag of Words (BoW)** technique to convert text data into numerical features that machine learning algorithms can understand."
   ]
  },
  {
   "cell_type": "code",
   "execution_count": 24,
   "id": "f155ffc9",
   "metadata": {},
   "outputs": [
    {
     "name": "stdout",
     "output_type": "stream",
     "text": [
      "🔄 Preprocessing text messages...\n",
      "\n",
      "📝 Example of text preprocessing:\n",
      "Original: Go until jurong point, crazy.. Available only in bugis n great world la e buffet... Cine there got a\n",
      "Processed: go until jurong point crazy available only in bugis n great world la e buffet cine there got amore w\n"
     ]
    }
   ],
   "source": [
    "# Step 1: Text Preprocessing\n",
    "import re\n",
    "import string\n",
    "from sklearn.feature_extraction.text import CountVectorizer\n",
    "from sklearn.model_selection import train_test_split\n",
    "from sklearn.naive_bayes import MultinomialNB\n",
    "from sklearn.metrics import accuracy_score, classification_report, confusion_matrix\n",
    "\n",
    "def preprocess_text(text):\n",
    "    \"\"\"\n",
    "    Simple text preprocessing function\n",
    "    \"\"\"\n",
    "    # Convert to lowercase\n",
    "    text = text.lower()\n",
    "    \n",
    "    # Remove punctuation\n",
    "    text = text.translate(str.maketrans('', '', string.punctuation))\n",
    "    \n",
    "    # Remove extra whitespace\n",
    "    text = ' '.join(text.split())\n",
    "    \n",
    "    return text\n",
    "\n",
    "# Apply preprocessing to messages\n",
    "print(\"🔄 Preprocessing text messages...\")\n",
    "messages['processed_message'] = messages['message'].apply(preprocess_text)\n",
    "\n",
    "# Show example of preprocessing\n",
    "print(\"\\n📝 Example of text preprocessing:\")\n",
    "print(\"Original:\", messages['message'].iloc[0][:100])\n",
    "print(\"Processed:\", messages['processed_message'].iloc[0][:100])"
   ]
  },
  {
   "cell_type": "code",
   "execution_count": 25,
   "id": "2212fc78",
   "metadata": {},
   "outputs": [
    {
     "name": "stdout",
     "output_type": "stream",
     "text": [
      "📊 Creating Bag of Words representation...\n",
      "✅ Bag of Words matrix created!\n",
      "📏 Matrix shape: (5572, 5000)\n",
      "📚 Vocabulary size: 5000\n",
      "🎯 Labels: 2 unique classes\n",
      "\n",
      "🔤 First 20 words in vocabulary: ['008704050406' '01223585334' '0125698789' '02' '020603' '0207'\n",
      " '02070836089' '02072069400' '02073162414' '02085076972' '020903' '021'\n",
      " '050703' '0578' '06' '060505' '071104' '07123456789' '07734396839'\n",
      " '07742676969']\n",
      "🔤 Last 20 words in vocabulary: ['yr' 'yrs' 'ystrdayice' 'yummmm' 'yummy' 'yun' 'yunny' 'yuo' 'yuou' 'yup'\n",
      " 'yupz' 'ywhere' 'zac' 'zahers' 'zealand' 'zebra' 'zed' 'zeros' 'zoe'\n",
      " 'üll']\n",
      "✅ Bag of Words matrix created!\n",
      "📏 Matrix shape: (5572, 5000)\n",
      "📚 Vocabulary size: 5000\n",
      "🎯 Labels: 2 unique classes\n",
      "\n",
      "🔤 First 20 words in vocabulary: ['008704050406' '01223585334' '0125698789' '02' '020603' '0207'\n",
      " '02070836089' '02072069400' '02073162414' '02085076972' '020903' '021'\n",
      " '050703' '0578' '06' '060505' '071104' '07123456789' '07734396839'\n",
      " '07742676969']\n",
      "🔤 Last 20 words in vocabulary: ['yr' 'yrs' 'ystrdayice' 'yummmm' 'yummy' 'yun' 'yunny' 'yuo' 'yuou' 'yup'\n",
      " 'yupz' 'ywhere' 'zac' 'zahers' 'zealand' 'zebra' 'zed' 'zeros' 'zoe'\n",
      " 'üll']\n"
     ]
    }
   ],
   "source": [
    "# Step 2: Create Bag of Words using CountVectorizer\n",
    "print(\"📊 Creating Bag of Words representation...\")\n",
    "\n",
    "# Initialize CountVectorizer with parameters\n",
    "vectorizer = CountVectorizer(\n",
    "    max_features=5000,  # Limit to top 5000 most frequent words\n",
    "    stop_words='english',  # Remove common English stop words\n",
    "    lowercase=True,  # Convert to lowercase\n",
    "    tokenizer=None,  # Use default tokenizer\n",
    "    ngram_range=(1, 1)  # Use unigrams only\n",
    ")\n",
    "\n",
    "# Fit and transform the text data\n",
    "X = vectorizer.fit_transform(messages['processed_message'])\n",
    "y = messages['label']\n",
    "\n",
    "print(f\"✅ Bag of Words matrix created!\")\n",
    "print(f\"📏 Matrix shape: {X.shape}\")\n",
    "print(f\"📚 Vocabulary size: {len(vectorizer.vocabulary_)}\")\n",
    "print(f\"🎯 Labels: {y.nunique()} unique classes\")\n",
    "\n",
    "# Show some of the most frequent words\n",
    "feature_names = vectorizer.get_feature_names_out()\n",
    "print(f\"\\n🔤 First 20 words in vocabulary: {feature_names[:20]}\")\n",
    "print(f\"🔤 Last 20 words in vocabulary: {feature_names[-20:]}\")"
   ]
  },
  {
   "cell_type": "code",
   "execution_count": 26,
   "id": "7379f91c",
   "metadata": {},
   "outputs": [
    {
     "name": "stdout",
     "output_type": "stream",
     "text": [
      "🚂 Training the model...\n",
      "📊 Training set: 4457 samples\n",
      "📊 Test set: 1115 samples\n",
      "\n",
      "🎯 Model Accuracy: 0.9794 (97.94%)\n",
      "\n",
      "📈 Detailed Classification Report:\n",
      "              precision    recall  f1-score   support\n",
      "\n",
      "         ham       0.99      0.99      0.99       966\n",
      "        spam       0.94      0.91      0.92       149\n",
      "\n",
      "    accuracy                           0.98      1115\n",
      "   macro avg       0.96      0.95      0.95      1115\n",
      "weighted avg       0.98      0.98      0.98      1115\n",
      "\n"
     ]
    }
   ],
   "source": [
    "# Step 3: Train-Test Split and Model Training\n",
    "print(\"🚂 Training the model...\")\n",
    "\n",
    "# Split the data\n",
    "X_train, X_test, y_train, y_test = train_test_split(\n",
    "    X, y, test_size=0.2, random_state=42, stratify=y\n",
    ")\n",
    "\n",
    "print(f\"📊 Training set: {X_train.shape[0]} samples\")\n",
    "print(f\"📊 Test set: {X_test.shape[0]} samples\")\n",
    "\n",
    "# Train a Naive Bayes classifier\n",
    "nb_classifier = MultinomialNB()\n",
    "nb_classifier.fit(X_train, y_train)\n",
    "\n",
    "# Make predictions\n",
    "y_pred = nb_classifier.predict(X_test)\n",
    "\n",
    "# Calculate accuracy\n",
    "accuracy = accuracy_score(y_test, y_pred)\n",
    "print(f\"\\n🎯 Model Accuracy: {accuracy:.4f} ({accuracy*100:.2f}%)\")\n",
    "\n",
    "# Detailed classification report\n",
    "print(\"\\n📈 Detailed Classification Report:\")\n",
    "print(classification_report(y_test, y_pred))"
   ]
  },
  {
   "cell_type": "code",
   "execution_count": 27,
   "id": "e0037bc8",
   "metadata": {},
   "outputs": [
    {
     "name": "stdout",
     "output_type": "stream",
     "text": [
      "🔢 Confusion Matrix:\n",
      "[[957   9]\n",
      " [ 14 135]]\n"
     ]
    },
    {
     "data": {
      "image/png": "[encoded data removed]",
      "text/plain": [
       "<Figure size 800x600 with 2 Axes>"
      ]
     },
     "metadata": {},
     "output_type": "display_data"
    },
    {
     "name": "stdout",
     "output_type": "stream",
     "text": [
      "\n",
      "📊 Detailed Metrics for Spam Detection:\n",
      "Precision: 0.9375\n",
      "Recall: 0.9060\n",
      "F1-Score: 0.9215\n"
     ]
    }
   ],
   "source": [
    "# Step 4: Confusion Matrix and Visualization\n",
    "import matplotlib.pyplot as plt\n",
    "import seaborn as sns\n",
    "\n",
    "# Create confusion matrix\n",
    "cm = confusion_matrix(y_test, y_pred)\n",
    "print(\"🔢 Confusion Matrix:\")\n",
    "print(cm)\n",
    "\n",
    "# Visualize confusion matrix\n",
    "plt.figure(figsize=(8, 6))\n",
    "sns.heatmap(cm, annot=True, fmt='d', cmap='Blues', \n",
    "            xticklabels=['Ham', 'Spam'], \n",
    "            yticklabels=['Ham', 'Spam'])\n",
    "plt.title('Confusion Matrix - SMS Spam Classification')\n",
    "plt.xlabel('Predicted Label')\n",
    "plt.ylabel('True Label')\n",
    "plt.show()\n",
    "\n",
    "# Calculate and display detailed metrics\n",
    "from sklearn.metrics import precision_score, recall_score, f1_score\n",
    "\n",
    "precision = precision_score(y_test, y_pred, pos_label='spam')\n",
    "recall = recall_score(y_test, y_pred, pos_label='spam')\n",
    "f1 = f1_score(y_test, y_pred, pos_label='spam')\n",
    "\n",
    "print(f\"\\n📊 Detailed Metrics for Spam Detection:\")\n",
    "print(f\"Precision: {precision:.4f}\")\n",
    "print(f\"Recall: {recall:.4f}\")\n",
    "print(f\"F1-Score: {f1:.4f}\")"
   ]
  },
  {
   "cell_type": "code",
   "execution_count": 28,
   "id": "894eac68",
   "metadata": {},
   "outputs": [
    {
     "name": "stdout",
     "output_type": "stream",
     "text": [
      "🧪 Testing with new custom messages:\n",
      "\n",
      "📱 Message 1: Free entry! Win a £1000 cash prize! Text WIN to 12...\n",
      "🏷️ Prediction: SPAM\n",
      "📊 Confidence: 1.000\n",
      "\n",
      "📱 Message 2: Hey, are you coming to the party tonight?...\n",
      "🏷️ Prediction: HAM\n",
      "📊 Confidence: 1.000\n",
      "\n",
      "📱 Message 3: URGENT! Your account will be suspended. Click here...\n",
      "🏷️ Prediction: SPAM\n",
      "📊 Confidence: 0.992\n",
      "\n",
      "📱 Message 4: Thanks for the great meeting today. See you tomorr...\n",
      "🏷️ Prediction: HAM\n",
      "📊 Confidence: 1.000\n",
      "\n",
      "📱 Message 5: Congratulations! You've won a free vacation! Call ...\n",
      "🏷️ Prediction: SPAM\n",
      "📊 Confidence: 0.999\n"
     ]
    }
   ],
   "source": [
    "# Step 5: Test with New Messages\n",
    "print(\"🧪 Testing with new custom messages:\")\n",
    "\n",
    "# Define some test messages\n",
    "test_messages = [\n",
    "    \"Free entry! Win a £1000 cash prize! Text WIN to 12345\",\n",
    "    \"Hey, are you coming to the party tonight?\",\n",
    "    \"URGENT! Your account will be suspended. Click here immediately\",\n",
    "    \"Thanks for the great meeting today. See you tomorrow!\",\n",
    "    \"Congratulations! You've won a free vacation! Call now!\"\n",
    "]\n",
    "\n",
    "def predict_message(message, vectorizer, model):\n",
    "    \"\"\"Function to predict if a message is spam or ham\"\"\"\n",
    "    # Preprocess the message\n",
    "    processed_msg = preprocess_text(message)\n",
    "    \n",
    "    # Transform using the fitted vectorizer\n",
    "    msg_vector = vectorizer.transform([processed_msg])\n",
    "    \n",
    "    # Make prediction\n",
    "    prediction = model.predict(msg_vector)[0]\n",
    "    probability = model.predict_proba(msg_vector)[0]\n",
    "    \n",
    "    return prediction, probability\n",
    "\n",
    "# Test each message\n",
    "for i, message in enumerate(test_messages, 1):\n",
    "    prediction, prob = predict_message(message, vectorizer, nb_classifier)\n",
    "    spam_prob = prob[1] if prediction == 'spam' else prob[0]\n",
    "    \n",
    "    print(f\"\\n📱 Message {i}: {message[:50]}...\")\n",
    "    print(f\"🏷️ Prediction: {prediction.upper()}\")\n",
    "    print(f\"📊 Confidence: {max(prob):.3f}\")"
   ]
  },
  {
   "cell_type": "markdown",
   "id": "268717f9",
   "metadata": {},
   "source": [
    "## 🎓 Bag of Words - Key Takeaways\n",
    "\n",
    "### 📝 What We Learned:\n",
    "\n",
    "1. **File Path Resolution**: Fixed the `FileNotFoundError` by correctly navigating to the parent directory using `../SpamClassifier-master/...`\n",
    "\n",
    "2. **Bag of Words Concept**: \n",
    "   - Converts text into numerical vectors\n",
    "   - Each word becomes a feature\n",
    "   - Values represent word frequencies\n",
    "\n",
    "3. **Text Preprocessing Steps**:\n",
    "   - Lowercase conversion\n",
    "   - Punctuation removal\n",
    "   - Whitespace normalization\n",
    "\n",
    "4. **CountVectorizer Parameters**:\n",
    "   - `max_features=5000`: Limits vocabulary size\n",
    "   - `stop_words='english'`: Removes common words\n",
    "   - `ngram_range=(1,1)`: Uses single words only\n",
    "\n",
    "### 🎯 Model Performance:\n",
    "- **High Accuracy**: Usually > 95% for spam detection\n",
    "- **Good Precision/Recall**: Balanced performance\n",
    "- **Fast Training**: Efficient for large datasets\n",
    "\n",
    "### 🔧 Practical Applications:\n",
    "- Email spam filtering\n",
    "- Sentiment analysis\n",
    "- Document classification\n",
    "- Content moderation\n",
    "\n",
    "### 🚀 Next Steps to Explore:\n",
    "1. **TF-IDF**: Term frequency-inverse document frequency\n",
    "2. **N-grams**: Bigrams and trigrams for context\n",
    "3. **Word Embeddings**: Word2Vec, GloVe\n",
    "4. **Deep Learning**: LSTM, BERT for better context understanding\n",
    "\n",
    "---\n",
    "**✅ Success**: We've successfully implemented a complete Bag of Words pipeline for SMS spam classification!"
   ]
  }
 ],
 "metadata": {
  "kernelspec": {
   "display_name": "Python 3",
   "language": "python",
   "name": "python3"
  },
  "language_info": {
   "codemirror_mode": {
    "name": "ipython",
    "version": 3
   },
   "file_extension": ".py",
   "mimetype": "text/x-python",
   "name": "python",
   "nbconvert_exporter": "python",
   "pygments_lexer": "ipython3",
   "version": "3.13.5"
  }
 },
 "nbformat": 4,
 "nbformat_minor": 5
}
