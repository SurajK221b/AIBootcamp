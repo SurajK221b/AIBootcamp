{
 "cells": [
  {
   "cell_type": "markdown",
   "id": "34d6065b",
   "metadata": {},
   "source": [
    "<h3 align=\"center\" style=\"color:blue\">Codebasics Python Course: Decorators Tutorial</h3>"
   ]
  },
  {
   "cell_type": "markdown",
   "id": "df7ae72a",
   "metadata": {},
   "source": [
    "#### Timing functions without decorators"
   ]
  },
  {
   "cell_type": "code",
   "execution_count": 1,
   "id": "17776546",
   "metadata": {},
   "outputs": [],
   "source": [
    "import time\n",
    "\n",
    "def get_square(numbers):\n",
    "    start = time.time()\n",
    "    result = []\n",
    "    for n in numbers:\n",
    "        result.append(n*n)\n",
    "    end = time.time()\n",
    "    print(f\"get_square took {(end - start)*1000} mil seconds\")\n",
    "    return result"
   ]
  },
  {
   "cell_type": "code",
   "execution_count": 2,
   "id": "308585d7",
   "metadata": {},
   "outputs": [],
   "source": [
    "def get_cube(numbers):\n",
    "    start = time.time()\n",
    "    result = []\n",
    "    for n in numbers:\n",
    "        result.append(n*n*n)\n",
    "    end = time.time()    \n",
    "    print(f\"get_cube took {(end - start)*1000} mil seconds\")\n",
    "    return result"
   ]
  },
  {
   "cell_type": "code",
   "execution_count": 16,
   "id": "ec4f1a61",
   "metadata": {
    "scrolled": true
   },
   "outputs": [
    {
     "name": "stdout",
     "output_type": "stream",
     "text": [
      "Function get_square took 0.00476837158203125 seconds\n"
     ]
    },
    {
     "data": {
      "text/plain": [
       "[1, 4, 9, 16, 25]"
      ]
     },
     "execution_count": 16,
     "metadata": {},
     "output_type": "execute_result"
    }
   ],
   "source": [
    "mylist = [1,2,3,4,5]\n",
    "\n",
    "get_square(mylist)"
   ]
  },
  {
   "cell_type": "code",
   "execution_count": 17,
   "id": "97c02bcc",
   "metadata": {},
   "outputs": [
    {
     "name": "stdout",
     "output_type": "stream",
     "text": [
      "Function get_cube took 0.0073909759521484375 seconds\n"
     ]
    },
    {
     "data": {
      "text/plain": [
       "[1, 8, 27, 64, 125]"
      ]
     },
     "execution_count": 17,
     "metadata": {},
     "output_type": "execute_result"
    }
   ],
   "source": [
    "get_cube(mylist)"
   ]
  },
  {
   "cell_type": "markdown",
   "id": "6a13b54b",
   "metadata": {},
   "source": [
    "#### Let's try a big python list"
   ]
  },
  {
   "cell_type": "code",
   "execution_count": 5,
   "id": "1ecafce2",
   "metadata": {},
   "outputs": [
    {
     "name": "stdout",
     "output_type": "stream",
     "text": [
      "get_square took 22.225141525268555 mil seconds\n"
     ]
    }
   ],
   "source": [
    "_ = get_square(range(100000))"
   ]
  },
  {
   "cell_type": "code",
   "execution_count": 6,
   "id": "ee527b8a",
   "metadata": {},
   "outputs": [
    {
     "name": "stdout",
     "output_type": "stream",
     "text": [
      "get_cube took 34.522294998168945 mil seconds\n"
     ]
    }
   ],
   "source": [
    "_ = get_cube(range(100000))"
   ]
  },
  {
   "cell_type": "markdown",
   "id": "a3470649",
   "metadata": {},
   "source": [
    "#### Timing functions with decorator"
   ]
  },
  {
   "cell_type": "code",
   "execution_count": 18,
   "id": "c4ad0aad",
   "metadata": {},
   "outputs": [],
   "source": [
    "import time\n",
    "\n",
    "def timer(func):\n",
    "    def wrapper(*args, **kwargs):\n",
    "        start = time.time()\n",
    "        result = func(*args, **kwargs)\n",
    "        end = time.time()\n",
    "        print(f\"Function {func.__name__} took {(end - start)*1000} seconds\")\n",
    "        return result\n",
    "    return wrapper"
   ]
  },
  {
   "cell_type": "code",
   "execution_count": 19,
   "id": "b575b29f",
   "metadata": {},
   "outputs": [],
   "source": [
    "@timer\n",
    "def get_square(numbers):\n",
    "    result = []\n",
    "    for n in numbers:\n",
    "        result.append(n*n)\n",
    "    return result"
   ]
  },
  {
   "cell_type": "code",
   "execution_count": 20,
   "id": "68d0b4db",
   "metadata": {},
   "outputs": [],
   "source": [
    "@timer\n",
    "def get_cube(numbers):\n",
    "    result = []\n",
    "    for n in numbers:\n",
    "        result.append(n*n*n)\n",
    "    return result    "
   ]
  },
  {
   "cell_type": "code",
   "execution_count": 21,
   "id": "01225c36",
   "metadata": {},
   "outputs": [
    {
     "name": "stdout",
     "output_type": "stream",
     "text": [
      "Function get_square took 8.201360702514648 seconds\n"
     ]
    }
   ],
   "source": [
    "_ = get_square(range(100000))"
   ]
  },
  {
   "cell_type": "code",
   "execution_count": 22,
   "id": "0d558441",
   "metadata": {},
   "outputs": [
    {
     "name": "stdout",
     "output_type": "stream",
     "text": [
      "Function get_cube took 8.65316390991211 seconds\n"
     ]
    }
   ],
   "source": [
    "_ = get_cube(range(100000))"
   ]
  },
  {
   "cell_type": "markdown",
   "id": "79f1b655",
   "metadata": {},
   "source": [
    "Decorators are commonly used for,\n",
    "\n",
    "1. Measuring time of the function\n",
    "2. Logging\n",
    "3. Access control\n",
    "4. Caching"
   ]
  }
 ],
 "metadata": {
  "kernelspec": {
   "display_name": "Python 3",
   "language": "python",
   "name": "python3"
  },
  "language_info": {
   "codemirror_mode": {
    "name": "ipython",
    "version": 3
   },
   "file_extension": ".py",
   "mimetype": "text/x-python",
   "name": "python",
   "nbconvert_exporter": "python",
   "pygments_lexer": "ipython3",
   "version": "3.13.5"
  }
 },
 "nbformat": 4,
 "nbformat_minor": 5
}
