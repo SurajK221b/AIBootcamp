{
 "cells": [
  {
   "cell_type": "markdown",
   "id": "d5cfe025",
   "metadata": {},
   "source": [
    "#### Advanced Python Constructs Overview\n",
    "\n",
    "| **Concept**   | **Explanation**                                                                                                                                   | **Syntax / Declaration**                                                                                                     | **Code Example**                                                                                                                                                                               | **Use Cases**                                                                               |\n",
    "| ------------- | ------------------------------------------------------------------------------------------------------------------------------------------------- | ---------------------------------------------------------------------------------------------------------------------------- | ---------------------------------------------------------------------------------------------------------------------------------------------------------------------------------------------- | ------------------------------------------------------------------------------------------- |\n",
    "| **Iterator**  | An object that implements the iterator protocol (`__iter__()` and `__next__()`); used to traverse a container (e.g., list) one element at a time. | <pre>class MyIterator:<br>    def **iter**(self):<br>        return self<br>    def **next**(self):<br>        # logic</pre> | <pre>nums = \\[1, 2, 3]<br>it = iter(nums)<br>print(next(it))</pre>                                                                                                                             | Useful for custom iteration behavior; allows controlled and memory-efficient data traversal |\n",
    "| **Generator** | A special type of iterator that yields values lazily using the `yield` keyword; automatically implements `__iter__()` and `__next__()`.           | <pre>def my\\_gen():<br>    yield 1<br>    yield 2</pre>                                                                      | <pre>def count\\_up():<br>    for i in range(3):<br>        yield i<br>gen = count\\_up()<br>print(next(gen))</pre>                                                                              | Memory-efficient looping for large datasets, streaming data, file I/O, pipelines            |\n",
    "| **Decorator** | A higher-order function that modifies the behavior of another function or method; often used with `@decorator_name` syntax.                       | <pre>def decorator(func):<br>    def wrapper():<br>        # pre/post<br>        return func()<br>    return wrapper</pre>   | <pre>def log(func):<br>    def wrapper():<br>        print(\"Before\")<br>        func()<br>        print(\"After\")<br>    return wrapper<br><br>@log<br>def hello():<br>    print(\"Hello\")</pre> | Logging, access control, memoization, input validation, instrumentation, etc.               |\n"
   ]
  },
  {
   "cell_type": "markdown",
   "id": "1aa0fd40",
   "metadata": {},
   "source": []
  },
  {
   "cell_type": "code",
   "execution_count": 4,
   "id": "b8320fcf",
   "metadata": {},
   "outputs": [],
   "source": [
    "## Iterator Use Case\n",
    "\n",
    "class CountDown:\n",
    "    def __init__(self, start):\n",
    "        self.num = start\n",
    "\n",
    "    def __iter__(self):\n",
    "        return self\n",
    "\n",
    "    def __next__(self):\n",
    "        if self.num <= 0:\n",
    "            raise StopIteration\n",
    "        self.num -= 1\n",
    "        return self.num + 1\n"
   ]
  },
  {
   "cell_type": "code",
   "execution_count": 5,
   "id": "609ffd74",
   "metadata": {},
   "outputs": [],
   "source": [
    " ## Generator Use Case\n",
    "def fibonacci(limit):\n",
    "    a, b = 0, 1\n",
    "    while a < limit:\n",
    "        yield a\n",
    "        a, b = b, a + b\n"
   ]
  },
  {
   "cell_type": "code",
   "execution_count": 6,
   "id": "c75bf5ad",
   "metadata": {},
   "outputs": [],
   "source": [
    "##  Decorator Use Case\n",
    "def authorize(func):\n",
    "    def wrapper(*args, **kwargs):\n",
    "        print(\"Checking access rights...\")\n",
    "        return func(*args, **kwargs)\n",
    "    return wrapper\n",
    "\n",
    "@authorize\n",
    "def view_dashboard():\n",
    "    print(\"Dashboard loaded.\")\n"
   ]
  },
  {
   "cell_type": "code",
   "execution_count": 7,
   "id": "4613e2de",
   "metadata": {},
   "outputs": [
    {
     "name": "stdout",
     "output_type": "stream",
     "text": [
      "HELLO\n"
     ]
    }
   ],
   "source": [
    "def shout(func):\n",
    "    def wrapper():\n",
    "        return func().upper()\n",
    "    return wrapper\n",
    "\n",
    "@shout\n",
    "def greet():\n",
    "    return \"hello\"\n",
    "\n",
    "print(greet())"
   ]
  }
 ],
 "metadata": {
  "kernelspec": {
   "display_name": "Python 3",
   "language": "python",
   "name": "python3"
  },
  "language_info": {
   "codemirror_mode": {
    "name": "ipython",
    "version": 3
   },
   "file_extension": ".py",
   "mimetype": "text/x-python",
   "name": "python",
   "nbconvert_exporter": "python",
   "pygments_lexer": "ipython3",
   "version": "3.13.5"
  }
 },
 "nbformat": 4,
 "nbformat_minor": 5
}
