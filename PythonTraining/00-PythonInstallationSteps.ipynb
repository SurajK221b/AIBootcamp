{
 "cells": [
  {
   "cell_type": "markdown",
   "id": "70601cb2",
   "metadata": {},
   "source": [
    "#### Download EXE from https://www.python.org/downloads/\n",
    "#### Install Git"
   ]
  },
  {
   "cell_type": "markdown",
   "id": "9761e271",
   "metadata": {},
   "source": []
  },
  {
   "cell_type": "markdown",
   "id": "79b580d1",
   "metadata": {},
   "source": [
    "### To activate Python Virtual Environment\n",
    "\n",
    "#### Inside your repo directory  python -m venv venv\n",
    "#### Windows: venv\\Scripts\\activate"
   ]
  },
  {
   "cell_type": "markdown",
   "id": "56a1fa47",
   "metadata": {},
   "source": []
  }
 ],
 "metadata": {
  "kernelspec": {
   "display_name": "venv",
   "language": "python",
   "name": "python3"
  },
  "language_info": {
   "codemirror_mode": {
    "name": "ipython",
    "version": 3
   },
   "file_extension": ".py",
   "mimetype": "text/x-python",
   "name": "python",
   "nbconvert_exporter": "python",
   "pygments_lexer": "ipython3",
   "version": "3.13.5"
  }
 },
 "nbformat": 4,
 "nbformat_minor": 5
}
