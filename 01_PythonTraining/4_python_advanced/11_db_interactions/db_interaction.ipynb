{
 "cells": [
  {
   "cell_type": "markdown",
   "id": "9f854dcb",
   "metadata": {},
   "source": [
    "### Python with MySQL \n",
    "\n",
    "MySQL is an open-source relational database management system (RDBMS).\n",
    "It stores data in tables, which consist of rows and columns.\n",
    "Common operations include CRUD (Create, Read, Update, Delete).\n",
    "\n",
    "#### Why Use MySQL with Python?\n",
    "Python is commonly used in AI, ML, and data pipelines.\n",
    "Databases are essential for persisting data, especially in production AI systems.\n",
    "MySQL allows integration with Python for data ingestion, preprocessing, model input/output storage, etc."
   ]
  },
  {
   "cell_type": "markdown",
   "id": "d5941c79",
   "metadata": {},
   "source": [
    "### Python with MySQL – Tabular Reference Guide\n",
    "| 🔹 **Category**              | 🧩 **Topic**        | 🛠️ **Details**                 | 🧪 **Example**                                                                                      |\n",
    "| ---------------------------- | ------------------- | ------------------------------- | --------------------------------------------------------------------------------------------------- |\n",
    "| **1. Installation**          | Install Connector   | Official MySQL-Python connector | `pip install mysql-connector-python`                                                                |\n",
    "|                              | Verify Installation | Check if installed successfully | `pip show mysql-connector-python`                                                                   |\n",
    "| **2. Setup**                 | Import Library      | Import required package         | `import mysql.connector`                                                                            |\n",
    "|                              | Create Connection   | Establish connection to MySQL   | `conn = mysql.connector.connect(host=\"localhost\", user=\"root\", password=\"pass\", database=\"testdb\")` |\n",
    "|                              | Create Cursor       | Interface to execute queries    | `cursor = conn.cursor()`                                                                            |\n",
    "| **3. Database Commands**     | Create Database     | SQL via Python                  | `cursor.execute(\"CREATE DATABASE testdb\")`                                                          |\n",
    "|                              | Show Databases      | List all DBs                    | `cursor.execute(\"SHOW DATABASES\")`                                                                  |\n",
    "| **4. Table Operations**      | Create Table        | Define structure                | `cursor.execute(\"CREATE TABLE users (id INT, name VARCHAR(100))\")`                                  |\n",
    "|                              | Show Tables         | List all tables in DB           | `cursor.execute(\"SHOW TABLES\")`                                                                     |\n",
    "| **5. CRUD**                  | Insert Data         | Use placeholders for safety     | `cursor.execute(\"INSERT INTO users (id, name) VALUES (%s, %s)\", (1, \"Suraj\"))`                      |\n",
    "|                              | Read Data           | Select and fetch                | `cursor.execute(\"SELECT * FROM users\"); print(cursor.fetchall())`                                   |\n",
    "|                              | Update Data         | Modify existing row             | `cursor.execute(\"UPDATE users SET name='Raj' WHERE id=1\")`                                          |\n",
    "|                              | Delete Data         | Remove record                   | `cursor.execute(\"DELETE FROM users WHERE id=1\")`                                                    |\n",
    "| **6. Data Fetching**         | One Row             | `fetchone()` method             | `row = cursor.fetchone()`                                                                           |\n",
    "|                              | All Rows            | `fetchall()` method             | `rows = cursor.fetchall()`                                                                          |\n",
    "|                              | Many Rows           | `fetchmany(n)`                  | `rows = cursor.fetchmany(5)`                                                                        |\n",
    "| **7. Commit & Close**        | Save Changes        | Ensure DB reflects changes      | `conn.commit()`                                                                                     |\n",
    "|                              | Close Cursor        | Best practice                   | `cursor.close()`                                                                                    |\n",
    "|                              | Close Connection    | Release DB resource             | `conn.close()`                                                                                      |\n",
    "| **8. Error Handling**        | Exception Block     | Catch DB errors                 | `try: ... except mysql.connector.Error as err: print(err)`                                          |\n",
    "| **9. Parameterized Queries** | Secure Queries      | Avoid SQL Injection             | `cursor.execute(\"SELECT * FROM users WHERE name = %s\", (\"Suraj\",))`                                 |\n",
    "| **10. Transaction Mgmt**     | COMMIT              | Finalize transaction            | `conn.commit()`                                                                                     |\n",
    "|                              | ROLLBACK            | Undo changes                    | `conn.rollback()`                                                                                   |\n",
    "| **11. Miscellaneous**        | Check MySQL Version | Via query                       | `cursor.execute(\"SELECT VERSION()\")`                                                                |\n",
    "|                              | Drop Table          | Remove table                    | `cursor.execute(\"DROP TABLE users\")`                                                                |\n"
   ]
  },
  {
   "cell_type": "markdown",
   "id": "99bdc701",
   "metadata": {},
   "source": []
  }
 ],
 "metadata": {
  "language_info": {
   "name": "python"
  }
 },
 "nbformat": 4,
 "nbformat_minor": 5
}
