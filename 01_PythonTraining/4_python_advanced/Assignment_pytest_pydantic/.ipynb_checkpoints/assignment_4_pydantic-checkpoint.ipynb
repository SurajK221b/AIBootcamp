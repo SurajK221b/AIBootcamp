{
 "cells": [
  {
   "cell_type": "markdown",
   "id": "99a94300",
   "metadata": {},
   "source": [
    "<h2 align=\"center\" style=\"color:blue\">Codebasics Python Course: Exercise - Pydantic</h2>"
   ]
  },
  {
   "cell_type": "markdown",
   "id": "9273e84b",
   "metadata": {},
   "source": [
    "### Task 1: Implementing Data Validation for Restaurant Reservations Using Pydantic\n",
    "\n",
    "At AlitQ Technologies, we're developing a booking system for a restaurant chain. This system must handle reservations while ensuring that all customer and reservation data is validated to prevent errors.\n",
    "\n",
    "For this project, we're using Pydantic to validate and manage the data. Pydantic ensures data integrity, making sure the information is correct and reliable before processing.\n",
    "\n",
    "**Scenario:**\n",
    "AlitQ's system must handle the following reservation details:\n",
    "\n",
    "- Customer name\n",
    "- Reservation date\n",
    "- Number of guests\n",
    "- Optional special requests\n",
    "\n",
    "Your task is to write a program that defines a Pydantic model (class Reservation) to manage these reservation details. The model should validate:\n",
    "\n",
    "`customer_name` as a string\n",
    "\n",
    "`reservation_date` as a valid date\n",
    "\n",
    "`number_of_guests` as an integer\n",
    "\n",
    "`special_requests` as an optional string (can be empty)\n",
    "\n",
    "This ensures smooth operations and prevents invalid data from entering the system."
   ]
  },
  {
   "cell_type": "code",
   "execution_count": 2,
   "id": "2b556a5f",
   "metadata": {
    "scrolled": true
   },
   "outputs": [],
   "source": [
    "from datetime import datetime\n",
    "from pydantic import BaseModel, ValidationError\n",
    "from typing import Optional\n",
    "\n",
    "class Reservation(BaseModel):\n",
    "    #write your code here\n",
    "    pass"
   ]
  },
  {
   "cell_type": "markdown",
   "id": "cf589fc6",
   "metadata": {},
   "source": [
    "### Task 2: Creating Reservation Objects with Error Handling\n",
    "\n",
    "Now, you need to write a `create_reservation()` function that takes a Python dictionary as input, validates it using the Pydantic Reservation model, and creates a reservation object.\n",
    "\n",
    "**Scenario:**\n",
    "\n",
    "Write the create_reservation() function that:\n",
    "\n",
    "1. Takes a Python dictionary as input.\n",
    "2. Attempts to create a Reservation object using the Pydantic model from Task 1.\n",
    "3. If validation fails, the function should catch the Pydantic validation exception and print the error: `\"Failed to create reservation\"` followed by the specific validation error message.\n",
    "\n",
    "This will ensure invalid data is flagged, preventing potential system issues."
   ]
  },
  {
   "cell_type": "code",
   "execution_count": 4,
   "id": "81270c7c",
   "metadata": {},
   "outputs": [],
   "source": [
    "def create_reservation(data):\n",
    "    try:\n",
    "        #write your code here\n",
    "        pass\n",
    "    except ValidationError as e:\n",
    "        #write your code here\n",
    "        pass"
   ]
  },
  {
   "cell_type": "markdown",
   "id": "31c477b3",
   "metadata": {},
   "source": [
    "### Task 3: Creating a Valid Reservation\n",
    "\n",
    "Now that you've implemented data validation and error handling, it's time to create a correct reservation entry for the booking system. Use the following values to ensure all fields match the expected format for the Reservation model:\n",
    "\n",
    "- Customer Name: \"Vishnu Parmar\"\n",
    "- Reservation Date: 31 Dec 2025, Time 19:00\n",
    "- Number of Guests: 4\n",
    "- Special Requests: \"Table near the window\"\n",
    "\n",
    "Ensure that the reservation is successfully created using the create_reservation() function from Task 2, without triggering any validation errors."
   ]
  },
  {
   "cell_type": "code",
   "execution_count": 7,
   "id": "ed11aa08",
   "metadata": {},
   "outputs": [],
   "source": [
    "# Correct data\n",
    "\n",
    "\n",
    "# Write your code here"
   ]
  },
  {
   "cell_type": "markdown",
   "id": "cb0e92fa",
   "metadata": {},
   "source": [
    "### Task 4: Creating an Invalid Reservation\n",
    "\n",
    "To test the robustness of the validation system in the AlitQ booking system, create an invalid reservation entry with missing required fields. Use the following values:\n",
    "\n",
    "- Customer Name: \"Chen Chu\"\n",
    "- Number of Guests: 3\n",
    "\n",
    "Since the `Reservation Date` is missing, this should trigger a validation error. Use the `create_reservation()` function from Task 2 and ensure it catches and prints the error message correctly."
   ]
  },
  {
   "cell_type": "code",
   "execution_count": 6,
   "id": "7a5f68b5",
   "metadata": {},
   "outputs": [],
   "source": [
    "# Incorrect data: missing the number of guests\n",
    "\n",
    "\n",
    "# Write your code here"
   ]
  },
  {
   "cell_type": "code",
   "execution_count": null,
   "id": "904a109a-7962-496a-ba9b-08c00a852cbf",
   "metadata": {},
   "outputs": [],
   "source": []
  }
 ],
 "metadata": {
  "kernelspec": {
   "display_name": "Python 3 (ipykernel)",
   "language": "python",
   "name": "python3"
  },
  "language_info": {
   "codemirror_mode": {
    "name": "ipython",
    "version": 3
   },
   "file_extension": ".py",
   "mimetype": "text/x-python",
   "name": "python",
   "nbconvert_exporter": "python",
   "pygments_lexer": "ipython3",
   "version": "3.12.1"
  }
 },
 "nbformat": 4,
 "nbformat_minor": 5
}
