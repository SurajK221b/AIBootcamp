{
 "cells": [
  {
   "cell_type": "markdown",
   "id": "2f8bd687",
   "metadata": {},
   "source": [
    "### What is EDA (Exploratory Data Analysis)?\n",
    "Exploratory Data Analysis (EDA) is the initial and critical step in the data analysis or machine learning pipeline. It involves systematically examining datasets to understand their structure, detect patterns, spot anomalies, and validate assumptions, all before applying any modeling techniques.\n",
    "\n"
   ]
  },
  {
   "cell_type": "markdown",
   "id": "79c49f1d",
   "metadata": {},
   "source": [
    "#### Primary Objectives of EDA\n",
    "| Objective                               | Description                                                     |\n",
    "| --------------------------------------- | --------------------------------------------------------------- |\n",
    "| 🔍 Understand the Dataset Structure     | Know what columns exist, their types, and relationships         |\n",
    "| 📉 Identify Distributions               | Examine how data is spread (normal, skewed, bimodal, etc.)      |\n",
    "| ⚠️ Detect Missing or Incorrect Data     | Locate null values, invalid types, or inconsistencies           |\n",
    "| 📊 Summarize Data Using Stats & Visuals | Mean, median, std, count, along with histograms, boxplots, etc. |\n",
    "| 📈 Discover Trends & Patterns           | Spot seasonal trends, correlations, and segment behaviors       |\n",
    "| 🤖 Prepare Data for Modeling            | Feature engineering, outlier handling, encoding, and scaling    |\n"
   ]
  },
  {
   "cell_type": "markdown",
   "id": "67395671",
   "metadata": {},
   "source": [
    "####  Common EDA Operations\n",
    "| Task                       | Tool/Method                                        |\n",
    "| -------------------------- | -------------------------------------------------- |\n",
    "| View dataset info          | `df.info()`, `df.head()`, `df.describe()`          |\n",
    "| Missing value detection    | `df.isnull().sum()`                                |\n",
    "| Distribution visualization | `sns.histplot()`, `sns.boxplot()`, `sns.kdeplot()` |\n",
    "| Correlation analysis       | `df.corr()`, `sns.heatmap()`                       |\n",
    "| Group-wise analysis        | `df.groupby()`, `df.pivot_table()`                 |\n",
    "| Categorical analysis       | `df['col'].value_counts()`, `sns.countplot()`      |\n"
   ]
  },
  {
   "cell_type": "markdown",
   "id": "7fc8bb44",
   "metadata": {},
   "source": [
    "####  End-to-End EDA Workflow — Step-by-Step\n",
    "| Step No. | Phase                                    | Description                                                    | Sample Code / Tools                                 |\n",
    "| -------- | ---------------------------------------- | -------------------------------------------------------------- | --------------------------------------------------- |\n",
    "| **1**    | 📥 **Data Collection / Loading**         | Import dataset from CSV, Excel, SQL, API, etc.                 | `pd.read_csv()`, `pd.read_excel()`                  |\n",
    "| **2**    | 🧾 **Data Structure Inspection**         | Check shape, data types, first few rows, and summary stats     | `df.info()`, `df.head()`, `df.describe()`           |\n",
    "| **3**    | 🧼 **Data Cleaning**                     | Handle missing values, remove duplicates, fix types            | `df.isnull()`, `df.dropna()`, `df.duplicated()`     |\n",
    "| **4**    | 🔠 **Data Type Conversion**              | Convert date columns, categorical encoding, etc.               | `pd.to_datetime()`, `.astype()`                     |\n",
    "| **5**    | 🧮 **Univariate Analysis**               | Analyze individual columns (distributions, outliers, ranges)   | `sns.histplot()`, `sns.boxplot()`, `value_counts()` |\n",
    "| **6**    | 🧲 **Bivariate / Multivariate Analysis** | Compare two or more columns to find relationships              | `sns.scatterplot()`, `sns.heatmap()`, `groupby()`   |\n",
    "| **7**    | 📈 **Trend / Time Series Analysis**      | Analyze patterns over time if applicable                       | `resample()`, `lineplot()`, `groupby('month')`      |\n",
    "| **8**    | 🧠 **Feature Engineering**               | Create new variables (e.g., ratios, log scales, flags)         | `df['utilization'] = bookings / capacity`           |\n",
    "| **9**    | 📉 **Outlier Detection**                 | Identify and treat extreme values                              | `sns.boxplot()`, `IQR method`, `Z-score`            |\n",
    "| **10**   | 📊 **Visualization & Reporting**         | Create plots for insights, executive dashboards, and summaries | Seaborn, Matplotlib, Plotly, Tableau                |\n",
    "| **11**   | ✅ **EDA Summary & Hypotheses**           | Write findings, assumptions, and modeling plan                 | Markdown cells in Jupyter, documentation            |\n"
   ]
  }
 ],
 "metadata": {
  "kernelspec": {
   "display_name": "Python 3",
   "language": "python",
   "name": "python3"
  },
  "language_info": {
   "codemirror_mode": {
    "name": "ipython",
    "version": 3
   },
   "file_extension": ".py",
   "mimetype": "text/x-python",
   "name": "python",
   "nbconvert_exporter": "python",
   "pygments_lexer": "ipython3",
   "version": "3.13.5"
  }
 },
 "nbformat": 4,
 "nbformat_minor": 5
}
