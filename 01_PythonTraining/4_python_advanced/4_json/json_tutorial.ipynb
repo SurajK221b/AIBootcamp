{
 "cells": [
  {
   "cell_type": "markdown",
   "id": "2afc7549",
   "metadata": {},
   "source": [
    "<h3 style=\"color:blue\" align=\"center\">Codebasics Python Course: Working With JSON</h3>"
   ]
  },
  {
   "cell_type": "markdown",
   "id": "6ed4f72f",
   "metadata": {},
   "source": [
    "#### JSON Operations in Python \n",
    "| **Operation**                     | **Syntax**                               | **Description**                                                    | **Example**                                                 |\n",
    "| --------------------------------- | ---------------------------------------- | ------------------------------------------------------------------ | ----------------------------------------------------------- |\n",
    "| **Import JSON module**            | `import json`                            | Load the built-in JSON module                                      | `import json`                                               |\n",
    "| **Parse JSON (String → Dict)**    | `json.loads(json_string)`                | Converts a JSON-formatted string to a Python dictionary            | `data = json.loads('{\"name\": \"Alice\", \"age\": 30}')`         |\n",
    "| **Convert Dict → JSON String**    | `json.dumps(python_dict)`                | Converts a Python dictionary to a JSON-formatted string            | `json_str = json.dumps({\"name\": \"Alice\", \"age\": 30})`       |\n",
    "| **Read JSON from File → Dict**    | `json.load(file_object)`                 | Reads JSON data from a file and parses it into a Python dictionary | `with open('data.json') as f:\\n    data = json.load(f)`     |\n",
    "| **Write Dict → JSON File**        | `json.dump(python_dict, file_object)`    | Serializes Python dictionary and writes to a JSON file             | `with open('data.json', 'w') as f:\\n    json.dump(data, f)` |\n",
    "| **Pretty Print JSON**             | `json.dumps(dict, indent=4)`             | Outputs JSON string with indentation                               | `print(json.dumps(data, indent=4))`                         |\n",
    "| **Sort Keys in JSON**             | `json.dumps(dict, sort_keys=True)`       | Outputs JSON string with sorted keys                               | `json.dumps(data, sort_keys=True)`                          |\n",
    "| **Custom Separator**              | `json.dumps(dict, separators=(‘,’,’:’))` | Changes item separators in JSON string                             | `json.dumps(data, separators=(',', ':'))`                   |\n",
    "| **Handling Non-ASCII Characters** | `json.dumps(dict, ensure_ascii=False)`   | Outputs UTF-8 instead of `\\uXXXX` escape                           | `json.dumps(data, ensure_ascii=False)`                      |\n"
   ]
  },
  {
   "cell_type": "markdown",
   "id": "83c44649",
   "metadata": {},
   "source": [
    "#### Converting from Json String to Dict"
   ]
  },
  {
   "cell_type": "code",
   "execution_count": 17,
   "id": "39fef7d8",
   "metadata": {},
   "outputs": [],
   "source": [
    "# JSON string\n",
    "json_string = '''\n",
    "{\n",
    "    \"name\": \"Maulik\",\n",
    "    \"age\": 30,\n",
    "    \"is_employee\": true,\n",
    "    \"skills\": [\"Python\", \"Data Analysis\", \"Machine Learning\"],\n",
    "    \"address\": {\n",
    "        \"street\": \"123 Main St\",\n",
    "        \"city\": \"Wonderland\"\n",
    "    }\n",
    "}\n",
    "'''"
   ]
  },
  {
   "cell_type": "code",
   "execution_count": 18,
   "id": "b09840e1",
   "metadata": {},
   "outputs": [
    {
     "data": {
      "text/plain": [
       "{'name': 'Maulik',\n",
       " 'age': 30,\n",
       " 'is_employee': True,\n",
       " 'skills': ['Python', 'Data Analysis', 'Machine Learning'],\n",
       " 'address': {'street': '123 Main St', 'city': 'Wonderland'}}"
      ]
     },
     "execution_count": 18,
     "metadata": {},
     "output_type": "execute_result"
    }
   ],
   "source": [
    "import json\n",
    "\n",
    "record = json.loads(json_string)\n",
    "record"
   ]
  },
  {
   "cell_type": "code",
   "execution_count": 19,
   "id": "3afb1656",
   "metadata": {},
   "outputs": [
    {
     "data": {
      "text/plain": [
       "dict"
      ]
     },
     "execution_count": 19,
     "metadata": {},
     "output_type": "execute_result"
    }
   ],
   "source": [
    "type(record)"
   ]
  },
  {
   "cell_type": "code",
   "execution_count": 4,
   "id": "05374a8c",
   "metadata": {},
   "outputs": [
    {
     "data": {
      "text/plain": [
       "'Maulik'"
      ]
     },
     "execution_count": 4,
     "metadata": {},
     "output_type": "execute_result"
    }
   ],
   "source": [
    "record['name']"
   ]
  },
  {
   "cell_type": "markdown",
   "id": "50fe51bc",
   "metadata": {},
   "source": [
    "#### Converting from Dict to JSON string"
   ]
  },
  {
   "cell_type": "code",
   "execution_count": 20,
   "id": "60e30f5c",
   "metadata": {},
   "outputs": [
    {
     "data": {
      "text/plain": [
       "'{\"name\": \"Bob\", \"age\": 25, \"is_employee\": false, \"skills\": [\"JavaScript\", \"Web Development\"], \"address\": {\"street\": \"456 Elm St\", \"city\": \"Springfield\"}}'"
      ]
     },
     "execution_count": 20,
     "metadata": {},
     "output_type": "execute_result"
    }
   ],
   "source": [
    "data = {\n",
    "    \"name\": \"Bob\",\n",
    "    \"age\": 25,\n",
    "    \"is_employee\": False,\n",
    "    \"skills\": [\"JavaScript\", \"Web Development\"],\n",
    "    \"address\": {\n",
    "        \"street\": \"456 Elm St\",\n",
    "        \"city\": \"Springfield\"\n",
    "    }\n",
    "}\n",
    "\n",
    "data_str = json.dumps(data)\n",
    "data_str"
   ]
  },
  {
   "cell_type": "code",
   "execution_count": 6,
   "id": "44a918a9",
   "metadata": {},
   "outputs": [
    {
     "data": {
      "text/plain": [
       "str"
      ]
     },
     "execution_count": 6,
     "metadata": {},
     "output_type": "execute_result"
    }
   ],
   "source": [
    "type(data_str)"
   ]
  },
  {
   "cell_type": "markdown",
   "id": "fbe2cdb9",
   "metadata": {},
   "source": [
    "#### Write JSON data  to file"
   ]
  },
  {
   "cell_type": "code",
   "execution_count": 21,
   "id": "9e56f25e",
   "metadata": {},
   "outputs": [],
   "source": [
    "with open('output.json', 'w') as file:\n",
    "    json.dump(data, file, indent=4)"
   ]
  },
  {
   "cell_type": "markdown",
   "id": "e11f258f",
   "metadata": {},
   "source": [
    "#### Read JSON data from file"
   ]
  },
  {
   "cell_type": "code",
   "execution_count": 22,
   "id": "c1acb44d",
   "metadata": {},
   "outputs": [
    {
     "data": {
      "text/plain": [
       "list"
      ]
     },
     "execution_count": 22,
     "metadata": {},
     "output_type": "execute_result"
    }
   ],
   "source": [
    "with open('products.json', 'r') as file:\n",
    "    products = json.load(file)\n",
    "type(products)"
   ]
  },
  {
   "cell_type": "code",
   "execution_count": 25,
   "id": "897970cf",
   "metadata": {
    "scrolled": true
   },
   "outputs": [
    {
     "data": {
      "text/plain": [
       "{'product_id': 1,\n",
       " 'sku': 'ABC123',\n",
       " 'name': 'Wireless Mouse',\n",
       " 'price': 25.99,\n",
       " 'description': 'A comfortable wireless mouse with ergonomic design.',\n",
       " 'in_stock': True,\n",
       " 'category': 'Electronics'}"
      ]
     },
     "execution_count": 25,
     "metadata": {},
     "output_type": "execute_result"
    }
   ],
   "source": [
    "products[0]"
   ]
  },
  {
   "cell_type": "code",
   "execution_count": 26,
   "id": "65f5a74a",
   "metadata": {},
   "outputs": [
    {
     "data": {
      "text/plain": [
       "{'product_id': 2,\n",
       " 'sku': 'XYZ789',\n",
       " 'name': 'Mechanical Keyboard',\n",
       " 'price': 89.99,\n",
       " 'description': 'A high-quality mechanical keyboard with customizable keys.',\n",
       " 'in_stock': True,\n",
       " 'category': 'Electronics'}"
      ]
     },
     "execution_count": 26,
     "metadata": {},
     "output_type": "execute_result"
    }
   ],
   "source": [
    "products[1]"
   ]
  },
  {
   "cell_type": "code",
   "execution_count": 11,
   "id": "7b178c55",
   "metadata": {
    "scrolled": true
   },
   "outputs": [
    {
     "data": {
      "text/plain": [
       "89.99"
      ]
     },
     "execution_count": 11,
     "metadata": {},
     "output_type": "execute_result"
    }
   ],
   "source": [
    "products[1]['price']"
   ]
  },
  {
   "cell_type": "markdown",
   "id": "0bf58b85",
   "metadata": {},
   "source": [
    "#### Read JSON data from file"
   ]
  },
  {
   "cell_type": "code",
   "execution_count": 27,
   "id": "c2bbd088",
   "metadata": {},
   "outputs": [],
   "source": [
    "json_string = '''\n",
    "{\n",
    "    \"books\": [\n",
    "        {\"title\": \"The Magic Of Thinking Big\", \"author\": \"David J. Schwartz\", \"published\": 1959},\n",
    "        {\"title\": \"Chanakya Neeti\", \"author\": \"B.K. Chaturvedi\", \"published\": 2009},\n",
    "        {\"title\": \"How to Win Friends and Influence People\", \"author\": \"Dale Karnegie\", \"published\": 1936}\n",
    "    ],\n",
    "    \"status_code\": 200\n",
    "}\n",
    "'''"
   ]
  },
  {
   "cell_type": "code",
   "execution_count": 28,
   "id": "b4f11033",
   "metadata": {},
   "outputs": [
    {
     "data": {
      "text/plain": [
       "[{'title': 'The Magic Of Thinking Big',\n",
       "  'author': 'David J. Schwartz',\n",
       "  'published': 1959},\n",
       " {'title': 'Chanakya Neeti', 'author': 'B.K. Chaturvedi', 'published': 2009},\n",
       " {'title': 'How to Win Friends and Influence People',\n",
       "  'author': 'Dale Karnegie',\n",
       "  'published': 1936}]"
      ]
     },
     "execution_count": 28,
     "metadata": {},
     "output_type": "execute_result"
    }
   ],
   "source": [
    "data = json.loads(json_string)\n",
    "books = data['books']\n",
    "books"
   ]
  },
  {
   "cell_type": "code",
   "execution_count": 29,
   "id": "2ba3bcf8",
   "metadata": {
    "scrolled": true
   },
   "outputs": [
    {
     "data": {
      "text/plain": [
       "[{'title': 'The Magic Of Thinking Big', 'author': 'David J. Schwartz'},\n",
       " {'title': 'Chanakya Neeti', 'author': 'B.K. Chaturvedi'},\n",
       " {'title': 'How to Win Friends and Influence People',\n",
       "  'author': 'Dale Karnegie'}]"
      ]
     },
     "execution_count": 29,
     "metadata": {},
     "output_type": "execute_result"
    }
   ],
   "source": [
    "book_info = [{\"title\": book[\"title\"], \"author\": book[\"author\"]} for book in books]\n",
    "book_info"
   ]
  },
  {
   "cell_type": "markdown",
   "id": "6f508845",
   "metadata": {},
   "source": [
    "#### Error Handling in JSON"
   ]
  },
  {
   "cell_type": "code",
   "execution_count": 30,
   "id": "5139d915",
   "metadata": {},
   "outputs": [],
   "source": [
    "# Malformed JSON string\n",
    "json_string = '''\n",
    "{\n",
    "    \"name\": \"Krishna\",\n",
    "    \"age\": 30\n",
    "    \"is_employee\": true\n",
    "}\n",
    "'''"
   ]
  },
  {
   "cell_type": "code",
   "execution_count": 31,
   "id": "4030bed9",
   "metadata": {},
   "outputs": [
    {
     "ename": "JSONDecodeError",
     "evalue": "Expecting ',' delimiter: line 5 column 5 (char 44)",
     "output_type": "error",
     "traceback": [
      "\u001b[31m---------------------------------------------------------------------------\u001b[39m",
      "\u001b[31mJSONDecodeError\u001b[39m                           Traceback (most recent call last)",
      "\u001b[36mCell\u001b[39m\u001b[36m \u001b[39m\u001b[32mIn[31]\u001b[39m\u001b[32m, line 1\u001b[39m\n\u001b[32m----> \u001b[39m\u001b[32m1\u001b[39m \u001b[43mjson\u001b[49m\u001b[43m.\u001b[49m\u001b[43mloads\u001b[49m\u001b[43m(\u001b[49m\u001b[43mjson_string\u001b[49m\u001b[43m)\u001b[49m\n",
      "\u001b[36mFile \u001b[39m\u001b[32mc:\\Users\\Suraj Khodade\\AppData\\Local\\Programs\\Python\\Python313\\Lib\\json\\__init__.py:346\u001b[39m, in \u001b[36mloads\u001b[39m\u001b[34m(s, cls, object_hook, parse_float, parse_int, parse_constant, object_pairs_hook, **kw)\u001b[39m\n\u001b[32m    341\u001b[39m     s = s.decode(detect_encoding(s), \u001b[33m'\u001b[39m\u001b[33msurrogatepass\u001b[39m\u001b[33m'\u001b[39m)\n\u001b[32m    343\u001b[39m \u001b[38;5;28;01mif\u001b[39;00m (\u001b[38;5;28mcls\u001b[39m \u001b[38;5;129;01mis\u001b[39;00m \u001b[38;5;28;01mNone\u001b[39;00m \u001b[38;5;129;01mand\u001b[39;00m object_hook \u001b[38;5;129;01mis\u001b[39;00m \u001b[38;5;28;01mNone\u001b[39;00m \u001b[38;5;129;01mand\u001b[39;00m\n\u001b[32m    344\u001b[39m         parse_int \u001b[38;5;129;01mis\u001b[39;00m \u001b[38;5;28;01mNone\u001b[39;00m \u001b[38;5;129;01mand\u001b[39;00m parse_float \u001b[38;5;129;01mis\u001b[39;00m \u001b[38;5;28;01mNone\u001b[39;00m \u001b[38;5;129;01mand\u001b[39;00m\n\u001b[32m    345\u001b[39m         parse_constant \u001b[38;5;129;01mis\u001b[39;00m \u001b[38;5;28;01mNone\u001b[39;00m \u001b[38;5;129;01mand\u001b[39;00m object_pairs_hook \u001b[38;5;129;01mis\u001b[39;00m \u001b[38;5;28;01mNone\u001b[39;00m \u001b[38;5;129;01mand\u001b[39;00m \u001b[38;5;129;01mnot\u001b[39;00m kw):\n\u001b[32m--> \u001b[39m\u001b[32m346\u001b[39m     \u001b[38;5;28;01mreturn\u001b[39;00m \u001b[43m_default_decoder\u001b[49m\u001b[43m.\u001b[49m\u001b[43mdecode\u001b[49m\u001b[43m(\u001b[49m\u001b[43ms\u001b[49m\u001b[43m)\u001b[49m\n\u001b[32m    347\u001b[39m \u001b[38;5;28;01mif\u001b[39;00m \u001b[38;5;28mcls\u001b[39m \u001b[38;5;129;01mis\u001b[39;00m \u001b[38;5;28;01mNone\u001b[39;00m:\n\u001b[32m    348\u001b[39m     \u001b[38;5;28mcls\u001b[39m = JSONDecoder\n",
      "\u001b[36mFile \u001b[39m\u001b[32mc:\\Users\\Suraj Khodade\\AppData\\Local\\Programs\\Python\\Python313\\Lib\\json\\decoder.py:345\u001b[39m, in \u001b[36mJSONDecoder.decode\u001b[39m\u001b[34m(self, s, _w)\u001b[39m\n\u001b[32m    340\u001b[39m \u001b[38;5;28;01mdef\u001b[39;00m\u001b[38;5;250m \u001b[39m\u001b[34mdecode\u001b[39m(\u001b[38;5;28mself\u001b[39m, s, _w=WHITESPACE.match):\n\u001b[32m    341\u001b[39m \u001b[38;5;250m    \u001b[39m\u001b[33;03m\"\"\"Return the Python representation of ``s`` (a ``str`` instance\u001b[39;00m\n\u001b[32m    342\u001b[39m \u001b[33;03m    containing a JSON document).\u001b[39;00m\n\u001b[32m    343\u001b[39m \n\u001b[32m    344\u001b[39m \u001b[33;03m    \"\"\"\u001b[39;00m\n\u001b[32m--> \u001b[39m\u001b[32m345\u001b[39m     obj, end = \u001b[38;5;28;43mself\u001b[39;49m\u001b[43m.\u001b[49m\u001b[43mraw_decode\u001b[49m\u001b[43m(\u001b[49m\u001b[43ms\u001b[49m\u001b[43m,\u001b[49m\u001b[43m \u001b[49m\u001b[43midx\u001b[49m\u001b[43m=\u001b[49m\u001b[43m_w\u001b[49m\u001b[43m(\u001b[49m\u001b[43ms\u001b[49m\u001b[43m,\u001b[49m\u001b[43m \u001b[49m\u001b[32;43m0\u001b[39;49m\u001b[43m)\u001b[49m\u001b[43m.\u001b[49m\u001b[43mend\u001b[49m\u001b[43m(\u001b[49m\u001b[43m)\u001b[49m\u001b[43m)\u001b[49m\n\u001b[32m    346\u001b[39m     end = _w(s, end).end()\n\u001b[32m    347\u001b[39m     \u001b[38;5;28;01mif\u001b[39;00m end != \u001b[38;5;28mlen\u001b[39m(s):\n",
      "\u001b[36mFile \u001b[39m\u001b[32mc:\\Users\\Suraj Khodade\\AppData\\Local\\Programs\\Python\\Python313\\Lib\\json\\decoder.py:361\u001b[39m, in \u001b[36mJSONDecoder.raw_decode\u001b[39m\u001b[34m(self, s, idx)\u001b[39m\n\u001b[32m    352\u001b[39m \u001b[38;5;250m\u001b[39m\u001b[33;03m\"\"\"Decode a JSON document from ``s`` (a ``str`` beginning with\u001b[39;00m\n\u001b[32m    353\u001b[39m \u001b[33;03ma JSON document) and return a 2-tuple of the Python\u001b[39;00m\n\u001b[32m    354\u001b[39m \u001b[33;03mrepresentation and the index in ``s`` where the document ended.\u001b[39;00m\n\u001b[32m   (...)\u001b[39m\u001b[32m    358\u001b[39m \n\u001b[32m    359\u001b[39m \u001b[33;03m\"\"\"\u001b[39;00m\n\u001b[32m    360\u001b[39m \u001b[38;5;28;01mtry\u001b[39;00m:\n\u001b[32m--> \u001b[39m\u001b[32m361\u001b[39m     obj, end = \u001b[38;5;28;43mself\u001b[39;49m\u001b[43m.\u001b[49m\u001b[43mscan_once\u001b[49m\u001b[43m(\u001b[49m\u001b[43ms\u001b[49m\u001b[43m,\u001b[49m\u001b[43m \u001b[49m\u001b[43midx\u001b[49m\u001b[43m)\u001b[49m\n\u001b[32m    362\u001b[39m \u001b[38;5;28;01mexcept\u001b[39;00m \u001b[38;5;167;01mStopIteration\u001b[39;00m \u001b[38;5;28;01mas\u001b[39;00m err:\n\u001b[32m    363\u001b[39m     \u001b[38;5;28;01mraise\u001b[39;00m JSONDecodeError(\u001b[33m\"\u001b[39m\u001b[33mExpecting value\u001b[39m\u001b[33m\"\u001b[39m, s, err.value) \u001b[38;5;28;01mfrom\u001b[39;00m\u001b[38;5;250m \u001b[39m\u001b[38;5;28;01mNone\u001b[39;00m\n",
      "\u001b[31mJSONDecodeError\u001b[39m: Expecting ',' delimiter: line 5 column 5 (char 44)"
     ]
    }
   ],
   "source": [
    "json.loads(json_string)"
   ]
  },
  {
   "cell_type": "code",
   "execution_count": 32,
   "id": "85352a23",
   "metadata": {},
   "outputs": [
    {
     "name": "stdout",
     "output_type": "stream",
     "text": [
      "Failed to parse JSON: Expecting ',' delimiter: line 5 column 5 (char 44)\n"
     ]
    }
   ],
   "source": [
    "try:\n",
    "    data = json.loads(json_string)\n",
    "except json.JSONDecodeError as e:\n",
    "    print(f\"Failed to parse JSON: {e}\")"
   ]
  }
 ],
 "metadata": {
  "kernelspec": {
   "display_name": "Python 3",
   "language": "python",
   "name": "python3"
  },
  "language_info": {
   "codemirror_mode": {
    "name": "ipython",
    "version": 3
   },
   "file_extension": ".py",
   "mimetype": "text/x-python",
   "name": "python",
   "nbconvert_exporter": "python",
   "pygments_lexer": "ipython3",
   "version": "3.13.5"
  }
 },
 "nbformat": 4,
 "nbformat_minor": 5
}
