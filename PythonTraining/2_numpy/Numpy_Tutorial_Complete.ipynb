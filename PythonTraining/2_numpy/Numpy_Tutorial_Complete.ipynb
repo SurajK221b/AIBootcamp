{
 "cells": [
  {
   "cell_type": "markdown",
   "id": "6e4abdb3",
   "metadata": {},
   "source": [
    "# NumPy Tutorial: Complete Guide"
   ]
  },
  {
   "cell_type": "markdown",
   "id": "9027160e",
   "metadata": {},
   "source": [
    "## 1. Introduction to NumPy"
   ]
  },
  {
   "cell_type": "markdown",
   "id": "917fd520",
   "metadata": {},
   "source": [
    "**What is NumPy?**\n",
    "- Numerical python library for array operations and numerical computing.\n",
    "- Backbone for libraries like TensorFlow, PyTorch, scikit-learn.\n",
    "\n",
    "**Installation**\n",
    "bash\n",
    "pip install numpy\n",
    "\n",
    "\n",
    "**Importing**\n",
    "\n",
    "import numpy as np\n"
   ]
  },
  {
   "cell_type": "markdown",
   "id": "f00d6169",
   "metadata": {},
   "source": [
    "## 2. NumPy Arrays"
   ]
  },
  {
   "cell_type": "code",
   "execution_count": 25,
   "id": "25705bc8",
   "metadata": {},
   "outputs": [
    {
     "name": "stdout",
     "output_type": "stream",
     "text": [
      "[1 2 3]\n",
      "[[0. 0. 0.]\n",
      " [0. 0. 0.]]\n",
      "[[1. 1. 1.]\n",
      " [1. 1. 1.]\n",
      " [1. 1. 1.]]\n",
      "[[7 7]\n",
      " [7 7]]\n",
      "[[1. 0. 0.]\n",
      " [0. 1. 0.]\n",
      " [0. 0. 1.]]\n",
      "[0 2 4 6 8]\n",
      "[0.   0.25 0.5  0.75 1.  ]\n"
     ]
    },
    {
     "data": {
      "text/plain": [
       "dtype('int64')"
      ]
     },
     "execution_count": 25,
     "metadata": {},
     "output_type": "execute_result"
    }
   ],
   "source": [
    "## Creation\n",
    "import numpy as np\n",
    "print(np.array([1, 2, 3]))\n",
    "print(np.zeros((2, 3)))\n",
    "print(np.ones((3, 3)))\n",
    "print(np.full((2, 2), 7))\n",
    "print(np.eye(3))\n",
    "print(np.arange(0, 10, 2))\n",
    "print(np.linspace(0, 1, 5))\n",
    "\n",
    "\n",
    "## Attributes\n",
    "a = np.array([[1,2,3],[4,5,6]])\n",
    "a.shape\n",
    "a.ndim\n",
    "a.size\n",
    "a.dtype\n"
   ]
  },
  {
   "cell_type": "markdown",
   "id": "c580fb1b",
   "metadata": {},
   "source": [
    "## 3. Indexing, Slicing & Reshaping"
   ]
  },
  {
   "cell_type": "code",
   "execution_count": 26,
   "id": "b4a7ab46",
   "metadata": {},
   "outputs": [
    {
     "data": {
      "text/plain": [
       "array([1, 2, 3, 4, 5, 6])"
      ]
     },
     "execution_count": 26,
     "metadata": {},
     "output_type": "execute_result"
    }
   ],
   "source": [
    "\n",
    "a[1, 2]\n",
    "a[:, 1]\n",
    "a[0:2, 1:3]\n",
    "a.reshape(3, 2)\n",
    "a.flatten()\n",
    "\n",
    "\n"
   ]
  },
  {
   "cell_type": "markdown",
   "id": "2fe4f072",
   "metadata": {},
   "source": [
    "## 4. Array Operations"
   ]
  },
  {
   "cell_type": "code",
   "execution_count": 27,
   "id": "44b6f4e6",
   "metadata": {},
   "outputs": [
    {
     "data": {
      "text/plain": [
       "np.float64(1.118033988749895)"
      ]
     },
     "execution_count": 27,
     "metadata": {},
     "output_type": "execute_result"
    }
   ],
   "source": [
    "## Arithmetic Operations\n",
    "\n",
    "a = np.array([[1, 2], [3, 4]])\n",
    "b = np.array([[5, 6], [7, 8]])\n",
    "a + b\n",
    "a - b\n",
    "a * b\n",
    "a / b\n",
    "np.dot(a, b)\n",
    "\n",
    "\n",
    "##Universal Functions (ufuncs)\n",
    "\n",
    "np.sqrt(a)\n",
    "np.exp(a)\n",
    "np.log(a)\n",
    "np.sin(a)\n",
    "np.max(a)\n",
    "np.sum(a, axis=0)\n",
    "np.mean(a)\n",
    "np.std(a)\n"
   ]
  },
  {
   "cell_type": "markdown",
   "id": "a3e53490",
   "metadata": {},
   "source": [
    "## 5. Boolean Indexing and Filtering"
   ]
  },
  {
   "cell_type": "code",
   "execution_count": 28,
   "id": "efd0b66b",
   "metadata": {},
   "outputs": [
    {
     "data": {
      "text/plain": [
       "array([[0, 1],\n",
       "       [0, 1]])"
      ]
     },
     "execution_count": 28,
     "metadata": {},
     "output_type": "execute_result"
    }
   ],
   "source": [
    "\n",
    "a[a > 5]\n",
    "a[(a > 2) & (a < 7)]\n",
    "np.where(a % 2 == 0, 1, 0)\n"
   ]
  },
  {
   "cell_type": "markdown",
   "id": "de1d6ab3",
   "metadata": {},
   "source": [
    "## 6. Broadcasting"
   ]
  },
  {
   "cell_type": "code",
   "execution_count": 29,
   "id": "ecb12d8c",
   "metadata": {},
   "outputs": [
    {
     "data": {
      "text/plain": [
       "array([[11, 21, 31],\n",
       "       [12, 22, 32],\n",
       "       [13, 23, 33]])"
      ]
     },
     "execution_count": 29,
     "metadata": {},
     "output_type": "execute_result"
    }
   ],
   "source": [
    "\n",
    "a = np.array([[1], [2], [3]])\n",
    "b = np.array([10, 20, 30])\n",
    "a + b\n"
   ]
  },
  {
   "cell_type": "markdown",
   "id": "e4571a47",
   "metadata": {},
   "source": [
    "## 7. Copy vs View"
   ]
  },
  {
   "cell_type": "code",
   "execution_count": 30,
   "id": "555109de",
   "metadata": {},
   "outputs": [],
   "source": [
    "\n",
    "x = np.array([1, 2, 3])\n",
    "y = x.copy()\n",
    "z = x.view()\n"
   ]
  },
  {
   "cell_type": "markdown",
   "id": "4195c1f8",
   "metadata": {},
   "source": [
    "## 8. Random Module"
   ]
  },
  {
   "cell_type": "code",
   "execution_count": 31,
   "id": "71693cdc",
   "metadata": {},
   "outputs": [
    {
     "ename": "NameError",
     "evalue": "name 'arr' is not defined",
     "output_type": "error",
     "traceback": [
      "\u001b[31m---------------------------------------------------------------------------\u001b[39m",
      "\u001b[31mNameError\u001b[39m                                 Traceback (most recent call last)",
      "\u001b[36mCell\u001b[39m\u001b[36m \u001b[39m\u001b[32mIn[31]\u001b[39m\u001b[32m, line 5\u001b[39m\n\u001b[32m      3\u001b[39m np.random.randn(\u001b[32m3\u001b[39m, \u001b[32m2\u001b[39m)\n\u001b[32m      4\u001b[39m \u001b[38;5;66;03m# np.random.randint(1, 10, (2, 2))\u001b[39;00m\n\u001b[32m----> \u001b[39m\u001b[32m5\u001b[39m np.random.shuffle(\u001b[43marr\u001b[49m)\n",
      "\u001b[31mNameError\u001b[39m: name 'arr' is not defined"
     ]
    }
   ],
   "source": [
    "\n",
    "np.random.seed(0)\n",
    "np.random.rand(3, 2)\n",
    "np.random.randn(3, 2)\n",
    "# np.random.randint(1, 10, (2, 2))\n",
    "np.random.shuffle(arr)\n"
   ]
  },
  {
   "cell_type": "markdown",
   "id": "1f269813",
   "metadata": {},
   "source": [
    "## 9. Advanced Topics"
   ]
  },
  {
   "cell_type": "code",
   "execution_count": null,
   "id": "811c8c97",
   "metadata": {},
   "outputs": [],
   "source": [
    "## Stacking\n",
    "\n",
    "np.vstack([a, b])\n",
    "np.hstack([a, b])\n",
    "\n",
    "\n",
    "##Splitting\n",
    "\n",
    "np.split(arr, 3)\n",
    "np.array_split(arr, 3)\n",
    "\n",
    "\n",
    "##Sorting & Searching\n",
    "\n",
    "np.sort(arr, axis=0)\n",
    "np.argsort(arr)\n",
    "np.argmin(arr)\n",
    "np.argmax(arr)\n"
   ]
  },
  {
   "cell_type": "markdown",
   "id": "cd196b50",
   "metadata": {},
   "source": [
    "## 10. Linear Algebra"
   ]
  },
  {
   "cell_type": "code",
   "execution_count": null,
   "id": "4e716ad8",
   "metadata": {},
   "outputs": [],
   "source": [
    "\n",
    "np.linalg.inv(matrix)\n",
    "np.linalg.det(matrix)\n",
    "np.linalg.eig(matrix)\n",
    "np.linalg.norm(vector)\n",
    "np.linalg.solve(A, b)\n"
   ]
  },
  {
   "cell_type": "markdown",
   "id": "10dbdd2c",
   "metadata": {},
   "source": [
    "## 11. Saving and Loading"
   ]
  },
  {
   "cell_type": "code",
   "execution_count": null,
   "id": "dc01c7cd",
   "metadata": {},
   "outputs": [],
   "source": [
    "\n",
    "np.save('data.npy', array)\n",
    "np.load('data.npy')\n",
    "np.savetxt('data.csv', array, delimiter=',')\n",
    "np.genfromtxt('data.csv', delimiter=',')\n"
   ]
  },
  {
   "cell_type": "markdown",
   "id": "a37142cc",
   "metadata": {},
   "source": [
    "## 12. NumPy in Machine Learning"
   ]
  },
  {
   "cell_type": "markdown",
   "id": "bc72b32a",
   "metadata": {},
   "source": [
    "| Use Case               | NumPy Functionality                   |\n",
    "|------------------------|----------------------------------------|\n",
    "| Data Preprocessing     | `reshape()`, `astype()`, `normalize()` |\n",
    "| Batch Operations       | `np.dot()`, `np.matmul()`              |\n",
    "| Vectorization          | Broadcasting, slicing                  |\n",
    "| Weight Initialization  | `np.random.randn()`                   |\n",
    "| Performance Optimization | `ufuncs`, `vectorized operations`    |"
   ]
  },
  {
   "cell_type": "markdown",
   "id": "3533cb6f",
   "metadata": {},
   "source": [
    "## 13. Best Practices"
   ]
  },
  {
   "cell_type": "markdown",
   "id": "66144d81",
   "metadata": {},
   "source": [
    "- Use **vectorized operations** over loops\n",
    "- Always set **random seed** for reproducibility\n",
    "- Use **np.copy()** when needed to avoid memory issues\n",
    "- Be cautious with **broadcasting** in high-dimensional arrays"
   ]
  },
  {
   "cell_type": "markdown",
   "id": "f5b3146b",
   "metadata": {},
   "source": []
  }
 ],
 "metadata": {
  "kernelspec": {
   "display_name": "Python 3",
   "language": "python",
   "name": "python3"
  },
  "language_info": {
   "codemirror_mode": {
    "name": "ipython",
    "version": 3
   },
   "file_extension": ".py",
   "mimetype": "text/x-python",
   "name": "python",
   "nbconvert_exporter": "python",
   "pygments_lexer": "ipython3",
   "version": "3.13.5"
  }
 },
 "nbformat": 4,
 "nbformat_minor": 5
}
