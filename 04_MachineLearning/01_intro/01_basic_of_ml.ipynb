{
 "cells": [
  {
   "cell_type": "markdown",
   "id": "80277380",
   "metadata": {},
   "source": [
    "### What is Machine Learning?\n",
    "Machine Learning (ML) is a subfield of artificial intelligence (AI) that enables systems to automatically learn patterns from data and make decisions or predictions without being explicitly programmed for every scenario."
   ]
  },
  {
   "cell_type": "markdown",
   "id": "3db53cf2",
   "metadata": {},
   "source": [
    "### Key Components of a Machine Learning System\n",
    "| Component      | Description                                |\n",
    "| -------------- | ------------------------------------------ |\n",
    "| **Data**       | Input from which patterns are learned      |\n",
    "| **Model**      | Algorithm that maps inputs to outputs      |\n",
    "| **Training**   | The process of learning patterns from data |\n",
    "| **Prediction** | Applying the model to unseen data          |\n",
    "| **Evaluation** | Assessing model performance using metrics  |\n"
   ]
  },
  {
   "cell_type": "markdown",
   "id": "32d08ab5",
   "metadata": {},
   "source": [
    "### Types of Machine Learning\n",
    "| Type                          | Description                                                             | Common Algorithms                                                          | Example Use Cases                                               |\n",
    "| ----------------------------- | ----------------------------------------------------------------------- | -------------------------------------------------------------------------- | --------------------------------------------------------------- |\n",
    "| **1. Supervised Learning**    | The model is trained on labeled data (input-output pairs).              | Linear Regression, Logistic Regression, SVM, Decision Trees, Random Forest | Email spam detection, credit risk scoring, image classification |\n",
    "| **2. Unsupervised Learning**  | The model identifies patterns or structures in data without labels.     | K-Means Clustering, Hierarchical Clustering, PCA                           | Customer segmentation, anomaly detection, topic modeling        |\n",
    "| **3. Reinforcement Learning** | An agent learns by interacting with an environment to maximize rewards. | Q-Learning, Deep Q-Network (DQN), Policy Gradient Methods                  | Robotics, game playing (e.g., AlphaGo), autonomous driving      |\n"
   ]
  },
  {
   "cell_type": "markdown",
   "id": "3b902a30",
   "metadata": {},
   "source": [
    "### Objective of ML Models\n",
    "Classification: Predict categorical labels (e.g., spam vs. non-spam)\n",
    "\n",
    "Regression: Predict continuous values (e.g., price of a house)\n",
    "\n",
    "Clustering: Group similar data points (e.g., customer segments)\n",
    "\n",
    "Dimensionality Reduction: Simplify high-dimensional data (e.g., PCA)\n",
    "\n",
    "Anomaly Detection: Identify rare or unusual patterns (e.g., fraud)"
   ]
  },
  {
   "cell_type": "markdown",
   "id": "95d56b3c",
   "metadata": {},
   "source": [
    "### Supervised Learning\n",
    "Supervised Learning is a machine learning paradigm in which the model is trained on a labeled dataset, meaning each input is paired with the correct output. The goal is to learn a function that maps inputs to desired outputs by minimizing prediction errors."
   ]
  },
  {
   "cell_type": "markdown",
   "id": "14fdbe84",
   "metadata": {},
   "source": [
    "### Categories of Supervised Learning\n",
    "\n",
    "| Category          | Description                                                                 |\n",
    "| ----------------- | --------------------------------------------------------------------------- |\n",
    "| **Classification** | Predict categorical labels (e.g., spam vs. non-spam)                        |\n",
    "| **Regression**     | Predict continuous values (e.g., price of a house)                        |\n",
    "| **Time Series**    | Analyze data points collected or recorded at specific time intervals (e.g., stock prices) |\n",
    "### Common Algorithms in Supervised Learning\n",
    "| Algorithm                | Description                                                                 |\n",
    "| ----------------------- | --------------------------------------------------------------------------- |\n",
    "| **Linear Regression**    | Models the relationship between input features and a continuous output using a linear equation. |\n",
    "| **Logistic Regression**  | Used for binary classification tasks, predicting the probability of a  class label. |\n",
    "| **Decision Trees**       | A tree-like model that splits data into subsets based on feature values, making decisions at each node. |\n",
    "| **Support Vector Machines (SVM)** | Finds the hyperplane that best separates different classes in the feature space. |\n",
    "| **Random Forest**        | An ensemble method that combines multiple decision trees to improve accuracy and reduce overfitting. |     \n",
    "| **K-Nearest Neighbors (KNN)** | Classifies data points based on the majority class of their k-nearest neighbors in the feature space. |\n",
    "\n",
    "### Evaluation Metrics for Supervised Learning\n",
    "| Metric                | Description                                                                 |\n",
    "| --------------------- | --------------------------------------------------------------------------- |     \n",
    "| **Accuracy**           | The proportion of correct predictions out of total predictions.            |\n",
    "| **Precision**          | The proportion of true positive predictions out of all positive predictions. |\n",
    "| **Recall (Sensitivity)** | The proportion of true positive predictions out of all actual positive instances. |\n",
    "| **F1 Score**           | The harmonic mean of precision and recall, balancing both metrics\n",
    "| **ROC-AUC**           | The area under the Receiver Operating Characteristic curve, measuring the trade-off between true positive rate and false positive rate. |\n",
    "\n",
    "### Challenges in Supervised Learning\n",
    "| Challenge            | Description                                                                 |\n",
    "| ------------------- | --------------------------------------------------------------------------- |\n",
    "| **Overfitting**      | When the model learns noise in the training data, leading to poor generalization on unseen data. |\n",
    "| **Underfitting**     | When the model is too simple to capture the underlying patterns in the data. |\n",
    "| **Imbalanced Data**  | When one class is significantly more frequent than others, leading to biased predictions. |    "
   ]
  },
  {
   "cell_type": "markdown",
   "id": "75d34215",
   "metadata": {},
   "source": [
    "###  Unsupervised Learning \n",
    "Unsupervised Learning is a category of machine learning where the algorithm is trained only on input data (X) without any corresponding labels (Y). The objective is to discover hidden patterns, structures, or groupings within the dataset."
   ]
  },
  {
   "cell_type": "markdown",
   "id": "d7d8d864",
   "metadata": {},
   "source": [
    "### Categories of Unsupervised Learning\n",
    "| Category          | Description                                                                 |\n",
    "| ----------------- | --------------------------------------------------------------------------- |\n",
    "| **Clustering**      | Grouping similar data points together based on their features.              |\n",
    "| **Dimensionality Reduction** | Reducing the number of features while preserving important information. |\n",
    "| **Anomaly Detection** | Identifying rare or unusual patterns in the data that differ significantly from the majority. |\n",
    "### Common Algorithms in Unsupervised Learning\n",
    "| Algorithm                | Description                                                                 |  \n",
    "| ----------------------- | --------------------------------------------------------------------------- |\n",
    "| **K-Means Clustering**    | Partitions data into k clusters based on feature similarity, minimizing intra-cluster variance. |\n",
    "| **Hierarchical Clustering**  | Builds a tree-like structure of clusters, allowing for different levels of granularity in clustering. |\n",
    "| **Principal Component Analysis (PCA)** | Reduces dimensionality by transforming data into a new set of orthogonal features (principal components) that capture the most variance. |\n",
    "| **t-Distributed Stochastic Neighbor Embedding (t-SNE)** | A technique for visualizing high-dimensional data by reducing it to two or three dimensions while preserving local structure. |\n",
    "| **Autoencoders**        | Neural networks that learn to encode data into a lower-dimensional representation and then decode it back to the original space. |\n",
    "\n",
    "### Evaluation Metrics for Unsupervised Learning\n",
    "| Metric                | Description                                                                 |\n",
    "| --------------------- | --------------------------------------------------------------------------- |\n",
    "| **Silhouette Score**   | Measures how similar an object is to its own cluster compared to other clusters, ranging from -1 to 1. |\n",
    "| **Davies-Bouldin Index** | Measures the average similarity ratio of each cluster with the cluster that is most similar to it, with lower values indicating better clustering. |   \n",
    "| **Inertia**            | The sum of squared distances between data points and their assigned cluster centroids, used in K-Means clustering. |\n",
    "### Challenges in Unsupervised Learning\n",
    "| Challenge            | Description                                                                 |\n",
    "| ------------------- | --------------------------------------------------------------------------- |\n",
    "| **Choosing the Right Number of Clusters** | Determining the optimal number of clusters in clustering algorithms can be subjective and requires domain knowledge. |\n",
    "| **Interpretability** | Unsupervised models can be harder to interpret compared to supervised models, as there are no labels to guide understanding. | "
   ]
  },
  {
   "cell_type": "markdown",
   "id": "7ad345a6",
   "metadata": {},
   "source": []
  }
 ],
 "metadata": {
  "language_info": {
   "name": "python"
  }
 },
 "nbformat": 4,
 "nbformat_minor": 5
}
