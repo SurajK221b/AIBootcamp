{
 "cells": [
  {
   "cell_type": "markdown",
   "id": "4450e535",
   "metadata": {},
   "source": [
    "### Core Concepts\n",
    "| **Concept**         | **Definition**                                                                                                          |\n",
    "| ------------------- | ----------------------------------------------------------------------------------------------------------------------- |\n",
    "| **Random Sampling** | A sampling method where **each member** of the population has an **equal chance** of being selected                     |\n",
    "| **Sample Bias**     | A **systematic error** that occurs when some members of the population are **over- or under-represented** in the sample |\n"
   ]
  },
  {
   "cell_type": "markdown",
   "id": "71dfebc6",
   "metadata": {},
   "source": [
    "### Comparative Table\n",
    "| **Aspect**             | **Random Sampling**                                                 | **Sample Bias**                                                  |\n",
    "| ---------------------- | ------------------------------------------------------------------- | ---------------------------------------------------------------- |\n",
    "| **Goal**               | Ensure fairness and representation                                  | Often unintentional; leads to distorted representation           |\n",
    "| **Effect on Accuracy** | Promotes **statistical validity**                                   | **Compromises reliability** and generalizability of results      |\n",
    "| **Cause**              | Implemented intentionally using algorithms/random functions         | Caused by flawed design, convenience sampling, or human judgment |\n",
    "| **Example**            | Randomly selecting 100 customers from a database of 10,000          | Only surveying urban users in a nationwide customer survey       |\n",
    "| **Detection**          | Distribution matches the population                                 | Skewed metrics, abnormal variance, or disproportionate groups    |\n",
    "| **Resolution**         | Use `random.sample()` or `np.random.choice()` with appropriate seed | Re-design sampling strategy, stratified sampling, or weighting   |\n"
   ]
  },
  {
   "cell_type": "markdown",
   "id": "0fa99f25",
   "metadata": {},
   "source": [
    "### Python Example\n",
    "\n",
    "import pandas as pd\n",
    "\n",
    "df = pd.read_csv(\"shoe_sales.csv\")\n",
    "sample = df.sample(n=10, random_state=42)  # Ensures reproducibility\n"
   ]
  },
  {
   "cell_type": "markdown",
   "id": "5b717324",
   "metadata": {},
   "source": [
    "### Interview Questions & Model Answers\n",
    "\n",
    "| **Question**                                    | **Model Answer**                                                                    |\n",
    "| ----------------------------------------------- | ----------------------------------------------------------------------------------- |\n",
    "| What is random sampling?                        | It's a method that ensures every unit has an **equal chance** of being chosen.      |\n",
    "| Why is sample bias problematic in analysis?     | It leads to **non-generalizable conclusions** and **misrepresents the population**. |\n",
    "| How can you detect sample bias?                 | Compare sample distributions to the population or use exploratory data analysis.    |\n",
    "| What methods can prevent sample bias?           | Use **random**, **stratified**, or **systematic** sampling techniques.              |\n",
    "| Is random sampling always enough to avoid bias? | Not always. **Execution** matters; poor implementation can still introduce bias.    |\n"
   ]
  },
  {
   "cell_type": "markdown",
   "id": "33b9469f",
   "metadata": {},
   "source": []
  }
 ],
 "metadata": {
  "language_info": {
   "name": "python"
  }
 },
 "nbformat": 4,
 "nbformat_minor": 5
}
