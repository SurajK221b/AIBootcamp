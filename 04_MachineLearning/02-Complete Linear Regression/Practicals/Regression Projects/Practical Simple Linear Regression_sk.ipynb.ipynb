{
 "cells": [
  {
   "cell_type": "markdown",
   "id": "360442a4",
   "metadata": {},
   "source": [
    "# Simple Linear Regression - Complete Workflow Analysis\n",
    "\n",
    "## Overview\n",
    "This notebook demonstrates a complete simple linear regression implementation using height-weight data. We'll build a model to predict height based on weight using both Scikit-learn and Statsmodels.\n",
    "\n",
    "## Steps Covered:\n",
    "1. **Data Loading & Exploration**\n",
    "2. **Exploratory Data Analysis (EDA)**\n",
    "3. **Data Preparation**\n",
    "4. **Feature Scaling**\n",
    "5. **Model Training**\n",
    "6. **Model Evaluation**\n",
    "7. **Statistical Analysis with OLS**\n",
    "\n",
    "## Learning Objectives:\n",
    "- Understand the complete machine learning pipeline\n",
    "- Learn proper data preprocessing techniques\n",
    "- Implement linear regression using two different libraries\n",
    "- Evaluate model performance using multiple metrics\n",
    "- Understand the importance of data scaling and train-test split\n",
    "\n",
    "---"
   ]
  },
  {
   "cell_type": "code",
   "execution_count": 235,
   "id": "63e4d16d",
   "metadata": {},
   "outputs": [],
   "source": [
    "## import libraries\n",
    "import pandas as pd\n",
    "import matplotlib.pyplot as plt\n",
    "import numpy as np\n",
    "\n",
    "## Set up Jupyter notebook for inline plotting\n",
    "%matplotlib inline "
   ]
  },
  {
   "cell_type": "markdown",
   "id": "d0bc3011",
   "metadata": {},
   "source": [
    "## Step 1: Import Libraries and Setup\n",
    "**Purpose**: Import all necessary libraries for data manipulation, visualization, and machine learning"
   ]
  },
  {
   "cell_type": "code",
   "execution_count": 236,
   "id": "f1513fc3",
   "metadata": {},
   "outputs": [
    {
     "data": {
      "text/html": [
       "<div>\n",
       "<style scoped>\n",
       "    .dataframe tbody tr th:only-of-type {\n",
       "        vertical-align: middle;\n",
       "    }\n",
       "\n",
       "    .dataframe tbody tr th {\n",
       "        vertical-align: top;\n",
       "    }\n",
       "\n",
       "    .dataframe thead th {\n",
       "        text-align: right;\n",
       "    }\n",
       "</style>\n",
       "<table border=\"1\" class=\"dataframe\">\n",
       "  <thead>\n",
       "    <tr style=\"text-align: right;\">\n",
       "      <th></th>\n",
       "      <th>Weight</th>\n",
       "      <th>Height</th>\n",
       "    </tr>\n",
       "  </thead>\n",
       "  <tbody>\n",
       "    <tr>\n",
       "      <th>0</th>\n",
       "      <td>45</td>\n",
       "      <td>120</td>\n",
       "    </tr>\n",
       "    <tr>\n",
       "      <th>1</th>\n",
       "      <td>58</td>\n",
       "      <td>135</td>\n",
       "    </tr>\n",
       "    <tr>\n",
       "      <th>2</th>\n",
       "      <td>48</td>\n",
       "      <td>123</td>\n",
       "    </tr>\n",
       "    <tr>\n",
       "      <th>3</th>\n",
       "      <td>60</td>\n",
       "      <td>145</td>\n",
       "    </tr>\n",
       "    <tr>\n",
       "      <th>4</th>\n",
       "      <td>70</td>\n",
       "      <td>160</td>\n",
       "    </tr>\n",
       "  </tbody>\n",
       "</table>\n",
       "</div>"
      ],
      "text/plain": [
       "   Weight  Height\n",
       "0      45     120\n",
       "1      58     135\n",
       "2      48     123\n",
       "3      60     145\n",
       "4      70     160"
      ]
     },
     "execution_count": 236,
     "metadata": {},
     "output_type": "execute_result"
    }
   ],
   "source": [
    "df = pd.read_csv('height-weight.csv')\n",
    "df.head()"
   ]
  },
  {
   "cell_type": "markdown",
   "id": "6d2eb407",
   "metadata": {},
   "source": [
    "## Step 2: Data Loading and Initial Exploration\n",
    "**Purpose**: Load the dataset and examine its structure and first few rows"
   ]
  },
  {
   "cell_type": "code",
   "execution_count": 237,
   "id": "c9d1b500",
   "metadata": {},
   "outputs": [
    {
     "data": {
      "image/png": "[encoded data removed]",
      "text/plain": [
       "<Figure size 640x480 with 1 Axes>"
      ]
     },
     "metadata": {},
     "output_type": "display_data"
    }
   ],
   "source": [
    "## scatter plot for height vs weight\n",
    "plt.scatter(df['Weight'], df['Height'])\n",
    "plt.xlabel('Weight (lbs)')\n",
    "plt.ylabel('Height (inches)')\n",
    "plt.title('Height vs Weight Scatter Plot')\n",
    "plt.show()"
   ]
  },
  {
   "cell_type": "markdown",
   "id": "2db24807",
   "metadata": {},
   "source": [
    "## Step 3: Exploratory Data Analysis (EDA)\n",
    "**Purpose**: Visualize the relationship between variables and understand the data distribution"
   ]
  },
  {
   "cell_type": "code",
   "execution_count": 238,
   "id": "d93c9ed8",
   "metadata": {},
   "outputs": [
    {
     "data": {
      "text/plain": [
       "np.float64(0.9311418034329901)"
      ]
     },
     "execution_count": 238,
     "metadata": {},
     "output_type": "execute_result"
    }
   ],
   "source": [
    "## finding correlation\n",
    "correlation = df['Weight'].corr(df['Height'])\n",
    "correlation"
   ]
  },
  {
   "cell_type": "code",
   "execution_count": 239,
   "id": "8254650f",
   "metadata": {},
   "outputs": [
    {
     "data": {
      "text/html": [
       "<div>\n",
       "<style scoped>\n",
       "    .dataframe tbody tr th:only-of-type {\n",
       "        vertical-align: middle;\n",
       "    }\n",
       "\n",
       "    .dataframe tbody tr th {\n",
       "        vertical-align: top;\n",
       "    }\n",
       "\n",
       "    .dataframe thead th {\n",
       "        text-align: right;\n",
       "    }\n",
       "</style>\n",
       "<table border=\"1\" class=\"dataframe\">\n",
       "  <thead>\n",
       "    <tr style=\"text-align: right;\">\n",
       "      <th></th>\n",
       "      <th>Weight</th>\n",
       "      <th>Height</th>\n",
       "    </tr>\n",
       "  </thead>\n",
       "  <tbody>\n",
       "    <tr>\n",
       "      <th>Weight</th>\n",
       "      <td>1.000000</td>\n",
       "      <td>0.931142</td>\n",
       "    </tr>\n",
       "    <tr>\n",
       "      <th>Height</th>\n",
       "      <td>0.931142</td>\n",
       "      <td>1.000000</td>\n",
       "    </tr>\n",
       "  </tbody>\n",
       "</table>\n",
       "</div>"
      ],
      "text/plain": [
       "          Weight    Height\n",
       "Weight  1.000000  0.931142\n",
       "Height  0.931142  1.000000"
      ]
     },
     "execution_count": 239,
     "metadata": {},
     "output_type": "execute_result"
    }
   ],
   "source": [
    "df.corr()"
   ]
  },
  {
   "cell_type": "code",
   "execution_count": 240,
   "id": "08cccbb0",
   "metadata": {},
   "outputs": [
    {
     "data": {
      "text/plain": [
       "<Axes: xlabel='Weight', ylabel='Height'>"
      ]
     },
     "execution_count": 240,
     "metadata": {},
     "output_type": "execute_result"
    },
    {
     "data": {
      "image/png": "[encoded data removed]",
      "text/plain": [
       "<Figure size 640x480 with 1 Axes>"
      ]
     },
     "metadata": {},
     "output_type": "display_data"
    }
   ],
   "source": [
    "## seaborn scatter plot\n",
    "import seaborn as sns\n",
    "sns.scatterplot(x='Weight', y='Height', data=df)\n"
   ]
  },
  {
   "cell_type": "code",
   "execution_count": 241,
   "id": "7e06c88c",
   "metadata": {},
   "outputs": [
    {
     "data": {
      "text/plain": [
       "<seaborn.axisgrid.PairGrid at 0x1ffc442ef10>"
      ]
     },
     "execution_count": 241,
     "metadata": {},
     "output_type": "execute_result"
    },
    {
     "data": {
      "image/png": "[encoded data removed]",
      "text/plain": [
       "<Figure size 500x500 with 6 Axes>"
      ]
     },
     "metadata": {},
     "output_type": "display_data"
    }
   ],
   "source": [
    "sns.pairplot(df)"
   ]
  },
  {
   "cell_type": "markdown",
   "id": "3c04b4cd",
   "metadata": {},
   "source": [
    "## Step 4: Data Preparation\n",
    "**Purpose**: Define independent (X) and dependent (y) variables with correct data structures for ML algorithms"
   ]
  },
  {
   "cell_type": "code",
   "execution_count": 242,
   "id": "06e655d9",
   "metadata": {},
   "outputs": [
    {
     "data": {
      "text/plain": [
       "(    Weight\n",
       " 0       45\n",
       " 1       58\n",
       " 2       48\n",
       " 3       60\n",
       " 4       70\n",
       " 5       78\n",
       " 6       80\n",
       " 7       90\n",
       " 8       95\n",
       " 9       78\n",
       " 10      82\n",
       " 11      95\n",
       " 12     105\n",
       " 13     100\n",
       " 14      85\n",
       " 15      78\n",
       " 16      50\n",
       " 17      65\n",
       " 18      76\n",
       " 19      87\n",
       " 20      45\n",
       " 21      56\n",
       " 22      72,\n",
       " pandas.core.frame.DataFrame,\n",
       " 0     120\n",
       " 1     135\n",
       " 2     123\n",
       " 3     145\n",
       " 4     160\n",
       " 5     162\n",
       " 6     163\n",
       " 7     175\n",
       " 8     182\n",
       " 9     170\n",
       " 10    176\n",
       " 11    182\n",
       " 12    175\n",
       " 13    183\n",
       " 14    170\n",
       " 15    177\n",
       " 16    140\n",
       " 17    159\n",
       " 18    150\n",
       " 19    167\n",
       " 20    129\n",
       " 21    140\n",
       " 22    160\n",
       " Name: Height, dtype: int64,\n",
       " pandas.core.series.Series)"
      ]
     },
     "execution_count": 242,
     "metadata": {},
     "output_type": "execute_result"
    }
   ],
   "source": [
    "## Find independent and dependent variables\n",
    "X=df[['Weight']]  # Independent variable (Weight) Independent variable (Weight) should be a 2D array or dataframe for regression\n",
    "y = df['Height']  # Dependent variable (Height). Dependent variable (Height) should be a 1D array or series\n",
    "\n",
    "X,type(X), y, type(y)"
   ]
  },
  {
   "cell_type": "code",
   "execution_count": 243,
   "id": "85df1701",
   "metadata": {},
   "outputs": [
    {
     "data": {
      "text/plain": [
       "(pandas.core.frame.DataFrame, pandas.core.series.Series)"
      ]
     },
     "execution_count": 243,
     "metadata": {},
     "output_type": "execute_result"
    }
   ],
   "source": [
    "type(X), type(y)"
   ]
  },
  {
   "cell_type": "code",
   "execution_count": 244,
   "id": "2f884446",
   "metadata": {},
   "outputs": [
    {
     "data": {
      "text/plain": [
       "(23,)"
      ]
     },
     "execution_count": 244,
     "metadata": {},
     "output_type": "execute_result"
    }
   ],
   "source": [
    "X_series=df['Weight'] ## this is incorrect, it should be a 2D array or dataframe\n",
    "np.array(X_series).shape"
   ]
  },
  {
   "cell_type": "code",
   "execution_count": 245,
   "id": "c2cb84d4",
   "metadata": {},
   "outputs": [
    {
     "data": {
      "text/plain": [
       "(23,)"
      ]
     },
     "execution_count": 245,
     "metadata": {},
     "output_type": "execute_result"
    }
   ],
   "source": [
    "np.array(y).shape"
   ]
  },
  {
   "cell_type": "code",
   "execution_count": 246,
   "id": "eeff819c",
   "metadata": {},
   "outputs": [],
   "source": [
    "## Train and Test Split\n",
    "from sklearn.model_selection import train_test_split\n",
    "X_train, X_test, y_train, y_test = train_test_split(X, y, test_size=0.25, random_state=42)"
   ]
  },
  {
   "cell_type": "code",
   "execution_count": 247,
   "id": "7f07a1af",
   "metadata": {},
   "outputs": [
    {
     "data": {
      "text/plain": [
       "((17, 1), (6, 1), (17,), (6,))"
      ]
     },
     "execution_count": 247,
     "metadata": {},
     "output_type": "execute_result"
    }
   ],
   "source": [
    "X_train.shape, X_test.shape, y_train.shape, y_test.shape"
   ]
  },
  {
   "cell_type": "markdown",
   "id": "3f2368f9",
   "metadata": {},
   "source": [
    "## Step 5: Train-Test Split\n",
    "**Purpose**: Split data into training and testing sets to evaluate model performance on unseen data\n",
    "- **Training Set (75%)**: Used to train the model\n",
    "- **Testing Set (25%)**: Used to evaluate model performance\n",
    "- **random_state=42**: Ensures reproducible results"
   ]
  },
  {
   "cell_type": "code",
   "execution_count": 248,
   "id": "4310eb05",
   "metadata": {},
   "outputs": [],
   "source": [
    "## Standardize the data\n",
    "from sklearn.preprocessing import StandardScaler"
   ]
  },
  {
   "cell_type": "markdown",
   "id": "ebe1710f",
   "metadata": {},
   "source": [
    "## Step 6: Feature Scaling (Standardization)\n",
    "**Purpose**: Scale features to have mean=0 and std=1 for better algorithm performance\n",
    "- **Why needed**: Ensures all features contribute equally to the model\n",
    "- **StandardScaler**: Transforms data to standard normal distribution\n",
    "- **Important**: Fit on training data, transform both training and test data"
   ]
  },
  {
   "cell_type": "code",
   "execution_count": 249,
   "id": "b98a5191",
   "metadata": {},
   "outputs": [
    {
     "data": {
      "text/plain": [
       "array([[-0.87662801],\n",
       "       [ 1.66773133],\n",
       "       [ 0.33497168],\n",
       "       [-1.48242785],\n",
       "       [ 1.36483141],\n",
       "       [-1.6641678 ],\n",
       "       [-0.75546804],\n",
       "       [-0.1496682 ],\n",
       "       [ 0.21381171],\n",
       "       [-1.36126788],\n",
       "       [-0.99778797],\n",
       "       [-0.02850823],\n",
       "       [ 1.06193149],\n",
       "       [ 0.57729161],\n",
       "       [ 0.75903157],\n",
       "       [ 0.88019153],\n",
       "       [ 0.45613165]])"
      ]
     },
     "execution_count": 249,
     "metadata": {},
     "output_type": "execute_result"
    }
   ],
   "source": [
    "scalar = StandardScaler()\n",
    "scalar.fit_transform(X_train)"
   ]
  },
  {
   "cell_type": "code",
   "execution_count": 250,
   "id": "0a923907",
   "metadata": {},
   "outputs": [
    {
     "data": {
      "text/plain": [
       "array([[-0.87662801],\n",
       "       [ 1.66773133],\n",
       "       [ 0.33497168],\n",
       "       [-1.48242785],\n",
       "       [ 1.36483141],\n",
       "       [-1.6641678 ],\n",
       "       [-0.75546804],\n",
       "       [-0.1496682 ],\n",
       "       [ 0.21381171],\n",
       "       [-1.36126788],\n",
       "       [-0.99778797],\n",
       "       [-0.02850823],\n",
       "       [ 1.06193149],\n",
       "       [ 0.57729161],\n",
       "       [ 0.75903157],\n",
       "       [ 0.88019153],\n",
       "       [ 0.45613165]])"
      ]
     },
     "execution_count": 250,
     "metadata": {},
     "output_type": "execute_result"
    }
   ],
   "source": [
    "X_train = scalar.fit_transform(X_train)  ## for train we use fit_transform because we want to fit the scaler to the training data and transform it\n",
    "X_train"
   ]
  },
  {
   "cell_type": "code",
   "execution_count": 251,
   "id": "38400148",
   "metadata": {},
   "outputs": [
    {
     "data": {
      "text/plain": [
       "array([[ 0.33497168],\n",
       "       [ 0.33497168],\n",
       "       [-1.6641678 ],\n",
       "       [ 1.36483141],\n",
       "       [-0.45256812],\n",
       "       [ 1.97063125]])"
      ]
     },
     "execution_count": 251,
     "metadata": {},
     "output_type": "execute_result"
    }
   ],
   "source": [
    "X_test = scalar.transform(X_test) ## for test we use transform because we want to use the same scaling as the training data\n",
    "X_test"
   ]
  },
  {
   "cell_type": "code",
   "execution_count": 252,
   "id": "6340ab98",
   "metadata": {},
   "outputs": [],
   "source": [
    "## Why we use fit_transform for training data and transform for test data?\n",
    "## Is it cause data leakage?\n",
    "# Yes, it is related to data leakage.\n",
    "# When we fit the scaler to the training data, it learns the mean and standard deviation of the training data.\n",
    "# When we transform the test data, we use the same mean and standard deviation learned from the training data to scale the test data.\n",
    "# This ensures that the test data is scaled in the same way as the training data, which is crucial for the model to make accurate predictions.\n",
    "## But if we use fit_transform on the test data, it will learn the mean and standard deviation of the test data, which is incorrect because the model has not seen this data during training. This can lead to poor performance and inaccurate predictions. "
   ]
  },
  {
   "cell_type": "code",
   "execution_count": 253,
   "id": "6ac534ab",
   "metadata": {},
   "outputs": [],
   "source": [
    "## Apply simple linear regression\n",
    "from sklearn.linear_model import LinearRegression"
   ]
  },
  {
   "cell_type": "markdown",
   "id": "605fc55f",
   "metadata": {},
   "source": [
    "## Step 7: Model Training with Scikit-learn\n",
    "**Purpose**: Train a linear regression model to find the best-fit line\n",
    "- **LinearRegression**: Implements Ordinary Least Squares (OLS)\n",
    "- **n_jobs=-1**: Uses all available CPU cores for parallel processing\n",
    "- **Goal**: Find optimal coefficients (slope) and intercept"
   ]
  },
  {
   "cell_type": "code",
   "execution_count": 254,
   "id": "46ba0be8",
   "metadata": {},
   "outputs": [],
   "source": [
    "regression = LinearRegression(n_jobs=-1)"
   ]
  },
  {
   "cell_type": "code",
   "execution_count": 255,
   "id": "3f468fd6",
   "metadata": {},
   "outputs": [
    {
     "data": {
      "text/html": [
       "<style>#sk-container-id-9 {\n",
       "  /* Definition of color scheme common for light and dark mode */\n",
       "  --sklearn-color-text: #000;\n",
       "  --sklearn-color-text-muted: #666;\n",
       "  --sklearn-color-line: gray;\n",
       "  /* Definition of color scheme for unfitted estimators */\n",
       "  --sklearn-color-unfitted-level-0: #fff5e6;\n",
       "  --sklearn-color-unfitted-level-1: #f6e4d2;\n",
       "  --sklearn-color-unfitted-level-2: #ffe0b3;\n",
       "  --sklearn-color-unfitted-level-3: chocolate;\n",
       "  /* Definition of color scheme for fitted estimators */\n",
       "  --sklearn-color-fitted-level-0: #f0f8ff;\n",
       "  --sklearn-color-fitted-level-1: #d4ebff;\n",
       "  --sklearn-color-fitted-level-2: #b3dbfd;\n",
       "  --sklearn-color-fitted-level-3: cornflowerblue;\n",
       "\n",
       "  /* Specific color for light theme */\n",
       "  --sklearn-color-text-on-default-background: var(--sg-text-color, var(--theme-code-foreground, var(--jp-content-font-color1, black)));\n",
       "  --sklearn-color-background: var(--sg-background-color, var(--theme-background, var(--jp-layout-color0, white)));\n",
       "  --sklearn-color-border-box: var(--sg-text-color, var(--theme-code-foreground, var(--jp-content-font-color1, black)));\n",
       "  --sklearn-color-icon: #696969;\n",
       "\n",
       "  @media (prefers-color-scheme: dark) {\n",
       "    /* Redefinition of color scheme for dark theme */\n",
       "    --sklearn-color-text-on-default-background: var(--sg-text-color, var(--theme-code-foreground, var(--jp-content-font-color1, white)));\n",
       "    --sklearn-color-background: var(--sg-background-color, var(--theme-background, var(--jp-layout-color0, #111)));\n",
       "    --sklearn-color-border-box: var(--sg-text-color, var(--theme-code-foreground, var(--jp-content-font-color1, white)));\n",
       "    --sklearn-color-icon: #878787;\n",
       "  }\n",
       "}\n",
       "\n",
       "#sk-container-id-9 {\n",
       "  color: var(--sklearn-color-text);\n",
       "}\n",
       "\n",
       "#sk-container-id-9 pre {\n",
       "  padding: 0;\n",
       "}\n",
       "\n",
       "#sk-container-id-9 input.sk-hidden--visually {\n",
       "  border: 0;\n",
       "  clip: rect(1px 1px 1px 1px);\n",
       "  clip: rect(1px, 1px, 1px, 1px);\n",
       "  height: 1px;\n",
       "  margin: -1px;\n",
       "  overflow: hidden;\n",
       "  padding: 0;\n",
       "  position: absolute;\n",
       "  width: 1px;\n",
       "}\n",
       "\n",
       "#sk-container-id-9 div.sk-dashed-wrapped {\n",
       "  border: 1px dashed var(--sklearn-color-line);\n",
       "  margin: 0 0.4em 0.5em 0.4em;\n",
       "  box-sizing: border-box;\n",
       "  padding-bottom: 0.4em;\n",
       "  background-color: var(--sklearn-color-background);\n",
       "}\n",
       "\n",
       "#sk-container-id-9 div.sk-container {\n",
       "  /* jupyter's `normalize.less` sets `[hidden] { display: none; }`\n",
       "     but bootstrap.min.css set `[hidden] { display: none !important; }`\n",
       "     so we also need the `!important` here to be able to override the\n",
       "     default hidden behavior on the sphinx rendered scikit-learn.org.\n",
       "     See: https://github.com/scikit-learn/scikit-learn/issues/21755 */\n",
       "  display: inline-block !important;\n",
       "  position: relative;\n",
       "}\n",
       "\n",
       "#sk-container-id-9 div.sk-text-repr-fallback {\n",
       "  display: none;\n",
       "}\n",
       "\n",
       "div.sk-parallel-item,\n",
       "div.sk-serial,\n",
       "div.sk-item {\n",
       "  /* draw centered vertical line to link estimators */\n",
       "  background-image: linear-gradient(var(--sklearn-color-text-on-default-background), var(--sklearn-color-text-on-default-background));\n",
       "  background-size: 2px 100%;\n",
       "  background-repeat: no-repeat;\n",
       "  background-position: center center;\n",
       "}\n",
       "\n",
       "/* Parallel-specific style estimator block */\n",
       "\n",
       "#sk-container-id-9 div.sk-parallel-item::after {\n",
       "  content: \"\";\n",
       "  width: 100%;\n",
       "  border-bottom: 2px solid var(--sklearn-color-text-on-default-background);\n",
       "  flex-grow: 1;\n",
       "}\n",
       "\n",
       "#sk-container-id-9 div.sk-parallel {\n",
       "  display: flex;\n",
       "  align-items: stretch;\n",
       "  justify-content: center;\n",
       "  background-color: var(--sklearn-color-background);\n",
       "  position: relative;\n",
       "}\n",
       "\n",
       "#sk-container-id-9 div.sk-parallel-item {\n",
       "  display: flex;\n",
       "  flex-direction: column;\n",
       "}\n",
       "\n",
       "#sk-container-id-9 div.sk-parallel-item:first-child::after {\n",
       "  align-self: flex-end;\n",
       "  width: 50%;\n",
       "}\n",
       "\n",
       "#sk-container-id-9 div.sk-parallel-item:last-child::after {\n",
       "  align-self: flex-start;\n",
       "  width: 50%;\n",
       "}\n",
       "\n",
       "#sk-container-id-9 div.sk-parallel-item:only-child::after {\n",
       "  width: 0;\n",
       "}\n",
       "\n",
       "/* Serial-specific style estimator block */\n",
       "\n",
       "#sk-container-id-9 div.sk-serial {\n",
       "  display: flex;\n",
       "  flex-direction: column;\n",
       "  align-items: center;\n",
       "  background-color: var(--sklearn-color-background);\n",
       "  padding-right: 1em;\n",
       "  padding-left: 1em;\n",
       "}\n",
       "\n",
       "\n",
       "/* Toggleable style: style used for estimator/Pipeline/ColumnTransformer box that is\n",
       "clickable and can be expanded/collapsed.\n",
       "- Pipeline and ColumnTransformer use this feature and define the default style\n",
       "- Estimators will overwrite some part of the style using the `sk-estimator` class\n",
       "*/\n",
       "\n",
       "/* Pipeline and ColumnTransformer style (default) */\n",
       "\n",
       "#sk-container-id-9 div.sk-toggleable {\n",
       "  /* Default theme specific background. It is overwritten whether we have a\n",
       "  specific estimator or a Pipeline/ColumnTransformer */\n",
       "  background-color: var(--sklearn-color-background);\n",
       "}\n",
       "\n",
       "/* Toggleable label */\n",
       "#sk-container-id-9 label.sk-toggleable__label {\n",
       "  cursor: pointer;\n",
       "  display: flex;\n",
       "  width: 100%;\n",
       "  margin-bottom: 0;\n",
       "  padding: 0.5em;\n",
       "  box-sizing: border-box;\n",
       "  text-align: center;\n",
       "  align-items: start;\n",
       "  justify-content: space-between;\n",
       "  gap: 0.5em;\n",
       "}\n",
       "\n",
       "#sk-container-id-9 label.sk-toggleable__label .caption {\n",
       "  font-size: 0.6rem;\n",
       "  font-weight: lighter;\n",
       "  color: var(--sklearn-color-text-muted);\n",
       "}\n",
       "\n",
       "#sk-container-id-9 label.sk-toggleable__label-arrow:before {\n",
       "  /* Arrow on the left of the label */\n",
       "  content: \"▸\";\n",
       "  float: left;\n",
       "  margin-right: 0.25em;\n",
       "  color: var(--sklearn-color-icon);\n",
       "}\n",
       "\n",
       "#sk-container-id-9 label.sk-toggleable__label-arrow:hover:before {\n",
       "  color: var(--sklearn-color-text);\n",
       "}\n",
       "\n",
       "/* Toggleable content - dropdown */\n",
       "\n",
       "#sk-container-id-9 div.sk-toggleable__content {\n",
       "  display: none;\n",
       "  text-align: left;\n",
       "  /* unfitted */\n",
       "  background-color: var(--sklearn-color-unfitted-level-0);\n",
       "}\n",
       "\n",
       "#sk-container-id-9 div.sk-toggleable__content.fitted {\n",
       "  /* fitted */\n",
       "  background-color: var(--sklearn-color-fitted-level-0);\n",
       "}\n",
       "\n",
       "#sk-container-id-9 div.sk-toggleable__content pre {\n",
       "  margin: 0.2em;\n",
       "  border-radius: 0.25em;\n",
       "  color: var(--sklearn-color-text);\n",
       "  /* unfitted */\n",
       "  background-color: var(--sklearn-color-unfitted-level-0);\n",
       "}\n",
       "\n",
       "#sk-container-id-9 div.sk-toggleable__content.fitted pre {\n",
       "  /* unfitted */\n",
       "  background-color: var(--sklearn-color-fitted-level-0);\n",
       "}\n",
       "\n",
       "#sk-container-id-9 input.sk-toggleable__control:checked~div.sk-toggleable__content {\n",
       "  /* Expand drop-down */\n",
       "  display: block;\n",
       "  width: 100%;\n",
       "  overflow: visible;\n",
       "}\n",
       "\n",
       "#sk-container-id-9 input.sk-toggleable__control:checked~label.sk-toggleable__label-arrow:before {\n",
       "  content: \"▾\";\n",
       "}\n",
       "\n",
       "/* Pipeline/ColumnTransformer-specific style */\n",
       "\n",
       "#sk-container-id-9 div.sk-label input.sk-toggleable__control:checked~label.sk-toggleable__label {\n",
       "  color: var(--sklearn-color-text);\n",
       "  background-color: var(--sklearn-color-unfitted-level-2);\n",
       "}\n",
       "\n",
       "#sk-container-id-9 div.sk-label.fitted input.sk-toggleable__control:checked~label.sk-toggleable__label {\n",
       "  background-color: var(--sklearn-color-fitted-level-2);\n",
       "}\n",
       "\n",
       "/* Estimator-specific style */\n",
       "\n",
       "/* Colorize estimator box */\n",
       "#sk-container-id-9 div.sk-estimator input.sk-toggleable__control:checked~label.sk-toggleable__label {\n",
       "  /* unfitted */\n",
       "  background-color: var(--sklearn-color-unfitted-level-2);\n",
       "}\n",
       "\n",
       "#sk-container-id-9 div.sk-estimator.fitted input.sk-toggleable__control:checked~label.sk-toggleable__label {\n",
       "  /* fitted */\n",
       "  background-color: var(--sklearn-color-fitted-level-2);\n",
       "}\n",
       "\n",
       "#sk-container-id-9 div.sk-label label.sk-toggleable__label,\n",
       "#sk-container-id-9 div.sk-label label {\n",
       "  /* The background is the default theme color */\n",
       "  color: var(--sklearn-color-text-on-default-background);\n",
       "}\n",
       "\n",
       "/* On hover, darken the color of the background */\n",
       "#sk-container-id-9 div.sk-label:hover label.sk-toggleable__label {\n",
       "  color: var(--sklearn-color-text);\n",
       "  background-color: var(--sklearn-color-unfitted-level-2);\n",
       "}\n",
       "\n",
       "/* Label box, darken color on hover, fitted */\n",
       "#sk-container-id-9 div.sk-label.fitted:hover label.sk-toggleable__label.fitted {\n",
       "  color: var(--sklearn-color-text);\n",
       "  background-color: var(--sklearn-color-fitted-level-2);\n",
       "}\n",
       "\n",
       "/* Estimator label */\n",
       "\n",
       "#sk-container-id-9 div.sk-label label {\n",
       "  font-family: monospace;\n",
       "  font-weight: bold;\n",
       "  display: inline-block;\n",
       "  line-height: 1.2em;\n",
       "}\n",
       "\n",
       "#sk-container-id-9 div.sk-label-container {\n",
       "  text-align: center;\n",
       "}\n",
       "\n",
       "/* Estimator-specific */\n",
       "#sk-container-id-9 div.sk-estimator {\n",
       "  font-family: monospace;\n",
       "  border: 1px dotted var(--sklearn-color-border-box);\n",
       "  border-radius: 0.25em;\n",
       "  box-sizing: border-box;\n",
       "  margin-bottom: 0.5em;\n",
       "  /* unfitted */\n",
       "  background-color: var(--sklearn-color-unfitted-level-0);\n",
       "}\n",
       "\n",
       "#sk-container-id-9 div.sk-estimator.fitted {\n",
       "  /* fitted */\n",
       "  background-color: var(--sklearn-color-fitted-level-0);\n",
       "}\n",
       "\n",
       "/* on hover */\n",
       "#sk-container-id-9 div.sk-estimator:hover {\n",
       "  /* unfitted */\n",
       "  background-color: var(--sklearn-color-unfitted-level-2);\n",
       "}\n",
       "\n",
       "#sk-container-id-9 div.sk-estimator.fitted:hover {\n",
       "  /* fitted */\n",
       "  background-color: var(--sklearn-color-fitted-level-2);\n",
       "}\n",
       "\n",
       "/* Specification for estimator info (e.g. \"i\" and \"?\") */\n",
       "\n",
       "/* Common style for \"i\" and \"?\" */\n",
       "\n",
       ".sk-estimator-doc-link,\n",
       "a:link.sk-estimator-doc-link,\n",
       "a:visited.sk-estimator-doc-link {\n",
       "  float: right;\n",
       "  font-size: smaller;\n",
       "  line-height: 1em;\n",
       "  font-family: monospace;\n",
       "  background-color: var(--sklearn-color-background);\n",
       "  border-radius: 1em;\n",
       "  height: 1em;\n",
       "  width: 1em;\n",
       "  text-decoration: none !important;\n",
       "  margin-left: 0.5em;\n",
       "  text-align: center;\n",
       "  /* unfitted */\n",
       "  border: var(--sklearn-color-unfitted-level-1) 1pt solid;\n",
       "  color: var(--sklearn-color-unfitted-level-1);\n",
       "}\n",
       "\n",
       ".sk-estimator-doc-link.fitted,\n",
       "a:link.sk-estimator-doc-link.fitted,\n",
       "a:visited.sk-estimator-doc-link.fitted {\n",
       "  /* fitted */\n",
       "  border: var(--sklearn-color-fitted-level-1) 1pt solid;\n",
       "  color: var(--sklearn-color-fitted-level-1);\n",
       "}\n",
       "\n",
       "/* On hover */\n",
       "div.sk-estimator:hover .sk-estimator-doc-link:hover,\n",
       ".sk-estimator-doc-link:hover,\n",
       "div.sk-label-container:hover .sk-estimator-doc-link:hover,\n",
       ".sk-estimator-doc-link:hover {\n",
       "  /* unfitted */\n",
       "  background-color: var(--sklearn-color-unfitted-level-3);\n",
       "  color: var(--sklearn-color-background);\n",
       "  text-decoration: none;\n",
       "}\n",
       "\n",
       "div.sk-estimator.fitted:hover .sk-estimator-doc-link.fitted:hover,\n",
       ".sk-estimator-doc-link.fitted:hover,\n",
       "div.sk-label-container:hover .sk-estimator-doc-link.fitted:hover,\n",
       ".sk-estimator-doc-link.fitted:hover {\n",
       "  /* fitted */\n",
       "  background-color: var(--sklearn-color-fitted-level-3);\n",
       "  color: var(--sklearn-color-background);\n",
       "  text-decoration: none;\n",
       "}\n",
       "\n",
       "/* Span, style for the box shown on hovering the info icon */\n",
       ".sk-estimator-doc-link span {\n",
       "  display: none;\n",
       "  z-index: 9999;\n",
       "  position: relative;\n",
       "  font-weight: normal;\n",
       "  right: .2ex;\n",
       "  padding: .5ex;\n",
       "  margin: .5ex;\n",
       "  width: min-content;\n",
       "  min-width: 20ex;\n",
       "  max-width: 50ex;\n",
       "  color: var(--sklearn-color-text);\n",
       "  box-shadow: 2pt 2pt 4pt #999;\n",
       "  /* unfitted */\n",
       "  background: var(--sklearn-color-unfitted-level-0);\n",
       "  border: .5pt solid var(--sklearn-color-unfitted-level-3);\n",
       "}\n",
       "\n",
       ".sk-estimator-doc-link.fitted span {\n",
       "  /* fitted */\n",
       "  background: var(--sklearn-color-fitted-level-0);\n",
       "  border: var(--sklearn-color-fitted-level-3);\n",
       "}\n",
       "\n",
       ".sk-estimator-doc-link:hover span {\n",
       "  display: block;\n",
       "}\n",
       "\n",
       "/* \"?\"-specific style due to the `<a>` HTML tag */\n",
       "\n",
       "#sk-container-id-9 a.estimator_doc_link {\n",
       "  float: right;\n",
       "  font-size: 1rem;\n",
       "  line-height: 1em;\n",
       "  font-family: monospace;\n",
       "  background-color: var(--sklearn-color-background);\n",
       "  border-radius: 1rem;\n",
       "  height: 1rem;\n",
       "  width: 1rem;\n",
       "  text-decoration: none;\n",
       "  /* unfitted */\n",
       "  color: var(--sklearn-color-unfitted-level-1);\n",
       "  border: var(--sklearn-color-unfitted-level-1) 1pt solid;\n",
       "}\n",
       "\n",
       "#sk-container-id-9 a.estimator_doc_link.fitted {\n",
       "  /* fitted */\n",
       "  border: var(--sklearn-color-fitted-level-1) 1pt solid;\n",
       "  color: var(--sklearn-color-fitted-level-1);\n",
       "}\n",
       "\n",
       "/* On hover */\n",
       "#sk-container-id-9 a.estimator_doc_link:hover {\n",
       "  /* unfitted */\n",
       "  background-color: var(--sklearn-color-unfitted-level-3);\n",
       "  color: var(--sklearn-color-background);\n",
       "  text-decoration: none;\n",
       "}\n",
       "\n",
       "#sk-container-id-9 a.estimator_doc_link.fitted:hover {\n",
       "  /* fitted */\n",
       "  background-color: var(--sklearn-color-fitted-level-3);\n",
       "}\n",
       "\n",
       ".estimator-table summary {\n",
       "    padding: .5rem;\n",
       "    font-family: monospace;\n",
       "    cursor: pointer;\n",
       "}\n",
       "\n",
       ".estimator-table details[open] {\n",
       "    padding-left: 0.1rem;\n",
       "    padding-right: 0.1rem;\n",
       "    padding-bottom: 0.3rem;\n",
       "}\n",
       "\n",
       ".estimator-table .parameters-table {\n",
       "    margin-left: auto !important;\n",
       "    margin-right: auto !important;\n",
       "}\n",
       "\n",
       ".estimator-table .parameters-table tr:nth-child(odd) {\n",
       "    background-color: #fff;\n",
       "}\n",
       "\n",
       ".estimator-table .parameters-table tr:nth-child(even) {\n",
       "    background-color: #f6f6f6;\n",
       "}\n",
       "\n",
       ".estimator-table .parameters-table tr:hover {\n",
       "    background-color: #e0e0e0;\n",
       "}\n",
       "\n",
       ".estimator-table table td {\n",
       "    border: 1px solid rgba(106, 105, 104, 0.232);\n",
       "}\n",
       "\n",
       ".user-set td {\n",
       "    color:rgb(255, 94, 0);\n",
       "    text-align: left;\n",
       "}\n",
       "\n",
       ".user-set td.value pre {\n",
       "    color:rgb(255, 94, 0) !important;\n",
       "    background-color: transparent !important;\n",
       "}\n",
       "\n",
       ".default td {\n",
       "    color: black;\n",
       "    text-align: left;\n",
       "}\n",
       "\n",
       ".user-set td i,\n",
       ".default td i {\n",
       "    color: black;\n",
       "}\n",
       "\n",
       ".copy-paste-icon {\n",
       "    background-image: url(data:image/svg+xml;base64,PHN2ZyB4bWxucz0iaHR0cDovL3d3dy53My5vcmcvMjAwMC9zdmciIHZpZXdCb3g9IjAgMCA0NDggNTEyIj48IS0tIUZvbnQgQXdlc29tZSBGcmVlIDYuNy4yIGJ5IEBmb250YXdlc29tZSAtIGh0dHBzOi8vZm9udGF3ZXNvbWUuY29tIExpY2Vuc2UgLSBodHRwczovL2ZvbnRhd2Vzb21lLmNvbS9saWNlbnNlL2ZyZWUgQ29weXJpZ2h0IDIwMjUgRm9udGljb25zLCBJbmMuLS0+PHBhdGggZD0iTTIwOCAwTDMzMi4xIDBjMTIuNyAwIDI0LjkgNS4xIDMzLjkgMTQuMWw2Ny45IDY3LjljOSA5IDE0LjEgMjEuMiAxNC4xIDMzLjlMNDQ4IDMzNmMwIDI2LjUtMjEuNSA0OC00OCA0OGwtMTkyIDBjLTI2LjUgMC00OC0yMS41LTQ4LTQ4bDAtMjg4YzAtMjYuNSAyMS41LTQ4IDQ4LTQ4ek00OCAxMjhsODAgMCAwIDY0LTY0IDAgMCAyNTYgMTkyIDAgMC0zMiA2NCAwIDAgNDhjMCAyNi41LTIxLjUgNDgtNDggNDhMNDggNTEyYy0yNi41IDAtNDgtMjEuNS00OC00OEwwIDE3NmMwLTI2LjUgMjEuNS00OCA0OC00OHoiLz48L3N2Zz4=);\n",
       "    background-repeat: no-repeat;\n",
       "    background-size: 14px 14px;\n",
       "    background-position: 0;\n",
       "    display: inline-block;\n",
       "    width: 14px;\n",
       "    height: 14px;\n",
       "    cursor: pointer;\n",
       "}\n",
       "</style><body><div id=\"sk-container-id-9\" class=\"sk-top-container\"><div class=\"sk-text-repr-fallback\"><pre>LinearRegression(n_jobs=-1)</pre><b>In a Jupyter environment, please rerun this cell to show the HTML representation or trust the notebook. <br />On GitHub, the HTML representation is unable to render, please try loading this page with nbviewer.org.</b></div><div class=\"sk-container\" hidden><div class=\"sk-item\"><div class=\"sk-estimator fitted sk-toggleable\"><input class=\"sk-toggleable__control sk-hidden--visually\" id=\"sk-estimator-id-9\" type=\"checkbox\" checked><label for=\"sk-estimator-id-9\" class=\"sk-toggleable__label fitted sk-toggleable__label-arrow\"><div><div>LinearRegression</div></div><div><a class=\"sk-estimator-doc-link fitted\" rel=\"noreferrer\" target=\"_blank\" href=\"https://scikit-learn.org/1.7/modules/generated/sklearn.linear_model.LinearRegression.html\">?<span>Documentation for LinearRegression</span></a><span class=\"sk-estimator-doc-link fitted\">i<span>Fitted</span></span></div></label><div class=\"sk-toggleable__content fitted\" data-param-prefix=\"\">\n",
       "        <div class=\"estimator-table\">\n",
       "            <details>\n",
       "                <summary>Parameters</summary>\n",
       "                <table class=\"parameters-table\">\n",
       "                  <tbody>\n",
       "                    \n",
       "        <tr class=\"default\">\n",
       "            <td><i class=\"copy-paste-icon\"\n",
       "                 onclick=\"copyToClipboard('fit_intercept',\n",
       "                          this.parentElement.nextElementSibling)\"\n",
       "            ></i></td>\n",
       "            <td class=\"param\">fit_intercept&nbsp;</td>\n",
       "            <td class=\"value\">True</td>\n",
       "        </tr>\n",
       "    \n",
       "\n",
       "        <tr class=\"default\">\n",
       "            <td><i class=\"copy-paste-icon\"\n",
       "                 onclick=\"copyToClipboard('copy_X',\n",
       "                          this.parentElement.nextElementSibling)\"\n",
       "            ></i></td>\n",
       "            <td class=\"param\">copy_X&nbsp;</td>\n",
       "            <td class=\"value\">True</td>\n",
       "        </tr>\n",
       "    \n",
       "\n",
       "        <tr class=\"default\">\n",
       "            <td><i class=\"copy-paste-icon\"\n",
       "                 onclick=\"copyToClipboard('tol',\n",
       "                          this.parentElement.nextElementSibling)\"\n",
       "            ></i></td>\n",
       "            <td class=\"param\">tol&nbsp;</td>\n",
       "            <td class=\"value\">1e-06</td>\n",
       "        </tr>\n",
       "    \n",
       "\n",
       "        <tr class=\"user-set\">\n",
       "            <td><i class=\"copy-paste-icon\"\n",
       "                 onclick=\"copyToClipboard('n_jobs',\n",
       "                          this.parentElement.nextElementSibling)\"\n",
       "            ></i></td>\n",
       "            <td class=\"param\">n_jobs&nbsp;</td>\n",
       "            <td class=\"value\">-1</td>\n",
       "        </tr>\n",
       "    \n",
       "\n",
       "        <tr class=\"default\">\n",
       "            <td><i class=\"copy-paste-icon\"\n",
       "                 onclick=\"copyToClipboard('positive',\n",
       "                          this.parentElement.nextElementSibling)\"\n",
       "            ></i></td>\n",
       "            <td class=\"param\">positive&nbsp;</td>\n",
       "            <td class=\"value\">False</td>\n",
       "        </tr>\n",
       "    \n",
       "                  </tbody>\n",
       "                </table>\n",
       "            </details>\n",
       "        </div>\n",
       "    </div></div></div></div></div><script>function copyToClipboard(text, element) {\n",
       "    // Get the parameter prefix from the closest toggleable content\n",
       "    const toggleableContent = element.closest('.sk-toggleable__content');\n",
       "    const paramPrefix = toggleableContent ? toggleableContent.dataset.paramPrefix : '';\n",
       "    const fullParamName = paramPrefix ? `${paramPrefix}${text}` : text;\n",
       "\n",
       "    const originalStyle = element.style;\n",
       "    const computedStyle = window.getComputedStyle(element);\n",
       "    const originalWidth = computedStyle.width;\n",
       "    const originalHTML = element.innerHTML.replace('Copied!', '');\n",
       "\n",
       "    navigator.clipboard.writeText(fullParamName)\n",
       "        .then(() => {\n",
       "            element.style.width = originalWidth;\n",
       "            element.style.color = 'green';\n",
       "            element.innerHTML = \"Copied!\";\n",
       "\n",
       "            setTimeout(() => {\n",
       "                element.innerHTML = originalHTML;\n",
       "                element.style = originalStyle;\n",
       "            }, 2000);\n",
       "        })\n",
       "        .catch(err => {\n",
       "            console.error('Failed to copy:', err);\n",
       "            element.style.color = 'red';\n",
       "            element.innerHTML = \"Failed!\";\n",
       "            setTimeout(() => {\n",
       "                element.innerHTML = originalHTML;\n",
       "                element.style = originalStyle;\n",
       "            }, 2000);\n",
       "        });\n",
       "    return false;\n",
       "}\n",
       "\n",
       "document.querySelectorAll('.fa-regular.fa-copy').forEach(function(element) {\n",
       "    const toggleableContent = element.closest('.sk-toggleable__content');\n",
       "    const paramPrefix = toggleableContent ? toggleableContent.dataset.paramPrefix : '';\n",
       "    const paramName = element.parentElement.nextElementSibling.textContent.trim();\n",
       "    const fullParamName = paramPrefix ? `${paramPrefix}${paramName}` : paramName;\n",
       "\n",
       "    element.setAttribute('title', fullParamName);\n",
       "});\n",
       "</script></body>"
      ],
      "text/plain": [
       "LinearRegression(n_jobs=-1)"
      ]
     },
     "execution_count": 255,
     "metadata": {},
     "output_type": "execute_result"
    }
   ],
   "source": [
    "regression.fit(X_train,y_train)        "
   ]
  },
  {
   "cell_type": "code",
   "execution_count": 256,
   "id": "3f0e36cc",
   "metadata": {},
   "outputs": [
    {
     "name": "stdout",
     "output_type": "stream",
     "text": [
      "Slope: 17.29820570436306, Intercept: 156.47058823529412\n"
     ]
    }
   ],
   "source": [
    "regression.coef_   ## Find the slope of the line (coefficient)\n",
    "regression.intercept_  ## Find the y-intercept of the line\n",
    "\n",
    "print(f\"Slope: {regression.coef_[0]}, Intercept: {regression.intercept_}\")"
   ]
  },
  {
   "cell_type": "code",
   "execution_count": 257,
   "id": "6b1d8d86",
   "metadata": {},
   "outputs": [
    {
     "data": {
      "text/plain": [
       "<matplotlib.legend.Legend at 0x1ffc5da9310>"
      ]
     },
     "execution_count": 257,
     "metadata": {},
     "output_type": "execute_result"
    },
    {
     "data": {
      "image/png": "[encoded data removed]",
      "text/plain": [
       "<Figure size 640x480 with 1 Axes>"
      ]
     },
     "metadata": {},
     "output_type": "display_data"
    }
   ],
   "source": [
    "## Plot scatter plot for training data\n",
    "plt.scatter(X_train, y_train, color='blue', label='Training Data')\n",
    "## Plot the regression line\n",
    "plt.plot(X_train, regression.predict(X_train), color='red', label='Regression Line')\n",
    "plt.xlabel('Weight')\n",
    "plt.ylabel('Height')\n",
    "plt.title('Height vs Weight with Regression Line')\n",
    "plt.legend()"
   ]
  },
  {
   "cell_type": "markdown",
   "id": "07769422",
   "metadata": {},
   "source": [
    "## Step 8: Model Visualization\n",
    "**Purpose**: Visualize the fitted regression line with training data to assess model fit"
   ]
  },
  {
   "cell_type": "markdown",
   "id": "c3532389",
   "metadata": {},
   "source": [
    "### prediction of test data\n",
    "1. predicted height output= intercept +coef_(Weights)\n",
    "2. y_pred_test =156.470 + 17.29(X_test)"
   ]
  },
  {
   "cell_type": "code",
   "execution_count": 258,
   "id": "06d8109f",
   "metadata": {},
   "outputs": [],
   "source": [
    "## predicting the height for test data\n",
    "y_pred = regression.predict(X_test)"
   ]
  },
  {
   "cell_type": "markdown",
   "id": "e7ddf6cf",
   "metadata": {},
   "source": [
    "## Step 9: Making Predictions\n",
    "**Purpose**: Use the trained model to predict heights for test data\n",
    "- **Formula**: y = intercept + coefficient × X\n",
    "- **Test Data**: Previously unseen data for model evaluation"
   ]
  },
  {
   "cell_type": "code",
   "execution_count": 259,
   "id": "7b987eee",
   "metadata": {},
   "outputs": [
    {
     "data": {
      "text/plain": [
       "(array([[ 0.33497168],\n",
       "        [ 0.33497168],\n",
       "        [-1.6641678 ],\n",
       "        [ 1.36483141],\n",
       "        [-0.45256812],\n",
       "        [ 1.97063125]]),\n",
       " array([162.26499721, 162.26499721, 127.68347133, 180.07972266,\n",
       "        148.64197186, 190.55897293]))"
      ]
     },
     "execution_count": 259,
     "metadata": {},
     "output_type": "execute_result"
    }
   ],
   "source": [
    "X_test, y_pred"
   ]
  },
  {
   "cell_type": "code",
   "execution_count": 260,
   "id": "4786c6d5",
   "metadata": {},
   "outputs": [],
   "source": [
    "## Performance Metrics for Regression Models\n",
    "from sklearn.metrics import mean_absolute_error, mean_squared_error, r2_score"
   ]
  },
  {
   "cell_type": "markdown",
   "id": "d04545b6",
   "metadata": {},
   "source": [
    "## Step 10: Model Evaluation Metrics\n",
    "**Purpose**: Assess model performance using multiple regression metrics\n",
    "\n",
    "**Key Metrics:**\n",
    "- **MSE (Mean Squared Error)**: Average squared differences between actual and predicted values\n",
    "- **MAE (Mean Absolute Error)**: Average absolute differences\n",
    "- **RMSE (Root Mean Squared Error)**: Square root of MSE (same units as target)\n",
    "- **R² Score**: Proportion of variance explained by the model (0-1, higher is better)\n",
    "- **Adjusted R²**: R² adjusted for number of features (prevents overfitting)"
   ]
  },
  {
   "cell_type": "code",
   "execution_count": 261,
   "id": "f8b227e5",
   "metadata": {},
   "outputs": [],
   "source": [
    "mse = mean_squared_error(y_test, y_pred)\n",
    "mae = mean_absolute_error(y_test, y_pred)\n",
    "r2 = r2_score(y_test, y_pred)\n",
    "rmse = np.sqrt(mse)"
   ]
  },
  {
   "cell_type": "code",
   "execution_count": 262,
   "id": "cad5bfe5",
   "metadata": {},
   "outputs": [
    {
     "data": {
      "text/plain": [
       "(114.84069295228699,\n",
       " 9.66512588679501,\n",
       " 0.7360826717981276,\n",
       " np.float64(10.716374991212605))"
      ]
     },
     "execution_count": 262,
     "metadata": {},
     "output_type": "execute_result"
    }
   ],
   "source": [
    "mse, mae, r2, rmse"
   ]
  },
  {
   "cell_type": "code",
   "execution_count": 263,
   "id": "083c4315",
   "metadata": {},
   "outputs": [
    {
     "name": "stdout",
     "output_type": "stream",
     "text": [
      "R Squared: 0.7360826717981276\n"
     ]
    }
   ],
   "source": [
    "print('R Squared:', r2)"
   ]
  },
  {
   "cell_type": "code",
   "execution_count": 264,
   "id": "e7899194",
   "metadata": {},
   "outputs": [
    {
     "data": {
      "text/plain": [
       "0.6701033397476595"
      ]
     },
     "execution_count": 264,
     "metadata": {},
     "output_type": "execute_result"
    }
   ],
   "source": [
    "## Find the Adjusted R-squared\n",
    "n = len(y_test)  # Number of observations in the test set\n",
    "p = X_test.shape[1]  # Number of features in the test set\n",
    "adjusted_r2 = 1 - (1 - r2) * (n - 1) / (n - p - 1)\n",
    "adjusted_r2"
   ]
  },
  {
   "cell_type": "code",
   "execution_count": 265,
   "id": "faaf5b9a",
   "metadata": {},
   "outputs": [],
   "source": [
    "### OLS (Ordinary Least Squares) Regression\n",
    "# OLS is a method to estimate the parameters in a linear regression model by minimizing the sum\n",
    "# of the squared differences between the observed and predicted values.\n",
    "# It is the most common method used for fitting linear regression models.\n",
    "# OLS assumes that the relationship between the independent and dependent variables is linear,\n",
    "# and it provides the best linear unbiased estimates (BLUE) of the parameters under certain assumptions.\n",
    "\n",
    "import statsmodels.api as sm\n"
   ]
  },
  {
   "cell_type": "markdown",
   "id": "ad332ec3",
   "metadata": {},
   "source": [
    "## Step 11: Statistical Analysis with OLS (Ordinary Least Squares)\n",
    "**Purpose**: Get detailed statistical information about the regression model\n",
    "\n",
    "**Advantages of Statsmodels OLS over Scikit-learn:**\n",
    "- Provides detailed statistical summary\n",
    "- Shows p-values for coefficient significance\n",
    "- Includes confidence intervals\n",
    "- Tests for statistical assumptions\n",
    "- More comprehensive diagnostics"
   ]
  },
  {
   "cell_type": "code",
   "execution_count": 266,
   "id": "54b5f574",
   "metadata": {},
   "outputs": [],
   "source": [
    "model=sm.OLS(y_train,X_train).fit() "
   ]
  },
  {
   "cell_type": "code",
   "execution_count": 267,
   "id": "c9e47d7e",
   "metadata": {},
   "outputs": [
    {
     "data": {
      "text/plain": [
       "array([  5.79440897,   5.79440897, -28.78711691,  23.60913442,\n",
       "        -7.82861638,  34.08838469])"
      ]
     },
     "execution_count": 267,
     "metadata": {},
     "output_type": "execute_result"
    }
   ],
   "source": [
    "predictions = model.predict(X_test)\n",
    "predictions"
   ]
  },
  {
   "cell_type": "code",
   "execution_count": 268,
   "id": "f9feeef8",
   "metadata": {},
   "outputs": [
    {
     "name": "stdout",
     "output_type": "stream",
     "text": [
      "                                 OLS Regression Results                                \n",
      "=======================================================================================\n",
      "Dep. Variable:                 Height   R-squared (uncentered):                   0.012\n",
      "Model:                            OLS   Adj. R-squared (uncentered):             -0.050\n",
      "Method:                 Least Squares   F-statistic:                             0.1953\n",
      "Date:                Sat, 12 Jul 2025   Prob (F-statistic):                       0.664\n",
      "Time:                        17:36:00   Log-Likelihood:                         -110.03\n",
      "No. Observations:                  17   AIC:                                      222.1\n",
      "Df Residuals:                      16   BIC:                                      222.9\n",
      "Df Model:                           1                                                  \n",
      "Covariance Type:            nonrobust                                                  \n",
      "==============================================================================\n",
      "                 coef    std err          t      P>|t|      [0.025      0.975]\n",
      "------------------------------------------------------------------------------\n",
      "x1            17.2982     39.138      0.442      0.664     -65.671     100.267\n",
      "==============================================================================\n",
      "Omnibus:                        0.135   Durbin-Watson:                   0.002\n",
      "Prob(Omnibus):                  0.935   Jarque-Bera (JB):                0.203\n",
      "Skew:                          -0.166   Prob(JB):                        0.904\n",
      "Kurtosis:                       2.581   Cond. No.                         1.00\n",
      "==============================================================================\n",
      "\n",
      "Notes:\n",
      "[1] R² is computed without centering (uncentered) since the model does not contain a constant.\n",
      "[2] Standard Errors assume that the covariance matrix of the errors is correctly specified.\n"
     ]
    }
   ],
   "source": [
    "print(model.summary())"
   ]
  },
  {
   "cell_type": "markdown",
   "id": "85677c65",
   "metadata": {},
   "source": [
    "## 📊 Complete Simple Linear Regression Workflow Summary\n",
    "\n",
    "### 🎯 What We Accomplished:\n",
    "1. **Built a predictive model** to estimate height based on weight\n",
    "2. **Implemented proper ML pipeline** with data preprocessing and evaluation\n",
    "3. **Used two different approaches** (Scikit-learn and Statsmodels) for comparison\n",
    "4. **Evaluated model performance** using multiple metrics\n",
    "\n",
    "### 🔍 Key Insights from Our Analysis:\n",
    "\n",
    "#### **Data Insights:**\n",
    "- **Strong positive correlation** between weight and height\n",
    "- **Linear relationship** visible in scatter plots\n",
    "- Data suitable for linear regression modeling\n",
    "\n",
    "#### **Model Performance:**\n",
    "- **R² Score**: Shows how much variance in height is explained by weight\n",
    "- **Low RMSE/MAE**: Indicates good prediction accuracy\n",
    "- **Statistical significance**: OLS summary shows coefficient significance\n",
    "\n",
    "### 🛠️ Technical Best Practices Demonstrated:\n",
    "\n",
    "1. **Proper Data Structure**: \n",
    "   - X as 2D DataFrame (required for sklearn)\n",
    "   - y as 1D Series (target variable)\n",
    "\n",
    "2. **Train-Test Split**:\n",
    "   - 75/25 split for robust evaluation\n",
    "   - Random state for reproducibility\n",
    "\n",
    "3. **Feature Scaling**:\n",
    "   - StandardScaler for normalized features\n",
    "   - fit_transform on training, transform on test (prevents data leakage)\n",
    "\n",
    "4. **Model Evaluation**:\n",
    "   - Multiple metrics for comprehensive assessment\n",
    "   - Adjusted R² to account for model complexity\n",
    "\n",
    "### 🚀 Additional Recommendations:\n",
    "\n",
    "#### **For Better Analysis:**\n",
    "```python\n",
    "# 1. Add residual analysis\n",
    "residuals = y_test - y_pred\n",
    "plt.scatter(y_pred, residuals)\n",
    "plt.axhline(y=0, color='red', linestyle='--')\n",
    "plt.xlabel('Predicted Values')\n",
    "plt.ylabel('Residuals')\n",
    "plt.title('Residual Plot')\n",
    "\n",
    "# 2. Check for normality of residuals\n",
    "from scipy import stats\n",
    "stats.normaltest(residuals)\n",
    "\n",
    "# 3. Cross-validation for robust evaluation\n",
    "from sklearn.model_selection import cross_val_score\n",
    "cv_scores = cross_val_score(regression, X, y, cv=5, scoring='r2')\n",
    "print(f\"Cross-validation R² scores: {cv_scores}\")\n",
    "print(f\"Mean CV R²: {cv_scores.mean():.3f} (+/- {cv_scores.std() * 2:.3f})\")\n",
    "```\n",
    "\n",
    "#### **Model Assumptions to Check:**\n",
    "1. **Linearity**: Relationship between X and y is linear\n",
    "2. **Independence**: Observations are independent\n",
    "3. **Homoscedasticity**: Constant variance of residuals\n",
    "4. **Normality**: Residuals are normally distributed\n",
    "\n",
    "### 🎓 Learning Outcomes:\n",
    "- Understanding of complete ML pipeline\n",
    "- Proper data preprocessing techniques\n",
    "- Model evaluation and interpretation\n",
    "- Statistical significance testing\n",
    "- Prevention of data leakage\n",
    "\n",
    "### 📈 Next Steps:\n",
    "1. Try **Multiple Linear Regression** with additional features\n",
    "2. Explore **Polynomial Regression** for non-linear relationships  \n",
    "3. Implement **Regularization techniques** (Ridge, Lasso)\n",
    "4. Compare with other algorithms (Random Forest, SVM)\n",
    "\n",
    "---\n",
    "**Note**: This workflow serves as a template for any regression problem. The same steps can be applied to different datasets with appropriate modifications."
   ]
  },
  {
   "cell_type": "markdown",
   "id": "27e6e63f",
   "metadata": {},
   "source": [
    "## 🔧 Additional Model Diagnostics (Optional Enhancement)"
   ]
  },
  {
   "cell_type": "code",
   "execution_count": 269,
   "id": "9b73fbe6",
   "metadata": {},
   "outputs": [
    {
     "data": {
      "image/png": "[encoded data removed]",
      "text/plain": [
       "<Figure size 1200x1000 with 4 Axes>"
      ]
     },
     "metadata": {},
     "output_type": "display_data"
    },
    {
     "name": "stdout",
     "output_type": "stream",
     "text": [
      "Shapiro-Wilk Test for Normality:\n",
      "Statistic: 0.9412, p-value: 0.6693\n",
      "✅ Residuals appear to be normally distributed (p > 0.05)\n"
     ]
    }
   ],
   "source": [
    "## Residual Analysis - Check Model Assumptions\n",
    "residuals = y_test - y_pred\n",
    "\n",
    "# Create subplots for comprehensive residual analysis\n",
    "fig, ((ax1, ax2), (ax3, ax4)) = plt.subplots(2, 2, figsize=(12, 10))\n",
    "\n",
    "# 1. Residuals vs Predicted Values\n",
    "ax1.scatter(y_pred, residuals, alpha=0.7)\n",
    "ax1.axhline(y=0, color='red', linestyle='--')\n",
    "ax1.set_xlabel('Predicted Values')\n",
    "ax1.set_ylabel('Residuals')\n",
    "ax1.set_title('Residuals vs Predicted Values')\n",
    "\n",
    "# 2. Histogram of Residuals\n",
    "ax2.hist(residuals, bins=20, alpha=0.7, edgecolor='black')\n",
    "ax2.set_xlabel('Residuals')\n",
    "ax2.set_ylabel('Frequency')\n",
    "ax2.set_title('Distribution of Residuals')\n",
    "\n",
    "# 3. Q-Q Plot for Normality Check\n",
    "from scipy import stats\n",
    "stats.probplot(residuals, dist=\"norm\", plot=ax3)\n",
    "ax3.set_title('Q-Q Plot (Normality Check)')\n",
    "\n",
    "# 4. Actual vs Predicted Values\n",
    "ax4.scatter(y_test, y_pred, alpha=0.7)\n",
    "ax4.plot([y_test.min(), y_test.max()], [y_test.min(), y_test.max()], 'r--', lw=2)\n",
    "ax4.set_xlabel('Actual Values')\n",
    "ax4.set_ylabel('Predicted Values')\n",
    "ax4.set_title('Actual vs Predicted Values')\n",
    "\n",
    "plt.tight_layout()\n",
    "plt.show()\n",
    "\n",
    "# Statistical test for normality of residuals\n",
    "shapiro_stat, shapiro_p = stats.shapiro(residuals)\n",
    "print(f\"Shapiro-Wilk Test for Normality:\")\n",
    "print(f\"Statistic: {shapiro_stat:.4f}, p-value: {shapiro_p:.4f}\")\n",
    "if shapiro_p > 0.05:\n",
    "    print(\"✅ Residuals appear to be normally distributed (p > 0.05)\")\n",
    "else:\n",
    "    print(\"❌ Residuals may not be normally distributed (p ≤ 0.05)\")"
   ]
  },
  {
   "cell_type": "code",
   "execution_count": 270,
   "id": "3b127dfb",
   "metadata": {},
   "outputs": [
    {
     "name": "stdout",
     "output_type": "stream",
     "text": [
      "📊 Cross-Validation Results:\n",
      "R² Scores for each fold: [ 0.77698699  0.79392723  0.90371557  0.92475902 -0.25991438]\n",
      "Mean R² Score: 0.6279\n",
      "Standard Deviation: 0.4477\n",
      "95% Confidence Interval: 0.6279 ± 0.8775\n"
     ]
    },
    {
     "data": {
      "image/png": "[encoded data removed]",
      "text/plain": [
       "<Figure size 800x500 with 1 Axes>"
      ]
     },
     "metadata": {},
     "output_type": "display_data"
    }
   ],
   "source": [
    "## Cross-Validation for Robust Model Evaluation\n",
    "from sklearn.model_selection import cross_val_score, KFold\n",
    "\n",
    "# Perform 5-fold cross-validation on original (non-scaled) data for interpretation\n",
    "cv = KFold(n_splits=5, shuffle=True, random_state=42)\n",
    "cv_scores = cross_val_score(LinearRegression(), X, y, cv=cv, scoring='r2')\n",
    "\n",
    "print(\"📊 Cross-Validation Results:\")\n",
    "print(f\"R² Scores for each fold: {cv_scores}\")\n",
    "print(f\"Mean R² Score: {cv_scores.mean():.4f}\")\n",
    "print(f\"Standard Deviation: {cv_scores.std():.4f}\")\n",
    "print(f\"95% Confidence Interval: {cv_scores.mean():.4f} ± {1.96 * cv_scores.std():.4f}\")\n",
    "\n",
    "# Visualize CV scores\n",
    "plt.figure(figsize=(8, 5))\n",
    "plt.bar(range(1, 6), cv_scores, alpha=0.7, color='skyblue', edgecolor='black')\n",
    "plt.axhline(y=cv_scores.mean(), color='red', linestyle='--', label=f'Mean: {cv_scores.mean():.4f}')\n",
    "plt.xlabel('Fold Number')\n",
    "plt.ylabel('R² Score')\n",
    "plt.title('Cross-Validation R² Scores')\n",
    "plt.legend()\n",
    "plt.grid(True, alpha=0.3)\n",
    "plt.show()"
   ]
  },
  {
   "cell_type": "code",
   "execution_count": null,
   "id": "d2200175",
   "metadata": {},
   "outputs": [],
   "source": []
  }
 ],
 "metadata": {
  "kernelspec": {
   "display_name": "Python 3",
   "language": "python",
   "name": "python3"
  },
  "language_info": {
   "codemirror_mode": {
    "name": "ipython",
    "version": 3
   },
   "file_extension": ".py",
   "mimetype": "text/x-python",
   "name": "python",
   "nbconvert_exporter": "python",
   "pygments_lexer": "ipython3",
   "version": "3.13.5"
  }
 },
 "nbformat": 4,
 "nbformat_minor": 5
}
