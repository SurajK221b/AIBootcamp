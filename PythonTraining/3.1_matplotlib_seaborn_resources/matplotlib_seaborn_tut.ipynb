{
 "cells": [
  {
   "cell_type": "markdown",
   "id": "96a24f16",
   "metadata": {},
   "source": [
    "### Matplotlib\n",
    "Matplotlib is a low-level, versatile plotting library in Python used for creating static, animated, and interactive visualizations. It offers complete control over plot elements (axes, labels, legends, ticks, grids, etc.).\n",
    "\n",
    "Main Module: matplotlib.pyplot\n",
    "\n",
    "Ideal for: Custom plots and precise layout control\n",
    "\n",
    "pip install matplotlib\n"
   ]
  },
  {
   "cell_type": "markdown",
   "id": "65194d42",
   "metadata": {},
   "source": [
    "### Seaborn\n",
    "Seaborn is a high-level API for statistical data visualization built on top of Matplotlib. It integrates well with pandas DataFrames and simplifies the creation of complex visualizations.\n",
    "\n",
    "Main Module: seaborn\n",
    "\n",
    "Ideal for: Statistical plots and dataset exploration\n",
    "\n",
    "pip install seaborn\n"
   ]
  },
  {
   "cell_type": "markdown",
   "id": "0fba2140",
   "metadata": {},
   "source": [
    "### Tabular Comparison: Syntax, Use Cases, and Examples"
   ]
  },
  {
   "cell_type": "markdown",
   "id": "41ffe725",
   "metadata": {},
   "source": [
    "#### Matplotlib Core Functions\n",
    "| Use Case          | Function / Method          | Syntax / Example                               |\n",
    "| ----------------- | -------------------------- | ---------------------------------------------- |\n",
    "| Line Plot         | `plt.plot()`               | `plt.plot(x, y)`                               |\n",
    "| Bar Chart         | `plt.bar()`                | `plt.bar(categories, values)`                  |\n",
    "| Scatter Plot      | `plt.scatter()`            | `plt.scatter(x, y)`                            |\n",
    "| Histogram         | `plt.hist()`               | `plt.hist(data, bins=10)`                      |\n",
    "| Pie Chart         | `plt.pie()`                | `plt.pie(values, labels=labels)`               |\n",
    "| Axis Labels       | `plt.xlabel()`, `ylabel()` | `plt.xlabel(\"X-axis\")`, `plt.ylabel(\"Y-axis\")` |\n",
    "| Title             | `plt.title()`              | `plt.title(\"Sample Plot\")`                     |\n",
    "| Show Plot         | `plt.show()`               | `plt.show()`                                   |\n",
    "| Save Plot         | `plt.savefig()`            | `plt.savefig(\"plot.png\")`                      |\n",
    "| Subplots          | `plt.subplot()`            | `plt.subplot(2,1,1)`                           |\n",
    "| Layout Adjustment | `plt.tight_layout()`       | `plt.tight_layout()`                           |\n"
   ]
  },
  {
   "cell_type": "markdown",
   "id": "0c02971a",
   "metadata": {},
   "source": [
    "#### Seaborn Core Functions\n",
    "| Use Case     | Function / Method   | Syntax / Example                                                                  |\n",
    "| ------------ | ------------------- | --------------------------------------------------------------------------------- |\n",
    "| Line Plot    | `sns.lineplot()`    | `sns.lineplot(x='year', y='sales', data=df)`                                      |\n",
    "| Bar Plot     | `sns.barplot()`     | `sns.barplot(x='category', y='value', data=df)`                                   |\n",
    "| Count Plot   | `sns.countplot()`   | `sns.countplot(x='category', data=df)`                                            |\n",
    "| Box Plot     | `sns.boxplot()`     | `sns.boxplot(x='group', y='score', data=df)`                                      |\n",
    "| Violin Plot  | `sns.violinplot()`  | `sns.violinplot(x='group', y='score', data=df)`                                   |\n",
    "| Histogram    | `sns.histplot()`    | `sns.histplot(data=df['age'], bins=20)`                                           |\n",
    "| KDE Plot     | `sns.kdeplot()`     | `sns.kdeplot(data=df['income'])`                                                  |\n",
    "| Scatter Plot | `sns.scatterplot()` | `sns.scatterplot(x='age', y='salary', data=df)`                                   |\n",
    "| Pair Plot    | `sns.pairplot()`    | `sns.pairplot(df)`                                                                |\n",
    "| Heatmap      | `sns.heatmap()`     | `sns.heatmap(data.corr(), annot=True)`                                            |\n",
    "| Facet Grid   | `sns.FacetGrid()`   | `g = sns.FacetGrid(df, col=\"species\")` <br> `g.map(sns.histplot, \"sepal_length\")` |\n",
    "| Set Theme    | `sns.set_theme()`   | `sns.set_theme(style=\"darkgrid\")`                                                 |\n"
   ]
  },
  {
   "cell_type": "markdown",
   "id": "1ce99971",
   "metadata": {},
   "source": [
    "#### Additional Notes\n",
    "| Feature             | Matplotlib              | Seaborn                               |\n",
    "| ------------------- | ----------------------- | ------------------------------------- |\n",
    "| Customization Level | High                    | Moderate (uses Matplotlib internally) |\n",
    "| Ease of Use         | Medium                  | High                                  |\n",
    "| Dataset Integration | Manual with lists/numpy | Seamless with Pandas DataFrame        |\n",
    "| Statistical Plots   | Basic (manual coding)   | Built-in (kde, box, violin, etc.)     |\n"
   ]
  }
 ],
 "metadata": {
  "language_info": {
   "name": "python"
  }
 },
 "nbformat": 4,
 "nbformat_minor": 5
}
