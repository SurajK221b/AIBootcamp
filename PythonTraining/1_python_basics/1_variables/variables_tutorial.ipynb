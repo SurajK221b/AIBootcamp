{
 "cells": [
  {
   "cell_type": "markdown",
   "id": "5c9c57d1",
   "metadata": {},
   "source": [
    "<h2 align=\"center\" style=\"color:blue\">Codebasics Python Course: Variables</h2>"
   ]
  },
  {
   "cell_type": "markdown",
   "id": "0e98b431",
   "metadata": {},
   "source": [
    "### Variables Introduction: String, Numbers, Boolean"
   ]
  },
  {
   "cell_type": "markdown",
   "id": "a49b1f32",
   "metadata": {},
   "source": [
    "Variables are containers that store some type of data. For example soda can is a container that contains soda"
   ]
  },
  {
   "cell_type": "code",
   "id": "92469a37",
   "metadata": {
    "ExecuteTime": {
     "end_time": "2025-07-02T17:25:31.348230Z",
     "start_time": "2025-07-02T17:25:31.340964Z"
    }
   },
   "source": [
    "can = \"soda\"\n",
    "can"
   ],
   "outputs": [
    {
     "data": {
      "text/plain": [
       "'soda'"
      ]
     },
     "execution_count": 22,
     "metadata": {},
     "output_type": "execute_result"
    }
   ],
   "execution_count": 22
  },
  {
   "cell_type": "code",
   "id": "d46eafc5",
   "metadata": {
    "ExecuteTime": {
     "end_time": "2025-07-02T17:25:31.503639Z",
     "start_time": "2025-07-02T17:25:31.498092Z"
    }
   },
   "source": [
    "print(can)"
   ],
   "outputs": [
    {
     "name": "stdout",
     "output_type": "stream",
     "text": [
      "soda\n"
     ]
    }
   ],
   "execution_count": 23
  },
  {
   "cell_type": "code",
   "id": "77415e03",
   "metadata": {
    "ExecuteTime": {
     "end_time": "2025-07-02T17:25:31.631378Z",
     "start_time": "2025-07-02T17:25:31.622623Z"
    }
   },
   "source": [
    "can = \"beans\"\n",
    "can"
   ],
   "outputs": [
    {
     "data": {
      "text/plain": [
       "'beans'"
      ]
     },
     "execution_count": 24,
     "metadata": {},
     "output_type": "execute_result"
    }
   ],
   "execution_count": 24
  },
  {
   "cell_type": "code",
   "id": "317ab541",
   "metadata": {
    "ExecuteTime": {
     "end_time": "2025-07-02T17:25:31.781028Z",
     "start_time": "2025-07-02T17:25:31.770188Z"
    }
   },
   "source": [
    "type(can)"
   ],
   "outputs": [
    {
     "data": {
      "text/plain": [
       "str"
      ]
     },
     "execution_count": 25,
     "metadata": {},
     "output_type": "execute_result"
    }
   ],
   "execution_count": 25
  },
  {
   "cell_type": "code",
   "id": "918585d2",
   "metadata": {
    "ExecuteTime": {
     "end_time": "2025-07-02T17:25:31.963097Z",
     "start_time": "2025-07-02T17:25:31.956900Z"
    }
   },
   "source": [
    "pizza = 100\n",
    "pizza"
   ],
   "outputs": [
    {
     "data": {
      "text/plain": [
       "100"
      ]
     },
     "execution_count": 26,
     "metadata": {},
     "output_type": "execute_result"
    }
   ],
   "execution_count": 26
  },
  {
   "cell_type": "code",
   "id": "65bdb004",
   "metadata": {
    "ExecuteTime": {
     "end_time": "2025-07-02T17:25:32.150742Z",
     "start_time": "2025-07-02T17:25:32.141092Z"
    }
   },
   "source": [
    "type(pizza)"
   ],
   "outputs": [
    {
     "data": {
      "text/plain": [
       "int"
      ]
     },
     "execution_count": 27,
     "metadata": {},
     "output_type": "execute_result"
    }
   ],
   "execution_count": 27
  },
  {
   "cell_type": "code",
   "id": "e8fc8932",
   "metadata": {
    "ExecuteTime": {
     "end_time": "2025-07-02T17:25:32.233686Z",
     "start_time": "2025-07-02T17:25:32.227428Z"
    }
   },
   "source": [
    "samosa=20.5\n",
    "ice_cream=100"
   ],
   "outputs": [],
   "execution_count": 28
  },
  {
   "cell_type": "code",
   "id": "a38c8e68",
   "metadata": {
    "ExecuteTime": {
     "end_time": "2025-07-02T17:25:32.313569Z",
     "start_time": "2025-07-02T17:25:32.304850Z"
    }
   },
   "source": [
    "total = pizza + samosa + ice_cream\n",
    "total"
   ],
   "outputs": [
    {
     "data": {
      "text/plain": [
       "220.5"
      ]
     },
     "execution_count": 29,
     "metadata": {},
     "output_type": "execute_result"
    }
   ],
   "execution_count": 29
  },
  {
   "cell_type": "code",
   "id": "a4450514",
   "metadata": {
    "scrolled": true,
    "ExecuteTime": {
     "end_time": "2025-07-02T17:25:32.689018Z",
     "start_time": "2025-07-02T17:25:32.679642Z"
    }
   },
   "source": [
    "type(total)"
   ],
   "outputs": [
    {
     "data": {
      "text/plain": [
       "float"
      ]
     },
     "execution_count": 30,
     "metadata": {},
     "output_type": "execute_result"
    }
   ],
   "execution_count": 30
  },
  {
   "cell_type": "code",
   "id": "28d0bde6",
   "metadata": {
    "ExecuteTime": {
     "end_time": "2025-07-02T17:25:32.780537Z",
     "start_time": "2025-07-02T17:25:32.768992Z"
    }
   },
   "source": [
    "above_thresold = total > 200\n",
    "above_thresold"
   ],
   "outputs": [
    {
     "data": {
      "text/plain": [
       "True"
      ]
     },
     "execution_count": 31,
     "metadata": {},
     "output_type": "execute_result"
    }
   ],
   "execution_count": 31
  },
  {
   "cell_type": "code",
   "id": "3db85c27",
   "metadata": {
    "ExecuteTime": {
     "end_time": "2025-07-02T17:25:32.873250Z",
     "start_time": "2025-07-02T17:25:32.864307Z"
    }
   },
   "source": [
    "type(above_thresold)"
   ],
   "outputs": [
    {
     "data": {
      "text/plain": [
       "bool"
      ]
     },
     "execution_count": 32,
     "metadata": {},
     "output_type": "execute_result"
    }
   ],
   "execution_count": 32
  },
  {
   "cell_type": "markdown",
   "id": "5da0a78f",
   "metadata": {},
   "source": [
    "**Integer** is a whole number with no decimal point. e.g. 34, 12, 500\n",
    "\n",
    "**Float** is a number with decimal point. e.g. 1.34, 0.45, 100.5\n",
    "\n",
    "**String** data types store text information\n",
    "\n",
    "**Boolean** type is used to store true or false value"
   ]
  },
  {
   "cell_type": "markdown",
   "id": "7a345ffd",
   "metadata": {},
   "source": [
    "### Everything is an Object in Python"
   ]
  },
  {
   "cell_type": "code",
   "id": "3e983282",
   "metadata": {
    "ExecuteTime": {
     "end_time": "2025-07-02T17:25:32.904490Z",
     "start_time": "2025-07-02T17:25:32.895478Z"
    }
   },
   "source": [
    "foo = 'jalebi'\n",
    "foo"
   ],
   "outputs": [
    {
     "data": {
      "text/plain": [
       "'jalebi'"
      ]
     },
     "execution_count": 33,
     "metadata": {},
     "output_type": "execute_result"
    }
   ],
   "execution_count": 33
  },
  {
   "cell_type": "code",
   "id": "78256dcf",
   "metadata": {
    "ExecuteTime": {
     "end_time": "2025-07-02T17:25:32.934330Z",
     "start_time": "2025-07-02T17:25:32.924463Z"
    }
   },
   "source": [
    "bar = foo\n",
    "bar"
   ],
   "outputs": [
    {
     "data": {
      "text/plain": [
       "'jalebi'"
      ]
     },
     "execution_count": 34,
     "metadata": {},
     "output_type": "execute_result"
    }
   ],
   "execution_count": 34
  },
  {
   "cell_type": "code",
   "id": "a1a8b6fa",
   "metadata": {
    "ExecuteTime": {
     "end_time": "2025-07-02T17:25:32.966904Z",
     "start_time": "2025-07-02T17:25:32.957052Z"
    }
   },
   "source": [
    "id(foo)"
   ],
   "outputs": [
    {
     "data": {
      "text/plain": [
       "1858993685968"
      ]
     },
     "execution_count": 35,
     "metadata": {},
     "output_type": "execute_result"
    }
   ],
   "execution_count": 35
  },
  {
   "cell_type": "code",
   "id": "14f50dcc",
   "metadata": {
    "ExecuteTime": {
     "end_time": "2025-07-02T17:25:32.998182Z",
     "start_time": "2025-07-02T17:25:32.990348Z"
    }
   },
   "source": [
    "id(bar)"
   ],
   "outputs": [
    {
     "data": {
      "text/plain": [
       "1858993685968"
      ]
     },
     "execution_count": 36,
     "metadata": {},
     "output_type": "execute_result"
    }
   ],
   "execution_count": 36
  },
  {
   "cell_type": "code",
   "id": "3b1739f1",
   "metadata": {
    "ExecuteTime": {
     "end_time": "2025-07-02T17:25:33.043980Z",
     "start_time": "2025-07-02T17:25:33.032968Z"
    }
   },
   "source": [
    "bar = 'samosa'\n",
    "bar"
   ],
   "outputs": [
    {
     "data": {
      "text/plain": [
       "'samosa'"
      ]
     },
     "execution_count": 37,
     "metadata": {},
     "output_type": "execute_result"
    }
   ],
   "execution_count": 37
  },
  {
   "cell_type": "code",
   "id": "d215bff4",
   "metadata": {
    "ExecuteTime": {
     "end_time": "2025-07-02T17:25:33.078481Z",
     "start_time": "2025-07-02T17:25:33.069523Z"
    }
   },
   "source": [
    "id(bar)"
   ],
   "outputs": [
    {
     "data": {
      "text/plain": [
       "1858995043808"
      ]
     },
     "execution_count": 38,
     "metadata": {},
     "output_type": "execute_result"
    }
   ],
   "execution_count": 38
  },
  {
   "cell_type": "code",
   "id": "241071d7",
   "metadata": {
    "ExecuteTime": {
     "end_time": "2025-07-02T17:25:33.120664Z",
     "start_time": "2025-07-02T17:25:33.110024Z"
    }
   },
   "source": [
    "bar = 'samosa'\n",
    "id(bar)"
   ],
   "outputs": [
    {
     "data": {
      "text/plain": [
       "1858995043808"
      ]
     },
     "execution_count": 39,
     "metadata": {},
     "output_type": "execute_result"
    }
   ],
   "execution_count": 39
  },
  {
   "cell_type": "code",
   "id": "3e551682",
   "metadata": {
    "ExecuteTime": {
     "end_time": "2025-07-02T17:25:33.200659Z",
     "start_time": "2025-07-02T17:25:33.193309Z"
    }
   },
   "source": [
    "foo"
   ],
   "outputs": [
    {
     "data": {
      "text/plain": [
       "'jalebi'"
      ]
     },
     "execution_count": 40,
     "metadata": {},
     "output_type": "execute_result"
    }
   ],
   "execution_count": 40
  },
  {
   "cell_type": "markdown",
   "id": "17de46d9",
   "metadata": {},
   "source": [
    "### Variable Naming Rules"
   ]
  },
  {
   "cell_type": "markdown",
   "id": "605e29eb",
   "metadata": {},
   "source": [
    "#### 1. Can't use reserved keywords to store variable names"
   ]
  },
  {
   "cell_type": "code",
   "id": "5c4aa636",
   "metadata": {
    "ExecuteTime": {
     "end_time": "2025-07-02T17:25:38.705905Z",
     "start_time": "2025-07-02T17:25:38.696936Z"
    }
   },
   "source": [
    "True=5"
   ],
   "outputs": [
    {
     "ename": "SyntaxError",
     "evalue": "cannot assign to True (3728040188.py, line 1)",
     "output_type": "error",
     "traceback": [
      "  \u001B[36mCell\u001B[39m\u001B[36m \u001B[39m\u001B[32mIn[41]\u001B[39m\u001B[32m, line 1\u001B[39m\n\u001B[31m    \u001B[39m\u001B[31mTrue=5\u001B[39m\n    ^\n\u001B[31mSyntaxError\u001B[39m\u001B[31m:\u001B[39m cannot assign to True\n"
     ]
    }
   ],
   "execution_count": 41
  },
  {
   "cell_type": "code",
   "id": "f7774d07",
   "metadata": {
    "scrolled": true
   },
   "source": [
    "def = \"Hello\""
   ],
   "outputs": [],
   "execution_count": null
  },
  {
   "cell_type": "markdown",
   "id": "c98c9ac6",
   "metadata": {},
   "source": [
    "#### 2. Special characters are not allowed"
   ]
  },
  {
   "cell_type": "code",
   "id": "0ee3d2a1",
   "metadata": {},
   "source": [
    "$name=\"dhaval\""
   ],
   "outputs": [],
   "execution_count": null
  },
  {
   "cell_type": "code",
   "id": "e54ab05b",
   "metadata": {
    "scrolled": true
   },
   "source": [
    "pizza^ = 100"
   ],
   "outputs": [],
   "execution_count": null
  },
  {
   "cell_type": "markdown",
   "id": "aca506fc",
   "metadata": {},
   "source": [
    "#### 3. Variable names must begin with letter or _"
   ]
  },
  {
   "cell_type": "code",
   "id": "fe169797",
   "metadata": {},
   "source": [
    "4you=\"me\""
   ],
   "outputs": [],
   "execution_count": null
  },
  {
   "cell_type": "code",
   "id": "29c817e8",
   "metadata": {},
   "source": [
    "$address=\"blah\""
   ],
   "outputs": [],
   "execution_count": null
  },
  {
   "cell_type": "markdown",
   "id": "4544810f",
   "metadata": {},
   "source": [
    "#### 4. Remaining characters should be a to z OR A to Z OR 0 to 9 OR _"
   ]
  },
  {
   "cell_type": "code",
   "id": "130ddf3f",
   "metadata": {},
   "source": [
    "abc$xyz=6"
   ],
   "outputs": [],
   "execution_count": null
  }
 ],
 "metadata": {
  "kernelspec": {
   "display_name": "venv",
   "language": "python",
   "name": "python3"
  },
  "language_info": {
   "codemirror_mode": {
    "name": "ipython",
    "version": 3
   },
   "file_extension": ".py",
   "mimetype": "text/x-python",
   "name": "python",
   "nbconvert_exporter": "python",
   "pygments_lexer": "ipython3",
   "version": "3.13.5"
  }
 },
 "nbformat": 4,
 "nbformat_minor": 5
}
