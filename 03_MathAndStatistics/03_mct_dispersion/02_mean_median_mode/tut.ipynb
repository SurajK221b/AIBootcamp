{
 "cells": [
  {
   "cell_type": "markdown",
   "id": "4aac2af0",
   "metadata": {},
   "source": [
    "### 📘 1. Theory: Measures of Central Tendency\n",
    "| **Measure** | **Definition**                                   | **Type of Data**           | **Use Case**                              | **Effect of Outliers**  |\n",
    "| ----------- | ------------------------------------------------ | -------------------------- | ----------------------------------------- | ----------------------- |\n",
    "| **Mean**    | Sum of all values divided by the count of values | Interval, Ratio            | Normal distributions, balanced datasets   | ✅ Highly affected       |\n",
    "| **Median**  | Middle value when data is sorted                 | Ordinal, Interval, Ratio   | Skewed data or presence of outliers       | ❌ Robust (not affected) |\n",
    "| **Mode**    | Most frequently occurring value                  | Nominal, Ordinal, Discrete | Categorical data or discrete observations | ❌ Not affected          |\n"
   ]
  },
  {
   "cell_type": "markdown",
   "id": "1ed2c60a",
   "metadata": {},
   "source": [
    "### interview Questions and Model Answers\n",
    "| **Question**                                            | **Ideal Answer**                                                                                 |\n",
    "| ------------------------------------------------------- | ------------------------------------------------------------------------------------------------ |\n",
    "| What is the mean and when is it used?                   | Mean is the arithmetic average, used when the dataset is symmetrically distributed and balanced. |\n",
    "| Why is the median considered more robust than the mean? | Because it is not influenced by outliers or extreme values.                                      |\n",
    "| What is the limitation of mode?                         | It may not exist in a dataset or may not be unique (multimodal).                                 |\n",
    "| In which case is mode most useful?                      | For categorical data (e.g., most common product or user location).                               |\n",
    "| If mean > median > mode, what does that indicate?       | The distribution is positively (right) skewed.                                                   |\n",
    "| Can a dataset have more than one mode?                  | Yes. Such a dataset is called **bimodal** or **multimodal**.                                     |\n"
   ]
  },
  {
   "cell_type": "markdown",
   "id": "ba7bc2af",
   "metadata": {},
   "source": []
  }
 ],
 "metadata": {
  "language_info": {
   "name": "python"
  }
 },
 "nbformat": 4,
 "nbformat_minor": 5
}
