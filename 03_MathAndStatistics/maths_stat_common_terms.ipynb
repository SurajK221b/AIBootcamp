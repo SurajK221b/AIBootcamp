{
 "cells": [
  {
   "cell_type": "markdown",
   "id": "0e1ca161",
   "metadata": {},
   "source": [
    "## Common termonology in Maths and Statistics"
   ]
  },
  {
   "cell_type": "markdown",
   "id": "89fd6b76",
   "metadata": {},
   "source": [
    "#### <span style=\"color:green\"><b>01 Dispersion</b></span>\n",
    "- **Dispersion**: The extent to which a distribution is stretched or squeezed.\n",
    "- **Range**: The difference between the maximum and minimum values in a dataset.\n",
    "\n",
    "| **Aspect**             | **Details**                                                                                                                                                                                                                                                                                       |\n",
    "| ---------------------- | ------------------------------------------------------------------------------------------------------------------------------------------------------------------------------------------------------------------------------------------------------------------------------------------------- |\n",
    "| **Definition**         | Dispersion refers to the extent to which a dataset is spread out or scattered. It quantifies the variability of data values around a central point (typically the mean or median).                                                                                                                |\n",
    "| **Objective**          | To understand how consistent or inconsistent the data values are.                                                                                                                                                                                                                                 |\n",
    "| **Key Measures**       | - **Range**: Difference between max and min values<br>- **Variance (σ²)**: Average squared deviation from the mean<br>- **Standard Deviation (σ)**: Square root of variance<br>- **Interquartile Range (IQR)**: Spread of the middle 50% of data (Q3 - Q1)<br>- **Mean Absolute Deviation (MAD)** |\n",
    "| **Use Cases**          | - Risk assessment in finance (volatility)<br>- Quality control in manufacturing<br>- Evaluating model accuracy (residual analysis)<br>- Feature selection (low variance filters)                                                                                                                  |\n",
    "| **Real-World Example** | In credit risk modeling, standard deviation is used to measure variability in credit scores among applicants. A higher SD implies more uncertainty.                                                                                                                                               |\n"
   ]
  },
  {
   "cell_type": "markdown",
   "id": "81c0ba17",
   "metadata": {},
   "source": []
  },
  {
   "cell_type": "markdown",
   "id": "8cc460f5",
   "metadata": {},
   "source": [
    "#### <span style=\"color:green\"><b>01.1 Central Tendency</b></span>\n",
    "- **Central Tendency**: The tendency of data to cluster around a central value. \n",
    "- **Mean**: The arithmetic average of a dataset.\n",
    "- **Median**: The middle value when data is sorted.\n",
    "- **Mode**: The most frequently occurring value in a dataset.\n",
    "\n",
    "| **Aspect**             | **Details**                                                                                                                                                               |\n",
    "| ---------------------- | ------------------------------------------------------------------------------------------------------------------------------------------------------------------------- |\n",
    "| **Definition**         | Central tendency refers to statistical measures that identify the center point or typical value of a dataset. It summarizes the data using a single representative value. |\n",
    "| **Objective**          | To understand the average or most common behavior in a dataset, providing a baseline for comparison or decision-making.                                                   |\n",
    "| **Key Measures**       | - **Mean**: Arithmetic average; sensitive to outliers<br>- **Median**: Middle value; robust to outliers<br>- **Mode**: Most frequent value(s); used for categorical data  |\n",
    "| **When to Use What**   | - Use **Mean** for symmetric distributions<br>- Use **Median** for skewed data or when outliers are present<br>- Use **Mode** for categorical or discrete data            |\n",
    "| **Use Cases**          | - Mean income analysis in economics<br>- Median house prices in real estate<br>- Mode for identifying most common product purchases in retail analytics                   |\n",
    "| **Real-World Example** | In healthcare analytics, **median survival time** is preferred over the mean due to the presence of extreme values in patient outcomes.\n",
    "\n",
    "\n",
    "#### <span style=\"color:green\"><b>01.2 Measures of Central Tendency</b></span>\n",
    "\n",
    "| **Measure** | **Definition**                  | **Formula**                                                                                                                                                                                         | **Notes**                                                                                                                                                                                                                                                                           |\n",
    "| ----------- | ------------------------------- | --------------------------------------------------------------------------------------------------------------------------------------------------------------------------------------------------- | ----------------------------------------------------------------------------------------------------------------------------------------------------------------------------------------------------------------------------------------------------------------------------------- |\n",
    "| **Mean**    | Arithmetic average              | $\\bar{X} = \\frac{\\sum_{i=1}^{n} X_i}{n}$                                                                                                                                                            | - $\\bar{X}$: Mean<br>- $X_i$: Data values<br>- $n$: Number of values                                                                                                                                                                                                                |\n",
    "| **Median**  | Middle value (sorted data)      | - If **odd** $n$:<br> $\\text{Median} = X_{\\left( \\frac{n+1}{2} \\right)}$ <br>- If **even** $n$:<br> $\\text{Median} = \\frac{X_{\\left( \\frac{n}{2} \\right)} + X_{\\left( \\frac{n}{2} + 1 \\right)}}{2}$ | - Data must be sorted<br>- Robust to outliers                                                                                                                                                                                                                                       |\n",
    "| **Mode**    | Most frequently occurring value | No fixed formula — identified by frequency                                                                                                                                                          | - For grouped data:<br> $\\text{Mode} = L + \\left( \\frac{f_1 - f_0}{2f_1 - f_0 - f_2} \\right) \\times h$ <br>Where:<br> - $L$: lower boundary of modal class<br> - $f_1$: frequency of modal class<br> - $f_0$, $f_2$: frequencies of classes before and after<br> - $h$: class width |\n",
    "                                   |\n"
   ]
  },
  {
   "cell_type": "markdown",
   "id": "f15d8352",
   "metadata": {},
   "source": [
    "#### <span style=\"color:green\"><b>01.3 Measures of Dispersion</b></span>\n",
    "\n",
    "| **Aspect**     | **Details**                                                                                                                                                                |\n",
    "| -------------- | -------------------------------------------------------------------------------------------------------------------------------------------------------------------------- |\n",
    "| **Definition** | Measures of dispersion quantify the extent to which data values deviate from a central value (mean, median, etc.). They reflect data variability, consistency, and spread. |\n",
    "| **Objective**  | To assess risk, identify outliers, evaluate distribution spread, and support robust data-driven decisions.    \n",
    "\n",
    "#### <span style=\"color:green\"><b>01.4 Key Measures and Their Formulas</b></span>\n",
    "\n",
    "| **Measure**                       | **Formula**                                                                                                                                       | **Explanation**                                                                                   |   |                                                                                               |\n",
    "| --------------------------------- | ------------------------------------------------------------------------------------------------------------------------------------------------- | ------------------------------------------------------------------------------------------------- | - | --------------------------------------------------------------------------------------------- |\n",
    "| **Range**                         | $\\text{Range} = X_{\\text{max}} - X_{\\text{min}}$                                                                                                  | Simple measure of total spread; highly sensitive to outliers.                                     |   |                                                                                               |\n",
    "| **Interquartile Range (IQR)**     | $\\text{IQR} = Q_3 - Q_1$                                                                                                                          | Spread of the middle 50% of data; robust to outliers.                                             |   |                                                                                               |\n",
    "| **Variance**                      | - **Population**: $\\sigma^2 = \\frac{1}{N} \\sum_{i=1}^{N} (X_i - \\mu)^2$  <br>- **Sample**: $s^2 = \\frac{1}{n-1} \\sum_{i=1}^{n} (X_i - \\bar{X})^2$ | Average of squared deviations from the mean; unit is squared.                                     |   |                                                                                               |\n",
    "| **Standard Deviation**            | - **Population**: $\\sigma = \\sqrt{\\sigma^2}$  <br>- **Sample**: $s = \\sqrt{s^2}$                                                                  | Most commonly used measure; square root of variance; same unit as the data.                       |   |                                                                                               |\n",
    "| **Mean Absolute Deviation (MAD)** | \\[ \\text{MAD} = \\frac{1}{n} \\sum\\_{i=1}^{n}                                                                                                       | X\\_i - \\bar{X}                                                                                    | ] | Average absolute deviation from the mean; less sensitive to outliers than standard deviation. |\n",
    "| **Coefficient of Variation (CV)** | $\\text{CV} = \\left( \\frac{\\sigma}{\\mu} \\right) \\times 100\\%$                                                                                      | Relative measure of dispersion; used to compare variability across datasets with different units. |   |                                                                                               |\n",
    "\n",
    "\n",
    "#### Use Cases in Practice\n",
    "\n",
    "| **Domain**                          | **Application**                                                            |\n",
    "| ----------------------------------- | -------------------------------------------------------------------------- |\n",
    "| **Finance**                         | Volatility measurement using standard deviation and CV                     |\n",
    "| **Machine Learning**                | Feature selection via low-variance filtering                               |\n",
    "| **Quality Control**                 | Variance analysis for manufacturing tolerances                             |\n",
    "| **EDA (Exploratory Data Analysis)** | Identifying spread and potential outliers using IQR and standard deviation |\n",
    "\n",
    "\n"
   ]
  },
  {
   "cell_type": "markdown",
   "id": "1cf225da",
   "metadata": {},
   "source": [
    "#### <span style=\"color:green\"><b>02 Inferential Statistics</b></span>\n",
    "- **Inferential Statistics**: Techniques that allow us to make generalizations about a population based on a sample.\n",
    "\n",
    "| **Aspect**             | **Details**                                                                                                                                                           |\n",
    "| ---------------------- | --------------------------------------------------------------------------------------------------------------------------------------------------------------------- |\n",
    "| **Definition**         | Inferential statistics involves drawing conclusions about a population based on a sample of data, using probability theory.                                           |\n",
    "| **Objective**          | To make predictions, test hypotheses, and estimate parameters when data on the full population is unavailable.                                                        |\n",
    "| **Core Concepts**      | - **Population vs. Sample**<br>- **Estimation (Point & Interval)**<br>- **Hypothesis Testing**<br>- **Confidence Intervals**<br>- **P-values**<br>- **Z and t-tests** |\n",
    "| **Use Cases**          | - A/B testing for UI changes<br>- Clinical trials in pharma<br>- Predictive modeling and parameter estimation in ML                                                   |\n",
    "| **Real-World Example** | In digital marketing, inferential statistics help estimate conversion rates of an ad campaign based on a small user sample.                                           |\n"
   ]
  },
  {
   "cell_type": "markdown",
   "id": "9289a9dd",
   "metadata": {},
   "source": [
    "#### Variable\n",
    "\n",
    "| **Aspect**     | **Details**                                                                                                                                  |\n",
    "| -------------- | -------------------------------------------------------------------------------------------------------------------------------------------- |\n",
    "| **Definition** | A **variable** is any characteristic, number, or quantity that can be measured or quantified and may change across individuals or over time. |\n",
    "| **Objective**  | Variables allow us to collect, analyze, and model data for making statistical inferences or predictive decisions.                            |\n",
    "\n",
    "\n",
    "#### Classification of Variables\n",
    "| **Category**           | **Types**                       | **Description**                                                              | **Examples**                        |\n",
    "| ---------------------- | ------------------------------- | ---------------------------------------------------------------------------- | ----------------------------------- |\n",
    "| **Based on Nature**    | - **Quantitative** (Numeric)    | Measurable and expressed in numbers                                          | Age, Salary, Temperature            |\n",
    "|                        | - **Qualitative** (Categorical) | Descriptive and expressed in categories                                      | Gender, Color, Brand                |\n",
    "| **Quantitative Types** | - **Discrete**                  | Countable, finite values                                                     | Number of children, cars owned      |\n",
    "|                        | - **Continuous**                | Infinite possible values within a range                                      | Height, Weight, Time                |\n",
    "| **Qualitative Types**  | - **Nominal**                   | Categories with no inherent order                                            | City, Religion, Product ID          |\n",
    "|                        | - **Ordinal**                   | Categories with a logical order                                              | Satisfaction level, Education level |\n",
    "| **Based on Role**      | - **Independent Variable**      | Input or predictor variable; manipulated to observe effect                   | Hours studied                       |\n",
    "|                        | - **Dependent Variable**        | Output or response variable; changes in response to the independent variable | Exam score                          |\n",
    "\n",
    "\n",
    "#### Use Cases in Data Science\n",
    "| **Context**             | **Application**                                                                               |\n",
    "| ----------------------- | --------------------------------------------------------------------------------------------- |\n",
    "| **Feature Engineering** | Identifying variable types helps in encoding, scaling, and transformation                     |\n",
    "| **Model Training**      | Independent variables are used as inputs; dependent variable is the prediction target         |\n",
    "| **EDA & Visualization** | Guides appropriate chart types (e.g., bar plot for categorical, histogram for continuous)     |\n",
    "| **Statistical Testing** | Determines suitable hypothesis tests (e.g., ANOVA, chi-square, t-test) based on variable type |\n",
    "\n"
   ]
  },
  {
   "cell_type": "markdown",
   "id": "db612b9e",
   "metadata": {},
   "source": [
    "#### Random Variable\n",
    "\n",
    "| **Aspect**     | **Details**                                                                                                                                                                  |\n",
    "| -------------- | ---------------------------------------------------------------------------------------------------------------------------------------------------------------------------- |\n",
    "| **Definition** | A **Random Variable (RV)** is a numerical outcome of a random phenomenon. It assigns a real number to each possible outcome in a sample space of a probabilistic experiment. |\n",
    "| **Objective**  | To quantitatively describe outcomes of a stochastic process or experiment in probabilistic/statistical terms.                                                                |\n",
    "\n",
    "\n",
    "#### Types of Random Variables\n",
    "| **Type**                          | **Description**                                                 | **Examples**                                                      |\n",
    "| --------------------------------- | --------------------------------------------------------------- | ----------------------------------------------------------------- |\n",
    "| **1. Discrete Random Variable**   | Assumes **countable** values (finite or countably infinite)     | - Number of heads in 10 coin tosses<br>- Defect count in products |\n",
    "| **2. Continuous Random Variable** | Assumes **uncountably infinite** values within a given interval | - Time to complete a task<br>- Temperature measurements           |\n",
    "\n",
    "\n",
    "\n",
    "#### Use Cases in Statistics, AI, and ML\n",
    "\n",
    "| **Application Area**           | **Description**                                                                               |\n",
    "| ------------------------------ | --------------------------------------------------------------------------------------------- |\n",
    "| **Probability Modeling**       | Random variables are foundational to defining distributions (e.g., binomial, normal, Poisson) |\n",
    "| **Bayesian Inference**         | Parameters and observations are treated as random variables                                   |\n",
    "| **Simulation & Risk Analysis** | Monte Carlo simulations use random variables to model uncertainty                             |\n",
    "| **ML Algorithms**              | Random variables underpin probabilistic models (e.g., Naïve Bayes, Hidden Markov Models)      |\n"
   ]
  },
  {
   "cell_type": "markdown",
   "id": "887b0dca",
   "metadata": {},
   "source": [
    "#### Histogram\n",
    "\n",
    "| **Aspect**     | **Details**                                                                                                                                                                                                                              |\n",
    "| -------------- | ---------------------------------------------------------------------------------------------------------------------------------------------------------------------------------------------------------------------------------------- |\n",
    "| **Definition** | A **Histogram** is a graphical representation of the distribution of a **continuous** numerical dataset. It groups data into **intervals (bins)** and displays the **frequency** or **count** of observations that fall within each bin. |\n",
    "| **Objective**  | To visualize the shape, central tendency, spread, and potential outliers or skewness in continuous data.                                                                                                                                 |\n",
    "\n",
    "\n",
    "#### Key Characteristics\n",
    "\n",
    "| **Feature**             | **Details**                                                                                                       |\n",
    "| ----------------------- | ----------------------------------------------------------------------------------------------------------------- |\n",
    "| **X-axis (Horizontal)** | Represents the **intervals** (bins) into which the continuous variable is divided.                                |\n",
    "| **Y-axis (Vertical)**   | Represents the **frequency** or **relative frequency** of data points in each bin.                                |\n",
    "| **Bins**                | The data range is partitioned into non-overlapping intervals (bins), and each bar reflects the count in that bin. |\n",
    "| **Shape Analysis**      | Histograms help in identifying distribution shapes such as **normal**, **skewed**, **uniform**, or **bimodal**.   |\n",
    "\n",
    "#### Use Cases in Practice\n",
    "\n",
    "| **Domain**                          | **Application**                                                                   |\n",
    "| ----------------------------------- | --------------------------------------------------------------------------------- |\n",
    "| **EDA (Exploratory Data Analysis)** | Identify outliers, distribution type, and bin-wise frequency distribution         |\n",
    "| **Data Preprocessing**              | Guide decisions related to binning, normalization, or transformation              |\n",
    "| **Modeling**                        | Assess assumptions (e.g., normality) before applying statistical or ML algorithms |\n",
    "| **Quality Control**                 | Monitor process variation and detect anomalies in industrial processes            |\n",
    "\n",
    "#### Example: Interpreting a Histogram\n",
    "\n",
    "## Assume you have a dataset of ages:\n",
    "[22, 25, 26, 27, 30, 32, 34, 35, 36, 40, 42, 44, 47, 50]\n",
    "\n",
    "With bins:\n",
    "[20–30, 31–40, 41–50]\n",
    "\n",
    "| **Bin** | **Frequency** |\n",
    "| ------- | ------------- |\n",
    "| 20–30   | 5             |\n",
    "| 31–40   | 5             |\n",
    "| 41–50   | 4             |\n",
    "\n"
   ]
  },
  {
   "cell_type": "markdown",
   "id": "362c7239",
   "metadata": {},
   "source": []
  },
  {
   "cell_type": "code",
   "execution_count": 5,
   "id": "8106d6ff",
   "metadata": {},
   "outputs": [
    {
     "data": {
      "image/png": "[encoded data removed]",
      "text/plain": [
       "<Figure size 640x480 with 1 Axes>"
      ]
     },
     "metadata": {},
     "output_type": "display_data"
    }
   ],
   "source": [
    "#### Python Example (Using Matplotlib)\n",
    "\n",
    "import matplotlib.pyplot as plt\n",
    "\n",
    "data = [22, 25, 26, 27, 30, 32, 34, 35, 36, 40, 42, 44, 47, 50]\n",
    "plt.hist(data, bins=6, edgecolor='black', alpha=0.7)\n",
    "plt.title('Age Distribution Histogram')\n",
    "plt.xlabel('Age Bins')\n",
    "plt.ylabel('Frequency')\n",
    "plt.show()\n"
   ]
  },
  {
   "cell_type": "markdown",
   "id": "cc069350",
   "metadata": {},
   "source": [
    "#### Percentiles and Quartiles\n",
    "\n",
    "#### Percentile\n",
    "\n",
    "| **Aspect**     | **Details**                                                                                                                                                                |\n",
    "| -------------- | -------------------------------------------------------------------------------------------------------------------------------------------------------------------------- |\n",
    "| **Definition** | A **percentile** indicates the value **below which a given percentage** of observations in a dataset fall. It divides data into **100 equal parts**.                       |\n",
    "| **Notation**   | The $k^{th}$ percentile (denoted as $P_k$) is the value below which **k%** of the observations lie.                                                                        |\n",
    "| **Formula**    | $P_k = \\left( \\frac{k}{100} \\right) \\times (n + 1)^{th} \\text{ value (sorted data)}$ *(approximation)*                                                                     |\n",
    "| **Example**    | If your test score is at the **90th percentile**, you scored better than 90% of the test-takers.                                                                           |\n",
    "| **Use Cases**  | - Outlier detection (e.g., identifying values above the 95th percentile)<br>- Performance benchmarking<br>- Normalization (percentile rank)<br>- Feature engineering in ML |\n",
    "\n",
    "\n",
    "#### Quartile\n",
    "\n",
    "| **Aspect**                    | **Details**                                                                                                                                              |\n",
    "| ----------------------------- | -------------------------------------------------------------------------------------------------------------------------------------------------------- |\n",
    "| **Definition**                | **Quartiles** are a specific set of percentiles that **divide data into four equal parts**.                                                              |\n",
    "| **Quartiles**                 | - **Q1 (25th percentile)**: 25% of data below<br>- **Q2 (50th percentile / Median)**: 50% of data below<br>- **Q3 (75th percentile)**: 75% of data below |\n",
    "| **Interquartile Range (IQR)** | $\\text{IQR} = Q_3 - Q_1$ <br>Measures the spread of the middle 50% of the data; robust to outliers                                                       |\n",
    "| **Formula**                   | Based on position: $Q_k = \\left( \\frac{k(n + 1)}{4} \\right)^{th} \\text{ value, where } k \\in \\{1, 2, 3\\}$                                                |\n",
    "| **Use Cases**                 | - Detecting outliers (e.g., Tukey’s method: outliers > $Q3 + 1.5 \\times \\text{IQR}$)<br>- Box plots<br>- Data binning and segmentation                   |\n",
    "\n",
    "\n",
    "#### Visual Illustration (Box Plot)\n",
    "\n",
    "|------|=========|--------|=========|------|\n",
    "Min    Q1       Q2      Q3       Max\n",
    "       |<--IQR-->|\n",
    " #### | **Concept** | **Divides Data Into** | **Typical Use**                                |\n",
    "| ----------- | --------------------- | ---------------------------------------------- |\n",
    "| Percentile  | 100 equal parts       | Ranking, benchmarking, statistical thresholds  |\n",
    "| Quartile    | 4 equal parts         | Summary statistics, box plots, IQR calculation |\n"
   ]
  },
  {
   "cell_type": "markdown",
   "id": "71c8892e",
   "metadata": {},
   "source": []
  },
  {
   "cell_type": "code",
   "execution_count": 6,
   "id": "9fca0a10",
   "metadata": {},
   "outputs": [
    {
     "name": "stdout",
     "output_type": "stream",
     "text": [
      "Q1: 30.25, Q2: 39.0, Q3: 47.0, IQR: 16.75\n"
     ]
    }
   ],
   "source": [
    "###  Python Code Example\n",
    "import numpy as np\n",
    "\n",
    "data = [23, 26, 29, 34, 38, 40, 44, 48, 50, 52]\n",
    "q1 = np.percentile(data, 25)\n",
    "q2 = np.percentile(data, 50)  # Median\n",
    "q3 = np.percentile(data, 75)\n",
    "iqr = q3 - q1\n",
    "\n",
    "print(f\"Q1: {q1}, Q2: {q2}, Q3: {q3}, IQR: {iqr}\")\n"
   ]
  },
  {
   "cell_type": "code",
   "execution_count": null,
   "id": "e9b18e76",
   "metadata": {},
   "outputs": [],
   "source": []
  }
 ],
 "metadata": {
  "kernelspec": {
   "display_name": "Python 3",
   "language": "python",
   "name": "python3"
  },
  "language_info": {
   "codemirror_mode": {
    "name": "ipython",
    "version": 3
   },
   "file_extension": ".py",
   "mimetype": "text/x-python",
   "name": "python",
   "nbconvert_exporter": "python",
   "pygments_lexer": "ipython3",
   "version": "3.13.5"
  }
 },
 "nbformat": 4,
 "nbformat_minor": 5
}
