{
 "cells": [
  {
   "cell_type": "markdown",
   "id": "a0ac4f4f",
   "metadata": {},
   "source": [
    "### PEP 8 Naming Conventions\n",
    "| **Type**                       | **Convention**                | **Example**               | **Notes**                                                        |\n",
    "| ------------------------------ | ----------------------------- | ------------------------- | ---------------------------------------------------------------- |\n",
    "| **Modules**                    | `lowercase_with_underscores`  | `data_loader.py`          | Short, descriptive; avoid special characters                     |\n",
    "| **Packages**                   | `lowercase`                   | `utils`                   | Prefer simplicity; underscores discouraged                       |\n",
    "| **Classes**                    | `CapWords` (PascalCase)       | `DataProcessor`           | Nouns; avoid acronyms                                            |\n",
    "| **Exceptions**                 | `CapWords`                    | `DataNotFoundError`       | Same as classes; must inherit from `Exception`                   |\n",
    "| **Functions**                  | `lowercase_with_underscores`  | `load_data()`             | Verbs; descriptive of behavior                                   |\n",
    "| **Methods**                    | `lowercase_with_underscores`  | `get_summary()`           | Same as functions                                                |\n",
    "| **Global / Local Variables**   | `lowercase_with_underscores`  | `total_sum`, `count`      | Meaningful names; avoid one-letter names (except in short loops) |\n",
    "| **Constants**                  | `UPPERCASE_WITH_UNDERSCORES`  | `MAX_RETRIES`, `PI`       | Typically defined at module level                                |\n",
    "| **Instance Variables**         | `self.variable_name`          | `self.data_frame`         | Use normal function-style naming                                 |\n",
    "| **Class Variables**            | `Class.variable_name`         | `Employee.total_count`    | Referenced via class name                                        |\n",
    "| **Private Variables**          | `_single_leading_underscore`  | `_cache`, `_buffer_size`  | Indicates \"internal use\" only                                    |\n",
    "| **Strongly Private Variables** | `__double_leading_underscore` | `__token`, `__parse_data` | Triggers name mangling                                           |\n",
    "| **Special Variables (Dunder)** | `__double_underscores__`      | `__init__`, `__str__`     | Reserved for Python internals                                    |\n"
   ]
  },
  {
   "cell_type": "markdown",
   "id": "0aff5498",
   "metadata": {},
   "source": []
  }
 ],
 "metadata": {
  "language_info": {
   "name": "python"
  }
 },
 "nbformat": 4,
 "nbformat_minor": 5
}
