{
 "cells": [
  {
   "cell_type": "markdown",
   "id": "76db3d43",
   "metadata": {},
   "source": [
    "## 📘 1. Lemmatization: Theoretical Overview\n",
    "Definition:\n",
    "Lemmatization is the process of reducing a word to its dictionary base form (lemma), considering the context (POS tag) and morphological analysis of the word.\n",
    "\n",
    "Difference from Stemming:\n",
    "Unlike stemming, which chops off suffixes, lemmatization uses a lexical knowledge base (like WordNet) and returns a valid dictionary word.\n",
    "\n",
    "### 🧰 2. Lemmatizers Available in NLTK\n",
    "| Lemmatizer                                                                      | Description                           | Backend Resource         |\n",
    "| ------------------------------------------------------------------------------- | ------------------------------------- | ------------------------ |\n",
    "| `WordNetLemmatizer`                                                             | Most commonly used lemmatizer in NLTK | WordNet lexical database |\n",
    "| *(Other lemmatizers like spaCy and TextBlob are external and not part of NLTK)* |                                       |                          |\n",
    "\n",
    "\n",
    "🔹 NLTK does not provide multiple lemmatizers. WordNetLemmatizer is the primary implementation in NLTK. For advanced lemmatization, spaCy or StanfordNLP is used.\n",
    "\n"
   ]
  },
  {
   "cell_type": "markdown",
   "id": "f58b5599",
   "metadata": {},
   "source": [
    "### 🧪 3. Example Code: NLTK Lemmatization"
   ]
  },
  {
   "cell_type": "code",
   "execution_count": 4,
   "id": "e59dd91e",
   "metadata": {},
   "outputs": [
    {
     "name": "stdout",
     "output_type": "stream",
     "text": [
      "Without POS:\n",
      "running → running\n",
      "ran → ran\n",
      "runner → runner\n",
      "better → better\n",
      "worst → worst\n",
      "flies → fly\n",
      "studies → study\n",
      "feet → foot\n",
      "\n",
      "With POS tagging:\n",
      "running → run\n",
      "ran → run\n",
      "runner → runner\n",
      "better → better\n",
      "worst → worst\n",
      "flies → fly\n",
      "studies → study\n",
      "feet → feet\n"
     ]
    }
   ],
   "source": [
    "from nltk.stem import WordNetLemmatizer\n",
    "\n",
    "lemmatizer = WordNetLemmatizer()\n",
    "\n",
    "words = ['running', 'ran', 'runner', 'better', 'worst', 'flies', 'studies', 'feet']\n",
    "\n",
    "# Without POS (default = noun)\n",
    "print(\"Without POS:\")\n",
    "for word in words:\n",
    "    print(f\"{word} → {lemmatizer.lemmatize(word)}\")\n",
    "\n",
    "# With POS\n",
    "print(\"\\nWith POS tagging:\")\n",
    "for word in words:\n",
    "    print(f\"{word} → {lemmatizer.lemmatize(word, pos='v')}\")  # 'v' = verb\n",
    "\n",
    "## pos means part of speech, which helps the lemmatizer understand the context of the word.\n",
    "# Pos examples: \n",
    "# - 'n' for noun\n",
    "# - 'v' for verb\n",
    "# - 'a' for adjective\n",
    "# - 'r' for adverb\n",
    "# - 's' for singular noun\n",
    "# - 'p' for plural noun\n",
    "# - 'l' for lemmatized form\n",
    "# - 'd' for past tense\n",
    "# - 'i' for gerund\n",
    "# - 'f' for future tense\n",
    "# - 'c' for comparative\n",
    "# - 's' for superlative\n",
    "# - 't' for infinitive\n",
    "# - 'g' for gerund\n",
    "# - 'x' for unknown\n",
    "# - 'y' for possessive"
   ]
  },
  {
   "cell_type": "markdown",
   "id": "0975ef6e",
   "metadata": {},
   "source": [
    "### ✅ 4. Advantages of Lemmatization\n",
    "| Advantage                     | Description                                                    |\n",
    "| ----------------------------- | -------------------------------------------------------------- |\n",
    "| ✅ **Semantically Accurate**   | Respects word context and returns correct base form            |\n",
    "| ✅ **Valid Words**             | Output is always a dictionary word, improving interpretability |\n",
    "| ✅ **Handles Irregular Forms** | Better at resolving forms like *went → go*, *better → good*    |\n",
    "| ✅ **Useful for ML Pipelines** | Reduces vocabulary size while maintaining semantics            |\n",
    "| ✅ **POS Support**             | Allows more granular control using parts-of-speech tagging     |\n",
    "\n",
    "### ⚠️ 5. Disadvantages of Lemmatization\n",
    "| Disadvantage                        | Description                                                       |\n",
    "| ----------------------------------- | ----------------------------------------------------------------- |\n",
    "| ❌ **Slower than Stemming**          | Requires dictionary lookup and morphological analysis             |\n",
    "| ❌ **POS Tag Required for Accuracy** | Without POS, defaults to noun (can lead to incorrect results)     |\n",
    "| ❌ **Limited to English in NLTK**    | WordNet is English-only; no multilingual lemmatization            |\n",
    "| ❌ **Less Aggressive**               | May retain inflections when stemming would normalize aggressively |\n",
    "\n",
    "### 📊 6. Summary: When to Use Lemmatization\n",
    "| Use Case                                                          | Recommendation                       |\n",
    "| ----------------------------------------------------------------- | ------------------------------------ |\n",
    "| **Semantic NLP tasks** (e.g., topic modeling, sentiment analysis) | ✅ Use Lemmatization                  |\n",
    "| **Search engines / IR systems**                                   | ✅ Lemmatization improves precision   |\n",
    "| **Real-time/low-latency apps**                                    | ❌ Consider stemming for speed        |\n",
    "| **Multi-lingual NLP**                                             | ❌ Use spaCy or other language models |\n"
   ]
  },
  {
   "cell_type": "markdown",
   "id": "b1d7ae35",
   "metadata": {},
   "source": []
  }
 ],
 "metadata": {
  "kernelspec": {
   "display_name": "Python 3",
   "language": "python",
   "name": "python3"
  },
  "language_info": {
   "codemirror_mode": {
    "name": "ipython",
    "version": 3
   },
   "file_extension": ".py",
   "mimetype": "text/x-python",
   "name": "python",
   "nbconvert_exporter": "python",
   "pygments_lexer": "ipython3",
   "version": "3.13.5"
  }
 },
 "nbformat": 4,
 "nbformat_minor": 5
}
