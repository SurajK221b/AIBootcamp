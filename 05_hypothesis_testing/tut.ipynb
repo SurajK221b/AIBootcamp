{
 "cells": [
  {
   "cell_type": "markdown",
   "id": "8d57238b",
   "metadata": {},
   "source": [
    "### Hypothesis Testing: Overview\n",
    "| **Aspect**             | **Description**                                                                   |\n",
    "| ---------------------- | --------------------------------------------------------------------------------- |\n",
    "| **Objective**          | To make data-driven decisions about a population based on sample data.            |\n",
    "| **Use Case**           | Comparing group means, validating claims, A/B testing, model accuracy testing.    |\n",
    "| **Real-World Example** | Testing whether a new marketing strategy increases sales compared to the old one. |\n",
    "| **Typical Output**     | p-value, confidence intervals, test statistic (Z, t, F, χ², etc.)                 |\n"
   ]
  },
  {
   "cell_type": "markdown",
   "id": "34ad6119",
   "metadata": {},
   "source": [
    "#### Key Concepts and Terminology\n",
    "| **Term**                              | **Definition**                                                              |\n",
    "| ------------------------------------- | --------------------------------------------------------------------------- |\n",
    "| **Null Hypothesis (H₀)**              | The default assumption (e.g., no difference, no effect).                    |\n",
    "| **Alternative Hypothesis (H₁ or Hₐ)** | The claim you're testing (e.g., there *is* a difference or effect).         |\n",
    "| **Significance Level (α)**            | Threshold for rejecting H₀, commonly set at 0.05 or 0.01.                   |\n",
    "| **p-value**                           | Probability of observing results as extreme as the data, under H₀.          |\n",
    "| **Test Statistic**                    | A standardized value (Z, t, χ², F) used to assess the strength of evidence. |\n",
    "| **Type I Error (α)**                  | Rejecting H₀ when it is actually true.                                      |\n",
    "| **Type II Error (β)**                 | Failing to reject H₀ when H₁ is true.                                       |\n",
    "| **Power (1 − β)**                     | Probability of correctly rejecting H₀ when H₁ is true.                      |\n"
   ]
  },
  {
   "cell_type": "markdown",
   "id": "7bb57669",
   "metadata": {},
   "source": [
    "### Hypothesis Testing Workflow\n",
    "| **Step**                                   | **Description**                                                             |\n",
    "| ------------------------------------------ | --------------------------------------------------------------------------- |\n",
    "| 1. **State Hypotheses**                    | Define H₀ and H₁ clearly.                                                   |\n",
    "| 2. **Select Significance Level (α)**       | Typically 0.05.                                                             |\n",
    "| 3. **Choose Test Type**                    | Z-test, t-test, chi-square, ANOVA, etc. based on sample size and data type. |\n",
    "| 4. **Compute Test Statistic**              | Use sample data to calculate Z, t, F, etc.                                  |\n",
    "| 5. **Determine p-value or critical value** | Evaluate how extreme your test statistic is.                                |\n",
    "| 6. **Make Decision**                       | If p < α, reject H₀; otherwise, fail to reject H₀.                          |\n",
    "| 7. **Interpret Results**                   | Frame in context of your business or research objective.                    |\n"
   ]
  },
  {
   "cell_type": "markdown",
   "id": "7d8c1add",
   "metadata": {},
   "source": [
    "###  Types of Hypothesis Tests\n",
    "| **Test**            | **Use Case**                                    | **Assumptions**                                |\n",
    "| ------------------- | ----------------------------------------------- | ---------------------------------------------- |\n",
    "| **Z-test**          | Known population SD or n > 30                   | Normal distribution                            |\n",
    "| **t-test**          | Unknown SD, n < 30                              | Normality or large enough sample               |\n",
    "| **Chi-square test** | Categorical data, independence, goodness-of-fit | Random sampling, expected freq ≥ 5             |\n",
    "| **ANOVA**           | Comparing more than 2 group means               | Normality, equal variances, independent groups |\n"
   ]
  },
  {
   "cell_type": "markdown",
   "id": "f2ab4204",
   "metadata": {},
   "source": [
    "### Null Hypothesis (H₀) vs. Alternative Hypothesis (H₁)\n",
    "| **Aspect**                  | **Null Hypothesis (H₀)**                                              | **Alternative Hypothesis (H₁ or Hₐ)**                                    |\n",
    "| --------------------------- | --------------------------------------------------------------------- | ------------------------------------------------------------------------ |\n",
    "| **Definition**              | A default statement asserting no effect, no difference, or status quo | A competing claim suggesting a significant effect, difference, or change |\n",
    "| **Statistical Role**        | Assumed true unless evidence suggests otherwise                       | Accepted only if data provides strong evidence against H₀                |\n",
    "| **Mathematical Expression** | Commonly uses equality: `H₀: μ = μ₀`, `p = p₀`                        | Uses inequality: `H₁: μ ≠ μ₀`, `μ > μ₀`, or `μ < μ₀`                     |\n",
    "| **Decision Logic**          | Retain unless p-value < α                                             | Reject H₀ in favor of H₁ when p-value < α                                |\n",
    "| **Burden of Proof**         | Lies on the test to disprove H₀                                       | Gains support only if H₀ is statistically rejected                       |\n",
    "| **Example 1** (Medical)     | \"The new drug has no effect on recovery time.\"                        | \"The new drug reduces recovery time.\"                                    |\n",
    "| **Example 2** (A/B Testing) | \"Version A and Version B perform equally well.\"                       | \"Version B performs better than Version A.\"                              |\n",
    "| **Default Assumption**      | Considered true until data proves otherwise                           | Treated as speculative until evidence supports it                        |\n"
   ]
  },
  {
   "cell_type": "markdown",
   "id": "609eaac0",
   "metadata": {},
   "source": [
    "### Interview Q&A Snippets\n",
    "| **Question**                                | **Answer**                                                                                            |\n",
    "| ------------------------------------------- | ----------------------------------------------------------------------------------------------------- |\n",
    "| What is the null hypothesis?                | It's the assumption that there is no statistically significant effect or difference.                  |\n",
    "| Can we “accept” the null hypothesis?        | No, we either **reject** or **fail to reject** H₀. We never “accept” it as truth.                     |\n",
    "| Why is H₀ always assumed true at the start? | To provide a neutral benchmark and ensure the burden of proof is on demonstrating significant change. |\n"
   ]
  },
  {
   "cell_type": "markdown",
   "id": "5e425880",
   "metadata": {},
   "source": []
  }
 ],
 "metadata": {
  "language_info": {
   "name": "python"
  }
 },
 "nbformat": 4,
 "nbformat_minor": 5
}
