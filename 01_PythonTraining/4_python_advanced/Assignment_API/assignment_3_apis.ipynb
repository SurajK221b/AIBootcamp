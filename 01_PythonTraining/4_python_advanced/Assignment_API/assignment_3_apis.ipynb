{
 "cells": [
  {
   "cell_type": "markdown",
   "id": "627bc77b",
   "metadata": {},
   "source": [
    "<h2 align=\"center\" style=\"color:blue\">Codebasics Python Course: Exercise - APIs in Python</h2>"
   ]
  },
  {
   "cell_type": "markdown",
   "id": "9af20118",
   "metadata": {},
   "source": [
    "The Open Brewery DB API offers detailed data on various breweries across the United States. \n",
    "\n",
    "--\n",
    "\n",
    "### Task 1: Fetch Brewery Data for Non-alcoholic Drink manufacturer - US client\n",
    "\n",
    "**Scenario:**\n",
    "\n",
    "As Tony Sharma mentioned during the call, he needs details about all the breweries in a specific state.\n",
    "\n",
    "Your task is to use the Open Brewery DB API to fetch and display brewery details based on a given state, which will be helpful for his client call tomorrow.\n",
    "\n",
    "**Write a Python program that:**\n",
    "\n",
    "1. Uses the `requests` library to call the Open Brewery DB API to fetch brewery data based on a given state.\n",
    "2. Parses the JSON response.\n",
    "3. Extracts and displays the name, type, and location (city) of each brewery.\n",
    "4. Handles errors gracefully (e.g., network issues or invalid API requests).\n",
    "\n",
    "Example URL for Texas Breweries: `https://api.openbrewerydb.org/breweries?by_state=texas`"
   ]
  },
  {
   "cell_type": "code",
   "execution_count": 2,
   "id": "fb8e0c48",
   "metadata": {},
   "outputs": [
    {
     "ename": "NameError",
     "evalue": "name 'fetch_breweries_by_state' is not defined",
     "output_type": "error",
     "traceback": [
      "\u001b[31m---------------------------------------------------------------------------\u001b[39m",
      "\u001b[31mNameError\u001b[39m                                 Traceback (most recent call last)",
      "\u001b[36mCell\u001b[39m\u001b[36m \u001b[39m\u001b[32mIn[2]\u001b[39m\u001b[32m, line 19\u001b[39m\n\u001b[32m     17\u001b[39m \u001b[38;5;66;03m#usage\u001b[39;00m\n\u001b[32m     18\u001b[39m state=\u001b[33m\"\u001b[39m\u001b[33mIndia\u001b[39m\u001b[33m\"\u001b[39m\n\u001b[32m---> \u001b[39m\u001b[32m19\u001b[39m breweries_info = \u001b[43mfetch_breweries_by_state\u001b[49m(state)\n\u001b[32m     21\u001b[39m \u001b[38;5;28mprint\u001b[39m(\u001b[33mf\u001b[39m\u001b[33m\"\u001b[39m\u001b[33mBreweries in \u001b[39m\u001b[38;5;132;01m{\u001b[39;00mstate\u001b[38;5;132;01m}\u001b[39;00m\u001b[33m:\u001b[39m\u001b[33m\"\u001b[39m)\n\u001b[32m     22\u001b[39m \u001b[38;5;28;01mfor\u001b[39;00m brewery \u001b[38;5;129;01min\u001b[39;00m breweries_info:\n",
      "\u001b[31mNameError\u001b[39m: name 'fetch_breweries_by_state' is not defined"
     ]
    }
   ],
   "source": [
    "# write your code here\n",
    "import requests\n",
    "\n",
    "def fetch_brewries_by_state(state):\n",
    "    url=\"https://api.openbrewerydb.org/breweries?by_state=texas\"\n",
    "\n",
    "    try:\n",
    "        response = requests.get(url)\n",
    "        response.raise_for_status()\n",
    "        breweries = response.json()\n",
    "        if not breweries:\n",
    "            return \"no data found\"\n",
    "        return breweries\n",
    "    except requests.exceptions.HTTPError as err:\n",
    "        return err\n",
    "\n",
    "#usage\n",
    "state=\"India\"\n",
    "breweries_info = fetch_breweries_by_state(state)\n",
    "\n",
    "print(f\"Breweries in {state}:\")\n",
    "for brewery in breweries_info:\n",
    "    name = brewery['name']\n",
    "    brew_type = brewery['brewery_type']\n",
    "    location = f\"{brewery['city']}, {brewery['state']}\"\n",
    "    print(f\"- {name} ({brew_type}) located in {location}\")"
   ]
  },
  {
   "cell_type": "markdown",
   "id": "d7533165",
   "metadata": {},
   "source": [
    "\n",
    "JSONPlaceholder offers a set of APIs for typical CRUD (Create, Read, Update, Delete) operations, making it an excellent resource for learning and testing HTTP requests.\n",
    "\n",
    "--\n",
    "\n",
    "### Task 2: Fetch User Data for AtliQ Client Project\n",
    "\n",
    "**Scenario:** As a quick favor, Loki shared an ad-hoc task with you. He needs help with a user profile component for an Atliq client application, using JSONPlaceholder to simulate fetching user data.\n",
    "\n",
    "**Objective:** Create a function `fetch_user_data` that uses JSONPlaceholder’s API to retrieve and format user details.\n",
    "\n",
    "**Steps:**\n",
    "\n",
    "1. Fetch user data from JSONPlaceholder.\n",
    "2. Format the data to include 'name', 'email', and 'address'.\n",
    "3. Return the data as a dictionary.\n",
    "\n",
    "**Expected Output:**\n",
    "\n",
    "```\n",
    "{\n",
    "    'name': 'Leanne Graham',\n",
    "    'email': 'Sincere@april.biz',\n",
    "    'address': 'Kulas Light, Gwenborough'\n",
    "}\n",
    "\n",
    "\n",
    "\n",
    "```"
   ]
  },
  {
   "cell_type": "code",
   "execution_count": 5,
   "id": "bc84ea40",
   "metadata": {},
   "outputs": [
    {
     "data": {
      "text/plain": [
       "{'name': 'Leanne Graham',\n",
       " 'email': 'Sincere@april.biz',\n",
       " 'address': 'Kulas Light, Gwenborough'}"
      ]
     },
     "execution_count": 5,
     "metadata": {},
     "output_type": "execute_result"
    }
   ],
   "source": [
    "# write your code here\n",
    "\n",
    "import requests\n",
    "\n",
    "def fetch_user_data(user_id):\n",
    "    \"\"\"Fetch user data for a specified user ID from JSONPlaceholder API.\"\"\"\n",
    "    url = f\"https://jsonplaceholder.typicode.com/users/{user_id}\"\n",
    "    try:\n",
    "        response = requests.get(url)\n",
    "        response.raise_for_status()  # Raise an HTTPError for bad responses\n",
    "        data = response.json()\n",
    "        user_name = data['name']\n",
    "        user_email = data['email']\n",
    "        user_address = f\"{data['address']['street']}, {data['address']['city']}\"\n",
    "        return {\n",
    "            'name': user_name, \n",
    "            'email': user_email, \n",
    "            'address': user_address\n",
    "        }\n",
    "    except requests.exceptions.HTTPError as err:\n",
    "        return f\"HTTP error occurred: {err}\"\n",
    "    except Exception as err:\n",
    "        return f\"An error occurred: {err}\"\n",
    "\n",
    "# Usage\n",
    "user_id = 1\n",
    "user_info = fetch_user_data(user_id)\n",
    "user_info\n"
   ]
  },
  {
   "cell_type": "code",
   "execution_count": null,
   "id": "d665284c-cf7f-4480-8f38-83a72fc185b2",
   "metadata": {},
   "outputs": [],
   "source": []
  }
 ],
 "metadata": {
  "kernelspec": {
   "display_name": "Python 3",
   "language": "python",
   "name": "python3"
  },
  "language_info": {
   "codemirror_mode": {
    "name": "ipython",
    "version": 3
   },
   "file_extension": ".py",
   "mimetype": "text/x-python",
   "name": "python",
   "nbconvert_exporter": "python",
   "pygments_lexer": "ipython3",
   "version": "3.13.5"
  }
 },
 "nbformat": 4,
 "nbformat_minor": 5
}
