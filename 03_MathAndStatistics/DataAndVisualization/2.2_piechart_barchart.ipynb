{
 "cells": [
  {
   "cell_type": "markdown",
   "id": "ae637b6c",
   "metadata": {},
   "source": [
    "### Decision Matrix: When to Use Pie vs Bar Chart\n",
    "| **Criterion**                     | **Use Pie Chart**                           | **Use Bar Chart**                                              |\n",
    "| --------------------------------- | ------------------------------------------- | -------------------------------------------------------------- |\n",
    "| **Purpose**                       | Show parts of a whole                       | Compare values across categories                               |\n",
    "| **Total adds up to 100%**         | ✅ Recommended                               | 🚫 Not required                                                |\n",
    "| **Number of categories**          | Ideal when 5 or fewer                       | Can handle many categories                                     |\n",
    "| **Emphasis on proportions**       | ✅ Clear for visualizing share or percentage | 🚫 Not ideal for proportions                                   |\n",
    "| **Precise comparison required**   | 🚫 Difficult to judge exact differences     | ✅ Better for exact value comparison                            |\n",
    "| **Data values are close in size** | 🚫 Hard to distinguish                      | ✅ Easily distinguishable                                       |\n",
    "| **Need for ranking or ordering**  | 🚫 Not effective                            | ✅ Can order bars by value for better clarity                   |\n",
    "| **Space efficiency**              | 🚫 Takes more space                         | ✅ More scalable with many categories                           |\n",
    "| **Interactivity requirement**     | Used for static displays                    | Easier to enhance with interactive dashboards (e.g., tooltips) |\n"
   ]
  },
  {
   "cell_type": "markdown",
   "id": "81a4fb47",
   "metadata": {},
   "source": [
    "### Interview Questions and Strategic Answers\n",
    "| **Question**                                                   | **Recommended Answer**                                                                                                   |\n",
    "| -------------------------------------------------------------- | ------------------------------------------------------------------------------------------------------------------------ |\n",
    "| When should you prefer a bar chart over a pie chart?           | When you need to compare values precisely across categories or deal with more than 4–5 categories.                       |\n",
    "| Why is a pie chart not recommended for more than 5 categories? | It becomes visually cluttered and makes it hard to differentiate between similar-sized slices.                           |\n",
    "| Can both pie and bar charts be used for categorical data?      | Yes, but bar charts are preferred when exact comparisons or trend analysis is needed.                                    |\n",
    "| What is a key limitation of pie charts in business dashboards? | They don’t scale well and often lead to misinterpretation when slice sizes are close or the chart has too many segments. |\n",
    "| What’s an alternative to pie charts for proportion analysis?   | Stacked bar charts, donut charts, or 100% stacked column charts offer clearer proportional visualization.                |\n"
   ]
  },
  {
   "cell_type": "markdown",
   "id": "b5d13e49",
   "metadata": {},
   "source": [
    "###  Summary Recommendation\n",
    "| **Use Case**                                         | **Recommended Chart** |\n",
    "| ---------------------------------------------------- | --------------------- |\n",
    "| Show market share of 3 competitors                   | Pie Chart             |\n",
    "| Show product sales for 7 different SKUs              | Bar Chart             |\n",
    "| Compare customer ratings (1-5 stars) across products | Bar Chart             |\n",
    "| Show department-wise budget allocation (out of 100%) | Pie Chart             |\n",
    "| Visualize survey responses across age groups         | Bar Chart             |\n"
   ]
  },
  {
   "cell_type": "markdown",
   "id": "e6f10e00",
   "metadata": {},
   "source": [
    "###  Common Types of Charts in Statistics and Data Visualization\n",
    "| **Chart Type**   | **Description**                                                    | **Data Type**                  | **Best Use Case**                                       |\n",
    "| ---------------- | ------------------------------------------------------------------ | ------------------------------ | ------------------------------------------------------- |\n",
    "| **Pie Chart**    | Circular chart showing parts of a whole                            | Categorical (Nominal)          | Show percentage/proportions for limited categories      |\n",
    "| **Bar Chart**    | Rectangular bars to compare category-wise values                   | Categorical (Nominal/Ordinal)  | Compare values across multiple categories               |\n",
    "| **Column Chart** | Vertical version of bar chart                                      | Categorical                    | Same as bar chart; often used for time-based categories |\n",
    "| **Line Chart**   | Points connected by lines to show trends over time                 | Continuous (Time Series)       | Show trends, patterns, or changes over time             |\n",
    "| **Histogram**    | Bars showing frequency distribution of continuous data             | Continuous (Numerical)         | Visualize data distribution or skewness                 |\n",
    "| **Box Plot**     | Displays median, quartiles, outliers, and spread of numerical data | Continuous                     | Identify distribution, IQR, and outliers                |\n",
    "| **Scatter Plot** | Points showing relationships between two continuous variables      | Continuous                     | Correlation analysis, regression patterns               |\n",
    "| **Heatmap**      | Matrix-style chart using color intensity to show values            | Numerical Matrix / Categorical | Correlation matrix, categorical interaction             |\n",
    "| **Area Chart**   | Like a line chart, but area under the line is filled               | Time Series / Continuous       | Cumulative trends over time                             |\n",
    "| **Donut Chart**  | Variant of pie chart with a hollow center                          | Categorical                    | Similar to pie, more readable when annotated            |\n"
   ]
  },
  {
   "cell_type": "markdown",
   "id": "4531ac86",
   "metadata": {},
   "source": [
    "### 🧪 Examples of Chart Types (Python - matplotlib / seaborn)\n",
    "| **Chart**    | **Code Snippet** (Simplified)                           | **Python Library** |\n",
    "| ------------ | ------------------------------------------------------- | ------------------ |\n",
    "| Bar Chart    | `plt.bar(categories, values)`                           | `matplotlib`       |\n",
    "| Pie Chart    | `plt.pie(sizes, labels=labels, autopct='%1.1f%%')`      | `matplotlib`       |\n",
    "| Line Chart   | `plt.plot(x, y)`                                        | `matplotlib`       |\n",
    "| Histogram    | `plt.hist(data, bins=10)`                               | `matplotlib`       |\n",
    "| Box Plot     | `sns.boxplot(data=df, x='group', y='value')`            | `seaborn`          |\n",
    "| Scatter Plot | `plt.scatter(x, y)`                                     | `matplotlib`       |\n",
    "| Heatmap      | `sns.heatmap(corr_matrix, annot=True, cmap='coolwarm')` | `seaborn`          |\n"
   ]
  },
  {
   "cell_type": "markdown",
   "id": "fdbd2eda",
   "metadata": {},
   "source": []
  }
 ],
 "metadata": {
  "language_info": {
   "name": "python"
  }
 },
 "nbformat": 4,
 "nbformat_minor": 5
}
