{
 "cells": [
  {
   "cell_type": "markdown",
   "id": "bb144a81",
   "metadata": {},
   "source": [
    "### Conceptual Overview: Derivative vs. Partial Derivative\n",
    "| **Aspect**            | **Derivative**                                                                   | **Partial Derivative**                                                                                                           |\n",
    "| --------------------- | -------------------------------------------------------------------------------- | -------------------------------------------------------------------------------------------------------------------------------- |\n",
    "| **Definition**        | Measures the rate of change of a function with respect to a **single variable**. | Measures the rate of change of a **multivariable function** with respect to **one variable at a time**, keeping others constant. |\n",
    "| **Notation**          | $\\frac{dy}{dx}$, $f'(x)$                                                         | $\\frac{\\partial f}{\\partial x}$, $\\partial_x f$                                                                                  |\n",
    "| **Use Case**          | Single-variable calculus (e.g., line slope, curve behavior).                     | Multivariate optimization (e.g., cost function with many parameters).                                                            |\n",
    "| **Application in ML** | Not common, unless dealing with 1D data.                                         | Widely used in **Gradient Descent**, **Backpropagation**, **Jacobian**, etc.                                                     |\n",
    "| **Example Function**  | $f(x) = x^2$                                                                     | $f(x, y) = x^2 + y^2$                                                                                                            |\n",
    "| **Derivative**        | $\\frac{df}{dx} = 2x$                                                             | $\\frac{\\partial f}{\\partial x} = 2x$,<br>$\\frac{\\partial f}{\\partial y} = 2y$                                                    |\n"
   ]
  },
  {
   "cell_type": "code",
   "execution_count": 1,
   "id": "bbc4bcb1",
   "metadata": {},
   "outputs": [
    {
     "name": "stdout",
     "output_type": "stream",
     "text": [
      "Derivative of f(x) = x^2 + 3x w.r.t x: 2*x + 3\n",
      "∂f/∂x: 2*x + 3*y\n",
      "∂f/∂y: 3*x + 2*y\n"
     ]
    }
   ],
   "source": [
    "from sympy import symbols, diff\n",
    "\n",
    "# Define symbols\n",
    "x, y = symbols('x y')\n",
    "\n",
    "# Derivative Example: f(x) = x^2 + 3x\n",
    "f1 = x**2 + 3*x\n",
    "df1_dx = diff(f1, x)\n",
    "print(f\"Derivative of f(x) = x^2 + 3x w.r.t x: {df1_dx}\")\n",
    "\n",
    "# Partial Derivative Example: f(x, y) = x^2 + y^2 + 3xy\n",
    "f2 = x**2 + y**2 + 3*x*y\n",
    "df2_dx = diff(f2, x)\n",
    "df2_dy = diff(f2, y)\n",
    "print(f\"∂f/∂x: {df2_dx}\")\n",
    "print(f\"∂f/∂y: {df2_dy}\")"
   ]
  },
  {
   "cell_type": "code",
   "execution_count": null,
   "id": "711a0d8f",
   "metadata": {},
   "outputs": [],
   "source": []
  }
 ],
 "metadata": {
  "kernelspec": {
   "display_name": "Python 3",
   "language": "python",
   "name": "python3"
  },
  "language_info": {
   "codemirror_mode": {
    "name": "ipython",
    "version": 3
   },
   "file_extension": ".py",
   "mimetype": "text/x-python",
   "name": "python",
   "nbconvert_exporter": "python",
   "pygments_lexer": "ipython3",
   "version": "3.13.5"
  }
 },
 "nbformat": 4,
 "nbformat_minor": 5
}
