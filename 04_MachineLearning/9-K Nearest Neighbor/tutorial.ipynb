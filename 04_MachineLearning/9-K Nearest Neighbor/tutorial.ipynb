{
 "cells": [
  {
   "cell_type": "markdown",
   "id": "180a9e81",
   "metadata": {},
   "source": [
    "## K-Nearest Neighbors (KNN) – Machine Learning Algorithm Overview\n",
    "| **Aspect**             | **Details**                                                                                                                                             |\n",
    "| ---------------------- | ------------------------------------------------------------------------------------------------------------------------------------------------------- |\n",
    "| **Definition**         | K-Nearest Neighbors (KNN) is a **non-parametric**, **lazy learning** algorithm used for **classification** and **regression** tasks.                    |\n",
    "| **Core Idea**          | It classifies or predicts a data point based on the majority class (or average in regression) among its **'K' nearest neighbors** in the feature space. |\n",
    "| **Lazy Learning**      | KNN does **not learn any model** during the training phase. It simply **stores the training data**, and all computations are deferred until prediction. |\n",
    "| **Distance Metric**    | Most commonly **Euclidean Distance** is used, but others like **Manhattan**, **Minkowski**, or **Hamming** (for categorical data) are also applicable.  |\n",
    "| **Hyperparameter (K)** | The number of neighbors (**K**) is a key parameter; optimal value is typically chosen using **cross-validation**.                                       |\n",
    "\n",
    "### When to Use KNN\n",
    "| **Suitable Scenarios**                                                                           |\n",
    "| ------------------------------------------------------------------------------------------------ |\n",
    "| When the dataset is **small to medium-sized** (KNN can be slow on large datasets).               |\n",
    "| When **non-linear decision boundaries** are expected, as KNN naturally adapts to complex shapes. |\n",
    "| For tasks where **interpretability** is important—KNN decisions are intuitive.                   |\n",
    "| When features are on a similar scale (or after proper **normalization/scaling**).                |\n",
    "\n",
    "### How It Works – Step-by-Step\n",
    "\n",
    "Choose K – Select the number of neighbors (K).\n",
    "\n",
    "Compute Distance – Calculate the distance between the new data point and all training data points.\n",
    "\n",
    "Select Neighbors – Identify the K closest data points.\n",
    "\n",
    "Vote/Average –\n",
    "\n",
    "Classification: Majority vote of the K neighbors’ labels.\n",
    "\n",
    "Regression: Take the average of the K neighbors’ values.\n",
    "\n",
    "Assign Output – Output the predicted class/label or value.\n",
    "\n"
   ]
  },
  {
   "cell_type": "markdown",
   "id": "86e0c659",
   "metadata": {},
   "source": []
  },
  {
   "cell_type": "code",
   "execution_count": 1,
   "id": "032a1e21",
   "metadata": {},
   "outputs": [
    {
     "name": "stdout",
     "output_type": "stream",
     "text": [
      "Accuracy: 1.0\n"
     ]
    }
   ],
   "source": [
    "from sklearn.datasets import load_iris\n",
    "from sklearn.model_selection import train_test_split\n",
    "from sklearn.preprocessing import StandardScaler\n",
    "from sklearn.neighbors import KNeighborsClassifier\n",
    "from sklearn.metrics import accuracy_score\n",
    "\n",
    "# Load data\n",
    "data = load_iris()\n",
    "X, y = data.data, data.target\n",
    "\n",
    "# Split data\n",
    "X_train, X_test, y_train, y_test = train_test_split(X, y, test_size=0.2, random_state=42)\n",
    "\n",
    "# Normalize features\n",
    "scaler = StandardScaler()\n",
    "X_train_scaled = scaler.fit_transform(X_train)\n",
    "X_test_scaled = scaler.transform(X_test)\n",
    "\n",
    "# Instantiate and train KNN\n",
    "knn = KNeighborsClassifier(n_neighbors=3)\n",
    "knn.fit(X_train_scaled, y_train)\n",
    "\n",
    "# Predict\n",
    "y_pred = knn.predict(X_test_scaled)\n",
    "\n",
    "# Evaluate\n",
    "print(\"Accuracy:\", accuracy_score(y_test, y_pred))\n"
   ]
  },
  {
   "cell_type": "markdown",
   "id": "5be43f7c",
   "metadata": {},
   "source": [
    "### Advantages\n",
    "Simple to implement and understand.\n",
    "\n",
    "No training phase.\n",
    "\n",
    "Works well with small datasets and non-linear boundaries.\n",
    "\n",
    "### Disadvantages\n",
    "Computationally expensive at prediction time (due to distance calculation with all points).\n",
    "\n",
    "Performance degrades with high-dimensional data (curse of dimensionality).\n",
    "\n",
    "Requires careful feature scaling.\n",
    "\n",
    "Sensitive to irrelevant features or noisy data.\n",
    "\n",
    "### Real-Time Use Cases\n",
    "| **Domain**        | **Use Case**                                                  |\n",
    "| ----------------- | ------------------------------------------------------------- |\n",
    "| E-commerce        | Product recommendation based on customer behavior similarity. |\n",
    "| Healthcare        | Disease classification from patient symptoms.                 |\n",
    "| Finance           | Credit risk classification of customers.                      |\n",
    "| Image Recognition | Handwritten digit recognition (e.g., MNIST).                  |\n"
   ]
  },
  {
   "cell_type": "markdown",
   "id": "8720d9c0",
   "metadata": {},
   "source": [
    "\n"
   ]
  }
 ],
 "metadata": {
  "kernelspec": {
   "display_name": "Python 3",
   "language": "python",
   "name": "python3"
  },
  "language_info": {
   "codemirror_mode": {
    "name": "ipython",
    "version": 3
   },
   "file_extension": ".py",
   "mimetype": "text/x-python",
   "name": "python",
   "nbconvert_exporter": "python",
   "pygments_lexer": "ipython3",
   "version": "3.13.5"
  }
 },
 "nbformat": 4,
 "nbformat_minor": 5
}
