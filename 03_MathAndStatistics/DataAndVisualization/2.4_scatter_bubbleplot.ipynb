{
 "cells": [
  {
   "cell_type": "markdown",
   "id": "2d87eaa5",
   "metadata": {},
   "source": [
    "### Scatter Plot vs Bubble Plot\n",
    "| **Aspect**      | **Scatter Plot**                                                          | **Bubble Plot**                                                                              |\n",
    "| --------------- | ------------------------------------------------------------------------- | -------------------------------------------------------------------------------------------- |\n",
    "| **Definition**  | A plot showing relationship between two continuous variables using points | An enhanced scatter plot where the size of the points (bubbles) represents a third variable  |\n",
    "| **Axes**        | X-axis and Y-axis represent two quantitative variables                    | X-axis and Y-axis represent two variables; bubble size encodes a third quantitative variable |\n",
    "| **Purpose**     | Visualize correlation, clusters, or patterns between two variables        | Visualize correlation along with magnitude/intensity of a third variable                     |\n",
    "| **Data Type**   | Continuous variables                                                      | Continuous variables plus an additional continuous variable for bubble size                  |\n",
    "| **Use Cases**   | Correlation analysis, regression diagnostics, outlier detection           | Multi-dimensional data visualization, market segmentation, resource allocation               |\n",
    "| **Limitations** | Limited to two dimensions                                                 | Can become cluttered if bubbles overlap; harder to interpret size differences                |\n"
   ]
  },
  {
   "cell_type": "markdown",
   "id": "83cce923",
   "metadata": {},
   "source": [
    "###  Examples in Python (matplotlib)\n",
    "| **Plot Type**    | **Code Snippet**                                                                                                                                                | **Explanation**                                   |\n",
    "| ---------------- | --------------------------------------------------------------------------------------------------------------------------------------------------------------- | ------------------------------------------------- |\n",
    "| **Scatter Plot** | `python<br>import matplotlib.pyplot as plt<br>x = [5, 7, 8, 7, 2]<br>y = [99, 86, 87, 88, 100]<br>plt.scatter(x, y)<br>plt.title('Scatter Plot')<br>plt.show()` | Plots points to show relationship between x and y |\n",
    "| **Bubble Plot**  | `python<br>sizes = [40, 80, 200, 100, 150]<br>plt.scatter(x, y, s=sizes, alpha=0.5)<br>plt.title('Bubble Plot')<br>plt.show()`                                  | Bubble sizes represent a third variable (sizes)   |\n"
   ]
  },
  {
   "cell_type": "markdown",
   "id": "570856c9",
   "metadata": {},
   "source": [
    "###  Interview Questions and Answers\n",
    "| **Question**                                                              | **Answer**                                                                                          |\n",
    "| ------------------------------------------------------------------------- | --------------------------------------------------------------------------------------------------- |\n",
    "| What is the difference between a scatter plot and a bubble plot?          | A scatter plot shows two variables; a bubble plot adds a third variable represented by bubble size. |\n",
    "| When would you use a bubble plot instead of a scatter plot?               | When you want to visualize three variables simultaneously in 2D space.                              |\n",
    "| How do you handle overlapping bubbles in a bubble plot?                   | Adjust transparency (`alpha`), bubble size scaling, or use jitter to reduce overlap.                |\n",
    "| Can bubble plots be used with categorical data?                           | No, bubble plots require continuous variables for size and coordinates.                             |\n",
    "| Which Python library is commonly used to create scatter and bubble plots? | Matplotlib                                                                                          |\n"
   ]
  },
  {
   "cell_type": "markdown",
   "id": "617f107b",
   "metadata": {},
   "source": []
  }
 ],
 "metadata": {
  "language_info": {
   "name": "python"
  }
 },
 "nbformat": 4,
 "nbformat_minor": 5
}
