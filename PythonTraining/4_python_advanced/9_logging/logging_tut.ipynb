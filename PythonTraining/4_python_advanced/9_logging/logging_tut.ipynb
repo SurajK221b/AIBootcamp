{
 "cells": [
  {
   "cell_type": "markdown",
   "id": "f9de6bff",
   "metadata": {},
   "source": [
    "### Python Logging Overview\n",
    "| **Aspect**        | **Description**                                   | **Syntax / Example**                             | **Use Case**                              |\n",
    "| ----------------- | ------------------------------------------------- | ------------------------------------------------ | ----------------------------------------- |\n",
    "| **Import Module** | Python’s built-in logging module                  | `import logging`                                 | Standard across all Python environments   |\n",
    "| **Basic Config**  | Configure default log level and format            | `logging.basicConfig(level=logging.INFO)`        | Quick setup for small projects or scripts |\n",
    "| **Log Levels**    | Severity of the log messages                      | `DEBUG`, `INFO`, `WARNING`, `ERROR`, `CRITICAL`  | Classify logs for filtering and analysis  |\n",
    "| **Log Message**   | Log a message with appropriate level              | `logging.info(\"Process started\")`                | Application event tracking                |\n",
    "| **Custom Logger** | Create reusable named loggers                     | `logger = logging.getLogger(__name__)`           | Modular applications, libraries           |\n",
    "| **Handlers**      | Direct logs to destinations (console, file, etc.) | `FileHandler`, `StreamHandler`                   | Multi-destination logging                 |\n",
    "| **Formatter**     | Define log message structure                      | `logging.Formatter('%(levelname)s:%(message)s')` | Improve log readability                   |\n",
    "| **Log to File**   | Write logs to external files                      | `logging.FileHandler(\"app.log\")`                 | Persistent log tracking for auditing      |\n"
   ]
  },
  {
   "cell_type": "markdown",
   "id": "6ac165f8",
   "metadata": {},
   "source": [
    " #### Logging Level Hierarchy\n",
    " | Level      | Purpose                                          |\n",
    "| ---------- | ------------------------------------------------ |\n",
    "| `DEBUG`    | Detailed internal information (for developers)   |\n",
    "| `INFO`     | General events (app startup, process completion) |\n",
    "| `WARNING`  | Recoverable issues, unexpected state             |\n",
    "| `ERROR`    | Serious issues, failed operations                |\n",
    "| `CRITICAL` | Application crashes, data loss                   |\n"
   ]
  },
  {
   "cell_type": "code",
   "execution_count": 1,
   "id": "5387382e",
   "metadata": {},
   "outputs": [
    {
     "name": "stderr",
     "output_type": "stream",
     "text": [
      "2025-07-06 21:54:27,825 - INFO - Informational message\n",
      "2025-07-06 21:54:27,827 - WARNING - Warning condition\n",
      "2025-07-06 21:54:27,828 - ERROR - An error occurred\n",
      "2025-07-06 21:54:27,830 - CRITICAL - Critical failure\n"
     ]
    }
   ],
   "source": [
    "import logging\n",
    "\n",
    "logging.basicConfig(level=logging.INFO, format='%(asctime)s - %(levelname)s - %(message)s')\n",
    "\n",
    "logging.debug(\"Debugging details\")\n",
    "logging.info(\"Informational message\")\n",
    "logging.warning(\"Warning condition\")\n",
    "logging.error(\"An error occurred\")\n",
    "logging.critical(\"Critical failure\")"
   ]
  },
  {
   "cell_type": "code",
   "execution_count": 2,
   "id": "0adda632",
   "metadata": {},
   "outputs": [
    {
     "name": "stderr",
     "output_type": "stream",
     "text": [
      "2025-07-06 21:54:32,227 - INFO - Application started\n",
      "2025-07-06 21:54:32,228 - ERROR - An error occurred\n"
     ]
    }
   ],
   "source": [
    "##  Example – Logging to a File with Custom Logger\n",
    "import logging\n",
    "\n",
    "logger = logging.getLogger('my_app')\n",
    "logger.setLevel(logging.DEBUG)\n",
    "\n",
    "# File handler\n",
    "file_handler = logging.FileHandler('my_app.log')\n",
    "formatter = logging.Formatter('%(asctime)s - %(name)s - %(levelname)s - %(message)s')\n",
    "file_handler.setFormatter(formatter)\n",
    "\n",
    "# Attach handler to logger\n",
    "logger.addHandler(file_handler)\n",
    "\n",
    "logger.info(\"Application started\")\n",
    "logger.error(\"An error occurred\")\n"
   ]
  },
  {
   "cell_type": "code",
   "execution_count": null,
   "id": "d18e268b",
   "metadata": {},
   "outputs": [],
   "source": []
  }
 ],
 "metadata": {
  "kernelspec": {
   "display_name": "Python 3",
   "language": "python",
   "name": "python3"
  },
  "language_info": {
   "codemirror_mode": {
    "name": "ipython",
    "version": 3
   },
   "file_extension": ".py",
   "mimetype": "text/x-python",
   "name": "python",
   "nbconvert_exporter": "python",
   "pygments_lexer": "ipython3",
   "version": "3.13.5"
  }
 },
 "nbformat": 4,
 "nbformat_minor": 5
}
