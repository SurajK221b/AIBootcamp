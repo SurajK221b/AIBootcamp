{
 "cells": [
  {
   "cell_type": "markdown",
   "id": "090f2efc",
   "metadata": {},
   "source": [
    "### Probability Distributions: A Strategic Overview\n",
    "Probability distributions describe how the values of a random variable are distributed. They can be discrete (countable outcomes) or continuous (infinite outcomes over a range)."
   ]
  },
  {
   "cell_type": "markdown",
   "id": "1ebb6b8d",
   "metadata": {},
   "source": [
    "#### 🧮 Classification of Distributions\n",
    "| **Type**       | **Distribution**  | **Variable Type**   | **Use Case**                                 | **Example**                      |\n",
    "| -------------- | ----------------- | ------------------- | -------------------------------------------- | -------------------------------- |\n",
    "| **Discrete**   | Bernoulli         | Binary (0 or 1)     | Success/failure modeling                     | Tossing a coin                   |\n",
    "|                | Binomial          | Integer count       | Repeated trials with 2 outcomes              | Number of heads in 10 tosses     |\n",
    "|                | Poisson           | Count over interval | Rare events over time/space                  | Number of calls per minute       |\n",
    "| **Continuous** | Uniform           | Any value in range  | Equal likelihood across an interval          | Random number between 0 and 1    |\n",
    "|                | Normal (Gaussian) | Real-valued         | Natural distributions, Central Limit Theorem | Heights, test scores             |\n",
    "|                | Exponential       | Time until event    | Time between Poisson events                  | Time until next customer arrives |\n"
   ]
  },
  {
   "cell_type": "markdown",
   "id": "b4972b04",
   "metadata": {},
   "source": [
    "#### 📊 Key Distributions with Properties\n",
    "| **Distribution**   | **PDF/PMF Formula**                                                         | **Mean (μ)**        | **Variance (σ²)**     | **Application**               |\n",
    "| ------------------ | --------------------------------------------------------------------------- | ------------------- | --------------------- | ----------------------------- |\n",
    "| **Bernoulli(p)**   | $P(X=1) = p, P(X=0) = 1-p$                                                  | $p$                 | $p(1-p)$              | Binary outcomes               |\n",
    "| **Binomial(n,p)**  | $P(X=k) = \\binom{n}{k} p^k (1-p)^{n-k}$                                     | $np$                | $np(1-p)$             | Successes in trials           |\n",
    "| **Poisson(λ)**     | $P(X=k) = \\frac{e^{-\\lambda} \\lambda^k}{k!}$                                | $\\lambda$           | $\\lambda$             | Count of rare events          |\n",
    "| **Uniform(a,b)**   | $f(x) = \\frac{1}{b-a}$                                                      | $\\frac{a+b}{2}$     | $\\frac{(b-a)^2}{12}$  | Random sampling               |\n",
    "| **Normal(μ,σ²)**   | $f(x) = \\frac{1}{\\sqrt{2\\pi\\sigma^2}} e^{ -\\frac{(x - \\mu)^2}{2\\sigma^2} }$ | $\\mu$               | $\\sigma^2$            | Modeling real-world variables |\n",
    "| **Exponential(λ)** | $f(x) = \\lambda e^{-\\lambda x}$                                             | $\\frac{1}{\\lambda}$ | $\\frac{1}{\\lambda^2}$ | Time-to-event                 |\n"
   ]
  },
  {
   "cell_type": "markdown",
   "id": "2d0d12b2",
   "metadata": {},
   "source": [
    "### 📘 Distribution Selection Guidelines\n",
    "| **Scenario**                               | **Recommended Distribution** |\n",
    "| ------------------------------------------ | ---------------------------- |\n",
    "| Binary outcome (yes/no)                    | Bernoulli                    |\n",
    "| Number of successes in fixed trials        | Binomial                     |\n",
    "| Number of arrivals over time               | Poisson                      |\n",
    "| Continuous variable with equal probability | Uniform                      |\n",
    "| Bell-shaped curve                          | Normal                       |\n",
    "| Time until next event                      | Exponential                  |\n"
   ]
  },
  {
   "cell_type": "markdown",
   "id": "513817ef",
   "metadata": {},
   "source": [
    "### 🎯 Interview Questions & Answers\n",
    "| **Question**                                                         | **Answer**                                                                                              |\n",
    "| -------------------------------------------------------------------- | ------------------------------------------------------------------------------------------------------- |\n",
    "| What is the difference between Binomial and Bernoulli distributions? | Bernoulli is a single trial (n=1); Binomial is multiple trials (n > 1).                                 |\n",
    "| When is the Poisson distribution used?                               | When modeling rare events in a fixed interval.                                                          |\n",
    "| What are the parameters of the Normal distribution?                  | Mean (μ) and standard deviation (σ).                                                                    |\n",
    "| How are Normal and Exponential distributions related?                | Exponential models time between events; Normal is for symmetric real-valued distributions.              |\n",
    "| Why is the Normal distribution so widely used?                       | Due to the **Central Limit Theorem** – sums/averages of many variables tend to be normally distributed. |\n"
   ]
  },
  {
   "cell_type": "markdown",
   "id": "c414245d",
   "metadata": {},
   "source": [
    "### 🔍 How Distributions Support Data Science Tasks\n",
    "| **Task**                            | **Relevant Distribution(s)**         | **Application**                            |\n",
    "| ----------------------------------- | ------------------------------------ | ------------------------------------------ |\n",
    "| **Exploratory Data Analysis (EDA)** | Normal, Uniform, Skewed (Log-Normal) | Check for symmetry, detect outliers        |\n",
    "| **Hypothesis Testing**              | Binomial, t-distribution, Chi-square | A/B testing, independence testing          |\n",
    "| **Classification**                  | Bernoulli, Multinomial               | Logistic regression, Naive Bayes           |\n",
    "| **Anomaly Detection**               | Normal, Poisson                      | Identify deviations from expected behavior |\n",
    "| **Simulation / Sampling**           | Uniform, Normal, Exponential         | Bootstrap resampling, Monte Carlo          |\n",
    "| **Survival / Time Series Analysis** | Exponential, Weibull, Poisson        | Customer churn, event occurrence modeling  |\n"
   ]
  },
  {
   "cell_type": "markdown",
   "id": "4fd9fb0b",
   "metadata": {},
   "source": []
  }
 ],
 "metadata": {
  "language_info": {
   "name": "python"
  }
 },
 "nbformat": 4,
 "nbformat_minor": 5
}
