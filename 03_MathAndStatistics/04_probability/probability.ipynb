{
 "cells": [
  {
   "cell_type": "markdown",
   "id": "71db15b6",
   "metadata": {},
   "source": [
    "### Foundations of Probability Theory\n",
    "| **Concept**                   | **Description**                                  | **Example**                                            | **Interview Q\\&A**                                                    |                                            |                                             |\n",
    "| ----------------------------- | ------------------------------------------------ | ------------------------------------------------------ | --------------------------------------------------------------------- | ------------------------------------------ | ------------------------------------------- |\n",
    "| **Experiment**                | A process that leads to an outcome.              | Rolling a die.                                         | *What is a random experiment?* → Any process with uncertain outcomes. |                                            |                                             |\n",
    "| **Sample Space (S)**          | Set of all possible outcomes.                    | S = {1, 2, 3, 4, 5, 6}                                 | *Define sample space with an example.*                                |                                            |                                             |\n",
    "| **Event (E)**                 | A subset of the sample space.                    | E = {2, 4, 6} (even outcomes)                          | *What is an event in probability?*                                    |                                            |                                             |\n",
    "| **Probability (P)**           | A measure of likelihood (0 ≤ P ≤ 1).             | P(E) = favorable outcomes / total outcomes = 3/6 = 0.5 | *What does it mean if P(E) = 0.75?* → High chance of E occurring.     |                                            |                                             |\n",
    "| **Mutually Exclusive Events** | Events that cannot occur simultaneously.         | Drawing a red card or a black card.                    | *Can two mutually exclusive events be independent?* → No.             |                                            |                                             |\n",
    "| **Independent Events**        | The occurrence of one does not affect the other. | Tossing two coins.                                     | *Give an example of independent events.*                              |                                            |                                             |\n",
    "| **Conditional Probability**   | Probability of A given B: P(A                    | B) = P(A∩B)/P(B)                                       | P(A                                                                   | B) = 0.2/0.5 = 0.4                         | *What is conditional probability used for?* |\n",
    "| **Bayes' Theorem**            | Used to update probabilities: P(A                | B) = \\[P(B                                             | A) × P(A)] / P(B)                                                     | Medical diagnosis (disease vs test result) | *State Bayes' Theorem.*                     |\n",
    "| **Complementary Event**       | P(A') = 1 – P(A)                                 | If P(A) = 0.7, then P(A') = 0.3                        | *What is a complementary event?*                                      |                                            |                                             |\n"
   ]
  },
  {
   "cell_type": "markdown",
   "id": "4302048e",
   "metadata": {},
   "source": [
    "### Types of Probability\n",
    "| **Type**                     | **Definition**                    | **Example**                           |\n",
    "| ---------------------------- | --------------------------------- | ------------------------------------- |\n",
    "| **Classical**                | Based on equally likely outcomes. | Probability of drawing Ace = 4/52     |\n",
    "| **Empirical (Experimental)** | Based on observed data.           | 40 heads in 100 tosses → P(H) = 0.4   |\n",
    "| **Subjective**               | Based on intuition or belief.     | Weather prediction by a meteorologist |\n"
   ]
  },
  {
   "cell_type": "markdown",
   "id": "fca4a2a3",
   "metadata": {},
   "source": [
    "#### Probability Distributions (Overview)\n",
    "| **Distribution** | **Use Case**                          | **Example**                        |\n",
    "| ---------------- | ------------------------------------- | ---------------------------------- |\n",
    "| **Uniform**      | Equal probability for outcomes.       | Rolling a fair die.                |\n",
    "| **Binomial**     | Number of successes in n trials.      | Tossing a coin 10 times.           |\n",
    "| **Normal**       | Continuous data, bell curve.          | Heights of people.                 |\n",
    "| **Poisson**      | Number of events in a fixed interval. | Calls per minute in a call center. |\n"
   ]
  },
  {
   "cell_type": "markdown",
   "id": "20aba70e",
   "metadata": {},
   "source": [
    "#### Sample Interview Questions\n",
    "| **Question**                                               | **Answer**                                                 |\n",
    "| ---------------------------------------------------------- | ---------------------------------------------------------- |\n",
    "| What is the difference between probability and statistics? | Probability predicts outcomes, statistics interprets data. |\n",
    "| When are events considered independent?                    | When P(A ∩ B) = P(A) × P(B)                                |\n",
    "| What is the significance of a probability of 0?            | The event is impossible.                                   |\n",
    "| How do you apply Bayes' Theorem in machine learning?       | For classification problems, e.g., Naive Bayes classifier. |\n"
   ]
  },
  {
   "cell_type": "markdown",
   "id": "39a4fd56",
   "metadata": {},
   "source": [
    "#### 📘 Addition Rule vs. Multiplication Rule in Probability\n",
    "| **Aspect**                        | **Addition Rule**                                                             | **Multiplication Rule**                                    |    |\n",
    "| --------------------------------- | ----------------------------------------------------------------------------- | ---------------------------------------------------------- | -- |\n",
    "| **Purpose**                       | Used to find the probability of **either** of two (or more) events occurring. | Used to find the probability of **both** events occurring. |    |\n",
    "| **Formula (General)**             | P(A ∪ B) = P(A) + P(B) − P(A ∩ B)                                             | P(A ∩ B) = P(A) × P(B                                      | A) |\n",
    "| **For Mutually Exclusive Events** | P(A ∪ B) = P(A) + P(B), if A and B cannot happen together                     | Not applicable                                             |    |\n",
    "| **For Independent Events**        | Still use P(A ∪ B) = P(A) + P(B) − P(A)×P(B)                                  | P(A ∩ B) = P(A) × P(B)                                     |    |\n",
    "| **Keyword Indicator**             | \"OR\"                                                                          | \"AND\"                                                      |    |\n"
   ]
  },
  {
   "cell_type": "markdown",
   "id": "8a345ebf",
   "metadata": {},
   "source": [
    "#### 🔍 Illustrative Examples\n",
    "| **Scenario**                                    | **Explanation**                                                                    | **Application**                            |                                     |\n",
    "| ----------------------------------------------- | ---------------------------------------------------------------------------------- | ------------------------------------------ | ----------------------------------- |\n",
    "| Drawing a card that is either a king or a queen | P(King ∪ Queen) = P(King) + P(Queen) = 4/52 + 4/52 = 8/52                          | **Addition Rule (Mutually Exclusive)**     |                                     |\n",
    "| Drawing a red card or a face card               | P(Red) = 26/52, P(Face) = 12/52, P(Both) = 6/52 → P = 26/52 + 12/52 − 6/52 = 32/52 | **Addition Rule (Not Mutually Exclusive)** |                                     |\n",
    "| Tossing two coins: heads on both                | P(H and H) = P(H) × P(H) = 0.5 × 0.5 = 0.25                                        | **Multiplication Rule (Independent)**      |                                     |\n",
    "| Drawing two aces without replacement            | P(1st Ace) = 4/52; P(2nd Ace                                                       | 1st Ace) = 3/51 → P = (4/52) × (3/51)      | **Multiplication Rule (Dependent)** |\n"
   ]
  },
  {
   "cell_type": "markdown",
   "id": "90664a8a",
   "metadata": {},
   "source": [
    "#### 🧠 Interview-Style Q&A\n",
    "| **Question**                                                                    | **Answer**                                                                                   |     |\n",
    "| ------------------------------------------------------------------------------- | -------------------------------------------------------------------------------------------- | --- |\n",
    "| When do you use the addition rule in probability?                               | When determining the probability of at least one of several events occurring (i.e., A or B). |     |\n",
    "| What is the condition for applying the basic addition rule without subtraction? | When the events are mutually exclusive.                                                      |     |\n",
    "| How does the multiplication rule differ for dependent vs independent events?    | For independent: P(A ∩ B) = P(A) × P(B); for dependent: P(A ∩ B) = P(A) × P(B                | A). |\n",
    "| Provide a real-life example of the multiplication rule.                         | Probability of getting two defective parts from a batch without replacement.                 |     |\n"
   ]
  },
  {
   "cell_type": "markdown",
   "id": "68f1e073",
   "metadata": {},
   "source": []
  }
 ],
 "metadata": {
  "language_info": {
   "name": "python"
  }
 },
 "nbformat": 4,
 "nbformat_minor": 5
}
