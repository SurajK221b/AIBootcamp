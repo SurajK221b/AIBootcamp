{
 "cells": [
  {
   "cell_type": "markdown",
   "id": "d5897073",
   "metadata": {},
   "source": [
    "<h2 align=\"center\" style=\"color:blue\">Codebasics Python Course: Exercise - Pytest</h2>"
   ]
  },
  {
   "cell_type": "markdown",
   "id": "54b43f89-3cf1-4583-9cb3-dffe74030ca7",
   "metadata": {},
   "source": [
    "### Task 1 - Inventory Management System for a retail client.\n",
    "\n",
    "**AtliQ** Technologies is developing an inventory management system for a retail client to manage stock across multiple warehouses. The system must handle warehouse-specific stock levels, ensuring that adding, removing, and checking stock availability works efficiently for each location.\n",
    "\n",
    "We have provided you with a Python class called `Inventory` for inventory management in the cell below.\n",
    "\n",
    "**Your task:**\n",
    "\n",
    "1. Create a new file called `inventory_management.py` and store this class in that file\n",
    "2. Write a `test_inventory_management.py` file that has the following test functions:\n",
    "\n",
    "```\n",
    "def test_add_stock():\n",
    "    # test add_stock function\n",
    "    \n",
    "def test_remove_stock():\n",
    "    # test remove stock function along with exception\n",
    "    \n",
    "def test_check_availability():\n",
    "    # test check_availability function\n",
    "    \n",
    "def test_remove_stock_with_insufficient_inventory():\n",
    "    # rest exception situation in remove stock function\n",
    "    \n",
    "def test_full_inventory_cycle():\n",
    "    # test entire cycle which is add_stock -> remove_stock -> check_availibility \n",
    "```"
   ]
  },
  {
   "cell_type": "code",
   "execution_count": 2,
   "id": "bf8824ca",
   "metadata": {},
   "outputs": [],
   "source": [
    "class Inventory:\n",
    "    def __init__(self):\n",
    "        self.stock = {}\n",
    "\n",
    "    def add_stock(self, item, quantity):\n",
    "        if item in self.stock:\n",
    "            self.stock[item] += quantity\n",
    "        else:\n",
    "            self.stock[item] = quantity\n",
    "\n",
    "    def remove_stock(self, item, quantity):\n",
    "        if item not in self.stock or self.stock[item] < quantity:\n",
    "            raise ValueError(\"Insufficient stock\")\n",
    "        self.stock[item] -= quantity\n",
    "\n",
    "    def check_availability(self, item, quantity):\n",
    "        return self.stock.get(item, 0) >= quantity"
   ]
  },
  {
   "cell_type": "markdown",
   "id": "637376c1-2e05-48cb-8879-5d6b89f92749",
   "metadata": {},
   "source": [
    "# Solutoins\n",
    "\n",
    "assignment_4_pytest_solution/inventory_management.py\n",
    "\n",
    "assignment_4_pytest_solution/test_inventory_management.py\n"
   ]
  }
 ],
 "metadata": {
  "kernelspec": {
   "display_name": "Python 3 (ipykernel)",
   "language": "python",
   "name": "python3"
  },
  "language_info": {
   "codemirror_mode": {
    "name": "ipython",
    "version": 3
   },
   "file_extension": ".py",
   "mimetype": "text/x-python",
   "name": "python",
   "nbconvert_exporter": "python",
   "pygments_lexer": "ipython3",
   "version": "3.12.1"
  }
 },
 "nbformat": 4,
 "nbformat_minor": 5
}
