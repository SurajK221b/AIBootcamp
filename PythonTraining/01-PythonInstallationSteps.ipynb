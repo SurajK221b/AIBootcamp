{
 "cells": [
  {
   "cell_type": "markdown",
   "id": "70601cb2",
   "metadata": {},
   "source": [
    "#### Download EXE from https://www.python.org/downloads/\n",
    "#### Install Git"
   ]
  },
  {
   "cell_type": "markdown",
   "id": "9761e271",
   "metadata": {},
   "source": []
  }
 ],
 "metadata": {
  "language_info": {
   "name": "python"
  }
 },
 "nbformat": 4,
 "nbformat_minor": 5
}
