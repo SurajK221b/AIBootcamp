{
 "cells": [
  {
   "cell_type": "markdown",
   "id": "df95b50a",
   "metadata": {},
   "source": [
    "### Named Entity Recognition\n",
    "\n",
    "Named Entity Recognition (NER) is the process of identifying and classifying proper nouns in unstructured text into predefined categories such as:\n",
    "\n",
    "Person names\n",
    "\n",
    "Organizations\n",
    "\n",
    "Locations\n",
    "\n",
    "Dates\n",
    "\n",
    "Monetary values\n",
    "\n",
    "Time expressions\n",
    "\n",
    "Percentages, etc.\n",
    "\n"
   ]
  },
  {
   "cell_type": "markdown",
   "id": "68abaef4",
   "metadata": {},
   "source": []
  },
  {
   "cell_type": "markdown",
   "id": "5f69e94a",
   "metadata": {},
   "source": [
    "### 🧠 2. Why NER Is Important in NLP\n",
    "| Application                  | Description                                      |\n",
    "| ---------------------------- | ------------------------------------------------ |\n",
    "| ✅ **Information Extraction** | Extract structured data from raw text            |\n",
    "| ✅ **Search & Indexing**      | Power semantic search and recommendation systems |\n",
    "| ✅ **Question Answering**     | Understand \"who\", \"where\", \"when\", etc.          |\n",
    "| ✅ **Text Summarization**     | Highlight important named entities               |\n",
    "| ✅ **Sentiment Analysis**     | Associate emotions with specific entities        |\n",
    "\n",
    "### 🧾 3. Common Named Entity Categories (NLTK)\n",
    "| Entity Type    | Meaning               | Example               |\n",
    "| -------------- | --------------------- | --------------------- |\n",
    "| `PERSON`       | Individual’s name     | \"Barack Obama\"        |\n",
    "| `ORGANIZATION` | Group or company      | \"Microsoft\", \"UNICEF\" |\n",
    "| `GPE`          | Geo-political entity  | \"India\", \"New York\"   |\n",
    "| `LOCATION`     | Geographical location | \"Mount Everest\"       |\n",
    "| `DATE`         | Date references       | \"24th July\", \"2025\"   |\n",
    "| `TIME`         | Time expressions      | \"3 PM\", \"midnight\"    |\n",
    "| `MONEY`        | Currency amounts      | \"\\$100\", \"₹2000\"      |\n",
    "| `PERCENT`      | Percentage values     | \"85%\"                 |\n"
   ]
  },
  {
   "cell_type": "code",
   "execution_count": 56,
   "id": "5a8787c7",
   "metadata": {},
   "outputs": [
    {
     "name": "stderr",
     "output_type": "stream",
     "text": [
      "[nltk_data] Downloading package punkt to C:\\Users\\Suraj\n",
      "[nltk_data]     Khodade\\AppData\\Roaming\\nltk_data...\n",
      "[nltk_data]   Package punkt is already up-to-date!\n",
      "[nltk_data] Downloading package maxent_ne_chunker to C:\\Users\\Suraj\n",
      "[nltk_data]     Khodade\\AppData\\Roaming\\nltk_data...\n",
      "[nltk_data]   Package maxent_ne_chunker is already up-to-date!\n",
      "[nltk_data] Downloading package words to C:\\Users\\Suraj\n",
      "[nltk_data]     Khodade\\AppData\\Roaming\\nltk_data...\n",
      "[nltk_data]   Package words is already up-to-date!\n",
      "[nltk_data] Downloading package averaged_perceptron_tagger to\n",
      "[nltk_data]     C:\\Users\\Suraj Khodade\\AppData\\Roaming\\nltk_data...\n",
      "[nltk_data]   Package averaged_perceptron_tagger is already up-to-\n",
      "[nltk_data]       date!\n"
     ]
    },
    {
     "name": "stdout",
     "output_type": "stream",
     "text": [
      "(S\n",
      "  (PERSON Apple/NNP)\n",
      "  (ORGANIZATION Inc./NNP)\n",
      "  was/VBD\n",
      "  founded/VBN\n",
      "  by/IN\n",
      "  (PERSON Steve/NNP Jobs/NNP)\n",
      "  in/IN\n",
      "  (GPE California/NNP)\n",
      "  in/IN\n",
      "  1976/CD\n",
      "  with/IN\n",
      "  a/DT\n",
      "  funding/NN\n",
      "  of/IN\n",
      "  $/$\n",
      "  1,000/CD\n",
      "  ./.)\n"
     ]
    }
   ],
   "source": [
    "## 🧰 4. NLTK NER Implementation\n",
    "import nltk\n",
    "from nltk import word_tokenize, pos_tag, ne_chunk\n",
    "\n",
    "nltk.download('punkt')\n",
    "nltk.download('maxent_ne_chunker')\n",
    "nltk.download('words')\n",
    "nltk.download('averaged_perceptron_tagger')\n",
    "\n",
    "text = \"Apple Inc. was founded by Steve Jobs in California in 1976 with a funding of $1,000.\"\n",
    "\n",
    "# Tokenization → POS Tagging → Named Entity Chunking\n",
    "tokens = word_tokenize(text)\n",
    "tags = pos_tag(tokens)\n",
    "tree = ne_chunk(tags)\n",
    "\n",
    "print(tree)\n"
   ]
  },
  {
   "cell_type": "markdown",
   "id": "d3d8782e",
   "metadata": {},
   "source": [
    "### 📊 5. Advantages of NER\n",
    "\n",
    "| Advantage                          | Description                                       |\n",
    "| ---------------------------------- | ------------------------------------------------- |\n",
    "| ✅ **Structure from Unstructured**  | Extract machine-readable metadata from plain text |\n",
    "| ✅ **Improves Search & Retrieval**  | Enables entity-aware search engines               |\n",
    "| ✅ **Supports Relation Extraction** | Helps build knowledge graphs                      |\n",
    "| ✅ **Customizable**                 | Domain-specific entities can be trained           |\n",
    "\n",
    "### ⚠️ 6. Limitations of NLTK’s NER\n",
    "| Limitation               | Description                                               |\n",
    "| ------------------------ | --------------------------------------------------------- |\n",
    "| ❌ **Limited to English** | No multilingual support                                   |\n",
    "| ❌ **Shallow Parsing**    | Based on pre-trained decision tree models                 |\n",
    "| ❌ **Not Contextual**     | Cannot handle polysemy (e.g., \"Apple\" = fruit vs company) |\n",
    "| ❌ **Static Model**       | No retraining/fine-tuning support in core NLTK            |\n",
    "\n",
    "### 🔄 7. Alternative NER Libraries\n",
    "| Tool                           | Strength                                          |\n",
    "| ------------------------------ | ------------------------------------------------- |\n",
    "| **spaCy**                      | Fast, deep-learning-based, multilingual           |\n",
    "| **Stanza (Stanford NLP)**      | Accurate contextual recognition                   |\n",
    "| **Flair**                      | Contextual embeddings for high accuracy           |\n",
    "| **Transformers (HuggingFace)** | SOTA models like BERT, RoBERTa for fine-tuned NER |\n"
   ]
  },
  {
   "cell_type": "code",
   "execution_count": 57,
   "id": "cbda40b1",
   "metadata": {},
   "outputs": [],
   "source": [
    "import nltk\n",
    "from nltk.tokenize import sent_tokenize, word_tokenize"
   ]
  },
  {
   "cell_type": "code",
   "execution_count": 58,
   "id": "7970e294",
   "metadata": {},
   "outputs": [],
   "source": [
    "sentence = \"Hello, world! I am Suraj. I live in India. This is a test sentence.\""
   ]
  },
  {
   "cell_type": "code",
   "execution_count": 59,
   "id": "49f6ca0b",
   "metadata": {},
   "outputs": [],
   "source": [
    "tagged_sentences = nltk.pos_tag(word_tokenize(sentence))"
   ]
  },
  {
   "cell_type": "code",
   "execution_count": 60,
   "id": "092dd933",
   "metadata": {},
   "outputs": [
    {
     "data": {
      "text/plain": [
       "[('Hello', 'NNP'),\n",
       " (',', ','),\n",
       " ('world', 'NN'),\n",
       " ('!', '.'),\n",
       " ('I', 'PRP'),\n",
       " ('am', 'VBP'),\n",
       " ('Suraj', 'NNP'),\n",
       " ('.', '.'),\n",
       " ('I', 'PRP'),\n",
       " ('live', 'VBP'),\n",
       " ('in', 'IN'),\n",
       " ('India', 'NNP'),\n",
       " ('.', '.'),\n",
       " ('This', 'DT'),\n",
       " ('is', 'VBZ'),\n",
       " ('a', 'DT'),\n",
       " ('test', 'NN'),\n",
       " ('sentence', 'NN'),\n",
       " ('.', '.')]"
      ]
     },
     "execution_count": 60,
     "metadata": {},
     "output_type": "execute_result"
    }
   ],
   "source": [
    "tagged_sentences"
   ]
  },
  {
   "cell_type": "code",
   "execution_count": 61,
   "id": "bf78e9a4",
   "metadata": {},
   "outputs": [
    {
     "name": "stderr",
     "output_type": "stream",
     "text": [
      "[nltk_data] Downloading package punkt to C:\\Users\\Suraj\n",
      "[nltk_data]     Khodade\\AppData\\Roaming\\nltk_data...\n",
      "[nltk_data]   Package punkt is already up-to-date!\n",
      "[nltk_data] Downloading package averaged_perceptron_tagger to\n",
      "[nltk_data]     C:\\Users\\Suraj Khodade\\AppData\\Roaming\\nltk_data...\n",
      "[nltk_data]   Package averaged_perceptron_tagger is already up-to-\n",
      "[nltk_data]       date!\n",
      "[nltk_data] Downloading package maxent_ne_chunker to C:\\Users\\Suraj\n",
      "[nltk_data]     Khodade\\AppData\\Roaming\\nltk_data...\n",
      "[nltk_data]   Package maxent_ne_chunker is already up-to-date!\n"
     ]
    },
    {
     "data": {
      "text/plain": [
       "True"
      ]
     },
     "execution_count": 61,
     "metadata": {},
     "output_type": "execute_result"
    }
   ],
   "source": [
    "downloaded = nltk.download('punkt')\n",
    "downloaded = nltk.download('averaged_perceptron_tagger')\n",
    "nltk.download('maxent_ne_chunker')\n"
   ]
  },
  {
   "cell_type": "code",
   "execution_count": 62,
   "id": "495c7e09",
   "metadata": {},
   "outputs": [],
   "source": [
    "ne =  nltk.ne_chunk(tagged_sentences,binary=True)"
   ]
  },
  {
   "cell_type": "code",
   "execution_count": 63,
   "id": "7c1df72b",
   "metadata": {},
   "outputs": [
    {
     "name": "stdout",
     "output_type": "stream",
     "text": [
      "(S\n",
      "  (NE Hello/NNP)\n",
      "  ,/,\n",
      "  world/NN\n",
      "  !/.\n",
      "  I/PRP\n",
      "  am/VBP\n",
      "  Suraj/NNP\n",
      "  ./.\n",
      "  I/PRP\n",
      "  live/VBP\n",
      "  in/IN\n",
      "  (NE India/NNP)\n",
      "  ./.\n",
      "  This/DT\n",
      "  is/VBZ\n",
      "  a/DT\n",
      "  test/NN\n",
      "  sentence/NN\n",
      "  ./.)\n"
     ]
    }
   ],
   "source": [
    "print(ne)"
   ]
  },
  {
   "cell_type": "code",
   "execution_count": 64,
   "id": "cd3da3ca",
   "metadata": {},
   "outputs": [],
   "source": [
    "ne.draw()  # This will display the named entity recognition tree in a separate window"
   ]
  },
  {
   "cell_type": "code",
   "execution_count": null,
   "id": "fb2591e0",
   "metadata": {},
   "outputs": [],
   "source": []
  }
 ],
 "metadata": {
  "kernelspec": {
   "display_name": "Python 3",
   "language": "python",
   "name": "python3"
  },
  "language_info": {
   "codemirror_mode": {
    "name": "ipython",
    "version": 3
   },
   "file_extension": ".py",
   "mimetype": "text/x-python",
   "name": "python",
   "nbconvert_exporter": "python",
   "pygments_lexer": "ipython3",
   "version": "3.13.5"
  }
 },
 "nbformat": 4,
 "nbformat_minor": 5
}
