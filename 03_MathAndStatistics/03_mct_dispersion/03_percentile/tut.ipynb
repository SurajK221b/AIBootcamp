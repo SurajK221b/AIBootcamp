{
 "cells": [
  {
   "cell_type": "markdown",
   "id": "cbb42301",
   "metadata": {},
   "source": [
    "### 📘 1. Theory: What is a Percentile?\n",
    "| **Aspect**             | **Explanation**                                                                                  |\n",
    "| ---------------------- | ------------------------------------------------------------------------------------------------ |\n",
    "| **Definition**         | A percentile is a measure that indicates the value below which a given percentage of data falls. |\n",
    "| **Purpose**            | To understand the relative standing or ranking of a value within a dataset.                      |\n",
    "| **Common Percentiles** | 25th (Q1), 50th (Median or Q2), 75th (Q3), 90th, 95th, 99th percentiles                          |\n",
    "| **Interpretation**     | The 90th percentile means **90% of the values are less than or equal to** that value.            |\n",
    "| **Use Cases**          | Standardized testing, salary benchmarking, performance evaluations, outlier detection            |\n"
   ]
  },
  {
   "cell_type": "markdown",
   "id": "009ee066",
   "metadata": {},
   "source": [
    "#### 📊 2. Percentile vs. Quartile\n",
    "| **Measure**        | **Definition**                         |\n",
    "| ------------------ | -------------------------------------- |\n",
    "| **Quartile**       | Divides data into **four** equal parts |\n",
    "| **Percentile**     | Divides data into **100** equal parts  |\n",
    "| **Q1 (25th %ile)** | 25% of data below this point           |\n",
    "| **Q2 (50th %ile)** | Median of the dataset                  |\n",
    "| **Q3 (75th %ile)** | 75% of data below this point           |\n"
   ]
  },
  {
   "cell_type": "code",
   "execution_count": 40,
   "id": "f37aa3d1",
   "metadata": {},
   "outputs": [
    {
     "name": "stdout",
     "output_type": "stream",
     "text": [
      "25th Percentile (Q1): 36.5\n",
      "50th Percentile (Median): 45.0\n",
      "75th Percentile (Q3): 65.0\n"
     ]
    }
   ],
   "source": [
    "import numpy as np\n",
    "\n",
    "data = [38,41,45,25,35,20,50,60,70,80,90]\n",
    "\n",
    "# Calculate 25th, 50th, and 75th percentiles\n",
    "p25 = np.percentile(data, 25)  # Q1 = 20.0\n",
    "p50 = np.percentile(data, 50)  # Median = 35.0\n",
    "p75 = np.percentile(data, 75)  # Q3 = 45.0\n",
    "\n",
    "print(f\"25th Percentile (Q1): {p25}\")\n",
    "print(f\"50th Percentile (Median): {p50}\")   \n",
    "print(f\"75th Percentile (Q3): {p75}\")\n"
   ]
  },
  {
   "cell_type": "markdown",
   "id": "da6e7f6c",
   "metadata": {},
   "source": [
    "### 🎯 4. Interview Questions and Answers\n",
    "| **Question**                                            | **Answer**                                                                                |\n",
    "| ------------------------------------------------------- | ----------------------------------------------------------------------------------------- |\n",
    "| What is a percentile?                                   | A statistical measure indicating the value below which a percentage of observations fall. |\n",
    "| How does the 90th percentile differ from the 90% mark?  | 90th percentile is a **rank-based** measure, not the value at 90% of the maximum.         |\n",
    "| What is the difference between percentile and quartile? | Percentiles divide data into 100 parts; quartiles into 4 parts.                           |\n",
    "| What is the 50th percentile?                            | The **median** — it divides the dataset into two equal halves.                            |\n",
    "| Why are percentiles useful in business?                 | For benchmarking, identifying top/bottom performers, and segmenting customers.            |\n",
    "| Is the percentile value always present in the dataset?  | No. It may be interpolated if the exact percentile rank falls between two values.         |\n"
   ]
  },
  {
   "cell_type": "markdown",
   "id": "20e5acc9",
   "metadata": {},
   "source": [
    "###  5. Summary Table\n",
    "| **Percentile** | **Statistical Equivalent** | **Interpretation**                 |\n",
    "| -------------- | -------------------------- | ---------------------------------- |\n",
    "| 0th            | Minimum                    | Smallest value in dataset          |\n",
    "| 25th           | Q1 (Lower Quartile)        | 25% of data falls below this point |\n",
    "| 50th           | Median                     | Middle of the dataset              |\n",
    "| 75th           | Q3 (Upper Quartile)        | 75% of data falls below this point |\n",
    "| 100th          | Maximum                    | Largest value in dataset           |\n"
   ]
  },
  {
   "cell_type": "markdown",
   "id": "820042c3",
   "metadata": {},
   "source": []
  }
 ],
 "metadata": {
  "kernelspec": {
   "display_name": "Python 3",
   "language": "python",
   "name": "python3"
  },
  "language_info": {
   "codemirror_mode": {
    "name": "ipython",
    "version": 3
   },
   "file_extension": ".py",
   "mimetype": "text/x-python",
   "name": "python",
   "nbconvert_exporter": "python",
   "pygments_lexer": "ipython3",
   "version": "3.13.5"
  }
 },
 "nbformat": 4,
 "nbformat_minor": 5
}
