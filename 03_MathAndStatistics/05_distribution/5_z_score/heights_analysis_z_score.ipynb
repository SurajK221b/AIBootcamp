{
 "cells": [
  {
   "cell_type": "markdown",
   "id": "bf7b6837",
   "metadata": {},
   "source": [
    "<h2 style=\"color:purple\" align=\"Center\" >Outlier Removal Using Z Score</h2>"
   ]
  },
  {
   "cell_type": "markdown",
   "id": "d18a4c6c",
   "metadata": {},
   "source": [
    "#### Z-Score (Standard Score)\n",
    "| **Attribute**      | **Details**                                                                                                                               |\n",
    "| ------------------ | ----------------------------------------------------------------------------------------------------------------------------------------- |\n",
    "| **Definition**     | A Z-score indicates how many standard deviations a data point is from the mean.                                                           |\n",
    "| **Formula**        | $Z = \\frac{X - \\mu}{\\sigma}$ <br> Where:<br>• $X$ = observed value <br>• $\\mu$ = mean <br>• $\\sigma$ = standard deviation                 |\n",
    "| **Purpose**        | To standardize data, detect outliers, and perform comparative analysis across different distributions.                                    |\n",
    "| **Range**          | Can be positive or negative. Values beyond ±2 are often considered unusual; ±3 or more may indicate outliers.                             |\n",
    "| **Interpretation** | <ul><li>$Z = 0$: Value is exactly at the mean</li><li>$Z > 0$: Value is above the mean</li><li>$Z < 0$: Value is below the mean</li></ul> |\n",
    "| **Use Cases**      | <ul><li>Outlier detection</li><li>Comparing scores across datasets</li><li>Standardizing data before ML modeling</li></ul>                |\n",
    "| **Assumptions**    | Normality is typically assumed for interpretation, though not required for calculation.                                                   |\n",
    "\n",
    "### Example\n",
    "Suppose:\n",
    "\n",
    "Mean salary (\n",
    "𝜇\n",
    "μ) = ₹50,000\n",
    "\n",
    "Standard deviation (\n",
    "𝜎\n",
    "σ) = ₹5,000\n",
    "\n",
    "An individual earns ₹60,000\n",
    "\n",
    "Z-score Calculation:\n",
    "\n",
    "𝑍\n",
    "=\n",
    "60\n",
    ",\n",
    "000\n",
    "−\n",
    "50\n",
    ",\n",
    "000\n",
    "5\n",
    ",\n",
    "000\n",
    "=\n",
    "10\n",
    ",\n",
    "000\n",
    "5\n",
    ",\n",
    "000\n",
    "=\n",
    "2\n",
    "Z= \n",
    "5,000\n",
    "60,000−50,000\n",
    "​\n",
    " = \n",
    "5,000\n",
    "10,000\n",
    "​\n",
    " =2\n",
    "📈 Interpretation: The individual's salary is 2 standard deviations above the mean."
   ]
  },
  {
   "cell_type": "markdown",
   "id": "c89f5413",
   "metadata": {},
   "source": [
    "### 🧠 Interview Q&A on Z-Score\n",
    "| **Question**                                       | **Answer**                                                                                                                        |\n",
    "| -------------------------------------------------- | --------------------------------------------------------------------------------------------------------------------------------- |\n",
    "| **Q1:** What is a Z-score used for?                | To measure the relative position of a value within a distribution, especially for identifying outliers or standardizing features. |\n",
    "| **Q2:** Can Z-scores be used for non-normal data?  | Yes, they can be computed, but interpretation (e.g., outlier detection) is most meaningful under a normal distribution.           |\n",
    "| **Q3:** What does a Z-score of -3 imply?           | The value is 3 standard deviations below the mean, which is typically considered a significant outlier.                           |\n",
    "| **Q4:** How is Z-score useful in machine learning? | It’s used in feature scaling (standardization), outlier treatment, and data normalization processes.                              |\n"
   ]
  },
  {
   "cell_type": "code",
   "execution_count": 13,
   "id": "add7c50f",
   "metadata": {},
   "outputs": [],
   "source": [
    "import pandas as pd\n",
    "from matplotlib import pyplot as plt\n",
    "import seaborn as sns"
   ]
  },
  {
   "cell_type": "code",
   "execution_count": 14,
   "id": "0eace517",
   "metadata": {
    "scrolled": true
   },
   "outputs": [
    {
     "data": {
      "text/html": [
       "<div>\n",
       "<style scoped>\n",
       "    .dataframe tbody tr th:only-of-type {\n",
       "        vertical-align: middle;\n",
       "    }\n",
       "\n",
       "    .dataframe tbody tr th {\n",
       "        vertical-align: top;\n",
       "    }\n",
       "\n",
       "    .dataframe thead th {\n",
       "        text-align: right;\n",
       "    }\n",
       "</style>\n",
       "<table border=\"1\" class=\"dataframe\">\n",
       "  <thead>\n",
       "    <tr style=\"text-align: right;\">\n",
       "      <th></th>\n",
       "      <th>name</th>\n",
       "      <th>height</th>\n",
       "    </tr>\n",
       "  </thead>\n",
       "  <tbody>\n",
       "    <tr>\n",
       "      <th>0</th>\n",
       "      <td>Aarav</td>\n",
       "      <td>5.45</td>\n",
       "    </tr>\n",
       "    <tr>\n",
       "      <th>1</th>\n",
       "      <td>Deepika</td>\n",
       "      <td>8.20</td>\n",
       "    </tr>\n",
       "    <tr>\n",
       "      <th>2</th>\n",
       "      <td>Abhishek</td>\n",
       "      <td>5.65</td>\n",
       "    </tr>\n",
       "    <tr>\n",
       "      <th>3</th>\n",
       "      <td>Sneha</td>\n",
       "      <td>5.52</td>\n",
       "    </tr>\n",
       "    <tr>\n",
       "      <th>4</th>\n",
       "      <td>Kriti</td>\n",
       "      <td>5.69</td>\n",
       "    </tr>\n",
       "  </tbody>\n",
       "</table>\n",
       "</div>"
      ],
      "text/plain": [
       "       name  height\n",
       "0     Aarav    5.45\n",
       "1   Deepika    8.20\n",
       "2  Abhishek    5.65\n",
       "3     Sneha    5.52\n",
       "4     Kriti    5.69"
      ]
     },
     "execution_count": 14,
     "metadata": {},
     "output_type": "execute_result"
    }
   ],
   "source": [
    "df = pd.read_csv(\"heights_with_outliers.csv\")\n",
    "df.head(5)"
   ]
  },
  {
   "cell_type": "code",
   "execution_count": 3,
   "id": "cbea07cd",
   "metadata": {
    "scrolled": true
   },
   "outputs": [
    {
     "data": {
      "text/html": [
       "<div>\n",
       "<style scoped>\n",
       "    .dataframe tbody tr th:only-of-type {\n",
       "        vertical-align: middle;\n",
       "    }\n",
       "\n",
       "    .dataframe tbody tr th {\n",
       "        vertical-align: top;\n",
       "    }\n",
       "\n",
       "    .dataframe thead th {\n",
       "        text-align: right;\n",
       "    }\n",
       "</style>\n",
       "<table border=\"1\" class=\"dataframe\">\n",
       "  <thead>\n",
       "    <tr style=\"text-align: right;\">\n",
       "      <th></th>\n",
       "      <th>height</th>\n",
       "    </tr>\n",
       "  </thead>\n",
       "  <tbody>\n",
       "    <tr>\n",
       "      <th>count</th>\n",
       "      <td>1000.000000</td>\n",
       "    </tr>\n",
       "    <tr>\n",
       "      <th>mean</th>\n",
       "      <td>5.611180</td>\n",
       "    </tr>\n",
       "    <tr>\n",
       "      <th>std</th>\n",
       "      <td>0.372654</td>\n",
       "    </tr>\n",
       "    <tr>\n",
       "      <th>min</th>\n",
       "      <td>3.200000</td>\n",
       "    </tr>\n",
       "    <tr>\n",
       "      <th>25%</th>\n",
       "      <td>5.350000</td>\n",
       "    </tr>\n",
       "    <tr>\n",
       "      <th>50%</th>\n",
       "      <td>5.625000</td>\n",
       "    </tr>\n",
       "    <tr>\n",
       "      <th>75%</th>\n",
       "      <td>5.852500</td>\n",
       "    </tr>\n",
       "    <tr>\n",
       "      <th>max</th>\n",
       "      <td>9.400000</td>\n",
       "    </tr>\n",
       "  </tbody>\n",
       "</table>\n",
       "</div>"
      ],
      "text/plain": [
       "            height\n",
       "count  1000.000000\n",
       "mean      5.611180\n",
       "std       0.372654\n",
       "min       3.200000\n",
       "25%       5.350000\n",
       "50%       5.625000\n",
       "75%       5.852500\n",
       "max       9.400000"
      ]
     },
     "execution_count": 3,
     "metadata": {},
     "output_type": "execute_result"
    }
   ],
   "source": [
    "df.describe()"
   ]
  },
  {
   "cell_type": "markdown",
   "id": "f82e853c",
   "metadata": {},
   "source": [
    "You can see above that the minimum height is 3.2 and max is 9.4 feet. These seem like outliers because a person with a height 9.4 ft sounds like a data error"
   ]
  },
  {
   "cell_type": "code",
   "execution_count": 4,
   "id": "777eea9f",
   "metadata": {},
   "outputs": [
    {
     "data": {
      "text/plain": [
       "(np.float64(5.61118), np.float64(0.37265356335110805))"
      ]
     },
     "execution_count": 4,
     "metadata": {},
     "output_type": "execute_result"
    }
   ],
   "source": [
    "mean = df.height.mean()\n",
    "std = df.height.std()\n",
    "\n",
    "mean, std"
   ]
  },
  {
   "cell_type": "code",
   "execution_count": 12,
   "id": "25b13155",
   "metadata": {},
   "outputs": [
    {
     "data": {
      "text/plain": [
       "<matplotlib.lines.Line2D at 0x1b95affa710>"
      ]
     },
     "execution_count": 12,
     "metadata": {},
     "output_type": "execute_result"
    },
    {
     "data": {
      "image/png": "[encoded data removed]",
      "text/plain": [
       "<Figure size 640x480 with 1 Axes>"
      ]
     },
     "metadata": {},
     "output_type": "display_data"
    }
   ],
   "source": [
    "sns.histplot(df.height, kde=True)\n",
    "\n",
    "plt.axvline(mean, color='k', linestyle='dashed', linewidth=1)\n",
    "\n",
    "# one stadard deviation\n",
    "plt.axvline(mean + std, color='r', linestyle='dashed', linewidth=1)\n",
    "plt.axvline(mean - std, color='r', linestyle='dashed', linewidth=1)\n",
    "\n",
    "# two standard deviation\n",
    "plt.axvline(mean + 2*std, color='g', linestyle='dashed', linewidth=1)\n",
    "plt.axvline(mean - 2*std, color='g', linestyle='dashed', linewidth=1)\n",
    "\n",
    "# three standard deviation\n",
    "plt.axvline(mean + 3*std, color='b', linestyle='dashed', linewidth=1)\n",
    "plt.axvline(mean - 3*std, color='b', linestyle='dashed', linewidth=1)"
   ]
  },
  {
   "cell_type": "code",
   "execution_count": 16,
   "id": "14d29ade",
   "metadata": {},
   "outputs": [
    {
     "data": {
      "text/html": [
       "<div>\n",
       "<style scoped>\n",
       "    .dataframe tbody tr th:only-of-type {\n",
       "        vertical-align: middle;\n",
       "    }\n",
       "\n",
       "    .dataframe tbody tr th {\n",
       "        vertical-align: top;\n",
       "    }\n",
       "\n",
       "    .dataframe thead th {\n",
       "        text-align: right;\n",
       "    }\n",
       "</style>\n",
       "<table border=\"1\" class=\"dataframe\">\n",
       "  <thead>\n",
       "    <tr style=\"text-align: right;\">\n",
       "      <th></th>\n",
       "      <th>name</th>\n",
       "      <th>height</th>\n",
       "      <th>z_score</th>\n",
       "    </tr>\n",
       "  </thead>\n",
       "  <tbody>\n",
       "    <tr>\n",
       "      <th>0</th>\n",
       "      <td>Aarav</td>\n",
       "      <td>5.45</td>\n",
       "      <td>-0.432520</td>\n",
       "    </tr>\n",
       "    <tr>\n",
       "      <th>1</th>\n",
       "      <td>Deepika</td>\n",
       "      <td>8.20</td>\n",
       "      <td>6.946988</td>\n",
       "    </tr>\n",
       "    <tr>\n",
       "      <th>2</th>\n",
       "      <td>Abhishek</td>\n",
       "      <td>5.65</td>\n",
       "      <td>0.104172</td>\n",
       "    </tr>\n",
       "    <tr>\n",
       "      <th>3</th>\n",
       "      <td>Sneha</td>\n",
       "      <td>5.52</td>\n",
       "      <td>-0.244678</td>\n",
       "    </tr>\n",
       "    <tr>\n",
       "      <th>4</th>\n",
       "      <td>Kriti</td>\n",
       "      <td>5.69</td>\n",
       "      <td>0.211510</td>\n",
       "    </tr>\n",
       "  </tbody>\n",
       "</table>\n",
       "</div>"
      ],
      "text/plain": [
       "       name  height   z_score\n",
       "0     Aarav    5.45 -0.432520\n",
       "1   Deepika    8.20  6.946988\n",
       "2  Abhishek    5.65  0.104172\n",
       "3     Sneha    5.52 -0.244678\n",
       "4     Kriti    5.69  0.211510"
      ]
     },
     "execution_count": 16,
     "metadata": {},
     "output_type": "execute_result"
    }
   ],
   "source": [
    "df['z_score'] = (df['height']-mean)/std\n",
    "df.head()"
   ]
  },
  {
   "cell_type": "code",
   "execution_count": 7,
   "id": "81141b78",
   "metadata": {},
   "outputs": [
    {
     "data": {
      "text/plain": [
       "-0.43230913726016434"
      ]
     },
     "execution_count": 7,
     "metadata": {},
     "output_type": "execute_result"
    }
   ],
   "source": [
    "# For Aarav\n",
    "(5.45-5.6111)/0.37265"
   ]
  },
  {
   "cell_type": "markdown",
   "id": "49f75935",
   "metadata": {},
   "source": [
    "Let's print all the outliers now using lower and upper boundries"
   ]
  },
  {
   "cell_type": "code",
   "execution_count": 17,
   "id": "a8b29415",
   "metadata": {},
   "outputs": [
    {
     "data": {
      "text/html": [
       "<div>\n",
       "<style scoped>\n",
       "    .dataframe tbody tr th:only-of-type {\n",
       "        vertical-align: middle;\n",
       "    }\n",
       "\n",
       "    .dataframe tbody tr th {\n",
       "        vertical-align: top;\n",
       "    }\n",
       "\n",
       "    .dataframe thead th {\n",
       "        text-align: right;\n",
       "    }\n",
       "</style>\n",
       "<table border=\"1\" class=\"dataframe\">\n",
       "  <thead>\n",
       "    <tr style=\"text-align: right;\">\n",
       "      <th></th>\n",
       "      <th>name</th>\n",
       "      <th>height</th>\n",
       "      <th>z_score</th>\n",
       "    </tr>\n",
       "  </thead>\n",
       "  <tbody>\n",
       "    <tr>\n",
       "      <th>1</th>\n",
       "      <td>Deepika</td>\n",
       "      <td>8.2</td>\n",
       "      <td>6.946988</td>\n",
       "    </tr>\n",
       "    <tr>\n",
       "      <th>16</th>\n",
       "      <td>Tanvi</td>\n",
       "      <td>3.2</td>\n",
       "      <td>-6.470299</td>\n",
       "    </tr>\n",
       "    <tr>\n",
       "      <th>57</th>\n",
       "      <td>Priya</td>\n",
       "      <td>3.4</td>\n",
       "      <td>-5.933608</td>\n",
       "    </tr>\n",
       "    <tr>\n",
       "      <th>76</th>\n",
       "      <td>Aarav</td>\n",
       "      <td>9.4</td>\n",
       "      <td>10.167137</td>\n",
       "    </tr>\n",
       "  </tbody>\n",
       "</table>\n",
       "</div>"
      ],
      "text/plain": [
       "       name  height    z_score\n",
       "1   Deepika     8.2   6.946988\n",
       "16    Tanvi     3.2  -6.470299\n",
       "57    Priya     3.4  -5.933608\n",
       "76    Aarav     9.4  10.167137"
      ]
     },
     "execution_count": 17,
     "metadata": {},
     "output_type": "execute_result"
    }
   ],
   "source": [
    "df[(df.z_score<-3)|(df.z_score>3)]"
   ]
  },
  {
   "cell_type": "code",
   "execution_count": 18,
   "id": "521e6f12",
   "metadata": {},
   "outputs": [
    {
     "data": {
      "text/plain": [
       "(996, 3)"
      ]
     },
     "execution_count": 18,
     "metadata": {},
     "output_type": "execute_result"
    }
   ],
   "source": [
    "df_no_outliers = df[(df.z_score>-3)&(df.z_score<3)]\n",
    "df_no_outliers.shape"
   ]
  },
  {
   "cell_type": "code",
   "execution_count": 10,
   "id": "ebd903e8",
   "metadata": {},
   "outputs": [
    {
     "data": {
      "text/html": [
       "<div>\n",
       "<style scoped>\n",
       "    .dataframe tbody tr th:only-of-type {\n",
       "        vertical-align: middle;\n",
       "    }\n",
       "\n",
       "    .dataframe tbody tr th {\n",
       "        vertical-align: top;\n",
       "    }\n",
       "\n",
       "    .dataframe thead th {\n",
       "        text-align: right;\n",
       "    }\n",
       "</style>\n",
       "<table border=\"1\" class=\"dataframe\">\n",
       "  <thead>\n",
       "    <tr style=\"text-align: right;\">\n",
       "      <th></th>\n",
       "      <th>height</th>\n",
       "      <th>z_score</th>\n",
       "    </tr>\n",
       "  </thead>\n",
       "  <tbody>\n",
       "    <tr>\n",
       "      <th>count</th>\n",
       "      <td>996.000000</td>\n",
       "      <td>996.000000</td>\n",
       "    </tr>\n",
       "    <tr>\n",
       "      <th>mean</th>\n",
       "      <td>5.609418</td>\n",
       "      <td>-0.004729</td>\n",
       "    </tr>\n",
       "    <tr>\n",
       "      <th>std</th>\n",
       "      <td>0.327881</td>\n",
       "      <td>0.879855</td>\n",
       "    </tr>\n",
       "    <tr>\n",
       "      <th>min</th>\n",
       "      <td>4.650000</td>\n",
       "      <td>-2.579286</td>\n",
       "    </tr>\n",
       "    <tr>\n",
       "      <th>25%</th>\n",
       "      <td>5.357500</td>\n",
       "      <td>-0.680739</td>\n",
       "    </tr>\n",
       "    <tr>\n",
       "      <th>50%</th>\n",
       "      <td>5.625000</td>\n",
       "      <td>0.037085</td>\n",
       "    </tr>\n",
       "    <tr>\n",
       "      <th>75%</th>\n",
       "      <td>5.850000</td>\n",
       "      <td>0.640863</td>\n",
       "    </tr>\n",
       "    <tr>\n",
       "      <th>max</th>\n",
       "      <td>6.630000</td>\n",
       "      <td>2.733960</td>\n",
       "    </tr>\n",
       "  </tbody>\n",
       "</table>\n",
       "</div>"
      ],
      "text/plain": [
       "           height     z_score\n",
       "count  996.000000  996.000000\n",
       "mean     5.609418   -0.004729\n",
       "std      0.327881    0.879855\n",
       "min      4.650000   -2.579286\n",
       "25%      5.357500   -0.680739\n",
       "50%      5.625000    0.037085\n",
       "75%      5.850000    0.640863\n",
       "max      6.630000    2.733960"
      ]
     },
     "execution_count": 10,
     "metadata": {},
     "output_type": "execute_result"
    }
   ],
   "source": [
    "df_no_outliers.describe()"
   ]
  },
  {
   "cell_type": "markdown",
   "id": "9f4439cb",
   "metadata": {},
   "source": [
    "With outliers removed, you can see above that the min height is now 4.65 and max is 6.63 which seems reasonable"
   ]
  },
  {
   "cell_type": "code",
   "execution_count": 11,
   "id": "043cde77",
   "metadata": {},
   "outputs": [
    {
     "data": {
      "text/plain": [
       "<Axes: xlabel='height', ylabel='Count'>"
      ]
     },
     "execution_count": 11,
     "metadata": {},
     "output_type": "execute_result"
    },
    {
     "data": {
      "image/png": "[encoded data removed]",
      "text/plain": [
       "<Figure size 640x480 with 1 Axes>"
      ]
     },
     "metadata": {},
     "output_type": "display_data"
    }
   ],
   "source": [
    "sns.histplot(df_no_outliers.height)"
   ]
  },
  {
   "cell_type": "markdown",
   "id": "80110efb",
   "metadata": {},
   "source": [
    "Outliers are now gone and the histogram looks normal. It is a standard practice in the industry to use +/-3 Z score (which is same as plus or minus 3 standard deviation) as a criteria for outlier removal"
   ]
  }
 ],
 "metadata": {
  "kernelspec": {
   "display_name": "Python 3",
   "language": "python",
   "name": "python3"
  },
  "language_info": {
   "codemirror_mode": {
    "name": "ipython",
    "version": 3
   },
   "file_extension": ".py",
   "mimetype": "text/x-python",
   "name": "python",
   "nbconvert_exporter": "python",
   "pygments_lexer": "ipython3",
   "version": "3.13.5"
  }
 },
 "nbformat": 4,
 "nbformat_minor": 5
}
