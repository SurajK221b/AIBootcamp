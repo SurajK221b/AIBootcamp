{
    "cells": [
        {
            "cell_type": "markdown",
            "id": "1c1c5f3e",
            "metadata": {},
            "source": [
                "<h2 align=\"center\" style=\"color:blue\">Codebasics Python Course: pydantic Tutorial</h2>"
            ]
        },
        {
            "cell_type": "markdown",
            "id": "49c63fc1",
            "metadata": {},
            "source": [
                "Pydantic is a data validation library for Python that allows you to define data models with strict type checks."
            ]
        },
        {
            "cell_type": "markdown",
            "id": "def22161",
            "metadata": {},
            "source": [
                "#### Create a model for User "
            ]
        },
        {
            "cell_type": "code",
            "execution_count": 1,
            "id": "48468715",
            "metadata": {},
            "outputs": [],
            "source": [
                "from pydantic import BaseModel\n",
                "\n",
                "class User(BaseModel):\n",
                "    id: int\n",
                "    name: str\n",
                "    age: int\n",
                "    email: str"
            ]
        },
        {
            "cell_type": "code",
            "execution_count": 2,
            "id": "90269348",
            "metadata": {},
            "outputs": [
                {
                    "data": {
                        "text/plain": [
                            "User(id=3, name='Tony Stark', age=30, email='Tony@xyz.com')"
                        ]
                    },
                    "execution_count": 2,
                    "metadata": {},
                    "output_type": "execute_result"
                }
            ],
            "source": [
                "User(id=3, name=\"Tony Stark\", age=30, email=\"Tony@xyz.com\")"
            ]
        },
        {
            "cell_type": "markdown",
            "id": "6622bd21",
            "metadata": {},
            "source": [
                "#### It will throw an error when a field is missing"
            ]
        },
        {
            "cell_type": "code",
            "execution_count": 3,
            "id": "a730cc66",
            "metadata": {
                "scrolled": true
            },
            "outputs": [
                {
                    "ename": "ValidationError",
                    "evalue": "2 validation errors for User\nage\n  Field required [type=missing, input_value={'id': 3, 'name': 'Tony Stark'}, input_type=dict]\n    For further information visit https://errors.pydantic.dev/2.11/v/missing\nemail\n  Field required [type=missing, input_value={'id': 3, 'name': 'Tony Stark'}, input_type=dict]\n    For further information visit https://errors.pydantic.dev/2.11/v/missing",
                    "output_type": "error",
                    "traceback": [
                        "\u001b[31m---------------------------------------------------------------------------\u001b[39m",
                        "\u001b[31mValidationError\u001b[39m                           Traceback (most recent call last)",
                        "\u001b[36mCell\u001b[39m\u001b[36m \u001b[39m\u001b[32mIn[3]\u001b[39m\u001b[32m, line 3\u001b[39m\n\u001b[32m      1\u001b[39m \u001b[38;5;28;01mfrom\u001b[39;00m\u001b[38;5;250m \u001b[39m\u001b[34;01mpydantic\u001b[39;00m\u001b[38;5;250m \u001b[39m\u001b[38;5;28;01mimport\u001b[39;00m ValidationError\n\u001b[32m----> \u001b[39m\u001b[32m3\u001b[39m user = \u001b[43mUser\u001b[49m\u001b[43m(\u001b[49m\u001b[38;5;28;43mid\u001b[39;49m\u001b[43m=\u001b[49m\u001b[32;43m3\u001b[39;49m\u001b[43m,\u001b[49m\u001b[43m \u001b[49m\u001b[43mname\u001b[49m\u001b[43m=\u001b[49m\u001b[33;43m\"\u001b[39;49m\u001b[33;43mTony Stark\u001b[39;49m\u001b[33;43m\"\u001b[39;49m\u001b[43m)\u001b[49m\n",
                        "\u001b[36mFile \u001b[39m\u001b[32mc:\\Users\\Suraj Khodade\\AppData\\Local\\Programs\\Python\\Python313\\Lib\\site-packages\\pydantic\\main.py:253\u001b[39m, in \u001b[36mBaseModel.__init__\u001b[39m\u001b[34m(self, **data)\u001b[39m\n\u001b[32m    251\u001b[39m \u001b[38;5;66;03m# `__tracebackhide__` tells pytest and some other tools to omit this function from tracebacks\u001b[39;00m\n\u001b[32m    252\u001b[39m __tracebackhide__ = \u001b[38;5;28;01mTrue\u001b[39;00m\n\u001b[32m--> \u001b[39m\u001b[32m253\u001b[39m validated_self = \u001b[38;5;28;43mself\u001b[39;49m\u001b[43m.\u001b[49m\u001b[43m__pydantic_validator__\u001b[49m\u001b[43m.\u001b[49m\u001b[43mvalidate_python\u001b[49m\u001b[43m(\u001b[49m\u001b[43mdata\u001b[49m\u001b[43m,\u001b[49m\u001b[43m \u001b[49m\u001b[43mself_instance\u001b[49m\u001b[43m=\u001b[49m\u001b[38;5;28;43mself\u001b[39;49m\u001b[43m)\u001b[49m\n\u001b[32m    254\u001b[39m \u001b[38;5;28;01mif\u001b[39;00m \u001b[38;5;28mself\u001b[39m \u001b[38;5;129;01mis\u001b[39;00m \u001b[38;5;129;01mnot\u001b[39;00m validated_self:\n\u001b[32m    255\u001b[39m     warnings.warn(\n\u001b[32m    256\u001b[39m         \u001b[33m'\u001b[39m\u001b[33mA custom validator is returning a value other than `self`.\u001b[39m\u001b[38;5;130;01m\\n\u001b[39;00m\u001b[33m'\u001b[39m\n\u001b[32m    257\u001b[39m         \u001b[33m\"\u001b[39m\u001b[33mReturning anything other than `self` from a top level model validator isn\u001b[39m\u001b[33m'\u001b[39m\u001b[33mt supported when validating via `__init__`.\u001b[39m\u001b[38;5;130;01m\\n\u001b[39;00m\u001b[33m\"\u001b[39m\n\u001b[32m    258\u001b[39m         \u001b[33m'\u001b[39m\u001b[33mSee the `model_validator` docs (https://docs.pydantic.dev/latest/concepts/validators/#model-validators) for more details.\u001b[39m\u001b[33m'\u001b[39m,\n\u001b[32m    259\u001b[39m         stacklevel=\u001b[32m2\u001b[39m,\n\u001b[32m    260\u001b[39m     )\n",
                        "\u001b[31mValidationError\u001b[39m: 2 validation errors for User\nage\n  Field required [type=missing, input_value={'id': 3, 'name': 'Tony Stark'}, input_type=dict]\n    For further information visit https://errors.pydantic.dev/2.11/v/missing\nemail\n  Field required [type=missing, input_value={'id': 3, 'name': 'Tony Stark'}, input_type=dict]\n    For further information visit https://errors.pydantic.dev/2.11/v/missing"
                    ]
                }
            ],
            "source": [
                "from pydantic import ValidationError\n",
                "\n",
                "user = User(id=3, name=\"Tony Stark\")"
            ]
        },
        {
            "cell_type": "markdown",
            "id": "4fb3b162",
            "metadata": {},
            "source": [
                "#### It will throw error when invalid data type is passed"
            ]
        },
        {
            "cell_type": "code",
            "execution_count": 4,
            "id": "ed80d003",
            "metadata": {
                "scrolled": true
            },
            "outputs": [
                {
                    "ename": "ValidationError",
                    "evalue": "1 validation error for User\nage\n  Input should be a valid integer, unable to parse string as an integer [type=int_parsing, input_value='30 years', input_type=str]\n    For further information visit https://errors.pydantic.dev/2.11/v/int_parsing",
                    "output_type": "error",
                    "traceback": [
                        "\u001b[31m---------------------------------------------------------------------------\u001b[39m",
                        "\u001b[31mValidationError\u001b[39m                           Traceback (most recent call last)",
                        "\u001b[36mCell\u001b[39m\u001b[36m \u001b[39m\u001b[32mIn[4]\u001b[39m\u001b[32m, line 1\u001b[39m\n\u001b[32m----> \u001b[39m\u001b[32m1\u001b[39m \u001b[43mUser\u001b[49m\u001b[43m(\u001b[49m\u001b[38;5;28;43mid\u001b[39;49m\u001b[43m=\u001b[49m\u001b[32;43m3\u001b[39;49m\u001b[43m,\u001b[49m\u001b[43m \u001b[49m\u001b[43mname\u001b[49m\u001b[43m=\u001b[49m\u001b[33;43m\"\u001b[39;49m\u001b[33;43mTony Stark\u001b[39;49m\u001b[33;43m\"\u001b[39;49m\u001b[43m,\u001b[49m\u001b[43m \u001b[49m\u001b[43mage\u001b[49m\u001b[43m=\u001b[49m\u001b[33;43m\"\u001b[39;49m\u001b[33;43m30 years\u001b[39;49m\u001b[33;43m\"\u001b[39;49m\u001b[43m,\u001b[49m\u001b[43m \u001b[49m\u001b[43memail\u001b[49m\u001b[43m=\u001b[49m\u001b[33;43m\"\u001b[39;49m\u001b[33;43mTony@xyz.com\u001b[39;49m\u001b[33;43m\"\u001b[39;49m\u001b[43m)\u001b[49m\n",
                        "\u001b[36mFile \u001b[39m\u001b[32mc:\\Users\\Suraj Khodade\\AppData\\Local\\Programs\\Python\\Python313\\Lib\\site-packages\\pydantic\\main.py:253\u001b[39m, in \u001b[36mBaseModel.__init__\u001b[39m\u001b[34m(self, **data)\u001b[39m\n\u001b[32m    251\u001b[39m \u001b[38;5;66;03m# `__tracebackhide__` tells pytest and some other tools to omit this function from tracebacks\u001b[39;00m\n\u001b[32m    252\u001b[39m __tracebackhide__ = \u001b[38;5;28;01mTrue\u001b[39;00m\n\u001b[32m--> \u001b[39m\u001b[32m253\u001b[39m validated_self = \u001b[38;5;28;43mself\u001b[39;49m\u001b[43m.\u001b[49m\u001b[43m__pydantic_validator__\u001b[49m\u001b[43m.\u001b[49m\u001b[43mvalidate_python\u001b[49m\u001b[43m(\u001b[49m\u001b[43mdata\u001b[49m\u001b[43m,\u001b[49m\u001b[43m \u001b[49m\u001b[43mself_instance\u001b[49m\u001b[43m=\u001b[49m\u001b[38;5;28;43mself\u001b[39;49m\u001b[43m)\u001b[49m\n\u001b[32m    254\u001b[39m \u001b[38;5;28;01mif\u001b[39;00m \u001b[38;5;28mself\u001b[39m \u001b[38;5;129;01mis\u001b[39;00m \u001b[38;5;129;01mnot\u001b[39;00m validated_self:\n\u001b[32m    255\u001b[39m     warnings.warn(\n\u001b[32m    256\u001b[39m         \u001b[33m'\u001b[39m\u001b[33mA custom validator is returning a value other than `self`.\u001b[39m\u001b[38;5;130;01m\\n\u001b[39;00m\u001b[33m'\u001b[39m\n\u001b[32m    257\u001b[39m         \u001b[33m\"\u001b[39m\u001b[33mReturning anything other than `self` from a top level model validator isn\u001b[39m\u001b[33m'\u001b[39m\u001b[33mt supported when validating via `__init__`.\u001b[39m\u001b[38;5;130;01m\\n\u001b[39;00m\u001b[33m\"\u001b[39m\n\u001b[32m    258\u001b[39m         \u001b[33m'\u001b[39m\u001b[33mSee the `model_validator` docs (https://docs.pydantic.dev/latest/concepts/validators/#model-validators) for more details.\u001b[39m\u001b[33m'\u001b[39m,\n\u001b[32m    259\u001b[39m         stacklevel=\u001b[32m2\u001b[39m,\n\u001b[32m    260\u001b[39m     )\n",
                        "\u001b[31mValidationError\u001b[39m: 1 validation error for User\nage\n  Input should be a valid integer, unable to parse string as an integer [type=int_parsing, input_value='30 years', input_type=str]\n    For further information visit https://errors.pydantic.dev/2.11/v/int_parsing"
                    ]
                }
            ],
            "source": [
                "User(id=3, name=\"Tony Stark\", age=\"30 years\", email=\"Tony@xyz.com\")"
            ]
        },
        {
            "cell_type": "markdown",
            "id": "6c0a0a22",
            "metadata": {},
            "source": [
                "#### Whenever possible it will handle automatic type conversion"
            ]
        },
        {
            "cell_type": "code",
            "execution_count": 6,
            "id": "34c2ffb4",
            "metadata": {},
            "outputs": [
                {
                    "data": {
                        "text/plain": [
                            "User(id=3, name='Tony Stark', age=30, email='Tony@xyz.com')"
                        ]
                    },
                    "execution_count": 6,
                    "metadata": {},
                    "output_type": "execute_result"
                }
            ],
            "source": [
                "User(id=3, name=\"Tony Stark\", age=\"30\", email=\"Tony@xyz.com\")"
            ]
        },
        {
            "cell_type": "markdown",
            "id": "1b1d6a48",
            "metadata": {},
            "source": [
                "#### Optional fields"
            ]
        },
        {
            "cell_type": "code",
            "execution_count": 7,
            "id": "89fca738",
            "metadata": {},
            "outputs": [
                {
                    "name": "stdout",
                    "output_type": "stream",
                    "text": [
                        "id=3 name='Tony Stark' age=30 email='Tony@xyz.com' address=None\n"
                    ]
                }
            ],
            "source": [
                "from typing import Optional\n",
                "\n",
                "class User(BaseModel):\n",
                "    id: int\n",
                "    name: str\n",
                "    age: int\n",
                "    email: str\n",
                "    address: Optional[str] = None\n",
                "\n",
                "user = User(id=3, name=\"Tony Stark\", age=30, email=\"Tony@xyz.com\")\n",
                "print(user)"
            ]
        },
        {
            "cell_type": "markdown",
            "id": "3edc82db",
            "metadata": {},
            "source": [
                "### Pydantic: Theoretical Foundation\n",
                "What is Pydantic?\n",
                "Pydantic is a data parsing and validation library for Python, built on Python type hints.\n",
                "It ensures that the data matches expected types and constraints before your application processes it.\n",
                "It is heavily used in FastAPI, AI/ML pipelines, config management, and JSON-based APIs.\n",
                "\n",
                "#### Core Principles\n",
                "| Principle         | Description                                                                        |\n",
                "| ----------------- | ---------------------------------------------------------------------------------- |\n",
                "| **Type Safety**   | Pydantic enforces types using Python type hints (`int`, `str`, `float`, etc.).     |\n",
                "| **Validation**    | Ensures inputs meet schema requirements, throwing errors if not.                   |\n",
                "| **Serialization** | Converts Python objects to JSON/dict formats.                                      |\n",
                "| **Parsing**       | Accepts raw JSON, dicts, or objects and parses them into structured Python models. |\n",
                "| **Extensibility** | Supports custom validators and complex/nested models.                              |\n",
                "\n",
                "#### BaseModel Concept\n",
                "At the heart of Pydantic is the BaseModel class.\n",
                "Models built from BaseModel validate fields automatically during instantiation.\n",
                "\n",
                "#### Validation Lifecycle\n",
                "Input Received (dict, JSON, etc.)\n",
                "Model Instantiation\n",
                "Field-level Validation\n",
                "Type Coercion or Error Raising\n",
                "Object Created or Exception Raised\n",
                "\n",
                "#### Benefits in Real-World Applications\n",
                "| Area                         | Benefits                                                |\n",
                "| ---------------------------- | ------------------------------------------------------- |\n",
                "| **FastAPI**                  | Pydantic is the backbone of request/response validation |\n",
                "| **ML Pipelines**             | Validate incoming data batches before model inference   |\n",
                "| **Configuration Management** | Load `.env` or system variables into typed objects      |\n",
                "| **Data Interchange (APIs)**  | Parse JSON into structured Python objects automatically |\n",
                "| **ORM Integration**          | Convert DB models (e.g., SQLAlchemy) to API schemas     |\n",
                "\n",
                "\n",
                "#### Key Features\n",
                "| Feature               | Description                                             |\n",
                "| --------------------- | ------------------------------------------------------- |\n",
                "| **Field Validation**  | Built-in and custom validation using decorators         |\n",
                "| **Nested Models**     | Models can include other `BaseModel` instances          |\n",
                "| **Optional Fields**   | Use `Optional[]` for fields that can be null            |\n",
                "| **Aliases**           | Support for JSON key remapping using `Field(alias=...)` |\n",
                "| **Constrained Types** | Enforce rules like min/max values, regex, lengths       |\n",
                "| **ORM Mode**          | Compatible with ORM objects like SQLAlchemy             |\n",
                "\n",
                "#### Limitations\n",
                "| Constraint          | Note                                                      |\n",
                "| ------------------- | --------------------------------------------------------- |\n",
                "| Runtime-only        | No validation at compile time                             |\n",
                "| Validation overhead | May add slight performance cost during heavy parsing      |\n",
                "| Learning curve      | Advanced features like root validators require experience |\n",
                "\n",
                "\n",
                "#### Pydantic in AI Bootcamp Context\n",
                "| Module                 | Use Case                                            |\n",
                "| ---------------------- | --------------------------------------------------- |\n",
                "| **Data Preprocessing** | Validate structure before feeding into ML model     |\n",
                "| **Model Configs**      | Define hyperparameters via `BaseSettings`           |\n",
                "| **API Serving**        | Ensure incoming request data is valid for inference |\n",
                "| **Logging & Auditing** | Structure and serialize metadata with confidence    |\n",
                "\n",
                "#### Example with Validator\n",
                "from pydantic import BaseModel, validator\n",
                "\n",
                "class User(BaseModel):\n",
                "    name: str\n",
                "    age: int\n",
                "\n",
                "    @validator('age')\n",
                "    def check_age(cls, v):\n",
                "        if v < 0:\n",
                "            raise ValueError('Age must be positive')\n",
                "        return v\n"
            ]
        },
        {
            "cell_type": "markdown",
            "id": "443f01d0",
            "metadata": {},
            "source": [
                "### Pydantic – Tabular Reference Guide\n",
                "| 🔹 **Category**              | 🧩 **Topic**        | 🛠️ **Details**                    | 🧪 **Example**                                                                  |\n",
                "| ---------------------------- | ------------------- | ---------------------------------- | ------------------------------------------------------------------------------- |\n",
                "| **1. Installation**          | Install Pydantic    | Install via pip                    | `pip install pydantic`                                                          |\n",
                "|                              | Version Check       | Ensure it's available              | `pip show pydantic`                                                             |\n",
                "| **2. Core Usage**            | Import BaseModel    | Required for models                | `from pydantic import BaseModel`                                                |\n",
                "|                              | Define Model        | Declare schema with types          | `class User(BaseModel): name: str; age: int`                                    |\n",
                "|                              | Instantiate Model   | Auto-validates fields              | `user = User(name=\"Suraj\", age=25)`                                             |\n",
                "| **3. Validation**            | Type Enforcement    | Auto conversion or error           | `User(name=\"Suraj\", age=\"25\")` → age becomes `int`                              |\n",
                "|                              | Required Fields     | All fields are required by default | Missing `age` → raises `ValidationError`                                        |\n",
                "|                              | Optional Fields     | Use `Optional` from typing         | `age: Optional[int] = None`                                                     |\n",
                "| **4. Nested Models**         | Model Inside Model  | Structure complex data             | `class Dept(BaseModel): name: str`; `class Emp(BaseModel): id: int; dept: Dept` |\n",
                "| **5. Data Parsing**          | Parse Raw JSON      | Directly parse dict or JSON        | `User.parse_obj({...})`, `User.parse_raw(json_string)`                          |\n",
                "| **6. Error Handling**        | Validation Errors   | Catch and print errors             | `try: User(...) except ValidationError as e: print(e.json())`                   |\n",
                "| **7. Utilities**             | Dict Export         | Convert to dict                    | `user.dict()`                                                                   |\n",
                "|                              | JSON Export         | Convert to JSON                    | `user.json()`                                                                   |\n",
                "|                              | Alias Support       | Use different keys                 | `Field(..., alias=\"fullName\")`                                                  |\n",
                "| **8. Field Config**          | Default Values      | Set defaults in schema             | `age: int = 18`                                                                 |\n",
                "|                              | Field Metadata      | Description, min/max, examples     | `Field(..., description=\"User Age\", gt=0)`                                      |\n",
                "| **9. Config Class**          | Model Configuration | Set global rules                   | `class Config: orm_mode = True`                                                 |\n",
                "|                              | ORM Mode            | Enables SQLAlchemy compatibility   | Allows `User.from_orm(instance)`                                                |\n",
                "| **10. Environment Settings** | `BaseSettings`      | Read env/config vars               | `class Settings(BaseSettings): db_url: str`                                     |\n",
                "|                              | Load from Env       | Auto-reads .env                    | `settings = Settings()`                                                         |\n",
                "| **11. Advanced**             | Custom Validators   | Add logic to fields                | `@validator(\"name\")`                                                            |\n",
                "|                              | Root Validators     | Validate across fields             | `@root_validator()`                                                             |\n",
                "|                              | Constrained Types   | Min/max length, regex              | `constr(min_length=3)`, `conint(gt=0)`                                          |\n",
                "| **12. Versioning**           | Latest Version      | Pydantic v2 (breaking changes)     | `pip install \"pydantic>=2.0\"`                                                   |\n",
                "|                              | Migration           | v1 to v2 migration tools available | Refer: [Pydantic Docs](https://docs.pydantic.dev/latest/)                       |\n"
            ]
        },
        {
            "cell_type": "markdown",
            "id": "a16ced30",
            "metadata": {},
            "source": []
        }
    ],
    "metadata": {
        "kernelspec": {
            "display_name": "Python 3",
            "language": "python",
            "name": "python3"
        },
        "language_info": {
            "codemirror_mode": {
                "name": "ipython",
                "version": 3
            },
            "file_extension": ".py",
            "mimetype": "text/x-python",
            "name": "python",
            "nbconvert_exporter": "python",
            "pygments_lexer": "ipython3",
            "version": "3.13.5"
        }
    },
    "nbformat": 4,
    "nbformat_minor": 5
}
